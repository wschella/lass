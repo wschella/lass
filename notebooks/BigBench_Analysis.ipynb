{
 "cells": [
  {
   "cell_type": "code",
   "execution_count": 18,
   "metadata": {},
   "outputs": [],
   "source": [
    "%load_ext autoreload\n",
    "%autoreload 2"
   ]
  },
  {
   "cell_type": "code",
   "execution_count": 19,
   "metadata": {},
   "outputs": [],
   "source": [
    "import math\n",
    "\n",
    "import pandas as pd\n",
    "import numpy as np\n",
    "\n",
    "import lass.datasets\n",
    "from lass.log_handling import LogLoader"
   ]
  },
  {
   "cell_type": "markdown",
   "metadata": {},
   "source": [
    "## Load data\n",
    "\n",
    "Load all data from logs into a single dataframe.\n",
    "\n",
    "Sorry memory.\n",
    "\n",
    "For one model family, e.g. BIG-G T=0, with all sizes, shots, and tasks, this requires about 20GB of memory and takes about 5 minutes to load on the server we used for experiments."
   ]
  },
  {
   "cell_type": "code",
   "execution_count": 3,
   "metadata": {},
   "outputs": [],
   "source": [
    "loader = LogLoader(\n",
    "    logdir='../artifacts/logs',\n",
    "    tasks='paper-full',\n",
    "    model_families=['BIG-G T=0'],\n",
    "    # model_sizes=['128b'],\n",
    "    query_types=['multiple_choice'],\n",
    "    # shots=[0],\n",
    "    include_unknown_shots=True,\n",
    "    exclude_faulty_tasks=True,\n",
    ")"
   ]
  },
  {
   "cell_type": "code",
   "execution_count": 4,
   "metadata": {},
   "outputs": [],
   "source": [
    "bigdf = lass.datasets.to_dataframe(loader)"
   ]
  },
  {
   "cell_type": "markdown",
   "metadata": {},
   "source": [
    "Some extra columns that we will use a lot"
   ]
  },
  {
   "cell_type": "code",
   "execution_count": 5,
   "metadata": {},
   "outputs": [],
   "source": [
    "bigdf['n_targets'] = bigdf['targets'].map(lambda x: len(x))\n",
    "bigdf['conf_normalized'] = bigdf['normalized_scores'].map(lambda s: math.exp(np.max(s)))\n",
    "bigdf['conf_absolute']= bigdf['absolute_scores'].map(lambda s: math.exp(np.max(s)))"
   ]
  },
  {
   "cell_type": "markdown",
   "metadata": {},
   "source": [
    "Results for a single model and single number of shots.\n",
    "This should contain all the testing instances exactly once."
   ]
  },
  {
   "cell_type": "code",
   "execution_count": 6,
   "metadata": {},
   "outputs": [
    {
     "data": {
      "text/plain": [
       "55431"
      ]
     },
     "execution_count": 6,
     "metadata": {},
     "output_type": "execute_result"
    }
   ],
   "source": [
    "example = bigdf.query('model_family == \"BIG-G T=0\" & model_name == \"128b\" & shots == 0')\n",
    "len(example)"
   ]
  },
  {
   "cell_type": "markdown",
   "metadata": {},
   "source": [
    "## Basic Stats"
   ]
  },
  {
   "cell_type": "code",
   "execution_count": 7,
   "metadata": {},
   "outputs": [
    {
     "name": "stdout",
     "output_type": "stream",
     "text": [
      "Total #tasks: 118\n",
      "Total #unique instances: 55431\n",
      "Total #records: 2660688\n",
      "Equal #unique instances per shot and model: True\n",
      "Different shots: [0 1 2 3]\n",
      "Different models: ['125m' '128b' '16m' '1b' '244m' '27b' '2b' '2m' '422m' '4b' '53m' '8b']\n"
     ]
    }
   ],
   "source": [
    "df_n_instances = bigdf.groupby(['model_name', 'shots']).size()\n",
    "\n",
    "print(f\"Total #tasks: {bigdf['task'].nunique()}\")\n",
    "print(f\"Total #unique instances: {df_n_instances.max()}\")\n",
    "print(f\"Total #records: {len(bigdf)}\")\n",
    "print(f\"Equal #unique instances per shot and model: {bigdf.groupby(['task', 'model_name', 'shots']).size().groupby(['task']).nunique().nunique() == 1}\")\n",
    "print(f\"Different shots: {df_n_instances.index.levels[1].values}\") # type: ignore\n",
    "print(f\"Different models: {df_n_instances.index.levels[0].values}\") # type: ignore\n",
    "\n",
    "\n"
   ]
  },
  {
   "cell_type": "markdown",
   "metadata": {},
   "source": [
    "## Trivia"
   ]
  },
  {
   "cell_type": "markdown",
   "metadata": {},
   "source": [
    "### Faulty Logging"
   ]
  },
  {
   "cell_type": "markdown",
   "metadata": {},
   "source": [
    "The scores for the context_definition_alignment where not logged properly in the BIG-G logs. All scores are 0. The aggregate scores currently reported in the plots in the repo make more sense."
   ]
  },
  {
   "cell_type": "code",
   "execution_count": 8,
   "metadata": {},
   "outputs": [
    {
     "data": {
      "text/plain": [
       "Series([], Name: correct, dtype: int64)"
      ]
     },
     "execution_count": 8,
     "metadata": {},
     "output_type": "execute_result"
    }
   ],
   "source": [
    "bigdf.query('task == \"context_definition_alignment\"')['correct'].value_counts()"
   ]
  },
  {
   "cell_type": "markdown",
   "metadata": {},
   "source": [
    "### Faulty targets"
   ]
  },
  {
   "cell_type": "markdown",
   "metadata": {},
   "source": [
    "There are multiple choice questions with only 1 option. It's likely a bug tho, ass all the scores are 0, and this is the only task with a mismatch between `targets` and `target_values` columns."
   ]
  },
  {
   "cell_type": "markdown",
   "metadata": {},
   "source": [
    "All answers are wrong."
   ]
  },
  {
   "cell_type": "code",
   "execution_count": 9,
   "metadata": {},
   "outputs": [
    {
     "data": {
      "text/plain": [
       "task        n_targets  correct\n",
       "arithmetic  1          0.0        992\n",
       "dtype: int64"
      ]
     },
     "execution_count": 9,
     "metadata": {},
     "output_type": "execute_result"
    }
   ],
   "source": [
    "example[example['n_targets'] == 1].groupby('task')[[\"n_targets\", \"correct\"]].value_counts()\n"
   ]
  },
  {
   "cell_type": "markdown",
   "metadata": {},
   "source": [
    "Even though there is sometimes high confidence in this single target."
   ]
  },
  {
   "cell_type": "code",
   "execution_count": 10,
   "metadata": {},
   "outputs": [
    {
     "data": {
      "text/plain": [
       "0.37418268939347205"
      ]
     },
     "execution_count": 10,
     "metadata": {},
     "output_type": "execute_result"
    }
   ],
   "source": [
    "example[example['n_targets'] == 1]['conf_absolute'].max()"
   ]
  },
  {
   "cell_type": "markdown",
   "metadata": {},
   "source": [
    "It's the only one task with difference in length between the `targets` and `target_values` field."
   ]
  },
  {
   "cell_type": "code",
   "execution_count": 11,
   "metadata": {},
   "outputs": [
    {
     "data": {
      "text/plain": [
       "array(['arithmetic'], dtype=object)"
      ]
     },
     "execution_count": 11,
     "metadata": {},
     "output_type": "execute_result"
    }
   ],
   "source": [
    "example[example['n_targets'] != example['target_values'].map(lambda x: len(x))]['task'].unique()"
   ]
  },
  {
   "cell_type": "markdown",
   "metadata": {},
   "source": [
    "But all instances seem copies of valid queries."
   ]
  },
  {
   "cell_type": "code",
   "execution_count": 12,
   "metadata": {},
   "outputs": [
    {
     "data": {
      "text/plain": [
       "1    992\n",
       "7    797\n",
       "6    171\n",
       "5     24\n",
       "Name: n_targets, dtype: int64"
      ]
     },
     "execution_count": 12,
     "metadata": {},
     "output_type": "execute_result"
    }
   ],
   "source": [
    "example.query('task == \"arithmetic\"')['n_targets'].value_counts()"
   ]
  },
  {
   "cell_type": "markdown",
   "metadata": {},
   "source": [
    "There are multiple choice questions with 100 options. This one seems fine."
   ]
  },
  {
   "cell_type": "code",
   "execution_count": 13,
   "metadata": {},
   "outputs": [
    {
     "data": {
      "text/plain": [
       "n_targets  correct\n",
       "100        0.0        279\n",
       "           1.0         62\n",
       "dtype: int64"
      ]
     },
     "execution_count": 13,
     "metadata": {},
     "output_type": "execute_result"
    }
   ],
   "source": [
    "example[example['n_targets'] == 100][[\"n_targets\", \"correct\"]].value_counts()"
   ]
  },
  {
   "cell_type": "markdown",
   "metadata": {},
   "source": [
    "## Varia"
   ]
  },
  {
   "cell_type": "code",
   "execution_count": 14,
   "metadata": {},
   "outputs": [],
   "source": [
    "df_accs = (bigdf\n",
    "    .groupby(['task', 'model_name', 'shots'])\n",
    "    .agg(\n",
    "        acc=('correct', 'mean'), \n",
    "        random_acc=('n_targets', lambda x: (1/x).mean()),\n",
    "        n_targets=('n_targets', 'mean'),\n",
    "    )  # type: ignore\n",
    ")\n",
    "df_accs['rel_acc_improvement'] = (df_accs['acc'] - df_accs['random_acc']) / (1 - df_accs['random_acc'])\n",
    "df_accs['acc_improvement'] = (df_accs['acc'] - df_accs['random_acc'])\n",
    "df_accs_best = (df_accs\n",
    "    .xs(0, level='shots', drop_level=False)\n",
    "    .xs('128b', level='model_name', drop_level=False)\n",
    "    .sort_values('acc', ascending=False))\n",
    "df_accs_best.to_csv('accs_0.csv')\n",
    "\n",
    "\n",
    "\n",
    "# acc: 0.75, random acc: 0.25 -> 2/3 | (0.75 - 0.25) / (1 - 0.25) = 1"
   ]
  },
  {
   "cell_type": "code",
   "execution_count": 15,
   "metadata": {},
   "outputs": [
    {
     "data": {
      "text/html": [
       "<div>\n",
       "<style scoped>\n",
       "    .dataframe tbody tr th:only-of-type {\n",
       "        vertical-align: middle;\n",
       "    }\n",
       "\n",
       "    .dataframe tbody tr th {\n",
       "        vertical-align: top;\n",
       "    }\n",
       "\n",
       "    .dataframe thead th {\n",
       "        text-align: right;\n",
       "    }\n",
       "</style>\n",
       "<table border=\"1\" class=\"dataframe\">\n",
       "  <thead>\n",
       "    <tr style=\"text-align: right;\">\n",
       "      <th></th>\n",
       "      <th>acc</th>\n",
       "      <th>random_acc</th>\n",
       "      <th>n_targets</th>\n",
       "      <th>rel_acc_improvement</th>\n",
       "      <th>acc_improvement</th>\n",
       "    </tr>\n",
       "  </thead>\n",
       "  <tbody>\n",
       "    <tr>\n",
       "      <th>count</th>\n",
       "      <td>118.000000</td>\n",
       "      <td>118.000000</td>\n",
       "      <td>118.000000</td>\n",
       "      <td>118.000000</td>\n",
       "      <td>118.000000</td>\n",
       "    </tr>\n",
       "    <tr>\n",
       "      <th>mean</th>\n",
       "      <td>0.376433</td>\n",
       "      <td>0.304463</td>\n",
       "      <td>5.926796</td>\n",
       "      <td>0.091950</td>\n",
       "      <td>0.071970</td>\n",
       "    </tr>\n",
       "    <tr>\n",
       "      <th>std</th>\n",
       "      <td>0.160381</td>\n",
       "      <td>0.148706</td>\n",
       "      <td>9.644268</td>\n",
       "      <td>0.208893</td>\n",
       "      <td>0.134129</td>\n",
       "    </tr>\n",
       "    <tr>\n",
       "      <th>min</th>\n",
       "      <td>0.004883</td>\n",
       "      <td>0.011905</td>\n",
       "      <td>2.000000</td>\n",
       "      <td>-1.136492</td>\n",
       "      <td>-0.483950</td>\n",
       "    </tr>\n",
       "    <tr>\n",
       "      <th>25%</th>\n",
       "      <td>0.245636</td>\n",
       "      <td>0.200000</td>\n",
       "      <td>2.000000</td>\n",
       "      <td>-0.007426</td>\n",
       "      <td>-0.003713</td>\n",
       "    </tr>\n",
       "    <tr>\n",
       "      <th>50%</th>\n",
       "      <td>0.381406</td>\n",
       "      <td>0.250000</td>\n",
       "      <td>4.000000</td>\n",
       "      <td>0.069409</td>\n",
       "      <td>0.051515</td>\n",
       "    </tr>\n",
       "    <tr>\n",
       "      <th>75%</th>\n",
       "      <td>0.500000</td>\n",
       "      <td>0.500000</td>\n",
       "      <td>5.000000</td>\n",
       "      <td>0.212257</td>\n",
       "      <td>0.137213</td>\n",
       "    </tr>\n",
       "    <tr>\n",
       "      <th>max</th>\n",
       "      <td>0.864865</td>\n",
       "      <td>0.574172</td>\n",
       "      <td>84.000000</td>\n",
       "      <td>0.729730</td>\n",
       "      <td>0.426852</td>\n",
       "    </tr>\n",
       "  </tbody>\n",
       "</table>\n",
       "</div>"
      ],
      "text/plain": [
       "              acc  random_acc   n_targets  rel_acc_improvement  \\\n",
       "count  118.000000  118.000000  118.000000           118.000000   \n",
       "mean     0.376433    0.304463    5.926796             0.091950   \n",
       "std      0.160381    0.148706    9.644268             0.208893   \n",
       "min      0.004883    0.011905    2.000000            -1.136492   \n",
       "25%      0.245636    0.200000    2.000000            -0.007426   \n",
       "50%      0.381406    0.250000    4.000000             0.069409   \n",
       "75%      0.500000    0.500000    5.000000             0.212257   \n",
       "max      0.864865    0.574172   84.000000             0.729730   \n",
       "\n",
       "       acc_improvement  \n",
       "count       118.000000  \n",
       "mean          0.071970  \n",
       "std           0.134129  \n",
       "min          -0.483950  \n",
       "25%          -0.003713  \n",
       "50%           0.051515  \n",
       "75%           0.137213  \n",
       "max           0.426852  "
      ]
     },
     "execution_count": 15,
     "metadata": {},
     "output_type": "execute_result"
    }
   ],
   "source": [
    "# df_accs_best = pd.read_csv('../artifacts/csv-datasets/accs_3.csv')\n",
    "df_accs_best.describe()"
   ]
  }
 ],
 "metadata": {
  "kernelspec": {
   "display_name": "Python 3.10.4 (conda)",
   "language": "python",
   "name": "python3"
  },
  "language_info": {
   "codemirror_mode": {
    "name": "ipython",
    "version": 3
   },
   "file_extension": ".py",
   "mimetype": "text/x-python",
   "name": "python",
   "nbconvert_exporter": "python",
   "pygments_lexer": "ipython3",
   "version": "3.10.4"
  },
  "orig_nbformat": 4,
  "vscode": {
   "interpreter": {
    "hash": "eed4bfcf3d3cfcdb00482c10052e8eba5705b015008b357326d56e176b5397df"
   }
  }
 },
 "nbformat": 4,
 "nbformat_minor": 2
}
