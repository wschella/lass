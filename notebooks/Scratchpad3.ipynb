{
 "cells": [
  {
   "cell_type": "code",
   "execution_count": 13,
   "metadata": {},
   "outputs": [],
   "source": [
    "import pandas as pd\n",
    "\n",
    "import lass\n",
    "import lass.datasets\n",
    "import lass.pipeline\n",
    "from lass.log_handling import LogLoader, LogLoaderArgs, PaperTasks"
   ]
  },
  {
   "cell_type": "code",
   "execution_count": 5,
   "metadata": {},
   "outputs": [
    {
     "name": "stderr",
     "output_type": "stream",
     "text": [
      "/home/wout/pp/lass/src/lass/pipeline.py:40: SettingWithCopyWarning: \n",
      "A value is trying to be set on a copy of a slice from a DataFrame.\n",
      "Try using .loc[row_indexer,col_indexer] = value instead\n",
      "\n",
      "See the caveats in the documentation: https://pandas.pydata.org/pandas-docs/stable/user_guide/indexing.html#returning-a-view-versus-a-copy\n",
      "  df.loc[:, 'correct'] = df['correct'].astype(int)\n"
     ]
    }
   ],
   "source": [
    "data_args = LogLoaderArgs(\n",
    "        logdir=\"../artifacts/logs\",\n",
    "        tasks='paper-full',\n",
    "        model_families=[\"BIG-G T=0\"],\n",
    "        model_sizes=[\"128b\"],\n",
    "        shots=[0],\n",
    "        query_types=[\"multiple_choice\"],\n",
    "    )\n",
    "\n",
    "loader = LogLoader(data_args)\n",
    "data = lass.datasets.to_dataframe(loader)\n",
    "\n",
    "data = lass.pipeline.binarize(data)\n",
    "data = lass.pipeline.augment(data)\n",
    "data = lass.pipeline.clean(data)\n"
   ]
  },
  {
   "cell_type": "code",
   "execution_count": 22,
   "metadata": {},
   "outputs": [
    {
     "data": {
      "text/plain": [
       "0.000000       80\n",
       "0.025641        1\n",
       "0.159928        1\n",
       "2.115918        1\n",
       "1.512097        1\n",
       "0.515458        1\n",
       "0.005831        1\n",
       "0.006711        1\n",
       "0.225000        1\n",
       "0.008695        1\n",
       "1907.420091     1\n",
       "0.008877        1\n",
       "81.620952       1\n",
       "0.002232        1\n",
       "0.223684        1\n",
       "0.001951        1\n",
       "0.891667        1\n",
       "2.669276        1\n",
       "2.046644        1\n",
       "2.985242        1\n",
       "2.606680        1\n",
       "1.211111        1\n",
       "0.042475        1\n",
       "0.220638        1\n",
       "87.864758       1\n",
       "0.032768        1\n",
       "15.166158       1\n",
       "0.132836        1\n",
       "0.011537        1\n",
       "0.090919        1\n",
       "0.250446        1\n",
       "4.422360        1\n",
       "0.160782        1\n",
       "0.892041        1\n",
       "0.722581        1\n",
       "0.050115        1\n",
       "0.018868        1\n",
       "0.222017        1\n",
       "0.641002        1\n",
       "Name: (n_targets, var), dtype: int64"
      ]
     },
     "execution_count": 22,
     "metadata": {},
     "output_type": "execute_result"
    }
   ],
   "source": [
    "pd.set_option('display.max_rows', None)\n",
    "data.groupby([\"task\"]).agg({\"n_targets\": [\"mean\", \"var\", \"count\"]}).reset_index()[('n_targets', 'var')].value_counts()"
   ]
  }
 ],
 "metadata": {
  "kernelspec": {
   "display_name": "Python 3.10.4 (conda)",
   "language": "python",
   "name": "python3"
  },
  "language_info": {
   "codemirror_mode": {
    "name": "ipython",
    "version": 3
   },
   "file_extension": ".py",
   "mimetype": "text/x-python",
   "name": "python",
   "nbconvert_exporter": "python",
   "pygments_lexer": "ipython3",
   "version": "3.10.4"
  },
  "orig_nbformat": 4,
  "vscode": {
   "interpreter": {
    "hash": "eed4bfcf3d3cfcdb00482c10052e8eba5705b015008b357326d56e176b5397df"
   }
  }
 },
 "nbformat": 4,
 "nbformat_minor": 2
}
