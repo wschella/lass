{
 "cells": [
  {
   "cell_type": "code",
   "execution_count": 1,
   "metadata": {},
   "outputs": [],
   "source": [
    "import pandas as pd\n",
    "\n",
    "import lass\n",
    "import lass.datasets\n",
    "import lass.pipeline\n",
    "from lass.log_handling import LogLoader, LogLoaderArgs, PaperTasks"
   ]
  },
  {
   "cell_type": "code",
   "execution_count": 2,
   "metadata": {},
   "outputs": [
    {
     "name": "stderr",
     "output_type": "stream",
     "text": [
      "/home/wout/pp/lass/src/lass/pipeline.py:40: SettingWithCopyWarning: \n",
      "A value is trying to be set on a copy of a slice from a DataFrame.\n",
      "Try using .loc[row_indexer,col_indexer] = value instead\n",
      "\n",
      "See the caveats in the documentation: https://pandas.pydata.org/pandas-docs/stable/user_guide/indexing.html#returning-a-view-versus-a-copy\n",
      "  df.loc[:, 'correct'] = df['correct'].astype(int)\n"
     ]
    },
    {
     "name": "stdout",
     "output_type": "stream",
     "text": [
      "WARNING: Dangerous assumptions here that might easily no longer hold in updates.\n"
     ]
    }
   ],
   "source": [
    "log_loader_args = LogLoaderArgs(\n",
    "    logdir='../artifacts/logs/',\n",
    "    tasks='paper-full',\n",
    "    model_families=['BIG-G T=0'],\n",
    "    model_sizes=['4b', '8b', '27b', '128b'],\n",
    "    shots=[0],\n",
    "    query_types=['multiple_choice'],\n",
    ")\n",
    "\n",
    "loader = LogLoader(log_loader_args)\n",
    "data = lass.datasets.to_dataframe(loader)\n",
    "\n",
    "data = lass.pipeline.binarize(data)\n",
    "data = lass.pipeline.augment(data)\n",
    "data = lass.pipeline.clean(data)\n",
    "\n",
    "train, test = lass.datasets.split(\"instance\", data, test_fraction=0.2, seed=42)\n"
   ]
  },
  {
   "cell_type": "code",
   "execution_count": 3,
   "metadata": {},
   "outputs": [
    {
     "name": "stdout",
     "output_type": "stream",
     "text": [
      "Number of instances is not the same for task emojis_emotion_prediction and model 4b.\n",
      "Number of instances is not the same for task emojis_emotion_prediction and model 27b.\n",
      "Number of instances is not the same for task emojis_emotion_prediction and model 8b.\n",
      "Number of instances is not the same for task real_or_fake_text and model 4b.\n",
      "Number of instances is not the same for task real_or_fake_text and model 27b.\n",
      "Number of instances is not the same for task real_or_fake_text and model 8b.\n",
      "Number of instances is not the same for task strange_stories and model 4b.\n",
      "Instances are not the same for task strange_stories and model 27b.\n",
      "Instances are not the same for task strange_stories and model 8b.\n",
      "Instances are not the same for task swedish_to_german_proverbs and model 4b.\n",
      "Instances are not the same for task swedish_to_german_proverbs and model 27b.\n",
      "Number of instances is not the same for task swedish_to_german_proverbs and model 8b.\n",
      "{'strange_stories', 'emojis_emotion_prediction', 'real_or_fake_text', 'swedish_to_german_proverbs'}\n",
      "{'cs_algorithms', 'swahili_english_proverbs', 'unit_interpretation', 'vitaminc_fact_verification', 'authorship_verification', 'sports_understanding', 'cause_and_effect', 'common_morpheme', 'which_wiki_edit', 'geometric_shapes', 'entailed_polarity_hindi', 'phrase_relatedness', 'reasoning_about_colored_objects', 'novel_concepts', 'question_selection', 'physics', 'persian_idioms', 'human_organs_senses', 'cryobiology_spanish', 'dark_humor_detection', 'physical_intuition', 'crash_blossom', 'hyperbaton', 'fact_checker', 'key_value_maps', 'fantasy_reasoning', 'nonsense_words_grammar', 'intent_recognition', 'unit_conversion', 'mathematical_induction', 'play_dialog_same_or_different', 'conceptual_combinations', 'identify_odd_metaphor', 'known_unknowns', 'logic_grid_puzzle', 'parsinlu_qa', 'evaluating_information_essentiality', 'irony_identification', 'formal_fallacies_syllogisms_negation', 'multiemo', 'sentence_ambiguity', 'logical_args', 'analogical_similarity', 'identify_math_theorems', 'intersect_geometry', 'movie_recommendation', 'social_iqa', 'english_proverbs', 'emoji_movie', 'analytic_entailment', 'navigate', 'disambiguation_qa', 'figure_of_speech_detection', 'snarks', 'cifar10_classification', 'dyck_languages', 'presuppositions_as_nli', 'strategyqa', 'winowhy', 'discourse_marker_prediction', 'ruin_names', 'color', 'what_is_the_tao', 'suicide_risk', 'odd_one_out', 'epistemic_reasoning', 'abstract_narrative_understanding', 'entailed_polarity', 'checkmate_in_one', 'penguins_in_a_table', 'kanji_ascii', 'misconceptions', 'undo_permutation', 'implicit_relations', 'timedial', 'hhh_alignment', 'mnist_ascii', 'movie_dialog_same_or_different', 'international_phonetic_alphabet_nli', 'understanding_fables', 'crass_ai', 'general_knowledge', 'kannada', 'symbol_interpretation', 'salient_translation_error_detection', 'social_support', 'minute_mysteries_qa', 'anachronisms', 'goal_step_wikihow', 'bbq_lite_json', 'similarities_abstraction', 'date_understanding', 'temporal_sequences', 'riddle_sense', 'simple_ethical_questions', 'hinglish_toxicity', 'misconceptions_russian', 'empirical_judgments', 'language_identification', 'tracking_shuffled_objects', 'logical_sequence', 'logical_deduction', 'elementary_math_qa', 'english_russian_proverbs', 'causal_judgment', 'logical_fallacy_detection', 'implicatures', 'arithmetic', 'metaphor_boolean', 'hindu_knowledge', 'code_line_description', 'gre_reading_comprehension', 'moral_permissibility', 'metaphor_understanding'}\n"
     ]
    }
   ],
   "source": [
    "# Check wether instances are the same\n",
    "bad_tasks = set()\n",
    "good_tasks = set()\n",
    "for task in test.task.unique():\n",
    "    tmp = test[test.task == task]\n",
    "    ref = tmp[tmp.model_name == tmp.model_name.unique()[0]]\n",
    "    good_tasks.add(task)\n",
    "    for model in tmp.model_name.unique()[1:]:\n",
    "        cmp = tmp[tmp.model_name == model]\n",
    "        if len(cmp) != len(ref):\n",
    "            print(f\"Number of instances is not the same for task {task} and model {model}.\")\n",
    "            bad_tasks.add(task)\n",
    "            good_tasks.discard(task)\n",
    "            continue\n",
    "\n",
    "        equality = cmp.input.values == ref.input.values\n",
    "        if not equality.all():\n",
    "            print(f\"Instances are not the same for task {task} and model {model}.\")\n",
    "            bad_tasks.add(task)\n",
    "            good_tasks.discard(task)\n",
    "\n",
    "print(bad_tasks)\n",
    "print(good_tasks)"
   ]
  },
  {
   "cell_type": "code",
   "execution_count": 13,
   "metadata": {},
   "outputs": [
    {
     "name": "stdout",
     "output_type": "stream",
     "text": [
      "task\n",
      "emojis_emotion_prediction     False\n",
      "real_or_fake_text             False\n",
      "strange_stories               False\n",
      "swedish_to_german_proverbs    False\n",
      "dtype: bool\n"
     ]
    }
   ],
   "source": [
    "# Check wether there are at least an equal amount of instances for each model per task in the test set.\n",
    "tmp = test.groupby(['task', 'model_name']).size().unstack() # Get the number of instances per model per task.\n",
    "tmp = tmp.eq(tmp.iloc[:, 0], axis=0) # Check wether all values for a row are equal that the one from the first column.\n",
    "tmp = tmp.all(axis=1)\n",
    "print(tmp[tmp == False]) # Check wether there are any False values.\n"
   ]
  },
  {
   "cell_type": "code",
   "execution_count": 5,
   "metadata": {},
   "outputs": [
    {
     "data": {
      "text/plain": [
       "array(['128b', '4b', '27b', '8b'], dtype=object)"
      ]
     },
     "execution_count": 5,
     "metadata": {},
     "output_type": "execute_result"
    }
   ],
   "source": [
    "test.model_name.unique()"
   ]
  },
  {
   "cell_type": "code",
   "execution_count": 6,
   "metadata": {},
   "outputs": [
    {
     "data": {
      "text/html": [
       "<div>\n",
       "<style scoped>\n",
       "    .dataframe tbody tr th:only-of-type {\n",
       "        vertical-align: middle;\n",
       "    }\n",
       "\n",
       "    .dataframe tbody tr th {\n",
       "        vertical-align: top;\n",
       "    }\n",
       "\n",
       "    .dataframe thead th {\n",
       "        text-align: right;\n",
       "    }\n",
       "</style>\n",
       "<table border=\"1\" class=\"dataframe\">\n",
       "  <thead>\n",
       "    <tr style=\"text-align: right;\">\n",
       "      <th></th>\n",
       "      <th>a</th>\n",
       "      <th>b</th>\n",
       "    </tr>\n",
       "  </thead>\n",
       "  <tbody>\n",
       "    <tr>\n",
       "      <th>0</th>\n",
       "      <td>1</td>\n",
       "      <td>4</td>\n",
       "    </tr>\n",
       "    <tr>\n",
       "      <th>1</th>\n",
       "      <td>2</td>\n",
       "      <td>5</td>\n",
       "    </tr>\n",
       "    <tr>\n",
       "      <th>2</th>\n",
       "      <td>3</td>\n",
       "      <td>6</td>\n",
       "    </tr>\n",
       "    <tr>\n",
       "      <th>3</th>\n",
       "      <td>1</td>\n",
       "      <td>4</td>\n",
       "    </tr>\n",
       "    <tr>\n",
       "      <th>4</th>\n",
       "      <td>2</td>\n",
       "      <td>5</td>\n",
       "    </tr>\n",
       "    <tr>\n",
       "      <th>5</th>\n",
       "      <td>3</td>\n",
       "      <td>6</td>\n",
       "    </tr>\n",
       "  </tbody>\n",
       "</table>\n",
       "</div>"
      ],
      "text/plain": [
       "   a  b\n",
       "0  1  4\n",
       "1  2  5\n",
       "2  3  6\n",
       "3  1  4\n",
       "4  2  5\n",
       "5  3  6"
      ]
     },
     "execution_count": 6,
     "metadata": {},
     "output_type": "execute_result"
    }
   ],
   "source": [
    "a = pd.DataFrame({'a': [1, 2, 3], 'b': [4, 5, 6]})\n",
    "b = pd.DataFrame({'a': [1, 2, 3], 'b': [4, 5, 6]})\n",
    "c = pd.concat([a, b], ignore_index=True)\n",
    "c"
   ]
  },
  {
   "cell_type": "code",
   "execution_count": 7,
   "metadata": {},
   "outputs": [
    {
     "data": {
      "text/plain": [
       "0.000000       80\n",
       "0.025145        1\n",
       "0.159336        1\n",
       "2.084020        1\n",
       "1.476378        1\n",
       "0.510950        1\n",
       "0.005826        1\n",
       "0.006678        1\n",
       "0.222910        1\n",
       "0.008667        1\n",
       "1906.021348     1\n",
       "0.007227        1\n",
       "81.561157       1\n",
       "0.002228        1\n",
       "0.221470        1\n",
       "0.001950        1\n",
       "0.883971        1\n",
       "2.667319        1\n",
       "2.041523        1\n",
       "2.983055        1\n",
       "2.604688        1\n",
       "1.210203        1\n",
       "0.042374        1\n",
       "0.220471        1\n",
       "87.800388       1\n",
       "0.032357        1\n",
       "15.152482       1\n",
       "0.132565        1\n",
       "0.011504        1\n",
       "0.090852        1\n",
       "0.244880        1\n",
       "4.374808        1\n",
       "0.160446        1\n",
       "0.891387        1\n",
       "0.704957        1\n",
       "0.049900        1\n",
       "0.018600        1\n",
       "0.218455        1\n",
       "0.640250        1\n",
       "Name: (n_targets, var), dtype: int64"
      ]
     },
     "execution_count": 7,
     "metadata": {},
     "output_type": "execute_result"
    }
   ],
   "source": [
    "pd.set_option('display.max_rows', None)\n",
    "data.groupby([\"task\"]).agg({\"n_targets\": [\"mean\", \"var\", \"count\"]}).reset_index()[('n_targets', 'var')].value_counts()"
   ]
  }
 ],
 "metadata": {
  "kernelspec": {
   "display_name": "Python 3.10.4 (conda)",
   "language": "python",
   "name": "python3"
  },
  "language_info": {
   "codemirror_mode": {
    "name": "ipython",
    "version": 3
   },
   "file_extension": ".py",
   "mimetype": "text/x-python",
   "name": "python",
   "nbconvert_exporter": "python",
   "pygments_lexer": "ipython3",
   "version": "3.10.4"
  },
  "orig_nbformat": 4,
  "vscode": {
   "interpreter": {
    "hash": "eed4bfcf3d3cfcdb00482c10052e8eba5705b015008b357326d56e176b5397df"
   }
  }
 },
 "nbformat": 4,
 "nbformat_minor": 2
}
