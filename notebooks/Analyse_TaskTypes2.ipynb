{
 "cells": [
  {
   "cell_type": "code",
   "execution_count": 1,
   "metadata": {},
   "outputs": [],
   "source": [
    "import os\n",
    "os.environ['PROTOCOL_BUFFERS_PYTHON_IMPLEMENTATION' ] = 'python'"
   ]
  },
  {
   "cell_type": "code",
   "execution_count": 2,
   "metadata": {},
   "outputs": [],
   "source": [
    "from lass.log_handling import LogLoaderArgs, LogLoader\n",
    "from lass.data.loading import get_query_type\n",
    "import lass.data\n",
    "\n",
    "\n",
    "args = LogLoaderArgs(\n",
    "    logdir=\"../artifacts/logs\",\n",
    "    tasks=\"paper-full\",\n",
    "    model_families=[\"BIG-G T=0\"],\n",
    "    model_sizes=[\"128b\"],\n",
    "    shots=[3],\n",
    "    query_types=[\"multiple_choice\", \"scoring\", \"generative\"],\n",
    ")\n",
    "loader = LogLoader(args)"
   ]
  },
  {
   "cell_type": "code",
   "execution_count": 3,
   "metadata": {},
   "outputs": [],
   "source": [
    "data = lass.data.loading.load(args)\n",
    "data = lass.data.wrangling.wrangle(\n",
    "    data,\n",
    "    include_model_in_input=False,\n",
    "    include_n_targets_in_input=False,\n",
    "    filter_bad_tasks=False,\n",
    ")"
   ]
  },
  {
   "cell_type": "code",
   "execution_count": 4,
   "metadata": {},
   "outputs": [],
   "source": [
    "data_filtered = lass.data.wrangling.wrangle(\n",
    "    data,\n",
    "    include_model_in_input=False,\n",
    "    include_n_targets_in_input=False,\n",
    "    filter_bad_tasks=True,\n",
    ")"
   ]
  },
  {
   "cell_type": "code",
   "execution_count": 5,
   "metadata": {},
   "outputs": [
    {
     "name": "stdout",
     "output_type": "stream",
     "text": [
      "161\n"
     ]
    }
   ],
   "source": [
    "print(data.task.nunique())"
   ]
  },
  {
   "cell_type": "code",
   "execution_count": 6,
   "metadata": {},
   "outputs": [
    {
     "data": {
      "text/plain": [
       "query_type\n",
       "multiple_choice       113\n",
       "scoring_generative     48\n",
       "Name: task, dtype: int64"
      ]
     },
     "execution_count": 6,
     "metadata": {},
     "output_type": "execute_result"
    }
   ],
   "source": [
    "data.groupby(\"query_type\").task.nunique()"
   ]
  },
  {
   "cell_type": "code",
   "execution_count": 7,
   "metadata": {},
   "outputs": [
    {
     "name": "stdout",
     "output_type": "stream",
     "text": [
      "85\n"
     ]
    }
   ],
   "source": [
    "print(data_filtered.task.nunique())"
   ]
  },
  {
   "cell_type": "code",
   "execution_count": 8,
   "metadata": {},
   "outputs": [
    {
     "name": "stdout",
     "output_type": "stream",
     "text": [
      "query_type\n",
      "multiple_choice       62\n",
      "scoring_generative    23\n",
      "Name: task, dtype: int64\n"
     ]
    }
   ],
   "source": [
    "print(data_filtered.groupby(\"query_type\").task.nunique())"
   ]
  },
  {
   "cell_type": "code",
   "execution_count": 9,
   "metadata": {},
   "outputs": [
    {
     "name": "stdout",
     "output_type": "stream",
     "text": [
      "40330\n"
     ]
    }
   ],
   "source": [
    "print(len(data_filtered))"
   ]
  }
 ],
 "metadata": {
  "kernelspec": {
   "display_name": "Python 3",
   "language": "python",
   "name": "python3"
  },
  "language_info": {
   "codemirror_mode": {
    "name": "ipython",
    "version": 3
   },
   "file_extension": ".py",
   "mimetype": "text/x-python",
   "name": "python",
   "nbconvert_exporter": "python",
   "pygments_lexer": "ipython3",
   "version": "3.10.13"
  }
 },
 "nbformat": 4,
 "nbformat_minor": 2
}
