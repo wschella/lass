{
 "cells": [
  {
   "cell_type": "code",
   "execution_count": null,
   "id": "10a2ab21",
   "metadata": {
    "execution": {
     "iopub.execute_input": "2022-11-17T16:59:45.970363Z",
     "iopub.status.busy": "2022-11-17T16:59:45.969664Z",
     "iopub.status.idle": "2022-11-17T16:59:46.000422Z",
     "shell.execute_reply": "2022-11-17T16:59:45.999161Z"
    },
    "papermill": {
     "duration": 0.870807,
     "end_time": "2022-11-17T16:59:46.003598",
     "exception": false,
     "start_time": "2022-11-17T16:59:45.132791",
     "status": "completed"
    },
    "tags": []
   },
   "outputs": [],
   "source": [
    "%load_ext autoreload\n",
    "%autoreload 2\n",
    "%env CUDA_DEVICE_ORDER=PCI_BUS_ID\n",
    "%env CUDA_VISIBLE_DEVICES=0"
   ]
  },
  {
   "cell_type": "code",
   "execution_count": null,
   "id": "8e8a4b7b",
   "metadata": {
    "execution": {
     "iopub.execute_input": "2022-11-17T16:59:47.638643Z",
     "iopub.status.busy": "2022-11-17T16:59:47.638145Z",
     "iopub.status.idle": "2022-11-17T16:59:52.514062Z",
     "shell.execute_reply": "2022-11-17T16:59:52.512800Z"
    },
    "papermill": {
     "duration": 5.702968,
     "end_time": "2022-11-17T16:59:52.517114",
     "exception": false,
     "start_time": "2022-11-17T16:59:46.814146",
     "status": "completed"
    },
    "tags": []
   },
   "outputs": [],
   "source": [
    "from typing import *\n",
    "from dataclasses import dataclass\n",
    "import shutil\n",
    "\n",
    "import pandas as pd\n",
    "\n",
    "import lass.train\n",
    "import lass.test\n",
    "import lass.datasets\n",
    "from lass.log_handling import PaperTasks, LogIssues, LogLoaderArgs, LogLoader\n",
    "\n",
    "import transformers\n",
    "\n",
    "transformers.logging.set_verbosity_warning() # type: ignore"
   ]
  },
  {
   "cell_type": "markdown",
   "id": "3af13443",
   "metadata": {
    "papermill": {
     "duration": 0.826145,
     "end_time": "2022-11-17T16:59:54.167398",
     "exception": false,
     "start_time": "2022-11-17T16:59:53.341253",
     "status": "completed"
    },
    "tags": []
   },
   "source": [
    "## Find non-empty tasks\n"
   ]
  },
  {
   "cell_type": "code",
   "execution_count": null,
   "id": "24827d2c",
   "metadata": {
    "execution": {
     "iopub.execute_input": "2022-11-17T16:59:55.809612Z",
     "iopub.status.busy": "2022-11-17T16:59:55.808685Z",
     "iopub.status.idle": "2022-11-17T17:00:12.901590Z",
     "shell.execute_reply": "2022-11-17T17:00:12.900684Z"
    },
    "papermill": {
     "duration": 17.923176,
     "end_time": "2022-11-17T17:00:12.904216",
     "exception": false,
     "start_time": "2022-11-17T16:59:54.981040",
     "status": "completed"
    },
    "tags": []
   },
   "outputs": [],
   "source": [
    "loader_args = LogLoaderArgs(\n",
    "    logdir=\"../artifacts/logs\",\n",
    "    tasks='paper-full',\n",
    "    model_families=[\"BIG-G T=0\"],\n",
    "    model_sizes=[\"128b\"],\n",
    "    shots=[0], #### CHANGE\n",
    "    query_types=[\"multiple_choice\"],\n",
    ")\n",
    "\n",
    "loader = LogLoader(loader_args)\n",
    "data = lass.datasets.to_dataframe(loader)\n",
    "nonempty_tasks = data.task.unique().tolist()\n",
    "non_empty_tasks = [task for task in PaperTasks.full() if task in nonempty_tasks]\n",
    "assert \"ascii_word_recognition\" not in non_empty_tasks"
   ]
  },
  {
   "cell_type": "code",
   "execution_count": null,
   "id": "748d944b",
   "metadata": {
    "execution": {
     "iopub.execute_input": "2022-11-17T17:00:14.514251Z",
     "iopub.status.busy": "2022-11-17T17:00:14.513598Z",
     "iopub.status.idle": "2022-11-17T17:00:14.550982Z",
     "shell.execute_reply": "2022-11-17T17:00:14.549917Z"
    },
    "papermill": {
     "duration": 0.892156,
     "end_time": "2022-11-17T17:00:14.553293",
     "exception": false,
     "start_time": "2022-11-17T17:00:13.661137",
     "status": "completed"
    },
    "tags": []
   },
   "outputs": [],
   "source": [
    "@dataclass\n",
    "class Architecture():\n",
    "    name: str\n",
    "    name_short: str\n",
    "    batch_size: int\n",
    "    gradient_accumulation_steps: int\n",
    "\n",
    "architecture = Architecture(\n",
    "    name=\"microsoft/deberta-v3-large\", ##### CHANGE\n",
    "    name_short=\"deberta-large\", #### CHANGE\n",
    "    batch_size=4, #### CHANGE\n",
    "    gradient_accumulation_steps=8, #### CHANGE\n",
    ")\n",
    "\n",
    "MODEL_SIZES = {\n",
    "    # \"2m\": 2098048,\n",
    "    # \"16m\": 16780288,\n",
    "    # \"53m\": 56629632,\n",
    "    # \"125m\": 134228992,\n",
    "    # \"244m\": 262161280,\n",
    "    # \"422m\": 453009408,\n",
    "    # \"1b\": 1073784832,\n",
    "    \"2b\": 2097218560,\n",
    "    \"4b\": 3623973888,\n",
    "    \"8b\": 8590102528,\n",
    "    \"27b\": 28991404032,\n",
    "    \"128b\": 137440272384,\n",
    "}"
   ]
  },
  {
   "cell_type": "markdown",
   "id": "36b73d78",
   "metadata": {
    "papermill": {
     "duration": 0.774789,
     "end_time": "2022-11-17T17:00:16.174022",
     "exception": false,
     "start_time": "2022-11-17T17:00:15.399233",
     "status": "completed"
    },
    "tags": []
   },
   "source": [
    "## Train An Assessor Model for All Different BIG-G Sizes"
   ]
  },
  {
   "cell_type": "code",
   "execution_count": null,
   "id": "acaf64fe",
   "metadata": {
    "execution": {
     "iopub.execute_input": "2022-11-17T17:00:17.829789Z",
     "iopub.status.busy": "2022-11-17T17:00:17.829370Z",
     "iopub.status.idle": "2022-11-20T06:44:52.489632Z",
     "shell.execute_reply": "2022-11-20T06:44:52.488739Z"
    },
    "papermill": {
     "duration": 222275.487567,
     "end_time": "2022-11-20T06:44:52.491009",
     "exception": false,
     "start_time": "2022-11-17T17:00:17.003442",
     "status": "completed"
    },
    "tags": []
   },
   "outputs": [],
   "source": [
    "for size, size_precise in MODEL_SIZES.items():\n",
    "    ### CHANGE\n",
    "    data_args = LogLoaderArgs(\n",
    "        logdir=\"../artifacts/logs\",\n",
    "        tasks='paper-full',\n",
    "        model_families=[\"BIG-G T=0\"],\n",
    "        model_sizes=[size],\n",
    "        shots=[0],\n",
    "        query_types=[\"multiple_choice\"],\n",
    "    )\n",
    "\n",
    "    model = lass.train.train(\n",
    "        data_args=data_args,\n",
    "        group=\"scale-relation-0shot-large\", ##### CHANGE\n",
    "        split=\"instance\",\n",
    "        model_name=architecture.name,\n",
    "        model_name_short=f\"{architecture.name_short}-for-{size}\",\n",
    "        batch_size=architecture.batch_size,\n",
    "        gradient_accumulation_steps=architecture.gradient_accumulation_steps,\n",
    "        include_model_in_input=False,\n",
    "        include_n_targets_in_input=False,\n",
    "        output_dir=\"scaling-0shot-large\", ##### CHANGE\n",
    "        n_epochs=6,\n",
    "        extra_training_args={\n",
    "            \"warmup_steps\": 3000,\n",
    "            \"learning_rate\": 2e-5,\n",
    "        },\n",
    "        # is_test_run=True,\n",
    "    )\n",
    "\n",
    "    results = {}\n",
    "\n",
    "    # Metrics in total\n",
    "    results_ = lass.test.test(\n",
    "            data_args=data_args,\n",
    "            split = 'instance',\n",
    "            model_loc=model,\n",
    "            model_name=architecture.name,\n",
    "            max_sequence_length = 512,\n",
    "    )\n",
    "    results['_total'] = results_['metrics']\n",
    "    results['_total']['count'] = len(results_['test'])\n",
    "\n",
    "    print(\"Tested on everything\")\n",
    "\n",
    "    # Metrics per task\n",
    "    for task in non_empty_tasks:\n",
    "        task_data_args = LogLoaderArgs(**(loader_args.__dict__ | {'tasks': [task]}))\n",
    "        results_ = lass.test.test(\n",
    "            data_args=task_data_args,\n",
    "            split = 'instance',\n",
    "            model_loc=model,\n",
    "            model_name=architecture.name,\n",
    "            max_sequence_length = 512,\n",
    "        )\n",
    "        results[task] = results_['metrics']\n",
    "        results[task]['count'] = len(results_['test'])\n",
    "\n",
    "        df = pd.DataFrame.from_dict(results, orient='index')\n",
    "        df.to_csv(f\"scaling-0shot-large/{size}.csv\") ################### CHANGE\n",
    "        print(f\"Tested on {task}\")\n",
    "\n",
    "    print(\"Tested on all tasks\")\n"
   ]
  }
 ],
 "metadata": {
  "kernelspec": {
   "display_name": "Python 3.10.4 (conda)",
   "language": "python",
   "name": "python3"
  },
  "language_info": {
   "codemirror_mode": {
    "name": "ipython",
    "version": 3
   },
   "file_extension": ".py",
   "mimetype": "text/x-python",
   "name": "python",
   "nbconvert_exporter": "python",
   "pygments_lexer": "ipython3",
   "version": "3.10.4"
  },
  "papermill": {
   "default_parameters": {},
   "duration": 222313.741875,
   "end_time": "2022-11-20T06:44:57.154156",
   "environment_variables": {},
   "exception": null,
   "input_path": "Exp_Scaling.ipynb",
   "output_path": "Exp_Scaling.ipynb",
   "parameters": {},
   "start_time": "2022-11-17T16:59:43.412281",
   "version": "2.3.4"
  },
  "vscode": {
   "interpreter": {
    "hash": "eed4bfcf3d3cfcdb00482c10052e8eba5705b015008b357326d56e176b5397df"
   }
  },
  "widgets": {}
 },
 "nbformat": 4,
 "nbformat_minor": 5
}
