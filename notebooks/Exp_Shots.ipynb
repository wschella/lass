{
 "cells": [
  {
   "cell_type": "code",
   "execution_count": 1,
   "id": "86f84e74",
   "metadata": {
    "execution": {
     "iopub.execute_input": "2022-12-14T15:52:07.833473Z",
     "iopub.status.busy": "2022-12-14T15:52:07.832786Z",
     "iopub.status.idle": "2022-12-14T15:52:07.860665Z",
     "shell.execute_reply": "2022-12-14T15:52:07.860053Z"
    },
    "papermill": {
     "duration": 0.067318,
     "end_time": "2022-12-14T15:52:07.861826",
     "exception": false,
     "start_time": "2022-12-14T15:52:07.794508",
     "status": "completed"
    },
    "tags": []
   },
   "outputs": [
    {
     "name": "stdout",
     "output_type": "stream",
     "text": [
      "env: CUDA_DEVICE_ORDER=PCI_BUS_ID\n",
      "env: CUDA_VISIBLE_DEVICES=0\n"
     ]
    }
   ],
   "source": [
    "%load_ext autoreload\n",
    "%autoreload 2\n",
    "%env CUDA_DEVICE_ORDER=PCI_BUS_ID\n",
    "%env CUDA_VISIBLE_DEVICES=0"
   ]
  },
  {
   "cell_type": "code",
   "execution_count": 2,
   "id": "9cdc7c8a",
   "metadata": {
    "execution": {
     "iopub.execute_input": "2022-12-14T15:52:07.933103Z",
     "iopub.status.busy": "2022-12-14T15:52:07.932667Z",
     "iopub.status.idle": "2022-12-14T15:52:13.602734Z",
     "shell.execute_reply": "2022-12-14T15:52:13.602245Z"
    },
    "papermill": {
     "duration": 5.691836,
     "end_time": "2022-12-14T15:52:13.606097",
     "exception": false,
     "start_time": "2022-12-14T15:52:07.914261",
     "status": "completed"
    },
    "tags": []
   },
   "outputs": [],
   "source": [
    "from dataclasses import dataclass\n",
    "from typing import *\n",
    "import logging\n",
    "\n",
    "import lass.train\n",
    "import lass.datasets\n",
    "import lass.pipeline\n",
    "from lass.log_handling import LogLoader, LogLoaderArgs, PaperTasks"
   ]
  },
  {
   "cell_type": "markdown",
   "id": "84237110",
   "metadata": {
    "papermill": {
     "duration": 0.017114,
     "end_time": "2022-12-14T15:52:13.656927",
     "exception": false,
     "start_time": "2022-12-14T15:52:13.639813",
     "status": "completed"
    },
    "tags": []
   },
   "source": [
    "# Construct a set of tasks with the same number of examples across all shots."
   ]
  },
  {
   "cell_type": "code",
   "execution_count": 3,
   "id": "acb14cc1",
   "metadata": {
    "execution": {
     "iopub.execute_input": "2022-12-14T15:52:13.691895Z",
     "iopub.status.busy": "2022-12-14T15:52:13.691015Z",
     "iopub.status.idle": "2022-12-14T15:52:42.004748Z",
     "shell.execute_reply": "2022-12-14T15:52:42.004251Z"
    },
    "papermill": {
     "duration": 28.334801,
     "end_time": "2022-12-14T15:52:42.008009",
     "exception": false,
     "start_time": "2022-12-14T15:52:13.673208",
     "status": "completed"
    },
    "tags": []
   },
   "outputs": [
    {
     "name": "stderr",
     "output_type": "stream",
     "text": [
      "/home/wout/pp/lass/src/lass/pipeline.py:40: SettingWithCopyWarning: \n",
      "A value is trying to be set on a copy of a slice from a DataFrame.\n",
      "Try using .loc[row_indexer,col_indexer] = value instead\n",
      "\n",
      "See the caveats in the documentation: https://pandas.pydata.org/pandas-docs/stable/user_guide/indexing.html#returning-a-view-versus-a-copy\n",
      "  df.loc[:, 'correct'] = df['correct'].astype(int)\n"
     ]
    },
    {
     "name": "stdout",
     "output_type": "stream",
     "text": [
      "#Filtered tasks: 114. From total of 118, 4 tasks have different number of examples across shots.\n"
     ]
    }
   ],
   "source": [
    "log_loader_args = LogLoaderArgs(\n",
    "    logdir='../artifacts/logs/',\n",
    "    tasks='paper-full',\n",
    "    model_families=['BIG-G T=0'],\n",
    "    model_sizes=['128b'],\n",
    "    shots=[0, 1, 2, 3],\n",
    "    query_types=['multiple_choice'],\n",
    ")\n",
    "log_loader = LogLoader(log_loader_args)\n",
    "\n",
    "logging.info(\"Starting data loading\")\n",
    "data = lass.datasets.to_dataframe(log_loader)\n",
    "logging.info(\"Loaded data.\")\n",
    "\n",
    "data = lass.pipeline.binarize(data)\n",
    "data = lass.pipeline.augment(data)\n",
    "data = lass.pipeline.clean(data)\n",
    "\n",
    "uniqueness = data.groupby(['task', 'shots']).size().groupby('task').agg(lambda x: x.nunique() == 1)\n",
    "filtered_tasks = uniqueness[uniqueness == True].index.tolist()\n",
    "print(f\"#Filtered tasks: {len(filtered_tasks)}. From total of {len(uniqueness)}, {len(uniqueness) - len(filtered_tasks)} tasks have different number of examples across shots.\")"
   ]
  },
  {
   "cell_type": "markdown",
   "id": "8bced0ee",
   "metadata": {
    "papermill": {
     "duration": 0.016911,
     "end_time": "2022-12-14T15:52:42.055938",
     "exception": false,
     "start_time": "2022-12-14T15:52:42.039027",
     "status": "completed"
    },
    "tags": []
   },
   "source": [
    "# Train model for each shot."
   ]
  },
  {
   "cell_type": "code",
   "execution_count": 4,
   "id": "dc712d5c",
   "metadata": {
    "execution": {
     "iopub.execute_input": "2022-12-14T15:52:42.091918Z",
     "iopub.status.busy": "2022-12-14T15:52:42.091529Z",
     "iopub.status.idle": "2022-12-15T06:41:37.061961Z",
     "shell.execute_reply": "2022-12-15T06:41:37.060973Z"
    },
    "papermill": {
     "duration": 53334.990964,
     "end_time": "2022-12-15T06:41:37.064956",
     "exception": false,
     "start_time": "2022-12-14T15:52:42.073992",
     "status": "completed"
    },
    "tags": []
   },
   "outputs": [
    {
     "name": "stdout",
     "output_type": "stream",
     "text": [
      "#Examples for 2 shots: 54085\n"
     ]
    },
    {
     "name": "stdout",
     "output_type": "stream",
     "text": [
      "{'text': 'In what follows, we provide short narratives, each of which illustrates a common proverb. \\nNarrative: The anxiety about getting the injection made her unable to sleep that night, but the actual experience wasn\\'t as bad as she thought it would be.\\nThis narrative is a good illustration of the following proverb: Don\\'t meet troubles half-way\\n\\nNarrative: Inmate 76853 lay on the execution gurney ready to utter his last words before lethal drugs ended his life.  He looked through the mirror into the witness room and said to his family and his victim\\'s family: \"I killed Victoria.  It was wrong.  I can\\'t take it back.  I earned my punishment, and I accept it.\"  Inmate 76853 turned his head back to stare at the stark ceiling and paid his debt with his life.\\nThis narrative is a good illustration of the following proverb: The wages of sin is death\\n\\nNarrative: A father brought his son to the local airport for a show. They got up close to an plane in the show. The pilot arrives and turns on the engine. The plane makes a considerable roar, scaring the child. The child cowers behind the father as the father reassures the child that it is just a loud noise and it won\\'t hurt him.\\nThis narrative is a good illustration of the following proverb: ', 'label': 0}\n"
     ]
    },
    {
     "name": "stderr",
     "output_type": "stream",
     "text": [
      "Special tokens have been added in the vocabulary, make sure the associated word embeddings are fine-tuned or trained.\n"
     ]
    },
    {
     "name": "stderr",
     "output_type": "stream",
     "text": [
      "/home/wout/pp/lass/.env/lib/python3.10/site-packages/transformers/convert_slow_tokenizer.py:434: UserWarning: The sentencepiece tokenizer that you are converting to a fast tokenizer uses the byte fallback option which is not implemented in the fast tokenizers. In practice this means that the fast version of the tokenizer can produce unknown tokens whereas the sentencepiece version would have converted these unknown tokens into a sequence of byte tokens matching the original piece of text.\n",
      "  warnings.warn(\n",
      "Special tokens have been added in the vocabulary, make sure the associated word embeddings are fine-tuned or trained.\n"
     ]
    },
    {
     "name": "stderr",
     "output_type": "stream",
     "text": [
      "WARNING:datasets.fingerprint:Parameter 'function'=<function tokenize.<locals>.tokenize_function at 0x7f4faa479ab0> of the transform datasets.arrow_dataset.Dataset._map_single couldn't be hashed properly, a random hash was used instead. Make sure your transforms and parameters are serializable with pickle or dill for the dataset fingerprinting and caching to work. If you reuse this transform, the caching mechanism will consider it to be different from the previous calls and recompute everything. This warning is only showed once. Subsequent hashing failures won't be showed.\n"
     ]
    },
    {
     "data": {
      "application/vnd.jupyter.widget-view+json": {
       "model_id": "ba5e897edb7a41fbb1a9dc6b0bebfb0f",
       "version_major": 2,
       "version_minor": 0
      },
      "text/plain": [
       "  0%|          | 0/43 [00:00<?, ?ba/s]"
      ]
     },
     "metadata": {},
     "output_type": "display_data"
    },
    {
     "data": {
      "application/vnd.jupyter.widget-view+json": {
       "model_id": "9586e6aa0aa34cc18f0b5a19f7fa9cff",
       "version_major": 2,
       "version_minor": 0
      },
      "text/plain": [
       "  0%|          | 0/11 [00:00<?, ?ba/s]"
      ]
     },
     "metadata": {},
     "output_type": "display_data"
    },
    {
     "name": "stderr",
     "output_type": "stream",
     "text": [
      "ERROR:wandb.jupyter:Failed to detect the name of this notebook, you can set it manually with the WANDB_NOTEBOOK_NAME environment variable to enable code saving.\n"
     ]
    },
    {
     "name": "stderr",
     "output_type": "stream",
     "text": [
      "\u001b[34m\u001b[1mwandb\u001b[0m: Currently logged in as: \u001b[33mwschella\u001b[0m. Use \u001b[1m`wandb login --relogin`\u001b[0m to force relogin\n"
     ]
    },
    {
     "name": "stderr",
     "output_type": "stream",
     "text": [
      "\u001b[34m\u001b[1mwandb\u001b[0m: \u001b[33mWARNING\u001b[0m Path shot-influence/wandb/wandb/ wasn't writable, using system temp directory.\n"
     ]
    },
    {
     "name": "stderr",
     "output_type": "stream",
     "text": [
      "wandb: WARNING Path shot-influence/wandb/wandb/ wasn't writable, using system temp directory\n"
     ]
    },
    {
     "data": {
      "text/html": [
       "wandb version 0.13.6 is available!  To upgrade, please run:\n",
       " $ pip install wandb --upgrade"
      ],
      "text/plain": [
       "<IPython.core.display.HTML object>"
      ]
     },
     "metadata": {},
     "output_type": "display_data"
    },
    {
     "data": {
      "text/html": [
       "Tracking run with wandb version 0.12.20"
      ],
      "text/plain": [
       "<IPython.core.display.HTML object>"
      ]
     },
     "metadata": {},
     "output_type": "display_data"
    },
    {
     "data": {
      "text/html": [
       "Run data is saved locally in <code>/tmp/wandb/run-20221214_165338-1asw12pa</code>"
      ],
      "text/plain": [
       "<IPython.core.display.HTML object>"
      ]
     },
     "metadata": {},
     "output_type": "display_data"
    },
    {
     "data": {
      "text/html": [
       "Syncing run <strong><a href=\"https://wandb.ai/wschella/lass/runs/1asw12pa\" target=\"_blank\">deberta-base-for-2-shots-t-right-bs16*2-2sh-instance-split</a></strong> to <a href=\"https://wandb.ai/wschella/lass\" target=\"_blank\">Weights & Biases</a> (<a href=\"https://wandb.me/run\" target=\"_blank\">docs</a>)<br/>"
      ],
      "text/plain": [
       "<IPython.core.display.HTML object>"
      ]
     },
     "metadata": {},
     "output_type": "display_data"
    },
    {
     "name": "stderr",
     "output_type": "stream",
     "text": [
      "Some weights of the model checkpoint at microsoft/deberta-v3-base were not used when initializing DebertaV2ForSequenceClassification: ['mask_predictions.dense.weight', 'mask_predictions.classifier.bias', 'lm_predictions.lm_head.dense.weight', 'mask_predictions.dense.bias', 'mask_predictions.LayerNorm.weight', 'mask_predictions.LayerNorm.bias', 'lm_predictions.lm_head.LayerNorm.weight', 'lm_predictions.lm_head.LayerNorm.bias', 'lm_predictions.lm_head.dense.bias', 'mask_predictions.classifier.weight', 'lm_predictions.lm_head.bias']\n",
      "- This IS expected if you are initializing DebertaV2ForSequenceClassification from the checkpoint of a model trained on another task or with another architecture (e.g. initializing a BertForSequenceClassification model from a BertForPreTraining model).\n",
      "- This IS NOT expected if you are initializing DebertaV2ForSequenceClassification from the checkpoint of a model that you expect to be exactly identical (initializing a BertForSequenceClassification model from a BertForSequenceClassification model).\n"
     ]
    },
    {
     "name": "stderr",
     "output_type": "stream",
     "text": [
      "Some weights of DebertaV2ForSequenceClassification were not initialized from the model checkpoint at microsoft/deberta-v3-base and are newly initialized: ['classifier.weight', 'pooler.dense.bias', 'classifier.bias', 'pooler.dense.weight']\n",
      "You should probably TRAIN this model on a down-stream task to be able to use it for predictions and inference.\n"
     ]
    },
    {
     "name": "stderr",
     "output_type": "stream",
     "text": [
      "The following columns in the training set don't have a corresponding argument in `DebertaV2ForSequenceClassification.forward` and have been ignored: text. If text are not expected by `DebertaV2ForSequenceClassification.forward`,  you can safely ignore this message.\n"
     ]
    },
    {
     "name": "stderr",
     "output_type": "stream",
     "text": [
      "***** Running training *****\n"
     ]
    },
    {
     "name": "stderr",
     "output_type": "stream",
     "text": [
      "  Num examples = 42424\n"
     ]
    },
    {
     "name": "stderr",
     "output_type": "stream",
     "text": [
      "  Num Epochs = 6\n"
     ]
    },
    {
     "name": "stderr",
     "output_type": "stream",
     "text": [
      "  Instantaneous batch size per device = 16\n"
     ]
    },
    {
     "name": "stderr",
     "output_type": "stream",
     "text": [
      "  Total train batch size (w. parallel, distributed & accumulation) = 32\n"
     ]
    },
    {
     "name": "stderr",
     "output_type": "stream",
     "text": [
      "  Gradient Accumulation steps = 2\n"
     ]
    },
    {
     "name": "stderr",
     "output_type": "stream",
     "text": [
      "  Total optimization steps = 7956\n"
     ]
    },
    {
     "name": "stderr",
     "output_type": "stream",
     "text": [
      "Automatic Weights & Biases logging enabled, to disable set os.environ[\"WANDB_DISABLED\"] = \"true\"\n"
     ]
    },
    {
     "data": {
      "text/html": [
       "\n",
       "    <div>\n",
       "      \n",
       "      <progress value='7956' max='7956' style='width:300px; height:20px; vertical-align: middle;'></progress>\n",
       "      [7956/7956 3:40:15, Epoch 6/6]\n",
       "    </div>\n",
       "    <table border=\"1\" class=\"dataframe\">\n",
       "  <thead>\n",
       " <tr style=\"text-align: left;\">\n",
       "      <th>Step</th>\n",
       "      <th>Training Loss</th>\n",
       "      <th>Validation Loss</th>\n",
       "      <th>Conf Distribution Accuracy</th>\n",
       "      <th>Conf Distribution Precision</th>\n",
       "      <th>Conf Distribution Recall</th>\n",
       "      <th>Conf Distribution F1</th>\n",
       "      <th>Conf Distribution Roc Auc</th>\n",
       "      <th>Conf Distribution Bs</th>\n",
       "      <th>Conf Distribution Bs Mcb</th>\n",
       "      <th>Conf Distribution Bs Dsc</th>\n",
       "      <th>Conf Distribution Bs Unc</th>\n",
       "      <th>Conf Distribution Balanced Accuracy</th>\n",
       "      <th>Conf Absolute Accuracy</th>\n",
       "      <th>Conf Absolute Precision</th>\n",
       "      <th>Conf Absolute Recall</th>\n",
       "      <th>Conf Absolute F1</th>\n",
       "      <th>Conf Absolute Roc Auc</th>\n",
       "      <th>Conf Absolute Bs</th>\n",
       "      <th>Conf Absolute Bs Mcb</th>\n",
       "      <th>Conf Absolute Bs Dsc</th>\n",
       "      <th>Conf Absolute Bs Unc</th>\n",
       "      <th>Conf Absolute Balanced Accuracy</th>\n",
       "      <th>Conf Normalized Accuracy</th>\n",
       "      <th>Conf Normalized Precision</th>\n",
       "      <th>Conf Normalized Recall</th>\n",
       "      <th>Conf Normalized F1</th>\n",
       "      <th>Conf Normalized Roc Auc</th>\n",
       "      <th>Conf Normalized Bs</th>\n",
       "      <th>Conf Normalized Bs Mcb</th>\n",
       "      <th>Conf Normalized Bs Dsc</th>\n",
       "      <th>Conf Normalized Bs Unc</th>\n",
       "      <th>Conf Normalized Balanced Accuracy</th>\n",
       "      <th>Accuracy</th>\n",
       "      <th>Precision</th>\n",
       "      <th>Recall</th>\n",
       "      <th>F1</th>\n",
       "      <th>Roc Auc</th>\n",
       "      <th>Bs</th>\n",
       "      <th>Bs Mcb</th>\n",
       "      <th>Bs Dsc</th>\n",
       "      <th>Bs Unc</th>\n",
       "      <th>Balanced Accuracy</th>\n",
       "    </tr>\n",
       "  </thead>\n",
       "  <tbody>\n",
       "    <tr>\n",
       "      <td>500</td>\n",
       "      <td>0.640500</td>\n",
       "      <td>0.603407</td>\n",
       "      <td>0.685539</td>\n",
       "      <td>0.605271</td>\n",
       "      <td>0.495413</td>\n",
       "      <td>0.544860</td>\n",
       "      <td>0.741358</td>\n",
       "      <td>0.195608</td>\n",
       "      <td>0.000000</td>\n",
       "      <td>0.039977</td>\n",
       "      <td>0.235584</td>\n",
       "      <td>0.648724</td>\n",
       "      <td>0.592275</td>\n",
       "      <td>0.471564</td>\n",
       "      <td>0.606496</td>\n",
       "      <td>0.530586</td>\n",
       "      <td>0.608524</td>\n",
       "      <td>0.275522</td>\n",
       "      <td>0.050680</td>\n",
       "      <td>0.010743</td>\n",
       "      <td>0.235584</td>\n",
       "      <td>0.595029</td>\n",
       "      <td>0.512294</td>\n",
       "      <td>0.430700</td>\n",
       "      <td>0.881478</td>\n",
       "      <td>0.578660</td>\n",
       "      <td>0.627375</td>\n",
       "      <td>0.311893</td>\n",
       "      <td>0.089674</td>\n",
       "      <td>0.013366</td>\n",
       "      <td>0.235584</td>\n",
       "      <td>0.583781</td>\n",
       "      <td>0.629581</td>\n",
       "      <td>0.631854</td>\n",
       "      <td>0.060005</td>\n",
       "      <td>0.109601</td>\n",
       "      <td>0.713837</td>\n",
       "      <td>0.209370</td>\n",
       "      <td>0.005548</td>\n",
       "      <td>0.031762</td>\n",
       "      <td>0.235584</td>\n",
       "      <td>0.519291</td>\n",
       "    </tr>\n",
       "    <tr>\n",
       "      <td>1000</td>\n",
       "      <td>0.593300</td>\n",
       "      <td>0.585425</td>\n",
       "      <td>0.685539</td>\n",
       "      <td>0.605271</td>\n",
       "      <td>0.495413</td>\n",
       "      <td>0.544860</td>\n",
       "      <td>0.741358</td>\n",
       "      <td>0.195608</td>\n",
       "      <td>0.000000</td>\n",
       "      <td>0.039977</td>\n",
       "      <td>0.235584</td>\n",
       "      <td>0.648724</td>\n",
       "      <td>0.592275</td>\n",
       "      <td>0.471564</td>\n",
       "      <td>0.606496</td>\n",
       "      <td>0.530586</td>\n",
       "      <td>0.608524</td>\n",
       "      <td>0.275522</td>\n",
       "      <td>0.050680</td>\n",
       "      <td>0.010743</td>\n",
       "      <td>0.235584</td>\n",
       "      <td>0.595029</td>\n",
       "      <td>0.512294</td>\n",
       "      <td>0.430700</td>\n",
       "      <td>0.881478</td>\n",
       "      <td>0.578660</td>\n",
       "      <td>0.627375</td>\n",
       "      <td>0.311893</td>\n",
       "      <td>0.089674</td>\n",
       "      <td>0.013366</td>\n",
       "      <td>0.235584</td>\n",
       "      <td>0.583781</td>\n",
       "      <td>0.675177</td>\n",
       "      <td>0.565716</td>\n",
       "      <td>0.624349</td>\n",
       "      <td>0.593588</td>\n",
       "      <td>0.728009</td>\n",
       "      <td>0.201600</td>\n",
       "      <td>0.002671</td>\n",
       "      <td>0.036655</td>\n",
       "      <td>0.235584</td>\n",
       "      <td>0.665335</td>\n",
       "    </tr>\n",
       "    <tr>\n",
       "      <td>1500</td>\n",
       "      <td>0.583100</td>\n",
       "      <td>0.587031</td>\n",
       "      <td>0.685539</td>\n",
       "      <td>0.605271</td>\n",
       "      <td>0.495413</td>\n",
       "      <td>0.544860</td>\n",
       "      <td>0.741358</td>\n",
       "      <td>0.195608</td>\n",
       "      <td>0.000000</td>\n",
       "      <td>0.039977</td>\n",
       "      <td>0.235584</td>\n",
       "      <td>0.648724</td>\n",
       "      <td>0.592275</td>\n",
       "      <td>0.471564</td>\n",
       "      <td>0.606496</td>\n",
       "      <td>0.530586</td>\n",
       "      <td>0.608524</td>\n",
       "      <td>0.275522</td>\n",
       "      <td>0.050680</td>\n",
       "      <td>0.010743</td>\n",
       "      <td>0.235584</td>\n",
       "      <td>0.595029</td>\n",
       "      <td>0.512294</td>\n",
       "      <td>0.430700</td>\n",
       "      <td>0.881478</td>\n",
       "      <td>0.578660</td>\n",
       "      <td>0.627375</td>\n",
       "      <td>0.311893</td>\n",
       "      <td>0.089674</td>\n",
       "      <td>0.013366</td>\n",
       "      <td>0.235584</td>\n",
       "      <td>0.583781</td>\n",
       "      <td>0.680923</td>\n",
       "      <td>0.596823</td>\n",
       "      <td>0.493677</td>\n",
       "      <td>0.540372</td>\n",
       "      <td>0.730280</td>\n",
       "      <td>0.200842</td>\n",
       "      <td>0.002695</td>\n",
       "      <td>0.037437</td>\n",
       "      <td>0.235584</td>\n",
       "      <td>0.644666</td>\n",
       "    </tr>\n",
       "    <tr>\n",
       "      <td>2000</td>\n",
       "      <td>0.586800</td>\n",
       "      <td>0.585851</td>\n",
       "      <td>0.685539</td>\n",
       "      <td>0.605271</td>\n",
       "      <td>0.495413</td>\n",
       "      <td>0.544860</td>\n",
       "      <td>0.741358</td>\n",
       "      <td>0.195608</td>\n",
       "      <td>0.000000</td>\n",
       "      <td>0.039977</td>\n",
       "      <td>0.235584</td>\n",
       "      <td>0.648724</td>\n",
       "      <td>0.592275</td>\n",
       "      <td>0.471564</td>\n",
       "      <td>0.606496</td>\n",
       "      <td>0.530586</td>\n",
       "      <td>0.608524</td>\n",
       "      <td>0.275522</td>\n",
       "      <td>0.050680</td>\n",
       "      <td>0.010743</td>\n",
       "      <td>0.235584</td>\n",
       "      <td>0.595029</td>\n",
       "      <td>0.512294</td>\n",
       "      <td>0.430700</td>\n",
       "      <td>0.881478</td>\n",
       "      <td>0.578660</td>\n",
       "      <td>0.627375</td>\n",
       "      <td>0.311893</td>\n",
       "      <td>0.089674</td>\n",
       "      <td>0.013366</td>\n",
       "      <td>0.235584</td>\n",
       "      <td>0.583781</td>\n",
       "      <td>0.682242</td>\n",
       "      <td>0.593644</td>\n",
       "      <td>0.518721</td>\n",
       "      <td>0.553659</td>\n",
       "      <td>0.733569</td>\n",
       "      <td>0.201248</td>\n",
       "      <td>0.004453</td>\n",
       "      <td>0.038789</td>\n",
       "      <td>0.235584</td>\n",
       "      <td>0.650579</td>\n",
       "    </tr>\n",
       "    <tr>\n",
       "      <td>2500</td>\n",
       "      <td>0.582200</td>\n",
       "      <td>0.593035</td>\n",
       "      <td>0.685539</td>\n",
       "      <td>0.605271</td>\n",
       "      <td>0.495413</td>\n",
       "      <td>0.544860</td>\n",
       "      <td>0.741358</td>\n",
       "      <td>0.195608</td>\n",
       "      <td>0.000000</td>\n",
       "      <td>0.039977</td>\n",
       "      <td>0.235584</td>\n",
       "      <td>0.648724</td>\n",
       "      <td>0.592275</td>\n",
       "      <td>0.471564</td>\n",
       "      <td>0.606496</td>\n",
       "      <td>0.530586</td>\n",
       "      <td>0.608524</td>\n",
       "      <td>0.275522</td>\n",
       "      <td>0.050680</td>\n",
       "      <td>0.010743</td>\n",
       "      <td>0.235584</td>\n",
       "      <td>0.595029</td>\n",
       "      <td>0.512294</td>\n",
       "      <td>0.430700</td>\n",
       "      <td>0.881478</td>\n",
       "      <td>0.578660</td>\n",
       "      <td>0.627375</td>\n",
       "      <td>0.311893</td>\n",
       "      <td>0.089674</td>\n",
       "      <td>0.013366</td>\n",
       "      <td>0.235584</td>\n",
       "      <td>0.583781</td>\n",
       "      <td>0.681394</td>\n",
       "      <td>0.591716</td>\n",
       "      <td>0.520704</td>\n",
       "      <td>0.553944</td>\n",
       "      <td>0.733769</td>\n",
       "      <td>0.200699</td>\n",
       "      <td>0.004145</td>\n",
       "      <td>0.039030</td>\n",
       "      <td>0.235584</td>\n",
       "      <td>0.650279</td>\n",
       "    </tr>\n",
       "    <tr>\n",
       "      <td>3000</td>\n",
       "      <td>0.583600</td>\n",
       "      <td>0.603308</td>\n",
       "      <td>0.685539</td>\n",
       "      <td>0.605271</td>\n",
       "      <td>0.495413</td>\n",
       "      <td>0.544860</td>\n",
       "      <td>0.741358</td>\n",
       "      <td>0.195608</td>\n",
       "      <td>0.000000</td>\n",
       "      <td>0.039977</td>\n",
       "      <td>0.235584</td>\n",
       "      <td>0.648724</td>\n",
       "      <td>0.592275</td>\n",
       "      <td>0.471564</td>\n",
       "      <td>0.606496</td>\n",
       "      <td>0.530586</td>\n",
       "      <td>0.608524</td>\n",
       "      <td>0.275522</td>\n",
       "      <td>0.050680</td>\n",
       "      <td>0.010743</td>\n",
       "      <td>0.235584</td>\n",
       "      <td>0.595029</td>\n",
       "      <td>0.512294</td>\n",
       "      <td>0.430700</td>\n",
       "      <td>0.881478</td>\n",
       "      <td>0.578660</td>\n",
       "      <td>0.627375</td>\n",
       "      <td>0.311893</td>\n",
       "      <td>0.089674</td>\n",
       "      <td>0.013366</td>\n",
       "      <td>0.235584</td>\n",
       "      <td>0.583781</td>\n",
       "      <td>0.680075</td>\n",
       "      <td>0.579249</td>\n",
       "      <td>0.577238</td>\n",
       "      <td>0.578241</td>\n",
       "      <td>0.730151</td>\n",
       "      <td>0.202572</td>\n",
       "      <td>0.005198</td>\n",
       "      <td>0.038210</td>\n",
       "      <td>0.235584</td>\n",
       "      <td>0.660162</td>\n",
       "    </tr>\n",
       "    <tr>\n",
       "      <td>3500</td>\n",
       "      <td>0.574300</td>\n",
       "      <td>0.576942</td>\n",
       "      <td>0.685539</td>\n",
       "      <td>0.605271</td>\n",
       "      <td>0.495413</td>\n",
       "      <td>0.544860</td>\n",
       "      <td>0.741358</td>\n",
       "      <td>0.195608</td>\n",
       "      <td>0.000000</td>\n",
       "      <td>0.039977</td>\n",
       "      <td>0.235584</td>\n",
       "      <td>0.648724</td>\n",
       "      <td>0.592275</td>\n",
       "      <td>0.471564</td>\n",
       "      <td>0.606496</td>\n",
       "      <td>0.530586</td>\n",
       "      <td>0.608524</td>\n",
       "      <td>0.275522</td>\n",
       "      <td>0.050680</td>\n",
       "      <td>0.010743</td>\n",
       "      <td>0.235584</td>\n",
       "      <td>0.595029</td>\n",
       "      <td>0.512294</td>\n",
       "      <td>0.430700</td>\n",
       "      <td>0.881478</td>\n",
       "      <td>0.578660</td>\n",
       "      <td>0.627375</td>\n",
       "      <td>0.311893</td>\n",
       "      <td>0.089674</td>\n",
       "      <td>0.013366</td>\n",
       "      <td>0.235584</td>\n",
       "      <td>0.583781</td>\n",
       "      <td>0.679699</td>\n",
       "      <td>0.595533</td>\n",
       "      <td>0.489214</td>\n",
       "      <td>0.537163</td>\n",
       "      <td>0.736568</td>\n",
       "      <td>0.197700</td>\n",
       "      <td>0.002169</td>\n",
       "      <td>0.040054</td>\n",
       "      <td>0.235584</td>\n",
       "      <td>0.642814</td>\n",
       "    </tr>\n",
       "    <tr>\n",
       "      <td>4000</td>\n",
       "      <td>0.574700</td>\n",
       "      <td>0.582125</td>\n",
       "      <td>0.685539</td>\n",
       "      <td>0.605271</td>\n",
       "      <td>0.495413</td>\n",
       "      <td>0.544860</td>\n",
       "      <td>0.741358</td>\n",
       "      <td>0.195608</td>\n",
       "      <td>0.000000</td>\n",
       "      <td>0.039977</td>\n",
       "      <td>0.235584</td>\n",
       "      <td>0.648724</td>\n",
       "      <td>0.592275</td>\n",
       "      <td>0.471564</td>\n",
       "      <td>0.606496</td>\n",
       "      <td>0.530586</td>\n",
       "      <td>0.608524</td>\n",
       "      <td>0.275522</td>\n",
       "      <td>0.050680</td>\n",
       "      <td>0.010743</td>\n",
       "      <td>0.235584</td>\n",
       "      <td>0.595029</td>\n",
       "      <td>0.512294</td>\n",
       "      <td>0.430700</td>\n",
       "      <td>0.881478</td>\n",
       "      <td>0.578660</td>\n",
       "      <td>0.627375</td>\n",
       "      <td>0.311893</td>\n",
       "      <td>0.089674</td>\n",
       "      <td>0.013366</td>\n",
       "      <td>0.235584</td>\n",
       "      <td>0.583781</td>\n",
       "      <td>0.676496</td>\n",
       "      <td>0.630501</td>\n",
       "      <td>0.358790</td>\n",
       "      <td>0.457332</td>\n",
       "      <td>0.735340</td>\n",
       "      <td>0.199605</td>\n",
       "      <td>0.003490</td>\n",
       "      <td>0.039470</td>\n",
       "      <td>0.235584</td>\n",
       "      <td>0.614977</td>\n",
       "    </tr>\n",
       "    <tr>\n",
       "      <td>4500</td>\n",
       "      <td>0.569100</td>\n",
       "      <td>0.576701</td>\n",
       "      <td>0.685539</td>\n",
       "      <td>0.605271</td>\n",
       "      <td>0.495413</td>\n",
       "      <td>0.544860</td>\n",
       "      <td>0.741358</td>\n",
       "      <td>0.195608</td>\n",
       "      <td>0.000000</td>\n",
       "      <td>0.039977</td>\n",
       "      <td>0.235584</td>\n",
       "      <td>0.648724</td>\n",
       "      <td>0.592275</td>\n",
       "      <td>0.471564</td>\n",
       "      <td>0.606496</td>\n",
       "      <td>0.530586</td>\n",
       "      <td>0.608524</td>\n",
       "      <td>0.275522</td>\n",
       "      <td>0.050680</td>\n",
       "      <td>0.010743</td>\n",
       "      <td>0.235584</td>\n",
       "      <td>0.595029</td>\n",
       "      <td>0.512294</td>\n",
       "      <td>0.430700</td>\n",
       "      <td>0.881478</td>\n",
       "      <td>0.578660</td>\n",
       "      <td>0.627375</td>\n",
       "      <td>0.311893</td>\n",
       "      <td>0.089674</td>\n",
       "      <td>0.013366</td>\n",
       "      <td>0.235584</td>\n",
       "      <td>0.583781</td>\n",
       "      <td>0.687047</td>\n",
       "      <td>0.601023</td>\n",
       "      <td>0.524424</td>\n",
       "      <td>0.560117</td>\n",
       "      <td>0.737831</td>\n",
       "      <td>0.197419</td>\n",
       "      <td>0.001892</td>\n",
       "      <td>0.040058</td>\n",
       "      <td>0.235584</td>\n",
       "      <td>0.655557</td>\n",
       "    </tr>\n",
       "    <tr>\n",
       "      <td>5000</td>\n",
       "      <td>0.562500</td>\n",
       "      <td>0.567171</td>\n",
       "      <td>0.685539</td>\n",
       "      <td>0.605271</td>\n",
       "      <td>0.495413</td>\n",
       "      <td>0.544860</td>\n",
       "      <td>0.741358</td>\n",
       "      <td>0.195608</td>\n",
       "      <td>0.000000</td>\n",
       "      <td>0.039977</td>\n",
       "      <td>0.235584</td>\n",
       "      <td>0.648724</td>\n",
       "      <td>0.592275</td>\n",
       "      <td>0.471564</td>\n",
       "      <td>0.606496</td>\n",
       "      <td>0.530586</td>\n",
       "      <td>0.608524</td>\n",
       "      <td>0.275522</td>\n",
       "      <td>0.050680</td>\n",
       "      <td>0.010743</td>\n",
       "      <td>0.235584</td>\n",
       "      <td>0.595029</td>\n",
       "      <td>0.512294</td>\n",
       "      <td>0.430700</td>\n",
       "      <td>0.881478</td>\n",
       "      <td>0.578660</td>\n",
       "      <td>0.627375</td>\n",
       "      <td>0.311893</td>\n",
       "      <td>0.089674</td>\n",
       "      <td>0.013366</td>\n",
       "      <td>0.235584</td>\n",
       "      <td>0.583781</td>\n",
       "      <td>0.695902</td>\n",
       "      <td>0.652751</td>\n",
       "      <td>0.426482</td>\n",
       "      <td>0.515897</td>\n",
       "      <td>0.751208</td>\n",
       "      <td>0.193692</td>\n",
       "      <td>0.002461</td>\n",
       "      <td>0.044353</td>\n",
       "      <td>0.235584</td>\n",
       "      <td>0.643733</td>\n",
       "    </tr>\n",
       "    <tr>\n",
       "      <td>5500</td>\n",
       "      <td>0.545400</td>\n",
       "      <td>0.585582</td>\n",
       "      <td>0.685539</td>\n",
       "      <td>0.605271</td>\n",
       "      <td>0.495413</td>\n",
       "      <td>0.544860</td>\n",
       "      <td>0.741358</td>\n",
       "      <td>0.195608</td>\n",
       "      <td>0.000000</td>\n",
       "      <td>0.039977</td>\n",
       "      <td>0.235584</td>\n",
       "      <td>0.648724</td>\n",
       "      <td>0.592275</td>\n",
       "      <td>0.471564</td>\n",
       "      <td>0.606496</td>\n",
       "      <td>0.530586</td>\n",
       "      <td>0.608524</td>\n",
       "      <td>0.275522</td>\n",
       "      <td>0.050680</td>\n",
       "      <td>0.010743</td>\n",
       "      <td>0.235584</td>\n",
       "      <td>0.595029</td>\n",
       "      <td>0.512294</td>\n",
       "      <td>0.430700</td>\n",
       "      <td>0.881478</td>\n",
       "      <td>0.578660</td>\n",
       "      <td>0.627375</td>\n",
       "      <td>0.311893</td>\n",
       "      <td>0.089674</td>\n",
       "      <td>0.013366</td>\n",
       "      <td>0.235584</td>\n",
       "      <td>0.583781</td>\n",
       "      <td>0.688837</td>\n",
       "      <td>0.585802</td>\n",
       "      <td>0.617902</td>\n",
       "      <td>0.601424</td>\n",
       "      <td>0.749646</td>\n",
       "      <td>0.199260</td>\n",
       "      <td>0.007783</td>\n",
       "      <td>0.044107</td>\n",
       "      <td>0.235584</td>\n",
       "      <td>0.675101</td>\n",
       "    </tr>\n",
       "    <tr>\n",
       "      <td>6000</td>\n",
       "      <td>0.523000</td>\n",
       "      <td>0.578823</td>\n",
       "      <td>0.685539</td>\n",
       "      <td>0.605271</td>\n",
       "      <td>0.495413</td>\n",
       "      <td>0.544860</td>\n",
       "      <td>0.741358</td>\n",
       "      <td>0.195608</td>\n",
       "      <td>0.000000</td>\n",
       "      <td>0.039977</td>\n",
       "      <td>0.235584</td>\n",
       "      <td>0.648724</td>\n",
       "      <td>0.592275</td>\n",
       "      <td>0.471564</td>\n",
       "      <td>0.606496</td>\n",
       "      <td>0.530586</td>\n",
       "      <td>0.608524</td>\n",
       "      <td>0.275522</td>\n",
       "      <td>0.050680</td>\n",
       "      <td>0.010743</td>\n",
       "      <td>0.235584</td>\n",
       "      <td>0.595029</td>\n",
       "      <td>0.512294</td>\n",
       "      <td>0.430700</td>\n",
       "      <td>0.881478</td>\n",
       "      <td>0.578660</td>\n",
       "      <td>0.627375</td>\n",
       "      <td>0.311893</td>\n",
       "      <td>0.089674</td>\n",
       "      <td>0.013366</td>\n",
       "      <td>0.235584</td>\n",
       "      <td>0.583781</td>\n",
       "      <td>0.697880</td>\n",
       "      <td>0.601077</td>\n",
       "      <td>0.608976</td>\n",
       "      <td>0.605001</td>\n",
       "      <td>0.756156</td>\n",
       "      <td>0.197422</td>\n",
       "      <td>0.008404</td>\n",
       "      <td>0.046566</td>\n",
       "      <td>0.235584</td>\n",
       "      <td>0.680665</td>\n",
       "    </tr>\n",
       "    <tr>\n",
       "      <td>6500</td>\n",
       "      <td>0.515500</td>\n",
       "      <td>0.574473</td>\n",
       "      <td>0.685539</td>\n",
       "      <td>0.605271</td>\n",
       "      <td>0.495413</td>\n",
       "      <td>0.544860</td>\n",
       "      <td>0.741358</td>\n",
       "      <td>0.195608</td>\n",
       "      <td>0.000000</td>\n",
       "      <td>0.039977</td>\n",
       "      <td>0.235584</td>\n",
       "      <td>0.648724</td>\n",
       "      <td>0.592275</td>\n",
       "      <td>0.471564</td>\n",
       "      <td>0.606496</td>\n",
       "      <td>0.530586</td>\n",
       "      <td>0.608524</td>\n",
       "      <td>0.275522</td>\n",
       "      <td>0.050680</td>\n",
       "      <td>0.010743</td>\n",
       "      <td>0.235584</td>\n",
       "      <td>0.595029</td>\n",
       "      <td>0.512294</td>\n",
       "      <td>0.430700</td>\n",
       "      <td>0.881478</td>\n",
       "      <td>0.578660</td>\n",
       "      <td>0.627375</td>\n",
       "      <td>0.311893</td>\n",
       "      <td>0.089674</td>\n",
       "      <td>0.013366</td>\n",
       "      <td>0.235584</td>\n",
       "      <td>0.583781</td>\n",
       "      <td>0.695996</td>\n",
       "      <td>0.600000</td>\n",
       "      <td>0.599554</td>\n",
       "      <td>0.599777</td>\n",
       "      <td>0.755816</td>\n",
       "      <td>0.195715</td>\n",
       "      <td>0.006785</td>\n",
       "      <td>0.046654</td>\n",
       "      <td>0.235584</td>\n",
       "      <td>0.677322</td>\n",
       "    </tr>\n",
       "    <tr>\n",
       "      <td>7000</td>\n",
       "      <td>0.487300</td>\n",
       "      <td>0.609530</td>\n",
       "      <td>0.685539</td>\n",
       "      <td>0.605271</td>\n",
       "      <td>0.495413</td>\n",
       "      <td>0.544860</td>\n",
       "      <td>0.741358</td>\n",
       "      <td>0.195608</td>\n",
       "      <td>0.000000</td>\n",
       "      <td>0.039977</td>\n",
       "      <td>0.235584</td>\n",
       "      <td>0.648724</td>\n",
       "      <td>0.592275</td>\n",
       "      <td>0.471564</td>\n",
       "      <td>0.606496</td>\n",
       "      <td>0.530586</td>\n",
       "      <td>0.608524</td>\n",
       "      <td>0.275522</td>\n",
       "      <td>0.050680</td>\n",
       "      <td>0.010743</td>\n",
       "      <td>0.235584</td>\n",
       "      <td>0.595029</td>\n",
       "      <td>0.512294</td>\n",
       "      <td>0.430700</td>\n",
       "      <td>0.881478</td>\n",
       "      <td>0.578660</td>\n",
       "      <td>0.627375</td>\n",
       "      <td>0.311893</td>\n",
       "      <td>0.089674</td>\n",
       "      <td>0.013366</td>\n",
       "      <td>0.235584</td>\n",
       "      <td>0.583781</td>\n",
       "      <td>0.692887</td>\n",
       "      <td>0.595645</td>\n",
       "      <td>0.596826</td>\n",
       "      <td>0.596235</td>\n",
       "      <td>0.747209</td>\n",
       "      <td>0.206913</td>\n",
       "      <td>0.014757</td>\n",
       "      <td>0.043428</td>\n",
       "      <td>0.235584</td>\n",
       "      <td>0.674287</td>\n",
       "    </tr>\n",
       "    <tr>\n",
       "      <td>7500</td>\n",
       "      <td>0.468900</td>\n",
       "      <td>0.619016</td>\n",
       "      <td>0.685539</td>\n",
       "      <td>0.605271</td>\n",
       "      <td>0.495413</td>\n",
       "      <td>0.544860</td>\n",
       "      <td>0.741358</td>\n",
       "      <td>0.195608</td>\n",
       "      <td>0.000000</td>\n",
       "      <td>0.039977</td>\n",
       "      <td>0.235584</td>\n",
       "      <td>0.648724</td>\n",
       "      <td>0.592275</td>\n",
       "      <td>0.471564</td>\n",
       "      <td>0.606496</td>\n",
       "      <td>0.530586</td>\n",
       "      <td>0.608524</td>\n",
       "      <td>0.275522</td>\n",
       "      <td>0.050680</td>\n",
       "      <td>0.010743</td>\n",
       "      <td>0.235584</td>\n",
       "      <td>0.595029</td>\n",
       "      <td>0.512294</td>\n",
       "      <td>0.430700</td>\n",
       "      <td>0.881478</td>\n",
       "      <td>0.578660</td>\n",
       "      <td>0.627375</td>\n",
       "      <td>0.311893</td>\n",
       "      <td>0.089674</td>\n",
       "      <td>0.013366</td>\n",
       "      <td>0.235584</td>\n",
       "      <td>0.583781</td>\n",
       "      <td>0.690155</td>\n",
       "      <td>0.591221</td>\n",
       "      <td>0.597818</td>\n",
       "      <td>0.594501</td>\n",
       "      <td>0.744990</td>\n",
       "      <td>0.209351</td>\n",
       "      <td>0.016479</td>\n",
       "      <td>0.042713</td>\n",
       "      <td>0.235584</td>\n",
       "      <td>0.672276</td>\n",
       "    </tr>\n",
       "  </tbody>\n",
       "</table><p>"
      ],
      "text/plain": [
       "<IPython.core.display.HTML object>"
      ]
     },
     "metadata": {},
     "output_type": "display_data"
    },
    {
     "name": "stderr",
     "output_type": "stream",
     "text": [
      "The following columns in the evaluation set don't have a corresponding argument in `DebertaV2ForSequenceClassification.forward` and have been ignored: text. If text are not expected by `DebertaV2ForSequenceClassification.forward`,  you can safely ignore this message.\n"
     ]
    },
    {
     "name": "stderr",
     "output_type": "stream",
     "text": [
      "***** Running Evaluation *****\n"
     ]
    },
    {
     "name": "stderr",
     "output_type": "stream",
     "text": [
      "  Num examples = 10615\n"
     ]
    },
    {
     "name": "stderr",
     "output_type": "stream",
     "text": [
      "  Batch size = 16\n"
     ]
    },
    {
     "name": "stderr",
     "output_type": "stream",
     "text": [
      "Saving model checkpoint to shot-influence/deberta-base-for-2-shots-t-right-bs16*2-2sh-instance-split-12141653/checkpoint-500\n"
     ]
    },
    {
     "name": "stderr",
     "output_type": "stream",
     "text": [
      "Configuration saved in shot-influence/deberta-base-for-2-shots-t-right-bs16*2-2sh-instance-split-12141653/checkpoint-500/config.json\n"
     ]
    },
    {
     "name": "stderr",
     "output_type": "stream",
     "text": [
      "Model weights saved in shot-influence/deberta-base-for-2-shots-t-right-bs16*2-2sh-instance-split-12141653/checkpoint-500/pytorch_model.bin\n"
     ]
    },
    {
     "name": "stderr",
     "output_type": "stream",
     "text": [
      "The following columns in the evaluation set don't have a corresponding argument in `DebertaV2ForSequenceClassification.forward` and have been ignored: text. If text are not expected by `DebertaV2ForSequenceClassification.forward`,  you can safely ignore this message.\n"
     ]
    },
    {
     "name": "stderr",
     "output_type": "stream",
     "text": [
      "***** Running Evaluation *****\n"
     ]
    },
    {
     "name": "stderr",
     "output_type": "stream",
     "text": [
      "  Num examples = 10615\n"
     ]
    },
    {
     "name": "stderr",
     "output_type": "stream",
     "text": [
      "  Batch size = 16\n"
     ]
    },
    {
     "name": "stderr",
     "output_type": "stream",
     "text": [
      "Saving model checkpoint to shot-influence/deberta-base-for-2-shots-t-right-bs16*2-2sh-instance-split-12141653/checkpoint-1000\n"
     ]
    },
    {
     "name": "stderr",
     "output_type": "stream",
     "text": [
      "Configuration saved in shot-influence/deberta-base-for-2-shots-t-right-bs16*2-2sh-instance-split-12141653/checkpoint-1000/config.json\n"
     ]
    },
    {
     "name": "stderr",
     "output_type": "stream",
     "text": [
      "Model weights saved in shot-influence/deberta-base-for-2-shots-t-right-bs16*2-2sh-instance-split-12141653/checkpoint-1000/pytorch_model.bin\n"
     ]
    },
    {
     "name": "stderr",
     "output_type": "stream",
     "text": [
      "Deleting older checkpoint [shot-influence/deberta-base-for-2-shots-t-right-bs16*2-2sh-instance-split-12141653/checkpoint-500] due to args.save_total_limit\n"
     ]
    },
    {
     "name": "stderr",
     "output_type": "stream",
     "text": [
      "The following columns in the evaluation set don't have a corresponding argument in `DebertaV2ForSequenceClassification.forward` and have been ignored: text. If text are not expected by `DebertaV2ForSequenceClassification.forward`,  you can safely ignore this message.\n"
     ]
    },
    {
     "name": "stderr",
     "output_type": "stream",
     "text": [
      "***** Running Evaluation *****\n"
     ]
    },
    {
     "name": "stderr",
     "output_type": "stream",
     "text": [
      "  Num examples = 10615\n"
     ]
    },
    {
     "name": "stderr",
     "output_type": "stream",
     "text": [
      "  Batch size = 16\n"
     ]
    },
    {
     "name": "stderr",
     "output_type": "stream",
     "text": [
      "Saving model checkpoint to shot-influence/deberta-base-for-2-shots-t-right-bs16*2-2sh-instance-split-12141653/checkpoint-1500\n"
     ]
    },
    {
     "name": "stderr",
     "output_type": "stream",
     "text": [
      "Configuration saved in shot-influence/deberta-base-for-2-shots-t-right-bs16*2-2sh-instance-split-12141653/checkpoint-1500/config.json\n"
     ]
    },
    {
     "name": "stderr",
     "output_type": "stream",
     "text": [
      "Model weights saved in shot-influence/deberta-base-for-2-shots-t-right-bs16*2-2sh-instance-split-12141653/checkpoint-1500/pytorch_model.bin\n"
     ]
    },
    {
     "name": "stderr",
     "output_type": "stream",
     "text": [
      "The following columns in the evaluation set don't have a corresponding argument in `DebertaV2ForSequenceClassification.forward` and have been ignored: text. If text are not expected by `DebertaV2ForSequenceClassification.forward`,  you can safely ignore this message.\n"
     ]
    },
    {
     "name": "stderr",
     "output_type": "stream",
     "text": [
      "***** Running Evaluation *****\n"
     ]
    },
    {
     "name": "stderr",
     "output_type": "stream",
     "text": [
      "  Num examples = 10615\n"
     ]
    },
    {
     "name": "stderr",
     "output_type": "stream",
     "text": [
      "  Batch size = 16\n"
     ]
    },
    {
     "name": "stderr",
     "output_type": "stream",
     "text": [
      "Saving model checkpoint to shot-influence/deberta-base-for-2-shots-t-right-bs16*2-2sh-instance-split-12141653/checkpoint-2000\n"
     ]
    },
    {
     "name": "stderr",
     "output_type": "stream",
     "text": [
      "Configuration saved in shot-influence/deberta-base-for-2-shots-t-right-bs16*2-2sh-instance-split-12141653/checkpoint-2000/config.json\n"
     ]
    },
    {
     "name": "stderr",
     "output_type": "stream",
     "text": [
      "Model weights saved in shot-influence/deberta-base-for-2-shots-t-right-bs16*2-2sh-instance-split-12141653/checkpoint-2000/pytorch_model.bin\n"
     ]
    },
    {
     "name": "stderr",
     "output_type": "stream",
     "text": [
      "Deleting older checkpoint [shot-influence/deberta-base-for-2-shots-t-right-bs16*2-2sh-instance-split-12141653/checkpoint-1500] due to args.save_total_limit\n"
     ]
    },
    {
     "name": "stderr",
     "output_type": "stream",
     "text": [
      "The following columns in the evaluation set don't have a corresponding argument in `DebertaV2ForSequenceClassification.forward` and have been ignored: text. If text are not expected by `DebertaV2ForSequenceClassification.forward`,  you can safely ignore this message.\n"
     ]
    },
    {
     "name": "stderr",
     "output_type": "stream",
     "text": [
      "***** Running Evaluation *****\n"
     ]
    },
    {
     "name": "stderr",
     "output_type": "stream",
     "text": [
      "  Num examples = 10615\n"
     ]
    },
    {
     "name": "stderr",
     "output_type": "stream",
     "text": [
      "  Batch size = 16\n"
     ]
    },
    {
     "name": "stderr",
     "output_type": "stream",
     "text": [
      "Saving model checkpoint to shot-influence/deberta-base-for-2-shots-t-right-bs16*2-2sh-instance-split-12141653/checkpoint-2500\n"
     ]
    },
    {
     "name": "stderr",
     "output_type": "stream",
     "text": [
      "Configuration saved in shot-influence/deberta-base-for-2-shots-t-right-bs16*2-2sh-instance-split-12141653/checkpoint-2500/config.json\n"
     ]
    },
    {
     "name": "stderr",
     "output_type": "stream",
     "text": [
      "Model weights saved in shot-influence/deberta-base-for-2-shots-t-right-bs16*2-2sh-instance-split-12141653/checkpoint-2500/pytorch_model.bin\n"
     ]
    },
    {
     "name": "stderr",
     "output_type": "stream",
     "text": [
      "Deleting older checkpoint [shot-influence/deberta-base-for-2-shots-t-right-bs16*2-2sh-instance-split-12141653/checkpoint-2000] due to args.save_total_limit\n"
     ]
    },
    {
     "name": "stderr",
     "output_type": "stream",
     "text": [
      "The following columns in the evaluation set don't have a corresponding argument in `DebertaV2ForSequenceClassification.forward` and have been ignored: text. If text are not expected by `DebertaV2ForSequenceClassification.forward`,  you can safely ignore this message.\n"
     ]
    },
    {
     "name": "stderr",
     "output_type": "stream",
     "text": [
      "***** Running Evaluation *****\n"
     ]
    },
    {
     "name": "stderr",
     "output_type": "stream",
     "text": [
      "  Num examples = 10615\n"
     ]
    },
    {
     "name": "stderr",
     "output_type": "stream",
     "text": [
      "  Batch size = 16\n"
     ]
    },
    {
     "name": "stderr",
     "output_type": "stream",
     "text": [
      "Saving model checkpoint to shot-influence/deberta-base-for-2-shots-t-right-bs16*2-2sh-instance-split-12141653/checkpoint-3000\n"
     ]
    },
    {
     "name": "stderr",
     "output_type": "stream",
     "text": [
      "Configuration saved in shot-influence/deberta-base-for-2-shots-t-right-bs16*2-2sh-instance-split-12141653/checkpoint-3000/config.json\n"
     ]
    },
    {
     "name": "stderr",
     "output_type": "stream",
     "text": [
      "Model weights saved in shot-influence/deberta-base-for-2-shots-t-right-bs16*2-2sh-instance-split-12141653/checkpoint-3000/pytorch_model.bin\n"
     ]
    },
    {
     "name": "stderr",
     "output_type": "stream",
     "text": [
      "Deleting older checkpoint [shot-influence/deberta-base-for-2-shots-t-right-bs16*2-2sh-instance-split-12141653/checkpoint-2500] due to args.save_total_limit\n"
     ]
    },
    {
     "name": "stderr",
     "output_type": "stream",
     "text": [
      "The following columns in the evaluation set don't have a corresponding argument in `DebertaV2ForSequenceClassification.forward` and have been ignored: text. If text are not expected by `DebertaV2ForSequenceClassification.forward`,  you can safely ignore this message.\n"
     ]
    },
    {
     "name": "stderr",
     "output_type": "stream",
     "text": [
      "***** Running Evaluation *****\n"
     ]
    },
    {
     "name": "stderr",
     "output_type": "stream",
     "text": [
      "  Num examples = 10615\n"
     ]
    },
    {
     "name": "stderr",
     "output_type": "stream",
     "text": [
      "  Batch size = 16\n"
     ]
    },
    {
     "name": "stderr",
     "output_type": "stream",
     "text": [
      "Saving model checkpoint to shot-influence/deberta-base-for-2-shots-t-right-bs16*2-2sh-instance-split-12141653/checkpoint-3500\n"
     ]
    },
    {
     "name": "stderr",
     "output_type": "stream",
     "text": [
      "Configuration saved in shot-influence/deberta-base-for-2-shots-t-right-bs16*2-2sh-instance-split-12141653/checkpoint-3500/config.json\n"
     ]
    },
    {
     "name": "stderr",
     "output_type": "stream",
     "text": [
      "Model weights saved in shot-influence/deberta-base-for-2-shots-t-right-bs16*2-2sh-instance-split-12141653/checkpoint-3500/pytorch_model.bin\n"
     ]
    },
    {
     "name": "stderr",
     "output_type": "stream",
     "text": [
      "Deleting older checkpoint [shot-influence/deberta-base-for-2-shots-t-right-bs16*2-2sh-instance-split-12141653/checkpoint-1000] due to args.save_total_limit\n"
     ]
    },
    {
     "name": "stderr",
     "output_type": "stream",
     "text": [
      "Deleting older checkpoint [shot-influence/deberta-base-for-2-shots-t-right-bs16*2-2sh-instance-split-12141653/checkpoint-3000] due to args.save_total_limit\n"
     ]
    },
    {
     "name": "stderr",
     "output_type": "stream",
     "text": [
      "The following columns in the evaluation set don't have a corresponding argument in `DebertaV2ForSequenceClassification.forward` and have been ignored: text. If text are not expected by `DebertaV2ForSequenceClassification.forward`,  you can safely ignore this message.\n"
     ]
    },
    {
     "name": "stderr",
     "output_type": "stream",
     "text": [
      "***** Running Evaluation *****\n"
     ]
    },
    {
     "name": "stderr",
     "output_type": "stream",
     "text": [
      "  Num examples = 10615\n"
     ]
    },
    {
     "name": "stderr",
     "output_type": "stream",
     "text": [
      "  Batch size = 16\n"
     ]
    },
    {
     "name": "stderr",
     "output_type": "stream",
     "text": [
      "Saving model checkpoint to shot-influence/deberta-base-for-2-shots-t-right-bs16*2-2sh-instance-split-12141653/checkpoint-4000\n"
     ]
    },
    {
     "name": "stderr",
     "output_type": "stream",
     "text": [
      "Configuration saved in shot-influence/deberta-base-for-2-shots-t-right-bs16*2-2sh-instance-split-12141653/checkpoint-4000/config.json\n"
     ]
    },
    {
     "name": "stderr",
     "output_type": "stream",
     "text": [
      "Model weights saved in shot-influence/deberta-base-for-2-shots-t-right-bs16*2-2sh-instance-split-12141653/checkpoint-4000/pytorch_model.bin\n"
     ]
    },
    {
     "name": "stderr",
     "output_type": "stream",
     "text": [
      "The following columns in the evaluation set don't have a corresponding argument in `DebertaV2ForSequenceClassification.forward` and have been ignored: text. If text are not expected by `DebertaV2ForSequenceClassification.forward`,  you can safely ignore this message.\n"
     ]
    },
    {
     "name": "stderr",
     "output_type": "stream",
     "text": [
      "***** Running Evaluation *****\n"
     ]
    },
    {
     "name": "stderr",
     "output_type": "stream",
     "text": [
      "  Num examples = 10615\n"
     ]
    },
    {
     "name": "stderr",
     "output_type": "stream",
     "text": [
      "  Batch size = 16\n"
     ]
    },
    {
     "name": "stderr",
     "output_type": "stream",
     "text": [
      "Saving model checkpoint to shot-influence/deberta-base-for-2-shots-t-right-bs16*2-2sh-instance-split-12141653/checkpoint-4500\n"
     ]
    },
    {
     "name": "stderr",
     "output_type": "stream",
     "text": [
      "Configuration saved in shot-influence/deberta-base-for-2-shots-t-right-bs16*2-2sh-instance-split-12141653/checkpoint-4500/config.json\n"
     ]
    },
    {
     "name": "stderr",
     "output_type": "stream",
     "text": [
      "Model weights saved in shot-influence/deberta-base-for-2-shots-t-right-bs16*2-2sh-instance-split-12141653/checkpoint-4500/pytorch_model.bin\n"
     ]
    },
    {
     "name": "stderr",
     "output_type": "stream",
     "text": [
      "Deleting older checkpoint [shot-influence/deberta-base-for-2-shots-t-right-bs16*2-2sh-instance-split-12141653/checkpoint-3500] due to args.save_total_limit\n"
     ]
    },
    {
     "name": "stderr",
     "output_type": "stream",
     "text": [
      "Deleting older checkpoint [shot-influence/deberta-base-for-2-shots-t-right-bs16*2-2sh-instance-split-12141653/checkpoint-4000] due to args.save_total_limit\n"
     ]
    },
    {
     "name": "stderr",
     "output_type": "stream",
     "text": [
      "The following columns in the evaluation set don't have a corresponding argument in `DebertaV2ForSequenceClassification.forward` and have been ignored: text. If text are not expected by `DebertaV2ForSequenceClassification.forward`,  you can safely ignore this message.\n"
     ]
    },
    {
     "name": "stderr",
     "output_type": "stream",
     "text": [
      "***** Running Evaluation *****\n"
     ]
    },
    {
     "name": "stderr",
     "output_type": "stream",
     "text": [
      "  Num examples = 10615\n"
     ]
    },
    {
     "name": "stderr",
     "output_type": "stream",
     "text": [
      "  Batch size = 16\n"
     ]
    },
    {
     "name": "stderr",
     "output_type": "stream",
     "text": [
      "Saving model checkpoint to shot-influence/deberta-base-for-2-shots-t-right-bs16*2-2sh-instance-split-12141653/checkpoint-5000\n"
     ]
    },
    {
     "name": "stderr",
     "output_type": "stream",
     "text": [
      "Configuration saved in shot-influence/deberta-base-for-2-shots-t-right-bs16*2-2sh-instance-split-12141653/checkpoint-5000/config.json\n"
     ]
    },
    {
     "name": "stderr",
     "output_type": "stream",
     "text": [
      "Model weights saved in shot-influence/deberta-base-for-2-shots-t-right-bs16*2-2sh-instance-split-12141653/checkpoint-5000/pytorch_model.bin\n"
     ]
    },
    {
     "name": "stderr",
     "output_type": "stream",
     "text": [
      "Deleting older checkpoint [shot-influence/deberta-base-for-2-shots-t-right-bs16*2-2sh-instance-split-12141653/checkpoint-4500] due to args.save_total_limit\n"
     ]
    },
    {
     "name": "stderr",
     "output_type": "stream",
     "text": [
      "The following columns in the evaluation set don't have a corresponding argument in `DebertaV2ForSequenceClassification.forward` and have been ignored: text. If text are not expected by `DebertaV2ForSequenceClassification.forward`,  you can safely ignore this message.\n"
     ]
    },
    {
     "name": "stderr",
     "output_type": "stream",
     "text": [
      "***** Running Evaluation *****\n"
     ]
    },
    {
     "name": "stderr",
     "output_type": "stream",
     "text": [
      "  Num examples = 10615\n"
     ]
    },
    {
     "name": "stderr",
     "output_type": "stream",
     "text": [
      "  Batch size = 16\n"
     ]
    },
    {
     "name": "stderr",
     "output_type": "stream",
     "text": [
      "Saving model checkpoint to shot-influence/deberta-base-for-2-shots-t-right-bs16*2-2sh-instance-split-12141653/checkpoint-5500\n"
     ]
    },
    {
     "name": "stderr",
     "output_type": "stream",
     "text": [
      "Configuration saved in shot-influence/deberta-base-for-2-shots-t-right-bs16*2-2sh-instance-split-12141653/checkpoint-5500/config.json\n"
     ]
    },
    {
     "name": "stderr",
     "output_type": "stream",
     "text": [
      "Model weights saved in shot-influence/deberta-base-for-2-shots-t-right-bs16*2-2sh-instance-split-12141653/checkpoint-5500/pytorch_model.bin\n"
     ]
    },
    {
     "name": "stderr",
     "output_type": "stream",
     "text": [
      "The following columns in the evaluation set don't have a corresponding argument in `DebertaV2ForSequenceClassification.forward` and have been ignored: text. If text are not expected by `DebertaV2ForSequenceClassification.forward`,  you can safely ignore this message.\n"
     ]
    },
    {
     "name": "stderr",
     "output_type": "stream",
     "text": [
      "***** Running Evaluation *****\n"
     ]
    },
    {
     "name": "stderr",
     "output_type": "stream",
     "text": [
      "  Num examples = 10615\n"
     ]
    },
    {
     "name": "stderr",
     "output_type": "stream",
     "text": [
      "  Batch size = 16\n"
     ]
    },
    {
     "name": "stderr",
     "output_type": "stream",
     "text": [
      "Saving model checkpoint to shot-influence/deberta-base-for-2-shots-t-right-bs16*2-2sh-instance-split-12141653/checkpoint-6000\n"
     ]
    },
    {
     "name": "stderr",
     "output_type": "stream",
     "text": [
      "Configuration saved in shot-influence/deberta-base-for-2-shots-t-right-bs16*2-2sh-instance-split-12141653/checkpoint-6000/config.json\n"
     ]
    },
    {
     "name": "stderr",
     "output_type": "stream",
     "text": [
      "Model weights saved in shot-influence/deberta-base-for-2-shots-t-right-bs16*2-2sh-instance-split-12141653/checkpoint-6000/pytorch_model.bin\n"
     ]
    },
    {
     "name": "stderr",
     "output_type": "stream",
     "text": [
      "Deleting older checkpoint [shot-influence/deberta-base-for-2-shots-t-right-bs16*2-2sh-instance-split-12141653/checkpoint-5500] due to args.save_total_limit\n"
     ]
    },
    {
     "name": "stderr",
     "output_type": "stream",
     "text": [
      "The following columns in the evaluation set don't have a corresponding argument in `DebertaV2ForSequenceClassification.forward` and have been ignored: text. If text are not expected by `DebertaV2ForSequenceClassification.forward`,  you can safely ignore this message.\n"
     ]
    },
    {
     "name": "stderr",
     "output_type": "stream",
     "text": [
      "***** Running Evaluation *****\n"
     ]
    },
    {
     "name": "stderr",
     "output_type": "stream",
     "text": [
      "  Num examples = 10615\n"
     ]
    },
    {
     "name": "stderr",
     "output_type": "stream",
     "text": [
      "  Batch size = 16\n"
     ]
    },
    {
     "name": "stderr",
     "output_type": "stream",
     "text": [
      "Saving model checkpoint to shot-influence/deberta-base-for-2-shots-t-right-bs16*2-2sh-instance-split-12141653/checkpoint-6500\n"
     ]
    },
    {
     "name": "stderr",
     "output_type": "stream",
     "text": [
      "Configuration saved in shot-influence/deberta-base-for-2-shots-t-right-bs16*2-2sh-instance-split-12141653/checkpoint-6500/config.json\n"
     ]
    },
    {
     "name": "stderr",
     "output_type": "stream",
     "text": [
      "Model weights saved in shot-influence/deberta-base-for-2-shots-t-right-bs16*2-2sh-instance-split-12141653/checkpoint-6500/pytorch_model.bin\n"
     ]
    },
    {
     "name": "stderr",
     "output_type": "stream",
     "text": [
      "Deleting older checkpoint [shot-influence/deberta-base-for-2-shots-t-right-bs16*2-2sh-instance-split-12141653/checkpoint-6000] due to args.save_total_limit\n"
     ]
    },
    {
     "name": "stderr",
     "output_type": "stream",
     "text": [
      "The following columns in the evaluation set don't have a corresponding argument in `DebertaV2ForSequenceClassification.forward` and have been ignored: text. If text are not expected by `DebertaV2ForSequenceClassification.forward`,  you can safely ignore this message.\n"
     ]
    },
    {
     "name": "stderr",
     "output_type": "stream",
     "text": [
      "***** Running Evaluation *****\n"
     ]
    },
    {
     "name": "stderr",
     "output_type": "stream",
     "text": [
      "  Num examples = 10615\n"
     ]
    },
    {
     "name": "stderr",
     "output_type": "stream",
     "text": [
      "  Batch size = 16\n"
     ]
    },
    {
     "name": "stderr",
     "output_type": "stream",
     "text": [
      "Saving model checkpoint to shot-influence/deberta-base-for-2-shots-t-right-bs16*2-2sh-instance-split-12141653/checkpoint-7000\n"
     ]
    },
    {
     "name": "stderr",
     "output_type": "stream",
     "text": [
      "Configuration saved in shot-influence/deberta-base-for-2-shots-t-right-bs16*2-2sh-instance-split-12141653/checkpoint-7000/config.json\n"
     ]
    },
    {
     "name": "stderr",
     "output_type": "stream",
     "text": [
      "Model weights saved in shot-influence/deberta-base-for-2-shots-t-right-bs16*2-2sh-instance-split-12141653/checkpoint-7000/pytorch_model.bin\n"
     ]
    },
    {
     "name": "stderr",
     "output_type": "stream",
     "text": [
      "Deleting older checkpoint [shot-influence/deberta-base-for-2-shots-t-right-bs16*2-2sh-instance-split-12141653/checkpoint-6500] due to args.save_total_limit\n"
     ]
    },
    {
     "name": "stderr",
     "output_type": "stream",
     "text": [
      "The following columns in the evaluation set don't have a corresponding argument in `DebertaV2ForSequenceClassification.forward` and have been ignored: text. If text are not expected by `DebertaV2ForSequenceClassification.forward`,  you can safely ignore this message.\n"
     ]
    },
    {
     "name": "stderr",
     "output_type": "stream",
     "text": [
      "***** Running Evaluation *****\n"
     ]
    },
    {
     "name": "stderr",
     "output_type": "stream",
     "text": [
      "  Num examples = 10615\n"
     ]
    },
    {
     "name": "stderr",
     "output_type": "stream",
     "text": [
      "  Batch size = 16\n"
     ]
    },
    {
     "name": "stderr",
     "output_type": "stream",
     "text": [
      "Saving model checkpoint to shot-influence/deberta-base-for-2-shots-t-right-bs16*2-2sh-instance-split-12141653/checkpoint-7500\n"
     ]
    },
    {
     "name": "stderr",
     "output_type": "stream",
     "text": [
      "Configuration saved in shot-influence/deberta-base-for-2-shots-t-right-bs16*2-2sh-instance-split-12141653/checkpoint-7500/config.json\n"
     ]
    },
    {
     "name": "stderr",
     "output_type": "stream",
     "text": [
      "Model weights saved in shot-influence/deberta-base-for-2-shots-t-right-bs16*2-2sh-instance-split-12141653/checkpoint-7500/pytorch_model.bin\n"
     ]
    },
    {
     "name": "stderr",
     "output_type": "stream",
     "text": [
      "Deleting older checkpoint [shot-influence/deberta-base-for-2-shots-t-right-bs16*2-2sh-instance-split-12141653/checkpoint-7000] due to args.save_total_limit\n"
     ]
    },
    {
     "name": "stderr",
     "output_type": "stream",
     "text": [
      "\n",
      "\n",
      "Training completed. Do not forget to share your model on huggingface.co/models =)\n",
      "\n",
      "\n"
     ]
    },
    {
     "name": "stderr",
     "output_type": "stream",
     "text": [
      "Loading best model from shot-influence/deberta-base-for-2-shots-t-right-bs16*2-2sh-instance-split-12141653/checkpoint-5000 (score: 0.5671710968017578).\n"
     ]
    },
    {
     "data": {
      "text/html": [
       "Waiting for W&B process to finish... <strong style=\"color:green\">(success).</strong>"
      ],
      "text/plain": [
       "<IPython.core.display.HTML object>"
      ]
     },
     "metadata": {},
     "output_type": "display_data"
    },
    {
     "data": {
      "application/vnd.jupyter.widget-view+json": {
       "model_id": "612f92727c4c40359e2db5b2da40b76f",
       "version_major": 2,
       "version_minor": 0
      },
      "text/plain": [
       "VBox(children=(Label(value='0.001 MB of 0.001 MB uploaded (0.000 MB deduped)\\r'), FloatProgress(value=1.0, max…"
      ]
     },
     "metadata": {},
     "output_type": "display_data"
    },
    {
     "data": {
      "text/html": [
       "<style>\n",
       "    table.wandb td:nth-child(1) { padding: 0 10px; text-align: left ; width: auto;} td:nth-child(2) {text-align: left ; width: 100%}\n",
       "    .wandb-row { display: flex; flex-direction: row; flex-wrap: wrap; justify-content: flex-start; width: 100% }\n",
       "    .wandb-col { display: flex; flex-direction: column; flex-basis: 100%; flex: 1; padding: 10px; }\n",
       "    </style>\n",
       "<div class=\"wandb-row\"><div class=\"wandb-col\"><h3>Run history:</h3><br/><table class=\"wandb\"><tr><td>eval/accuracy</td><td>▁▆▆▆▆▆▆▆▇█▇██▇▇</td></tr><tr><td>eval/balanced_accuracy</td><td>▁▇▆▇▇▇▆▅▇▆█████</td></tr><tr><td>eval/bs</td><td>█▅▄▄▄▅▃▄▃▁▃▃▂▇█</td></tr><tr><td>eval/bs_dsc</td><td>▁▃▄▄▄▄▅▅▅▇▇██▆▆</td></tr><tr><td>eval/bs_mcb</td><td>▃▁▁▂▂▃▁▂▁▁▄▄▃▇█</td></tr><tr><td>eval/bs_unc</td><td>▁▁▁▁▁▁▁▁▁▁▁▁▁▁▁</td></tr><tr><td>eval/conf_absolute_accuracy</td><td>▁▁▁▁▁▁▁▁▁▁▁▁▁▁▁</td></tr><tr><td>eval/conf_absolute_balanced_accuracy</td><td>▁▁▁▁▁▁▁▁▁▁▁▁▁▁▁</td></tr><tr><td>eval/conf_absolute_bs</td><td>▁▁▁▁▁▁▁▁▁▁▁▁▁▁▁</td></tr><tr><td>eval/conf_absolute_bs_dsc</td><td>▁▁▁▁▁▁▁▁▁▁▁▁▁▁▁</td></tr><tr><td>eval/conf_absolute_bs_mcb</td><td>▁▁▁▁▁▁▁▁▁▁▁▁▁▁▁</td></tr><tr><td>eval/conf_absolute_bs_unc</td><td>▁▁▁▁▁▁▁▁▁▁▁▁▁▁▁</td></tr><tr><td>eval/conf_absolute_f1</td><td>▁▁▁▁▁▁▁▁▁▁▁▁▁▁▁</td></tr><tr><td>eval/conf_absolute_precision</td><td>▁▁▁▁▁▁▁▁▁▁▁▁▁▁▁</td></tr><tr><td>eval/conf_absolute_recall</td><td>▁▁▁▁▁▁▁▁▁▁▁▁▁▁▁</td></tr><tr><td>eval/conf_absolute_roc_auc</td><td>▁▁▁▁▁▁▁▁▁▁▁▁▁▁▁</td></tr><tr><td>eval/conf_distribution_accuracy</td><td>▁▁▁▁▁▁▁▁▁▁▁▁▁▁▁</td></tr><tr><td>eval/conf_distribution_balanced_accuracy</td><td>▁▁▁▁▁▁▁▁▁▁▁▁▁▁▁</td></tr><tr><td>eval/conf_distribution_bs</td><td>▁▁▁▁▁▁▁▁▁▁▁▁▁▁▁</td></tr><tr><td>eval/conf_distribution_bs_dsc</td><td>▁▁▁▁▁▁▁▁▁▁▁▁▁▁▁</td></tr><tr><td>eval/conf_distribution_bs_mcb</td><td>▁▁▁▁▁▁▁▁▁▁▁▁▁▁▁</td></tr><tr><td>eval/conf_distribution_bs_unc</td><td>▁▁▁▁▁▁▁▁▁▁▁▁▁▁▁</td></tr><tr><td>eval/conf_distribution_f1</td><td>▁▁▁▁▁▁▁▁▁▁▁▁▁▁▁</td></tr><tr><td>eval/conf_distribution_precision</td><td>▁▁▁▁▁▁▁▁▁▁▁▁▁▁▁</td></tr><tr><td>eval/conf_distribution_recall</td><td>▁▁▁▁▁▁▁▁▁▁▁▁▁▁▁</td></tr><tr><td>eval/conf_distribution_roc_auc</td><td>▁▁▁▁▁▁▁▁▁▁▁▁▁▁▁</td></tr><tr><td>eval/conf_normalized_accuracy</td><td>▁▁▁▁▁▁▁▁▁▁▁▁▁▁▁</td></tr><tr><td>eval/conf_normalized_balanced_accuracy</td><td>▁▁▁▁▁▁▁▁▁▁▁▁▁▁▁</td></tr><tr><td>eval/conf_normalized_bs</td><td>▁▁▁▁▁▁▁▁▁▁▁▁▁▁▁</td></tr><tr><td>eval/conf_normalized_bs_dsc</td><td>▁▁▁▁▁▁▁▁▁▁▁▁▁▁▁</td></tr><tr><td>eval/conf_normalized_bs_mcb</td><td>▁▁▁▁▁▁▁▁▁▁▁▁▁▁▁</td></tr><tr><td>eval/conf_normalized_bs_unc</td><td>▁▁▁▁▁▁▁▁▁▁▁▁▁▁▁</td></tr><tr><td>eval/conf_normalized_f1</td><td>▁▁▁▁▁▁▁▁▁▁▁▁▁▁▁</td></tr><tr><td>eval/conf_normalized_precision</td><td>▁▁▁▁▁▁▁▁▁▁▁▁▁▁▁</td></tr><tr><td>eval/conf_normalized_recall</td><td>▁▁▁▁▁▁▁▁▁▁▁▁▁▁▁</td></tr><tr><td>eval/conf_normalized_roc_auc</td><td>▁▁▁▁▁▁▁▁▁▁▁▁▁▁▁</td></tr><tr><td>eval/f1</td><td>▁█▇▇▇█▇▆▇▇█████</td></tr><tr><td>eval/loss</td><td>▆▃▄▄▄▆▂▃▂▁▃▃▂▇█</td></tr><tr><td>eval/precision</td><td>▆▁▄▃▃▂▃▆▄█▃▄▄▃▃</td></tr><tr><td>eval/recall</td><td>▁█▆▇▇▇▆▅▇▆█████</td></tr><tr><td>eval/roc_auc</td><td>▁▃▄▄▄▄▅▅▅▇▇██▇▆</td></tr><tr><td>eval/runtime</td><td>▁▃▂█▅▅▆▃▄▃▅▅▇▅▅</td></tr><tr><td>eval/samples_per_second</td><td>█▆▇▁▄▄▃▆▅▆▄▄▂▄▄</td></tr><tr><td>eval/steps_per_second</td><td>█▆▇▁▄▄▃▆▅▆▄▄▂▄▄</td></tr><tr><td>train/epoch</td><td>▁▁▁▁▂▂▂▂▃▃▃▃▄▄▄▄▅▅▅▅▆▆▆▆▇▇▇▇███</td></tr><tr><td>train/global_step</td><td>▁▁▁▁▂▂▂▂▃▃▃▃▄▄▄▄▅▅▅▅▆▆▆▆▇▇▇▇███</td></tr><tr><td>train/learning_rate</td><td>▂▃▄▅▇█▇▆▆▅▄▃▃▂▁</td></tr><tr><td>train/loss</td><td>█▆▆▆▆▆▅▅▅▅▄▃▃▂▁</td></tr><tr><td>train/total_flos</td><td>▁</td></tr><tr><td>train/train_loss</td><td>▁</td></tr><tr><td>train/train_runtime</td><td>▁</td></tr><tr><td>train/train_samples_per_second</td><td>▁</td></tr><tr><td>train/train_steps_per_second</td><td>▁</td></tr></table><br/></div><div class=\"wandb-col\"><h3>Run summary:</h3><br/><table class=\"wandb\"><tr><td>eval/accuracy</td><td>0.69016</td></tr><tr><td>eval/balanced_accuracy</td><td>0.67228</td></tr><tr><td>eval/bs</td><td>0.20935</td></tr><tr><td>eval/bs_dsc</td><td>0.04271</td></tr><tr><td>eval/bs_mcb</td><td>0.01648</td></tr><tr><td>eval/bs_unc</td><td>0.23558</td></tr><tr><td>eval/conf_absolute_accuracy</td><td>0.59228</td></tr><tr><td>eval/conf_absolute_balanced_accuracy</td><td>0.59503</td></tr><tr><td>eval/conf_absolute_bs</td><td>0.27552</td></tr><tr><td>eval/conf_absolute_bs_dsc</td><td>0.01074</td></tr><tr><td>eval/conf_absolute_bs_mcb</td><td>0.05068</td></tr><tr><td>eval/conf_absolute_bs_unc</td><td>0.23558</td></tr><tr><td>eval/conf_absolute_f1</td><td>0.53059</td></tr><tr><td>eval/conf_absolute_precision</td><td>0.47156</td></tr><tr><td>eval/conf_absolute_recall</td><td>0.6065</td></tr><tr><td>eval/conf_absolute_roc_auc</td><td>0.60852</td></tr><tr><td>eval/conf_distribution_accuracy</td><td>0.68554</td></tr><tr><td>eval/conf_distribution_balanced_accuracy</td><td>0.64872</td></tr><tr><td>eval/conf_distribution_bs</td><td>0.19561</td></tr><tr><td>eval/conf_distribution_bs_dsc</td><td>0.03998</td></tr><tr><td>eval/conf_distribution_bs_mcb</td><td>0.0</td></tr><tr><td>eval/conf_distribution_bs_unc</td><td>0.23558</td></tr><tr><td>eval/conf_distribution_f1</td><td>0.54486</td></tr><tr><td>eval/conf_distribution_precision</td><td>0.60527</td></tr><tr><td>eval/conf_distribution_recall</td><td>0.49541</td></tr><tr><td>eval/conf_distribution_roc_auc</td><td>0.74136</td></tr><tr><td>eval/conf_normalized_accuracy</td><td>0.51229</td></tr><tr><td>eval/conf_normalized_balanced_accuracy</td><td>0.58378</td></tr><tr><td>eval/conf_normalized_bs</td><td>0.31189</td></tr><tr><td>eval/conf_normalized_bs_dsc</td><td>0.01337</td></tr><tr><td>eval/conf_normalized_bs_mcb</td><td>0.08967</td></tr><tr><td>eval/conf_normalized_bs_unc</td><td>0.23558</td></tr><tr><td>eval/conf_normalized_f1</td><td>0.57866</td></tr><tr><td>eval/conf_normalized_precision</td><td>0.4307</td></tr><tr><td>eval/conf_normalized_recall</td><td>0.88148</td></tr><tr><td>eval/conf_normalized_roc_auc</td><td>0.62737</td></tr><tr><td>eval/f1</td><td>0.5945</td></tr><tr><td>eval/loss</td><td>0.61902</td></tr><tr><td>eval/precision</td><td>0.59122</td></tr><tr><td>eval/recall</td><td>0.59782</td></tr><tr><td>eval/roc_auc</td><td>0.74499</td></tr><tr><td>eval/runtime</td><td>161.5926</td></tr><tr><td>eval/samples_per_second</td><td>65.69</td></tr><tr><td>eval/steps_per_second</td><td>4.109</td></tr><tr><td>train/epoch</td><td>6.0</td></tr><tr><td>train/global_step</td><td>7956</td></tr><tr><td>train/learning_rate</td><td>0.0</td></tr><tr><td>train/loss</td><td>0.4689</td></tr><tr><td>train/total_flos</td><td>6.697454156483789e+16</td></tr><tr><td>train/train_loss</td><td>0.55308</td></tr><tr><td>train/train_runtime</td><td>13217.4105</td></tr><tr><td>train/train_samples_per_second</td><td>19.258</td></tr><tr><td>train/train_steps_per_second</td><td>0.602</td></tr></table><br/></div></div>"
      ],
      "text/plain": [
       "<IPython.core.display.HTML object>"
      ]
     },
     "metadata": {},
     "output_type": "display_data"
    },
    {
     "data": {
      "text/html": [
       "Synced <strong style=\"color:#cdcd00\">deberta-base-for-2-shots-t-right-bs16*2-2sh-instance-split</strong>: <a href=\"https://wandb.ai/wschella/lass/runs/1asw12pa\" target=\"_blank\">https://wandb.ai/wschella/lass/runs/1asw12pa</a><br/>Synced 6 W&B file(s), 0 media file(s), 0 artifact file(s) and 0 other file(s)"
      ],
      "text/plain": [
       "<IPython.core.display.HTML object>"
      ]
     },
     "metadata": {},
     "output_type": "display_data"
    },
    {
     "data": {
      "text/html": [
       "Find logs at: <code>/tmp/wandb/run-20221214_165338-1asw12pa/logs</code>"
      ],
      "text/plain": [
       "<IPython.core.display.HTML object>"
      ]
     },
     "metadata": {},
     "output_type": "display_data"
    },
    {
     "name": "stdout",
     "output_type": "stream",
     "text": [
      "{'text': 'In what follows, we provide short narratives, each of which illustrates a common proverb. \\nNarrative: The anxiety about getting the injection made her unable to sleep that night, but the actual experience wasn\\'t as bad as she thought it would be.\\nThis narrative is a good illustration of the following proverb: Don\\'t meet troubles half-way\\n\\nNarrative: Inmate 76853 lay on the execution gurney ready to utter his last words before lethal drugs ended his life.  He looked through the mirror into the witness room and said to his family and his victim\\'s family: \"I killed Victoria.  It was wrong.  I can\\'t take it back.  I earned my punishment, and I accept it.\"  Inmate 76853 turned his head back to stare at the stark ceiling and paid his debt with his life.\\nThis narrative is a good illustration of the following proverb: The wages of sin is death\\n\\nNarrative: A father brought his son to the local airport for a show. They got up close to an plane in the show. The pilot arrives and turns on the engine. The plane makes a considerable roar, scaring the child. The child cowers behind the father as the father reassures the child that it is just a loud noise and it won\\'t hurt him.\\nThis narrative is a good illustration of the following proverb: ', 'label': 0}\n"
     ]
    },
    {
     "name": "stderr",
     "output_type": "stream",
     "text": [
      "loading configuration file https://huggingface.co/microsoft/deberta-v3-base/resolve/main/config.json from cache at /home/wout/.cache/huggingface/transformers/e6f9db57345f0f60c9f837fa97bcb27b1ed31e99feb33d732d7d8c80cb8f8459.de97182a9f32a68819030ba8f3f6ff2ba47276be3864425925523202f54cc79c\n"
     ]
    },
    {
     "name": "stderr",
     "output_type": "stream",
     "text": [
      "Model config DebertaV2Config {\n",
      "  \"_name_or_path\": \"microsoft/deberta-v3-base\",\n",
      "  \"attention_probs_dropout_prob\": 0.1,\n",
      "  \"hidden_act\": \"gelu\",\n",
      "  \"hidden_dropout_prob\": 0.1,\n",
      "  \"hidden_size\": 768,\n",
      "  \"initializer_range\": 0.02,\n",
      "  \"intermediate_size\": 3072,\n",
      "  \"layer_norm_eps\": 1e-07,\n",
      "  \"max_position_embeddings\": 512,\n",
      "  \"max_relative_positions\": -1,\n",
      "  \"model_type\": \"deberta-v2\",\n",
      "  \"norm_rel_ebd\": \"layer_norm\",\n",
      "  \"num_attention_heads\": 12,\n",
      "  \"num_hidden_layers\": 12,\n",
      "  \"pad_token_id\": 0,\n",
      "  \"pooler_dropout\": 0,\n",
      "  \"pooler_hidden_act\": \"gelu\",\n",
      "  \"pooler_hidden_size\": 768,\n",
      "  \"pos_att_type\": [\n",
      "    \"p2c\",\n",
      "    \"c2p\"\n",
      "  ],\n",
      "  \"position_biased_input\": false,\n",
      "  \"position_buckets\": 256,\n",
      "  \"relative_attention\": true,\n",
      "  \"share_att_key\": true,\n",
      "  \"transformers_version\": \"4.20.1\",\n",
      "  \"type_vocab_size\": 0,\n",
      "  \"vocab_size\": 128100\n",
      "}\n",
      "\n"
     ]
    },
    {
     "name": "stderr",
     "output_type": "stream",
     "text": [
      "loading file https://huggingface.co/microsoft/deberta-v3-base/resolve/main/spm.model from cache at /home/wout/.cache/huggingface/transformers/ec748fd4f03d0e5a2d5d56dff01e6dd733f23c67105cd54a9910f9d711870253.0abaeacf7287ee8ba758fec15ddfb4bb6c697bb1a8db272725f8aa633501787a\n"
     ]
    },
    {
     "name": "stderr",
     "output_type": "stream",
     "text": [
      "loading file https://huggingface.co/microsoft/deberta-v3-base/resolve/main/tokenizer.json from cache at None\n"
     ]
    },
    {
     "name": "stderr",
     "output_type": "stream",
     "text": [
      "loading file https://huggingface.co/microsoft/deberta-v3-base/resolve/main/added_tokens.json from cache at None\n"
     ]
    },
    {
     "name": "stderr",
     "output_type": "stream",
     "text": [
      "loading file https://huggingface.co/microsoft/deberta-v3-base/resolve/main/special_tokens_map.json from cache at None\n"
     ]
    },
    {
     "name": "stderr",
     "output_type": "stream",
     "text": [
      "loading file https://huggingface.co/microsoft/deberta-v3-base/resolve/main/tokenizer_config.json from cache at /home/wout/.cache/huggingface/transformers/967a4d63eb35950cfd24a9e335906419009f32940fa2ba1b73e7ba032628c38d.df5a7f41459442f66bec27ac9352bba694cde109855024b3ae61be2f5734ee9a\n"
     ]
    },
    {
     "name": "stderr",
     "output_type": "stream",
     "text": [
      "loading configuration file https://huggingface.co/microsoft/deberta-v3-base/resolve/main/config.json from cache at /home/wout/.cache/huggingface/transformers/e6f9db57345f0f60c9f837fa97bcb27b1ed31e99feb33d732d7d8c80cb8f8459.de97182a9f32a68819030ba8f3f6ff2ba47276be3864425925523202f54cc79c\n"
     ]
    },
    {
     "name": "stderr",
     "output_type": "stream",
     "text": [
      "Model config DebertaV2Config {\n",
      "  \"_name_or_path\": \"microsoft/deberta-v3-base\",\n",
      "  \"attention_probs_dropout_prob\": 0.1,\n",
      "  \"hidden_act\": \"gelu\",\n",
      "  \"hidden_dropout_prob\": 0.1,\n",
      "  \"hidden_size\": 768,\n",
      "  \"initializer_range\": 0.02,\n",
      "  \"intermediate_size\": 3072,\n",
      "  \"layer_norm_eps\": 1e-07,\n",
      "  \"max_position_embeddings\": 512,\n",
      "  \"max_relative_positions\": -1,\n",
      "  \"model_type\": \"deberta-v2\",\n",
      "  \"norm_rel_ebd\": \"layer_norm\",\n",
      "  \"num_attention_heads\": 12,\n",
      "  \"num_hidden_layers\": 12,\n",
      "  \"pad_token_id\": 0,\n",
      "  \"pooler_dropout\": 0,\n",
      "  \"pooler_hidden_act\": \"gelu\",\n",
      "  \"pooler_hidden_size\": 768,\n",
      "  \"pos_att_type\": [\n",
      "    \"p2c\",\n",
      "    \"c2p\"\n",
      "  ],\n",
      "  \"position_biased_input\": false,\n",
      "  \"position_buckets\": 256,\n",
      "  \"relative_attention\": true,\n",
      "  \"share_att_key\": true,\n",
      "  \"transformers_version\": \"4.20.1\",\n",
      "  \"type_vocab_size\": 0,\n",
      "  \"vocab_size\": 128100\n",
      "}\n",
      "\n"
     ]
    },
    {
     "name": "stderr",
     "output_type": "stream",
     "text": [
      "Adding [MASK] to the vocabulary\n"
     ]
    },
    {
     "name": "stderr",
     "output_type": "stream",
     "text": [
      "Special tokens have been added in the vocabulary, make sure the associated word embeddings are fine-tuned or trained.\n"
     ]
    },
    {
     "name": "stderr",
     "output_type": "stream",
     "text": [
      "loading configuration file https://huggingface.co/microsoft/deberta-v3-base/resolve/main/config.json from cache at /home/wout/.cache/huggingface/transformers/e6f9db57345f0f60c9f837fa97bcb27b1ed31e99feb33d732d7d8c80cb8f8459.de97182a9f32a68819030ba8f3f6ff2ba47276be3864425925523202f54cc79c\n"
     ]
    },
    {
     "name": "stderr",
     "output_type": "stream",
     "text": [
      "Model config DebertaV2Config {\n",
      "  \"_name_or_path\": \"microsoft/deberta-v3-base\",\n",
      "  \"attention_probs_dropout_prob\": 0.1,\n",
      "  \"hidden_act\": \"gelu\",\n",
      "  \"hidden_dropout_prob\": 0.1,\n",
      "  \"hidden_size\": 768,\n",
      "  \"initializer_range\": 0.02,\n",
      "  \"intermediate_size\": 3072,\n",
      "  \"layer_norm_eps\": 1e-07,\n",
      "  \"max_position_embeddings\": 512,\n",
      "  \"max_relative_positions\": -1,\n",
      "  \"model_type\": \"deberta-v2\",\n",
      "  \"norm_rel_ebd\": \"layer_norm\",\n",
      "  \"num_attention_heads\": 12,\n",
      "  \"num_hidden_layers\": 12,\n",
      "  \"pad_token_id\": 0,\n",
      "  \"pooler_dropout\": 0,\n",
      "  \"pooler_hidden_act\": \"gelu\",\n",
      "  \"pooler_hidden_size\": 768,\n",
      "  \"pos_att_type\": [\n",
      "    \"p2c\",\n",
      "    \"c2p\"\n",
      "  ],\n",
      "  \"position_biased_input\": false,\n",
      "  \"position_buckets\": 256,\n",
      "  \"relative_attention\": true,\n",
      "  \"share_att_key\": true,\n",
      "  \"transformers_version\": \"4.20.1\",\n",
      "  \"type_vocab_size\": 0,\n",
      "  \"vocab_size\": 128100\n",
      "}\n",
      "\n"
     ]
    },
    {
     "name": "stderr",
     "output_type": "stream",
     "text": [
      "/home/wout/pp/lass/.env/lib/python3.10/site-packages/transformers/convert_slow_tokenizer.py:434: UserWarning: The sentencepiece tokenizer that you are converting to a fast tokenizer uses the byte fallback option which is not implemented in the fast tokenizers. In practice this means that the fast version of the tokenizer can produce unknown tokens whereas the sentencepiece version would have converted these unknown tokens into a sequence of byte tokens matching the original piece of text.\n",
      "  warnings.warn(\n"
     ]
    },
    {
     "name": "stderr",
     "output_type": "stream",
     "text": [
      "Special tokens have been added in the vocabulary, make sure the associated word embeddings are fine-tuned or trained.\n"
     ]
    },
    {
     "data": {
      "application/vnd.jupyter.widget-view+json": {
       "model_id": "b5e7ba985ca94d95a6c569f8eea23fe9",
       "version_major": 2,
       "version_minor": 0
      },
      "text/plain": [
       "  0%|          | 0/43 [00:00<?, ?ba/s]"
      ]
     },
     "metadata": {},
     "output_type": "display_data"
    },
    {
     "data": {
      "application/vnd.jupyter.widget-view+json": {
       "model_id": "86ea1c16305245b5adf37dc1b30a0a65",
       "version_major": 2,
       "version_minor": 0
      },
      "text/plain": [
       "  0%|          | 0/11 [00:00<?, ?ba/s]"
      ]
     },
     "metadata": {},
     "output_type": "display_data"
    },
    {
     "name": "stderr",
     "output_type": "stream",
     "text": [
      "wandb: WARNING Path shot-influence/wandb/wandb/ wasn't writable, using system temp directory\n"
     ]
    },
    {
     "data": {
      "text/html": [
       "wandb version 0.13.6 is available!  To upgrade, please run:\n",
       " $ pip install wandb --upgrade"
      ],
      "text/plain": [
       "<IPython.core.display.HTML object>"
      ]
     },
     "metadata": {},
     "output_type": "display_data"
    },
    {
     "data": {
      "text/html": [
       "Tracking run with wandb version 0.12.20"
      ],
      "text/plain": [
       "<IPython.core.display.HTML object>"
      ]
     },
     "metadata": {},
     "output_type": "display_data"
    },
    {
     "data": {
      "text/html": [
       "Run data is saved locally in <code>/tmp/wandb/run-20221214_203506-3niamaq8</code>"
      ],
      "text/plain": [
       "<IPython.core.display.HTML object>"
      ]
     },
     "metadata": {},
     "output_type": "display_data"
    },
    {
     "data": {
      "text/html": [
       "Syncing run <strong><a href=\"https://wandb.ai/wschella/lass/runs/3niamaq8\" target=\"_blank\">deberta-base-for-2-shots-t-left-bs16*2-2sh-instance-split</a></strong> to <a href=\"https://wandb.ai/wschella/lass\" target=\"_blank\">Weights & Biases</a> (<a href=\"https://wandb.me/run\" target=\"_blank\">docs</a>)<br/>"
      ],
      "text/plain": [
       "<IPython.core.display.HTML object>"
      ]
     },
     "metadata": {},
     "output_type": "display_data"
    },
    {
     "name": "stderr",
     "output_type": "stream",
     "text": [
      "loading configuration file https://huggingface.co/microsoft/deberta-v3-base/resolve/main/config.json from cache at /home/wout/.cache/huggingface/transformers/e6f9db57345f0f60c9f837fa97bcb27b1ed31e99feb33d732d7d8c80cb8f8459.de97182a9f32a68819030ba8f3f6ff2ba47276be3864425925523202f54cc79c\n"
     ]
    },
    {
     "name": "stderr",
     "output_type": "stream",
     "text": [
      "Model config DebertaV2Config {\n",
      "  \"_name_or_path\": \"microsoft/deberta-v3-base\",\n",
      "  \"attention_probs_dropout_prob\": 0.1,\n",
      "  \"hidden_act\": \"gelu\",\n",
      "  \"hidden_dropout_prob\": 0.1,\n",
      "  \"hidden_size\": 768,\n",
      "  \"initializer_range\": 0.02,\n",
      "  \"intermediate_size\": 3072,\n",
      "  \"layer_norm_eps\": 1e-07,\n",
      "  \"max_position_embeddings\": 512,\n",
      "  \"max_relative_positions\": -1,\n",
      "  \"model_type\": \"deberta-v2\",\n",
      "  \"norm_rel_ebd\": \"layer_norm\",\n",
      "  \"num_attention_heads\": 12,\n",
      "  \"num_hidden_layers\": 12,\n",
      "  \"pad_token_id\": 0,\n",
      "  \"pooler_dropout\": 0,\n",
      "  \"pooler_hidden_act\": \"gelu\",\n",
      "  \"pooler_hidden_size\": 768,\n",
      "  \"pos_att_type\": [\n",
      "    \"p2c\",\n",
      "    \"c2p\"\n",
      "  ],\n",
      "  \"position_biased_input\": false,\n",
      "  \"position_buckets\": 256,\n",
      "  \"relative_attention\": true,\n",
      "  \"share_att_key\": true,\n",
      "  \"transformers_version\": \"4.20.1\",\n",
      "  \"type_vocab_size\": 0,\n",
      "  \"vocab_size\": 128100\n",
      "}\n",
      "\n"
     ]
    },
    {
     "name": "stderr",
     "output_type": "stream",
     "text": [
      "loading weights file https://huggingface.co/microsoft/deberta-v3-base/resolve/main/pytorch_model.bin from cache at /home/wout/.cache/huggingface/transformers/322954555e18d37b9f98196875590497a8b33244551ec195e00fcdb831878224.f80cec19a933132f8b9636fbb3b736b2f4b9c8deaa45dfe4dd6e40a4d9970f44\n"
     ]
    },
    {
     "name": "stderr",
     "output_type": "stream",
     "text": [
      "Some weights of the model checkpoint at microsoft/deberta-v3-base were not used when initializing DebertaV2ForSequenceClassification: ['mask_predictions.dense.weight', 'mask_predictions.classifier.bias', 'lm_predictions.lm_head.dense.weight', 'mask_predictions.dense.bias', 'mask_predictions.LayerNorm.weight', 'mask_predictions.LayerNorm.bias', 'lm_predictions.lm_head.LayerNorm.weight', 'lm_predictions.lm_head.LayerNorm.bias', 'lm_predictions.lm_head.dense.bias', 'mask_predictions.classifier.weight', 'lm_predictions.lm_head.bias']\n",
      "- This IS expected if you are initializing DebertaV2ForSequenceClassification from the checkpoint of a model trained on another task or with another architecture (e.g. initializing a BertForSequenceClassification model from a BertForPreTraining model).\n",
      "- This IS NOT expected if you are initializing DebertaV2ForSequenceClassification from the checkpoint of a model that you expect to be exactly identical (initializing a BertForSequenceClassification model from a BertForSequenceClassification model).\n"
     ]
    },
    {
     "name": "stderr",
     "output_type": "stream",
     "text": [
      "Some weights of DebertaV2ForSequenceClassification were not initialized from the model checkpoint at microsoft/deberta-v3-base and are newly initialized: ['classifier.weight', 'pooler.dense.bias', 'classifier.bias', 'pooler.dense.weight']\n",
      "You should probably TRAIN this model on a down-stream task to be able to use it for predictions and inference.\n"
     ]
    },
    {
     "name": "stderr",
     "output_type": "stream",
     "text": [
      "using `logging_steps` to initialize `eval_steps` to 500\n"
     ]
    },
    {
     "name": "stderr",
     "output_type": "stream",
     "text": [
      "PyTorch: setting up devices\n"
     ]
    },
    {
     "name": "stderr",
     "output_type": "stream",
     "text": [
      "The following columns in the training set don't have a corresponding argument in `DebertaV2ForSequenceClassification.forward` and have been ignored: text. If text are not expected by `DebertaV2ForSequenceClassification.forward`,  you can safely ignore this message.\n"
     ]
    },
    {
     "name": "stderr",
     "output_type": "stream",
     "text": [
      "***** Running training *****\n"
     ]
    },
    {
     "name": "stderr",
     "output_type": "stream",
     "text": [
      "  Num examples = 42424\n"
     ]
    },
    {
     "name": "stderr",
     "output_type": "stream",
     "text": [
      "  Num Epochs = 6\n"
     ]
    },
    {
     "name": "stderr",
     "output_type": "stream",
     "text": [
      "  Instantaneous batch size per device = 16\n"
     ]
    },
    {
     "name": "stderr",
     "output_type": "stream",
     "text": [
      "  Total train batch size (w. parallel, distributed & accumulation) = 32\n"
     ]
    },
    {
     "name": "stderr",
     "output_type": "stream",
     "text": [
      "  Gradient Accumulation steps = 2\n"
     ]
    },
    {
     "name": "stderr",
     "output_type": "stream",
     "text": [
      "  Total optimization steps = 7956\n"
     ]
    },
    {
     "name": "stderr",
     "output_type": "stream",
     "text": [
      "Automatic Weights & Biases logging enabled, to disable set os.environ[\"WANDB_DISABLED\"] = \"true\"\n"
     ]
    },
    {
     "data": {
      "text/html": [
       "\n",
       "    <div>\n",
       "      \n",
       "      <progress value='7956' max='7956' style='width:300px; height:20px; vertical-align: middle;'></progress>\n",
       "      [7956/7956 3:40:05, Epoch 6/6]\n",
       "    </div>\n",
       "    <table border=\"1\" class=\"dataframe\">\n",
       "  <thead>\n",
       " <tr style=\"text-align: left;\">\n",
       "      <th>Step</th>\n",
       "      <th>Training Loss</th>\n",
       "      <th>Validation Loss</th>\n",
       "      <th>Conf Distribution Accuracy</th>\n",
       "      <th>Conf Distribution Precision</th>\n",
       "      <th>Conf Distribution Recall</th>\n",
       "      <th>Conf Distribution F1</th>\n",
       "      <th>Conf Distribution Roc Auc</th>\n",
       "      <th>Conf Distribution Bs</th>\n",
       "      <th>Conf Distribution Bs Mcb</th>\n",
       "      <th>Conf Distribution Bs Dsc</th>\n",
       "      <th>Conf Distribution Bs Unc</th>\n",
       "      <th>Conf Distribution Balanced Accuracy</th>\n",
       "      <th>Conf Absolute Accuracy</th>\n",
       "      <th>Conf Absolute Precision</th>\n",
       "      <th>Conf Absolute Recall</th>\n",
       "      <th>Conf Absolute F1</th>\n",
       "      <th>Conf Absolute Roc Auc</th>\n",
       "      <th>Conf Absolute Bs</th>\n",
       "      <th>Conf Absolute Bs Mcb</th>\n",
       "      <th>Conf Absolute Bs Dsc</th>\n",
       "      <th>Conf Absolute Bs Unc</th>\n",
       "      <th>Conf Absolute Balanced Accuracy</th>\n",
       "      <th>Conf Normalized Accuracy</th>\n",
       "      <th>Conf Normalized Precision</th>\n",
       "      <th>Conf Normalized Recall</th>\n",
       "      <th>Conf Normalized F1</th>\n",
       "      <th>Conf Normalized Roc Auc</th>\n",
       "      <th>Conf Normalized Bs</th>\n",
       "      <th>Conf Normalized Bs Mcb</th>\n",
       "      <th>Conf Normalized Bs Dsc</th>\n",
       "      <th>Conf Normalized Bs Unc</th>\n",
       "      <th>Conf Normalized Balanced Accuracy</th>\n",
       "      <th>Accuracy</th>\n",
       "      <th>Precision</th>\n",
       "      <th>Recall</th>\n",
       "      <th>F1</th>\n",
       "      <th>Roc Auc</th>\n",
       "      <th>Bs</th>\n",
       "      <th>Bs Mcb</th>\n",
       "      <th>Bs Dsc</th>\n",
       "      <th>Bs Unc</th>\n",
       "      <th>Balanced Accuracy</th>\n",
       "    </tr>\n",
       "  </thead>\n",
       "  <tbody>\n",
       "    <tr>\n",
       "      <td>500</td>\n",
       "      <td>0.640300</td>\n",
       "      <td>0.599303</td>\n",
       "      <td>0.685539</td>\n",
       "      <td>0.605271</td>\n",
       "      <td>0.495413</td>\n",
       "      <td>0.544860</td>\n",
       "      <td>0.741358</td>\n",
       "      <td>0.195608</td>\n",
       "      <td>0.000000</td>\n",
       "      <td>0.039977</td>\n",
       "      <td>0.235584</td>\n",
       "      <td>0.648724</td>\n",
       "      <td>0.592275</td>\n",
       "      <td>0.471564</td>\n",
       "      <td>0.606496</td>\n",
       "      <td>0.530586</td>\n",
       "      <td>0.608524</td>\n",
       "      <td>0.275522</td>\n",
       "      <td>0.050680</td>\n",
       "      <td>0.010743</td>\n",
       "      <td>0.235584</td>\n",
       "      <td>0.595029</td>\n",
       "      <td>0.512294</td>\n",
       "      <td>0.430700</td>\n",
       "      <td>0.881478</td>\n",
       "      <td>0.578660</td>\n",
       "      <td>0.627375</td>\n",
       "      <td>0.311893</td>\n",
       "      <td>0.089674</td>\n",
       "      <td>0.013366</td>\n",
       "      <td>0.235584</td>\n",
       "      <td>0.583781</td>\n",
       "      <td>0.671503</td>\n",
       "      <td>0.594268</td>\n",
       "      <td>0.426729</td>\n",
       "      <td>0.496753</td>\n",
       "      <td>0.719416</td>\n",
       "      <td>0.207466</td>\n",
       "      <td>0.005417</td>\n",
       "      <td>0.033535</td>\n",
       "      <td>0.235584</td>\n",
       "      <td>0.624106</td>\n",
       "    </tr>\n",
       "    <tr>\n",
       "      <td>1000</td>\n",
       "      <td>0.592800</td>\n",
       "      <td>0.585226</td>\n",
       "      <td>0.685539</td>\n",
       "      <td>0.605271</td>\n",
       "      <td>0.495413</td>\n",
       "      <td>0.544860</td>\n",
       "      <td>0.741358</td>\n",
       "      <td>0.195608</td>\n",
       "      <td>0.000000</td>\n",
       "      <td>0.039977</td>\n",
       "      <td>0.235584</td>\n",
       "      <td>0.648724</td>\n",
       "      <td>0.592275</td>\n",
       "      <td>0.471564</td>\n",
       "      <td>0.606496</td>\n",
       "      <td>0.530586</td>\n",
       "      <td>0.608524</td>\n",
       "      <td>0.275522</td>\n",
       "      <td>0.050680</td>\n",
       "      <td>0.010743</td>\n",
       "      <td>0.235584</td>\n",
       "      <td>0.595029</td>\n",
       "      <td>0.512294</td>\n",
       "      <td>0.430700</td>\n",
       "      <td>0.881478</td>\n",
       "      <td>0.578660</td>\n",
       "      <td>0.627375</td>\n",
       "      <td>0.311893</td>\n",
       "      <td>0.089674</td>\n",
       "      <td>0.013366</td>\n",
       "      <td>0.235584</td>\n",
       "      <td>0.583781</td>\n",
       "      <td>0.673481</td>\n",
       "      <td>0.565068</td>\n",
       "      <td>0.610464</td>\n",
       "      <td>0.586889</td>\n",
       "      <td>0.728200</td>\n",
       "      <td>0.201523</td>\n",
       "      <td>0.002317</td>\n",
       "      <td>0.036378</td>\n",
       "      <td>0.235584</td>\n",
       "      <td>0.661279</td>\n",
       "    </tr>\n",
       "    <tr>\n",
       "      <td>1500</td>\n",
       "      <td>0.584700</td>\n",
       "      <td>0.587660</td>\n",
       "      <td>0.685539</td>\n",
       "      <td>0.605271</td>\n",
       "      <td>0.495413</td>\n",
       "      <td>0.544860</td>\n",
       "      <td>0.741358</td>\n",
       "      <td>0.195608</td>\n",
       "      <td>0.000000</td>\n",
       "      <td>0.039977</td>\n",
       "      <td>0.235584</td>\n",
       "      <td>0.648724</td>\n",
       "      <td>0.592275</td>\n",
       "      <td>0.471564</td>\n",
       "      <td>0.606496</td>\n",
       "      <td>0.530586</td>\n",
       "      <td>0.608524</td>\n",
       "      <td>0.275522</td>\n",
       "      <td>0.050680</td>\n",
       "      <td>0.010743</td>\n",
       "      <td>0.235584</td>\n",
       "      <td>0.595029</td>\n",
       "      <td>0.512294</td>\n",
       "      <td>0.430700</td>\n",
       "      <td>0.881478</td>\n",
       "      <td>0.578660</td>\n",
       "      <td>0.627375</td>\n",
       "      <td>0.311893</td>\n",
       "      <td>0.089674</td>\n",
       "      <td>0.013366</td>\n",
       "      <td>0.235584</td>\n",
       "      <td>0.583781</td>\n",
       "      <td>0.678851</td>\n",
       "      <td>0.592968</td>\n",
       "      <td>0.493429</td>\n",
       "      <td>0.538639</td>\n",
       "      <td>0.730466</td>\n",
       "      <td>0.201576</td>\n",
       "      <td>0.003736</td>\n",
       "      <td>0.037744</td>\n",
       "      <td>0.235584</td>\n",
       "      <td>0.642947</td>\n",
       "    </tr>\n",
       "    <tr>\n",
       "      <td>2000</td>\n",
       "      <td>0.586300</td>\n",
       "      <td>0.583179</td>\n",
       "      <td>0.685539</td>\n",
       "      <td>0.605271</td>\n",
       "      <td>0.495413</td>\n",
       "      <td>0.544860</td>\n",
       "      <td>0.741358</td>\n",
       "      <td>0.195608</td>\n",
       "      <td>0.000000</td>\n",
       "      <td>0.039977</td>\n",
       "      <td>0.235584</td>\n",
       "      <td>0.648724</td>\n",
       "      <td>0.592275</td>\n",
       "      <td>0.471564</td>\n",
       "      <td>0.606496</td>\n",
       "      <td>0.530586</td>\n",
       "      <td>0.608524</td>\n",
       "      <td>0.275522</td>\n",
       "      <td>0.050680</td>\n",
       "      <td>0.010743</td>\n",
       "      <td>0.235584</td>\n",
       "      <td>0.595029</td>\n",
       "      <td>0.512294</td>\n",
       "      <td>0.430700</td>\n",
       "      <td>0.881478</td>\n",
       "      <td>0.578660</td>\n",
       "      <td>0.627375</td>\n",
       "      <td>0.311893</td>\n",
       "      <td>0.089674</td>\n",
       "      <td>0.013366</td>\n",
       "      <td>0.235584</td>\n",
       "      <td>0.583781</td>\n",
       "      <td>0.682431</td>\n",
       "      <td>0.587105</td>\n",
       "      <td>0.553186</td>\n",
       "      <td>0.569641</td>\n",
       "      <td>0.733166</td>\n",
       "      <td>0.199975</td>\n",
       "      <td>0.002926</td>\n",
       "      <td>0.038535</td>\n",
       "      <td>0.235584</td>\n",
       "      <td>0.657404</td>\n",
       "    </tr>\n",
       "    <tr>\n",
       "      <td>2500</td>\n",
       "      <td>0.581400</td>\n",
       "      <td>0.585054</td>\n",
       "      <td>0.685539</td>\n",
       "      <td>0.605271</td>\n",
       "      <td>0.495413</td>\n",
       "      <td>0.544860</td>\n",
       "      <td>0.741358</td>\n",
       "      <td>0.195608</td>\n",
       "      <td>0.000000</td>\n",
       "      <td>0.039977</td>\n",
       "      <td>0.235584</td>\n",
       "      <td>0.648724</td>\n",
       "      <td>0.592275</td>\n",
       "      <td>0.471564</td>\n",
       "      <td>0.606496</td>\n",
       "      <td>0.530586</td>\n",
       "      <td>0.608524</td>\n",
       "      <td>0.275522</td>\n",
       "      <td>0.050680</td>\n",
       "      <td>0.010743</td>\n",
       "      <td>0.235584</td>\n",
       "      <td>0.595029</td>\n",
       "      <td>0.512294</td>\n",
       "      <td>0.430700</td>\n",
       "      <td>0.881478</td>\n",
       "      <td>0.578660</td>\n",
       "      <td>0.627375</td>\n",
       "      <td>0.311893</td>\n",
       "      <td>0.089674</td>\n",
       "      <td>0.013366</td>\n",
       "      <td>0.235584</td>\n",
       "      <td>0.583781</td>\n",
       "      <td>0.685539</td>\n",
       "      <td>0.597585</td>\n",
       "      <td>0.527647</td>\n",
       "      <td>0.560442</td>\n",
       "      <td>0.737767</td>\n",
       "      <td>0.198948</td>\n",
       "      <td>0.003686</td>\n",
       "      <td>0.040323</td>\n",
       "      <td>0.235584</td>\n",
       "      <td>0.654966</td>\n",
       "    </tr>\n",
       "    <tr>\n",
       "      <td>3000</td>\n",
       "      <td>0.581300</td>\n",
       "      <td>0.594363</td>\n",
       "      <td>0.685539</td>\n",
       "      <td>0.605271</td>\n",
       "      <td>0.495413</td>\n",
       "      <td>0.544860</td>\n",
       "      <td>0.741358</td>\n",
       "      <td>0.195608</td>\n",
       "      <td>0.000000</td>\n",
       "      <td>0.039977</td>\n",
       "      <td>0.235584</td>\n",
       "      <td>0.648724</td>\n",
       "      <td>0.592275</td>\n",
       "      <td>0.471564</td>\n",
       "      <td>0.606496</td>\n",
       "      <td>0.530586</td>\n",
       "      <td>0.608524</td>\n",
       "      <td>0.275522</td>\n",
       "      <td>0.050680</td>\n",
       "      <td>0.010743</td>\n",
       "      <td>0.235584</td>\n",
       "      <td>0.595029</td>\n",
       "      <td>0.512294</td>\n",
       "      <td>0.430700</td>\n",
       "      <td>0.881478</td>\n",
       "      <td>0.578660</td>\n",
       "      <td>0.627375</td>\n",
       "      <td>0.311893</td>\n",
       "      <td>0.089674</td>\n",
       "      <td>0.013366</td>\n",
       "      <td>0.235584</td>\n",
       "      <td>0.583781</td>\n",
       "      <td>0.683278</td>\n",
       "      <td>0.580052</td>\n",
       "      <td>0.602777</td>\n",
       "      <td>0.591196</td>\n",
       "      <td>0.735735</td>\n",
       "      <td>0.200176</td>\n",
       "      <td>0.004340</td>\n",
       "      <td>0.039748</td>\n",
       "      <td>0.235584</td>\n",
       "      <td>0.667691</td>\n",
       "    </tr>\n",
       "    <tr>\n",
       "      <td>3500</td>\n",
       "      <td>0.567700</td>\n",
       "      <td>0.569620</td>\n",
       "      <td>0.685539</td>\n",
       "      <td>0.605271</td>\n",
       "      <td>0.495413</td>\n",
       "      <td>0.544860</td>\n",
       "      <td>0.741358</td>\n",
       "      <td>0.195608</td>\n",
       "      <td>0.000000</td>\n",
       "      <td>0.039977</td>\n",
       "      <td>0.235584</td>\n",
       "      <td>0.648724</td>\n",
       "      <td>0.592275</td>\n",
       "      <td>0.471564</td>\n",
       "      <td>0.606496</td>\n",
       "      <td>0.530586</td>\n",
       "      <td>0.608524</td>\n",
       "      <td>0.275522</td>\n",
       "      <td>0.050680</td>\n",
       "      <td>0.010743</td>\n",
       "      <td>0.235584</td>\n",
       "      <td>0.595029</td>\n",
       "      <td>0.512294</td>\n",
       "      <td>0.430700</td>\n",
       "      <td>0.881478</td>\n",
       "      <td>0.578660</td>\n",
       "      <td>0.627375</td>\n",
       "      <td>0.311893</td>\n",
       "      <td>0.089674</td>\n",
       "      <td>0.013366</td>\n",
       "      <td>0.235584</td>\n",
       "      <td>0.583781</td>\n",
       "      <td>0.687518</td>\n",
       "      <td>0.610290</td>\n",
       "      <td>0.491198</td>\n",
       "      <td>0.544306</td>\n",
       "      <td>0.746329</td>\n",
       "      <td>0.194619</td>\n",
       "      <td>0.002623</td>\n",
       "      <td>0.043588</td>\n",
       "      <td>0.235584</td>\n",
       "      <td>0.649503</td>\n",
       "    </tr>\n",
       "    <tr>\n",
       "      <td>4000</td>\n",
       "      <td>0.564200</td>\n",
       "      <td>0.569542</td>\n",
       "      <td>0.685539</td>\n",
       "      <td>0.605271</td>\n",
       "      <td>0.495413</td>\n",
       "      <td>0.544860</td>\n",
       "      <td>0.741358</td>\n",
       "      <td>0.195608</td>\n",
       "      <td>0.000000</td>\n",
       "      <td>0.039977</td>\n",
       "      <td>0.235584</td>\n",
       "      <td>0.648724</td>\n",
       "      <td>0.592275</td>\n",
       "      <td>0.471564</td>\n",
       "      <td>0.606496</td>\n",
       "      <td>0.530586</td>\n",
       "      <td>0.608524</td>\n",
       "      <td>0.275522</td>\n",
       "      <td>0.050680</td>\n",
       "      <td>0.010743</td>\n",
       "      <td>0.235584</td>\n",
       "      <td>0.595029</td>\n",
       "      <td>0.512294</td>\n",
       "      <td>0.430700</td>\n",
       "      <td>0.881478</td>\n",
       "      <td>0.578660</td>\n",
       "      <td>0.627375</td>\n",
       "      <td>0.311893</td>\n",
       "      <td>0.089674</td>\n",
       "      <td>0.013366</td>\n",
       "      <td>0.235584</td>\n",
       "      <td>0.583781</td>\n",
       "      <td>0.694206</td>\n",
       "      <td>0.615701</td>\n",
       "      <td>0.519216</td>\n",
       "      <td>0.563358</td>\n",
       "      <td>0.751620</td>\n",
       "      <td>0.193848</td>\n",
       "      <td>0.003191</td>\n",
       "      <td>0.044927</td>\n",
       "      <td>0.235584</td>\n",
       "      <td>0.660322</td>\n",
       "    </tr>\n",
       "    <tr>\n",
       "      <td>4500</td>\n",
       "      <td>0.551200</td>\n",
       "      <td>0.558228</td>\n",
       "      <td>0.685539</td>\n",
       "      <td>0.605271</td>\n",
       "      <td>0.495413</td>\n",
       "      <td>0.544860</td>\n",
       "      <td>0.741358</td>\n",
       "      <td>0.195608</td>\n",
       "      <td>0.000000</td>\n",
       "      <td>0.039977</td>\n",
       "      <td>0.235584</td>\n",
       "      <td>0.648724</td>\n",
       "      <td>0.592275</td>\n",
       "      <td>0.471564</td>\n",
       "      <td>0.606496</td>\n",
       "      <td>0.530586</td>\n",
       "      <td>0.608524</td>\n",
       "      <td>0.275522</td>\n",
       "      <td>0.050680</td>\n",
       "      <td>0.010743</td>\n",
       "      <td>0.235584</td>\n",
       "      <td>0.595029</td>\n",
       "      <td>0.512294</td>\n",
       "      <td>0.430700</td>\n",
       "      <td>0.881478</td>\n",
       "      <td>0.578660</td>\n",
       "      <td>0.627375</td>\n",
       "      <td>0.311893</td>\n",
       "      <td>0.089674</td>\n",
       "      <td>0.013366</td>\n",
       "      <td>0.235584</td>\n",
       "      <td>0.583781</td>\n",
       "      <td>0.700707</td>\n",
       "      <td>0.610651</td>\n",
       "      <td>0.585668</td>\n",
       "      <td>0.597899</td>\n",
       "      <td>0.758011</td>\n",
       "      <td>0.189754</td>\n",
       "      <td>0.001576</td>\n",
       "      <td>0.047406</td>\n",
       "      <td>0.235584</td>\n",
       "      <td>0.678431</td>\n",
       "    </tr>\n",
       "    <tr>\n",
       "      <td>5000</td>\n",
       "      <td>0.546100</td>\n",
       "      <td>0.561541</td>\n",
       "      <td>0.685539</td>\n",
       "      <td>0.605271</td>\n",
       "      <td>0.495413</td>\n",
       "      <td>0.544860</td>\n",
       "      <td>0.741358</td>\n",
       "      <td>0.195608</td>\n",
       "      <td>0.000000</td>\n",
       "      <td>0.039977</td>\n",
       "      <td>0.235584</td>\n",
       "      <td>0.648724</td>\n",
       "      <td>0.592275</td>\n",
       "      <td>0.471564</td>\n",
       "      <td>0.606496</td>\n",
       "      <td>0.530586</td>\n",
       "      <td>0.608524</td>\n",
       "      <td>0.275522</td>\n",
       "      <td>0.050680</td>\n",
       "      <td>0.010743</td>\n",
       "      <td>0.235584</td>\n",
       "      <td>0.595029</td>\n",
       "      <td>0.512294</td>\n",
       "      <td>0.430700</td>\n",
       "      <td>0.881478</td>\n",
       "      <td>0.578660</td>\n",
       "      <td>0.627375</td>\n",
       "      <td>0.311893</td>\n",
       "      <td>0.089674</td>\n",
       "      <td>0.013366</td>\n",
       "      <td>0.235584</td>\n",
       "      <td>0.583781</td>\n",
       "      <td>0.699764</td>\n",
       "      <td>0.646977</td>\n",
       "      <td>0.461691</td>\n",
       "      <td>0.538851</td>\n",
       "      <td>0.758176</td>\n",
       "      <td>0.191339</td>\n",
       "      <td>0.002755</td>\n",
       "      <td>0.047000</td>\n",
       "      <td>0.235584</td>\n",
       "      <td>0.653665</td>\n",
       "    </tr>\n",
       "    <tr>\n",
       "      <td>5500</td>\n",
       "      <td>0.528400</td>\n",
       "      <td>0.584127</td>\n",
       "      <td>0.685539</td>\n",
       "      <td>0.605271</td>\n",
       "      <td>0.495413</td>\n",
       "      <td>0.544860</td>\n",
       "      <td>0.741358</td>\n",
       "      <td>0.195608</td>\n",
       "      <td>0.000000</td>\n",
       "      <td>0.039977</td>\n",
       "      <td>0.235584</td>\n",
       "      <td>0.648724</td>\n",
       "      <td>0.592275</td>\n",
       "      <td>0.471564</td>\n",
       "      <td>0.606496</td>\n",
       "      <td>0.530586</td>\n",
       "      <td>0.608524</td>\n",
       "      <td>0.275522</td>\n",
       "      <td>0.050680</td>\n",
       "      <td>0.010743</td>\n",
       "      <td>0.235584</td>\n",
       "      <td>0.595029</td>\n",
       "      <td>0.512294</td>\n",
       "      <td>0.430700</td>\n",
       "      <td>0.881478</td>\n",
       "      <td>0.578660</td>\n",
       "      <td>0.627375</td>\n",
       "      <td>0.311893</td>\n",
       "      <td>0.089674</td>\n",
       "      <td>0.013366</td>\n",
       "      <td>0.235584</td>\n",
       "      <td>0.583781</td>\n",
       "      <td>0.690815</td>\n",
       "      <td>0.583911</td>\n",
       "      <td>0.647905</td>\n",
       "      <td>0.614245</td>\n",
       "      <td>0.758300</td>\n",
       "      <td>0.198353</td>\n",
       "      <td>0.010254</td>\n",
       "      <td>0.047485</td>\n",
       "      <td>0.235584</td>\n",
       "      <td>0.682506</td>\n",
       "    </tr>\n",
       "    <tr>\n",
       "      <td>6000</td>\n",
       "      <td>0.499200</td>\n",
       "      <td>0.590751</td>\n",
       "      <td>0.685539</td>\n",
       "      <td>0.605271</td>\n",
       "      <td>0.495413</td>\n",
       "      <td>0.544860</td>\n",
       "      <td>0.741358</td>\n",
       "      <td>0.195608</td>\n",
       "      <td>0.000000</td>\n",
       "      <td>0.039977</td>\n",
       "      <td>0.235584</td>\n",
       "      <td>0.648724</td>\n",
       "      <td>0.592275</td>\n",
       "      <td>0.471564</td>\n",
       "      <td>0.606496</td>\n",
       "      <td>0.530586</td>\n",
       "      <td>0.608524</td>\n",
       "      <td>0.275522</td>\n",
       "      <td>0.050680</td>\n",
       "      <td>0.010743</td>\n",
       "      <td>0.235584</td>\n",
       "      <td>0.595029</td>\n",
       "      <td>0.512294</td>\n",
       "      <td>0.430700</td>\n",
       "      <td>0.881478</td>\n",
       "      <td>0.578660</td>\n",
       "      <td>0.627375</td>\n",
       "      <td>0.311893</td>\n",
       "      <td>0.089674</td>\n",
       "      <td>0.013366</td>\n",
       "      <td>0.235584</td>\n",
       "      <td>0.583781</td>\n",
       "      <td>0.694583</td>\n",
       "      <td>0.593477</td>\n",
       "      <td>0.622613</td>\n",
       "      <td>0.607696</td>\n",
       "      <td>0.760756</td>\n",
       "      <td>0.200523</td>\n",
       "      <td>0.013335</td>\n",
       "      <td>0.048395</td>\n",
       "      <td>0.235584</td>\n",
       "      <td>0.680647</td>\n",
       "    </tr>\n",
       "    <tr>\n",
       "      <td>6500</td>\n",
       "      <td>0.494600</td>\n",
       "      <td>0.579768</td>\n",
       "      <td>0.685539</td>\n",
       "      <td>0.605271</td>\n",
       "      <td>0.495413</td>\n",
       "      <td>0.544860</td>\n",
       "      <td>0.741358</td>\n",
       "      <td>0.195608</td>\n",
       "      <td>0.000000</td>\n",
       "      <td>0.039977</td>\n",
       "      <td>0.235584</td>\n",
       "      <td>0.648724</td>\n",
       "      <td>0.592275</td>\n",
       "      <td>0.471564</td>\n",
       "      <td>0.606496</td>\n",
       "      <td>0.530586</td>\n",
       "      <td>0.608524</td>\n",
       "      <td>0.275522</td>\n",
       "      <td>0.050680</td>\n",
       "      <td>0.010743</td>\n",
       "      <td>0.235584</td>\n",
       "      <td>0.595029</td>\n",
       "      <td>0.512294</td>\n",
       "      <td>0.430700</td>\n",
       "      <td>0.881478</td>\n",
       "      <td>0.578660</td>\n",
       "      <td>0.627375</td>\n",
       "      <td>0.311893</td>\n",
       "      <td>0.089674</td>\n",
       "      <td>0.013366</td>\n",
       "      <td>0.235584</td>\n",
       "      <td>0.583781</td>\n",
       "      <td>0.699482</td>\n",
       "      <td>0.615070</td>\n",
       "      <td>0.558641</td>\n",
       "      <td>0.585499</td>\n",
       "      <td>0.757917</td>\n",
       "      <td>0.196777</td>\n",
       "      <td>0.008410</td>\n",
       "      <td>0.047216</td>\n",
       "      <td>0.235584</td>\n",
       "      <td>0.672210</td>\n",
       "    </tr>\n",
       "    <tr>\n",
       "      <td>7000</td>\n",
       "      <td>0.454700</td>\n",
       "      <td>0.637043</td>\n",
       "      <td>0.685539</td>\n",
       "      <td>0.605271</td>\n",
       "      <td>0.495413</td>\n",
       "      <td>0.544860</td>\n",
       "      <td>0.741358</td>\n",
       "      <td>0.195608</td>\n",
       "      <td>0.000000</td>\n",
       "      <td>0.039977</td>\n",
       "      <td>0.235584</td>\n",
       "      <td>0.648724</td>\n",
       "      <td>0.592275</td>\n",
       "      <td>0.471564</td>\n",
       "      <td>0.606496</td>\n",
       "      <td>0.530586</td>\n",
       "      <td>0.608524</td>\n",
       "      <td>0.275522</td>\n",
       "      <td>0.050680</td>\n",
       "      <td>0.010743</td>\n",
       "      <td>0.235584</td>\n",
       "      <td>0.595029</td>\n",
       "      <td>0.512294</td>\n",
       "      <td>0.430700</td>\n",
       "      <td>0.881478</td>\n",
       "      <td>0.578660</td>\n",
       "      <td>0.627375</td>\n",
       "      <td>0.311893</td>\n",
       "      <td>0.089674</td>\n",
       "      <td>0.013366</td>\n",
       "      <td>0.235584</td>\n",
       "      <td>0.583781</td>\n",
       "      <td>0.687047</td>\n",
       "      <td>0.591177</td>\n",
       "      <td>0.571535</td>\n",
       "      <td>0.581190</td>\n",
       "      <td>0.744335</td>\n",
       "      <td>0.213636</td>\n",
       "      <td>0.020938</td>\n",
       "      <td>0.042886</td>\n",
       "      <td>0.235584</td>\n",
       "      <td>0.664680</td>\n",
       "    </tr>\n",
       "    <tr>\n",
       "      <td>7500</td>\n",
       "      <td>0.441000</td>\n",
       "      <td>0.643930</td>\n",
       "      <td>0.685539</td>\n",
       "      <td>0.605271</td>\n",
       "      <td>0.495413</td>\n",
       "      <td>0.544860</td>\n",
       "      <td>0.741358</td>\n",
       "      <td>0.195608</td>\n",
       "      <td>0.000000</td>\n",
       "      <td>0.039977</td>\n",
       "      <td>0.235584</td>\n",
       "      <td>0.648724</td>\n",
       "      <td>0.592275</td>\n",
       "      <td>0.471564</td>\n",
       "      <td>0.606496</td>\n",
       "      <td>0.530586</td>\n",
       "      <td>0.608524</td>\n",
       "      <td>0.275522</td>\n",
       "      <td>0.050680</td>\n",
       "      <td>0.010743</td>\n",
       "      <td>0.235584</td>\n",
       "      <td>0.595029</td>\n",
       "      <td>0.512294</td>\n",
       "      <td>0.430700</td>\n",
       "      <td>0.881478</td>\n",
       "      <td>0.578660</td>\n",
       "      <td>0.627375</td>\n",
       "      <td>0.311893</td>\n",
       "      <td>0.089674</td>\n",
       "      <td>0.013366</td>\n",
       "      <td>0.235584</td>\n",
       "      <td>0.583781</td>\n",
       "      <td>0.689873</td>\n",
       "      <td>0.592648</td>\n",
       "      <td>0.587652</td>\n",
       "      <td>0.590139</td>\n",
       "      <td>0.746007</td>\n",
       "      <td>0.214411</td>\n",
       "      <td>0.021884</td>\n",
       "      <td>0.043057</td>\n",
       "      <td>0.235584</td>\n",
       "      <td>0.670079</td>\n",
       "    </tr>\n",
       "  </tbody>\n",
       "</table><p>"
      ],
      "text/plain": [
       "<IPython.core.display.HTML object>"
      ]
     },
     "metadata": {},
     "output_type": "display_data"
    },
    {
     "name": "stderr",
     "output_type": "stream",
     "text": [
      "The following columns in the evaluation set don't have a corresponding argument in `DebertaV2ForSequenceClassification.forward` and have been ignored: text. If text are not expected by `DebertaV2ForSequenceClassification.forward`,  you can safely ignore this message.\n"
     ]
    },
    {
     "name": "stderr",
     "output_type": "stream",
     "text": [
      "***** Running Evaluation *****\n"
     ]
    },
    {
     "name": "stderr",
     "output_type": "stream",
     "text": [
      "  Num examples = 10615\n"
     ]
    },
    {
     "name": "stderr",
     "output_type": "stream",
     "text": [
      "  Batch size = 16\n"
     ]
    },
    {
     "name": "stderr",
     "output_type": "stream",
     "text": [
      "Saving model checkpoint to shot-influence/deberta-base-for-2-shots-t-left-bs16*2-2sh-instance-split-12142035/checkpoint-500\n"
     ]
    },
    {
     "name": "stderr",
     "output_type": "stream",
     "text": [
      "Configuration saved in shot-influence/deberta-base-for-2-shots-t-left-bs16*2-2sh-instance-split-12142035/checkpoint-500/config.json\n"
     ]
    },
    {
     "name": "stderr",
     "output_type": "stream",
     "text": [
      "Model weights saved in shot-influence/deberta-base-for-2-shots-t-left-bs16*2-2sh-instance-split-12142035/checkpoint-500/pytorch_model.bin\n"
     ]
    },
    {
     "name": "stderr",
     "output_type": "stream",
     "text": [
      "The following columns in the evaluation set don't have a corresponding argument in `DebertaV2ForSequenceClassification.forward` and have been ignored: text. If text are not expected by `DebertaV2ForSequenceClassification.forward`,  you can safely ignore this message.\n"
     ]
    },
    {
     "name": "stderr",
     "output_type": "stream",
     "text": [
      "***** Running Evaluation *****\n"
     ]
    },
    {
     "name": "stderr",
     "output_type": "stream",
     "text": [
      "  Num examples = 10615\n"
     ]
    },
    {
     "name": "stderr",
     "output_type": "stream",
     "text": [
      "  Batch size = 16\n"
     ]
    },
    {
     "name": "stderr",
     "output_type": "stream",
     "text": [
      "Saving model checkpoint to shot-influence/deberta-base-for-2-shots-t-left-bs16*2-2sh-instance-split-12142035/checkpoint-1000\n"
     ]
    },
    {
     "name": "stderr",
     "output_type": "stream",
     "text": [
      "Configuration saved in shot-influence/deberta-base-for-2-shots-t-left-bs16*2-2sh-instance-split-12142035/checkpoint-1000/config.json\n"
     ]
    },
    {
     "name": "stderr",
     "output_type": "stream",
     "text": [
      "Model weights saved in shot-influence/deberta-base-for-2-shots-t-left-bs16*2-2sh-instance-split-12142035/checkpoint-1000/pytorch_model.bin\n"
     ]
    },
    {
     "name": "stderr",
     "output_type": "stream",
     "text": [
      "Deleting older checkpoint [shot-influence/deberta-base-for-2-shots-t-left-bs16*2-2sh-instance-split-12142035/checkpoint-500] due to args.save_total_limit\n"
     ]
    },
    {
     "name": "stderr",
     "output_type": "stream",
     "text": [
      "The following columns in the evaluation set don't have a corresponding argument in `DebertaV2ForSequenceClassification.forward` and have been ignored: text. If text are not expected by `DebertaV2ForSequenceClassification.forward`,  you can safely ignore this message.\n"
     ]
    },
    {
     "name": "stderr",
     "output_type": "stream",
     "text": [
      "***** Running Evaluation *****\n"
     ]
    },
    {
     "name": "stderr",
     "output_type": "stream",
     "text": [
      "  Num examples = 10615\n"
     ]
    },
    {
     "name": "stderr",
     "output_type": "stream",
     "text": [
      "  Batch size = 16\n"
     ]
    },
    {
     "name": "stderr",
     "output_type": "stream",
     "text": [
      "Saving model checkpoint to shot-influence/deberta-base-for-2-shots-t-left-bs16*2-2sh-instance-split-12142035/checkpoint-1500\n"
     ]
    },
    {
     "name": "stderr",
     "output_type": "stream",
     "text": [
      "Configuration saved in shot-influence/deberta-base-for-2-shots-t-left-bs16*2-2sh-instance-split-12142035/checkpoint-1500/config.json\n"
     ]
    },
    {
     "name": "stderr",
     "output_type": "stream",
     "text": [
      "Model weights saved in shot-influence/deberta-base-for-2-shots-t-left-bs16*2-2sh-instance-split-12142035/checkpoint-1500/pytorch_model.bin\n"
     ]
    },
    {
     "name": "stderr",
     "output_type": "stream",
     "text": [
      "The following columns in the evaluation set don't have a corresponding argument in `DebertaV2ForSequenceClassification.forward` and have been ignored: text. If text are not expected by `DebertaV2ForSequenceClassification.forward`,  you can safely ignore this message.\n"
     ]
    },
    {
     "name": "stderr",
     "output_type": "stream",
     "text": [
      "***** Running Evaluation *****\n"
     ]
    },
    {
     "name": "stderr",
     "output_type": "stream",
     "text": [
      "  Num examples = 10615\n"
     ]
    },
    {
     "name": "stderr",
     "output_type": "stream",
     "text": [
      "  Batch size = 16\n"
     ]
    },
    {
     "name": "stderr",
     "output_type": "stream",
     "text": [
      "Saving model checkpoint to shot-influence/deberta-base-for-2-shots-t-left-bs16*2-2sh-instance-split-12142035/checkpoint-2000\n"
     ]
    },
    {
     "name": "stderr",
     "output_type": "stream",
     "text": [
      "Configuration saved in shot-influence/deberta-base-for-2-shots-t-left-bs16*2-2sh-instance-split-12142035/checkpoint-2000/config.json\n"
     ]
    },
    {
     "name": "stderr",
     "output_type": "stream",
     "text": [
      "Model weights saved in shot-influence/deberta-base-for-2-shots-t-left-bs16*2-2sh-instance-split-12142035/checkpoint-2000/pytorch_model.bin\n"
     ]
    },
    {
     "name": "stderr",
     "output_type": "stream",
     "text": [
      "Deleting older checkpoint [shot-influence/deberta-base-for-2-shots-t-left-bs16*2-2sh-instance-split-12142035/checkpoint-1000] due to args.save_total_limit\n"
     ]
    },
    {
     "name": "stderr",
     "output_type": "stream",
     "text": [
      "Deleting older checkpoint [shot-influence/deberta-base-for-2-shots-t-left-bs16*2-2sh-instance-split-12142035/checkpoint-1500] due to args.save_total_limit\n"
     ]
    },
    {
     "name": "stderr",
     "output_type": "stream",
     "text": [
      "The following columns in the evaluation set don't have a corresponding argument in `DebertaV2ForSequenceClassification.forward` and have been ignored: text. If text are not expected by `DebertaV2ForSequenceClassification.forward`,  you can safely ignore this message.\n"
     ]
    },
    {
     "name": "stderr",
     "output_type": "stream",
     "text": [
      "***** Running Evaluation *****\n"
     ]
    },
    {
     "name": "stderr",
     "output_type": "stream",
     "text": [
      "  Num examples = 10615\n"
     ]
    },
    {
     "name": "stderr",
     "output_type": "stream",
     "text": [
      "  Batch size = 16\n"
     ]
    },
    {
     "name": "stderr",
     "output_type": "stream",
     "text": [
      "Saving model checkpoint to shot-influence/deberta-base-for-2-shots-t-left-bs16*2-2sh-instance-split-12142035/checkpoint-2500\n"
     ]
    },
    {
     "name": "stderr",
     "output_type": "stream",
     "text": [
      "Configuration saved in shot-influence/deberta-base-for-2-shots-t-left-bs16*2-2sh-instance-split-12142035/checkpoint-2500/config.json\n"
     ]
    },
    {
     "name": "stderr",
     "output_type": "stream",
     "text": [
      "Model weights saved in shot-influence/deberta-base-for-2-shots-t-left-bs16*2-2sh-instance-split-12142035/checkpoint-2500/pytorch_model.bin\n"
     ]
    },
    {
     "name": "stderr",
     "output_type": "stream",
     "text": [
      "The following columns in the evaluation set don't have a corresponding argument in `DebertaV2ForSequenceClassification.forward` and have been ignored: text. If text are not expected by `DebertaV2ForSequenceClassification.forward`,  you can safely ignore this message.\n"
     ]
    },
    {
     "name": "stderr",
     "output_type": "stream",
     "text": [
      "***** Running Evaluation *****\n"
     ]
    },
    {
     "name": "stderr",
     "output_type": "stream",
     "text": [
      "  Num examples = 10615\n"
     ]
    },
    {
     "name": "stderr",
     "output_type": "stream",
     "text": [
      "  Batch size = 16\n"
     ]
    },
    {
     "name": "stderr",
     "output_type": "stream",
     "text": [
      "Saving model checkpoint to shot-influence/deberta-base-for-2-shots-t-left-bs16*2-2sh-instance-split-12142035/checkpoint-3000\n"
     ]
    },
    {
     "name": "stderr",
     "output_type": "stream",
     "text": [
      "Configuration saved in shot-influence/deberta-base-for-2-shots-t-left-bs16*2-2sh-instance-split-12142035/checkpoint-3000/config.json\n"
     ]
    },
    {
     "name": "stderr",
     "output_type": "stream",
     "text": [
      "Model weights saved in shot-influence/deberta-base-for-2-shots-t-left-bs16*2-2sh-instance-split-12142035/checkpoint-3000/pytorch_model.bin\n"
     ]
    },
    {
     "name": "stderr",
     "output_type": "stream",
     "text": [
      "Deleting older checkpoint [shot-influence/deberta-base-for-2-shots-t-left-bs16*2-2sh-instance-split-12142035/checkpoint-2500] due to args.save_total_limit\n"
     ]
    },
    {
     "name": "stderr",
     "output_type": "stream",
     "text": [
      "The following columns in the evaluation set don't have a corresponding argument in `DebertaV2ForSequenceClassification.forward` and have been ignored: text. If text are not expected by `DebertaV2ForSequenceClassification.forward`,  you can safely ignore this message.\n"
     ]
    },
    {
     "name": "stderr",
     "output_type": "stream",
     "text": [
      "***** Running Evaluation *****\n"
     ]
    },
    {
     "name": "stderr",
     "output_type": "stream",
     "text": [
      "  Num examples = 10615\n"
     ]
    },
    {
     "name": "stderr",
     "output_type": "stream",
     "text": [
      "  Batch size = 16\n"
     ]
    },
    {
     "name": "stderr",
     "output_type": "stream",
     "text": [
      "Saving model checkpoint to shot-influence/deberta-base-for-2-shots-t-left-bs16*2-2sh-instance-split-12142035/checkpoint-3500\n"
     ]
    },
    {
     "name": "stderr",
     "output_type": "stream",
     "text": [
      "Configuration saved in shot-influence/deberta-base-for-2-shots-t-left-bs16*2-2sh-instance-split-12142035/checkpoint-3500/config.json\n"
     ]
    },
    {
     "name": "stderr",
     "output_type": "stream",
     "text": [
      "Model weights saved in shot-influence/deberta-base-for-2-shots-t-left-bs16*2-2sh-instance-split-12142035/checkpoint-3500/pytorch_model.bin\n"
     ]
    },
    {
     "name": "stderr",
     "output_type": "stream",
     "text": [
      "Deleting older checkpoint [shot-influence/deberta-base-for-2-shots-t-left-bs16*2-2sh-instance-split-12142035/checkpoint-2000] due to args.save_total_limit\n"
     ]
    },
    {
     "name": "stderr",
     "output_type": "stream",
     "text": [
      "Deleting older checkpoint [shot-influence/deberta-base-for-2-shots-t-left-bs16*2-2sh-instance-split-12142035/checkpoint-3000] due to args.save_total_limit\n"
     ]
    },
    {
     "name": "stderr",
     "output_type": "stream",
     "text": [
      "The following columns in the evaluation set don't have a corresponding argument in `DebertaV2ForSequenceClassification.forward` and have been ignored: text. If text are not expected by `DebertaV2ForSequenceClassification.forward`,  you can safely ignore this message.\n"
     ]
    },
    {
     "name": "stderr",
     "output_type": "stream",
     "text": [
      "***** Running Evaluation *****\n"
     ]
    },
    {
     "name": "stderr",
     "output_type": "stream",
     "text": [
      "  Num examples = 10615\n"
     ]
    },
    {
     "name": "stderr",
     "output_type": "stream",
     "text": [
      "  Batch size = 16\n"
     ]
    },
    {
     "name": "stderr",
     "output_type": "stream",
     "text": [
      "Saving model checkpoint to shot-influence/deberta-base-for-2-shots-t-left-bs16*2-2sh-instance-split-12142035/checkpoint-4000\n"
     ]
    },
    {
     "name": "stderr",
     "output_type": "stream",
     "text": [
      "Configuration saved in shot-influence/deberta-base-for-2-shots-t-left-bs16*2-2sh-instance-split-12142035/checkpoint-4000/config.json\n"
     ]
    },
    {
     "name": "stderr",
     "output_type": "stream",
     "text": [
      "Model weights saved in shot-influence/deberta-base-for-2-shots-t-left-bs16*2-2sh-instance-split-12142035/checkpoint-4000/pytorch_model.bin\n"
     ]
    },
    {
     "name": "stderr",
     "output_type": "stream",
     "text": [
      "Deleting older checkpoint [shot-influence/deberta-base-for-2-shots-t-left-bs16*2-2sh-instance-split-12142035/checkpoint-3500] due to args.save_total_limit\n"
     ]
    },
    {
     "name": "stderr",
     "output_type": "stream",
     "text": [
      "The following columns in the evaluation set don't have a corresponding argument in `DebertaV2ForSequenceClassification.forward` and have been ignored: text. If text are not expected by `DebertaV2ForSequenceClassification.forward`,  you can safely ignore this message.\n"
     ]
    },
    {
     "name": "stderr",
     "output_type": "stream",
     "text": [
      "***** Running Evaluation *****\n"
     ]
    },
    {
     "name": "stderr",
     "output_type": "stream",
     "text": [
      "  Num examples = 10615\n"
     ]
    },
    {
     "name": "stderr",
     "output_type": "stream",
     "text": [
      "  Batch size = 16\n"
     ]
    },
    {
     "name": "stderr",
     "output_type": "stream",
     "text": [
      "Saving model checkpoint to shot-influence/deberta-base-for-2-shots-t-left-bs16*2-2sh-instance-split-12142035/checkpoint-4500\n"
     ]
    },
    {
     "name": "stderr",
     "output_type": "stream",
     "text": [
      "Configuration saved in shot-influence/deberta-base-for-2-shots-t-left-bs16*2-2sh-instance-split-12142035/checkpoint-4500/config.json\n"
     ]
    },
    {
     "name": "stderr",
     "output_type": "stream",
     "text": [
      "Model weights saved in shot-influence/deberta-base-for-2-shots-t-left-bs16*2-2sh-instance-split-12142035/checkpoint-4500/pytorch_model.bin\n"
     ]
    },
    {
     "name": "stderr",
     "output_type": "stream",
     "text": [
      "Deleting older checkpoint [shot-influence/deberta-base-for-2-shots-t-left-bs16*2-2sh-instance-split-12142035/checkpoint-4000] due to args.save_total_limit\n"
     ]
    },
    {
     "name": "stderr",
     "output_type": "stream",
     "text": [
      "The following columns in the evaluation set don't have a corresponding argument in `DebertaV2ForSequenceClassification.forward` and have been ignored: text. If text are not expected by `DebertaV2ForSequenceClassification.forward`,  you can safely ignore this message.\n"
     ]
    },
    {
     "name": "stderr",
     "output_type": "stream",
     "text": [
      "***** Running Evaluation *****\n"
     ]
    },
    {
     "name": "stderr",
     "output_type": "stream",
     "text": [
      "  Num examples = 10615\n"
     ]
    },
    {
     "name": "stderr",
     "output_type": "stream",
     "text": [
      "  Batch size = 16\n"
     ]
    },
    {
     "name": "stderr",
     "output_type": "stream",
     "text": [
      "Saving model checkpoint to shot-influence/deberta-base-for-2-shots-t-left-bs16*2-2sh-instance-split-12142035/checkpoint-5000\n"
     ]
    },
    {
     "name": "stderr",
     "output_type": "stream",
     "text": [
      "Configuration saved in shot-influence/deberta-base-for-2-shots-t-left-bs16*2-2sh-instance-split-12142035/checkpoint-5000/config.json\n"
     ]
    },
    {
     "name": "stderr",
     "output_type": "stream",
     "text": [
      "Model weights saved in shot-influence/deberta-base-for-2-shots-t-left-bs16*2-2sh-instance-split-12142035/checkpoint-5000/pytorch_model.bin\n"
     ]
    },
    {
     "name": "stderr",
     "output_type": "stream",
     "text": [
      "The following columns in the evaluation set don't have a corresponding argument in `DebertaV2ForSequenceClassification.forward` and have been ignored: text. If text are not expected by `DebertaV2ForSequenceClassification.forward`,  you can safely ignore this message.\n"
     ]
    },
    {
     "name": "stderr",
     "output_type": "stream",
     "text": [
      "***** Running Evaluation *****\n"
     ]
    },
    {
     "name": "stderr",
     "output_type": "stream",
     "text": [
      "  Num examples = 10615\n"
     ]
    },
    {
     "name": "stderr",
     "output_type": "stream",
     "text": [
      "  Batch size = 16\n"
     ]
    },
    {
     "name": "stderr",
     "output_type": "stream",
     "text": [
      "Saving model checkpoint to shot-influence/deberta-base-for-2-shots-t-left-bs16*2-2sh-instance-split-12142035/checkpoint-5500\n"
     ]
    },
    {
     "name": "stderr",
     "output_type": "stream",
     "text": [
      "Configuration saved in shot-influence/deberta-base-for-2-shots-t-left-bs16*2-2sh-instance-split-12142035/checkpoint-5500/config.json\n"
     ]
    },
    {
     "name": "stderr",
     "output_type": "stream",
     "text": [
      "Model weights saved in shot-influence/deberta-base-for-2-shots-t-left-bs16*2-2sh-instance-split-12142035/checkpoint-5500/pytorch_model.bin\n"
     ]
    },
    {
     "name": "stderr",
     "output_type": "stream",
     "text": [
      "Deleting older checkpoint [shot-influence/deberta-base-for-2-shots-t-left-bs16*2-2sh-instance-split-12142035/checkpoint-5000] due to args.save_total_limit\n"
     ]
    },
    {
     "name": "stderr",
     "output_type": "stream",
     "text": [
      "The following columns in the evaluation set don't have a corresponding argument in `DebertaV2ForSequenceClassification.forward` and have been ignored: text. If text are not expected by `DebertaV2ForSequenceClassification.forward`,  you can safely ignore this message.\n"
     ]
    },
    {
     "name": "stderr",
     "output_type": "stream",
     "text": [
      "***** Running Evaluation *****\n"
     ]
    },
    {
     "name": "stderr",
     "output_type": "stream",
     "text": [
      "  Num examples = 10615\n"
     ]
    },
    {
     "name": "stderr",
     "output_type": "stream",
     "text": [
      "  Batch size = 16\n"
     ]
    },
    {
     "name": "stderr",
     "output_type": "stream",
     "text": [
      "Saving model checkpoint to shot-influence/deberta-base-for-2-shots-t-left-bs16*2-2sh-instance-split-12142035/checkpoint-6000\n"
     ]
    },
    {
     "name": "stderr",
     "output_type": "stream",
     "text": [
      "Configuration saved in shot-influence/deberta-base-for-2-shots-t-left-bs16*2-2sh-instance-split-12142035/checkpoint-6000/config.json\n"
     ]
    },
    {
     "name": "stderr",
     "output_type": "stream",
     "text": [
      "Model weights saved in shot-influence/deberta-base-for-2-shots-t-left-bs16*2-2sh-instance-split-12142035/checkpoint-6000/pytorch_model.bin\n"
     ]
    },
    {
     "name": "stderr",
     "output_type": "stream",
     "text": [
      "Deleting older checkpoint [shot-influence/deberta-base-for-2-shots-t-left-bs16*2-2sh-instance-split-12142035/checkpoint-5500] due to args.save_total_limit\n"
     ]
    },
    {
     "name": "stderr",
     "output_type": "stream",
     "text": [
      "The following columns in the evaluation set don't have a corresponding argument in `DebertaV2ForSequenceClassification.forward` and have been ignored: text. If text are not expected by `DebertaV2ForSequenceClassification.forward`,  you can safely ignore this message.\n"
     ]
    },
    {
     "name": "stderr",
     "output_type": "stream",
     "text": [
      "***** Running Evaluation *****\n"
     ]
    },
    {
     "name": "stderr",
     "output_type": "stream",
     "text": [
      "  Num examples = 10615\n"
     ]
    },
    {
     "name": "stderr",
     "output_type": "stream",
     "text": [
      "  Batch size = 16\n"
     ]
    },
    {
     "name": "stderr",
     "output_type": "stream",
     "text": [
      "Saving model checkpoint to shot-influence/deberta-base-for-2-shots-t-left-bs16*2-2sh-instance-split-12142035/checkpoint-6500\n"
     ]
    },
    {
     "name": "stderr",
     "output_type": "stream",
     "text": [
      "Configuration saved in shot-influence/deberta-base-for-2-shots-t-left-bs16*2-2sh-instance-split-12142035/checkpoint-6500/config.json\n"
     ]
    },
    {
     "name": "stderr",
     "output_type": "stream",
     "text": [
      "Model weights saved in shot-influence/deberta-base-for-2-shots-t-left-bs16*2-2sh-instance-split-12142035/checkpoint-6500/pytorch_model.bin\n"
     ]
    },
    {
     "name": "stderr",
     "output_type": "stream",
     "text": [
      "Deleting older checkpoint [shot-influence/deberta-base-for-2-shots-t-left-bs16*2-2sh-instance-split-12142035/checkpoint-6000] due to args.save_total_limit\n"
     ]
    },
    {
     "name": "stderr",
     "output_type": "stream",
     "text": [
      "The following columns in the evaluation set don't have a corresponding argument in `DebertaV2ForSequenceClassification.forward` and have been ignored: text. If text are not expected by `DebertaV2ForSequenceClassification.forward`,  you can safely ignore this message.\n"
     ]
    },
    {
     "name": "stderr",
     "output_type": "stream",
     "text": [
      "***** Running Evaluation *****\n"
     ]
    },
    {
     "name": "stderr",
     "output_type": "stream",
     "text": [
      "  Num examples = 10615\n"
     ]
    },
    {
     "name": "stderr",
     "output_type": "stream",
     "text": [
      "  Batch size = 16\n"
     ]
    },
    {
     "name": "stderr",
     "output_type": "stream",
     "text": [
      "Saving model checkpoint to shot-influence/deberta-base-for-2-shots-t-left-bs16*2-2sh-instance-split-12142035/checkpoint-7000\n"
     ]
    },
    {
     "name": "stderr",
     "output_type": "stream",
     "text": [
      "Configuration saved in shot-influence/deberta-base-for-2-shots-t-left-bs16*2-2sh-instance-split-12142035/checkpoint-7000/config.json\n"
     ]
    },
    {
     "name": "stderr",
     "output_type": "stream",
     "text": [
      "Model weights saved in shot-influence/deberta-base-for-2-shots-t-left-bs16*2-2sh-instance-split-12142035/checkpoint-7000/pytorch_model.bin\n"
     ]
    },
    {
     "name": "stderr",
     "output_type": "stream",
     "text": [
      "Deleting older checkpoint [shot-influence/deberta-base-for-2-shots-t-left-bs16*2-2sh-instance-split-12142035/checkpoint-6500] due to args.save_total_limit\n"
     ]
    },
    {
     "name": "stderr",
     "output_type": "stream",
     "text": [
      "The following columns in the evaluation set don't have a corresponding argument in `DebertaV2ForSequenceClassification.forward` and have been ignored: text. If text are not expected by `DebertaV2ForSequenceClassification.forward`,  you can safely ignore this message.\n"
     ]
    },
    {
     "name": "stderr",
     "output_type": "stream",
     "text": [
      "***** Running Evaluation *****\n"
     ]
    },
    {
     "name": "stderr",
     "output_type": "stream",
     "text": [
      "  Num examples = 10615\n"
     ]
    },
    {
     "name": "stderr",
     "output_type": "stream",
     "text": [
      "  Batch size = 16\n"
     ]
    },
    {
     "name": "stderr",
     "output_type": "stream",
     "text": [
      "Saving model checkpoint to shot-influence/deberta-base-for-2-shots-t-left-bs16*2-2sh-instance-split-12142035/checkpoint-7500\n"
     ]
    },
    {
     "name": "stderr",
     "output_type": "stream",
     "text": [
      "Configuration saved in shot-influence/deberta-base-for-2-shots-t-left-bs16*2-2sh-instance-split-12142035/checkpoint-7500/config.json\n"
     ]
    },
    {
     "name": "stderr",
     "output_type": "stream",
     "text": [
      "Model weights saved in shot-influence/deberta-base-for-2-shots-t-left-bs16*2-2sh-instance-split-12142035/checkpoint-7500/pytorch_model.bin\n"
     ]
    },
    {
     "name": "stderr",
     "output_type": "stream",
     "text": [
      "Deleting older checkpoint [shot-influence/deberta-base-for-2-shots-t-left-bs16*2-2sh-instance-split-12142035/checkpoint-7000] due to args.save_total_limit\n"
     ]
    },
    {
     "name": "stderr",
     "output_type": "stream",
     "text": [
      "\n",
      "\n",
      "Training completed. Do not forget to share your model on huggingface.co/models =)\n",
      "\n",
      "\n"
     ]
    },
    {
     "name": "stderr",
     "output_type": "stream",
     "text": [
      "Loading best model from shot-influence/deberta-base-for-2-shots-t-left-bs16*2-2sh-instance-split-12142035/checkpoint-4500 (score: 0.5582284927368164).\n"
     ]
    },
    {
     "data": {
      "text/html": [
       "Waiting for W&B process to finish... <strong style=\"color:green\">(success).</strong>"
      ],
      "text/plain": [
       "<IPython.core.display.HTML object>"
      ]
     },
     "metadata": {},
     "output_type": "display_data"
    },
    {
     "data": {
      "application/vnd.jupyter.widget-view+json": {
       "model_id": "f0e400184e65493ca703906cf0360244",
       "version_major": 2,
       "version_minor": 0
      },
      "text/plain": [
       "VBox(children=(Label(value='0.001 MB of 0.001 MB uploaded (0.000 MB deduped)\\r'), FloatProgress(value=1.0, max…"
      ]
     },
     "metadata": {},
     "output_type": "display_data"
    },
    {
     "data": {
      "text/html": [
       "<style>\n",
       "    table.wandb td:nth-child(1) { padding: 0 10px; text-align: left ; width: auto;} td:nth-child(2) {text-align: left ; width: 100%}\n",
       "    .wandb-row { display: flex; flex-direction: row; flex-wrap: wrap; justify-content: flex-start; width: 100% }\n",
       "    .wandb-col { display: flex; flex-direction: column; flex-basis: 100%; flex: 1; padding: 10px; }\n",
       "    </style>\n",
       "<div class=\"wandb-row\"><div class=\"wandb-col\"><h3>Run history:</h3><br/><table class=\"wandb\"><tr><td>eval/accuracy</td><td>▁▁▃▄▄▄▅▆██▆▇█▅▅</td></tr><tr><td>eval/balanced_accuracy</td><td>▁▅▃▅▅▆▄▅█▅██▇▆▇</td></tr><tr><td>eval/bs</td><td>▆▄▄▄▄▄▂▂▁▁▃▄▃██</td></tr><tr><td>eval/bs_dsc</td><td>▁▂▃▃▄▄▆▆█▇██▇▅▅</td></tr><tr><td>eval/bs_mcb</td><td>▂▁▂▁▂▂▁▂▁▁▄▅▃██</td></tr><tr><td>eval/bs_unc</td><td>▁▁▁▁▁▁▁▁▁▁▁▁▁▁▁</td></tr><tr><td>eval/conf_absolute_accuracy</td><td>▁▁▁▁▁▁▁▁▁▁▁▁▁▁▁</td></tr><tr><td>eval/conf_absolute_balanced_accuracy</td><td>▁▁▁▁▁▁▁▁▁▁▁▁▁▁▁</td></tr><tr><td>eval/conf_absolute_bs</td><td>▁▁▁▁▁▁▁▁▁▁▁▁▁▁▁</td></tr><tr><td>eval/conf_absolute_bs_dsc</td><td>▁▁▁▁▁▁▁▁▁▁▁▁▁▁▁</td></tr><tr><td>eval/conf_absolute_bs_mcb</td><td>▁▁▁▁▁▁▁▁▁▁▁▁▁▁▁</td></tr><tr><td>eval/conf_absolute_bs_unc</td><td>▁▁▁▁▁▁▁▁▁▁▁▁▁▁▁</td></tr><tr><td>eval/conf_absolute_f1</td><td>▁▁▁▁▁▁▁▁▁▁▁▁▁▁▁</td></tr><tr><td>eval/conf_absolute_precision</td><td>▁▁▁▁▁▁▁▁▁▁▁▁▁▁▁</td></tr><tr><td>eval/conf_absolute_recall</td><td>▁▁▁▁▁▁▁▁▁▁▁▁▁▁▁</td></tr><tr><td>eval/conf_absolute_roc_auc</td><td>▁▁▁▁▁▁▁▁▁▁▁▁▁▁▁</td></tr><tr><td>eval/conf_distribution_accuracy</td><td>▁▁▁▁▁▁▁▁▁▁▁▁▁▁▁</td></tr><tr><td>eval/conf_distribution_balanced_accuracy</td><td>▁▁▁▁▁▁▁▁▁▁▁▁▁▁▁</td></tr><tr><td>eval/conf_distribution_bs</td><td>▁▁▁▁▁▁▁▁▁▁▁▁▁▁▁</td></tr><tr><td>eval/conf_distribution_bs_dsc</td><td>▁▁▁▁▁▁▁▁▁▁▁▁▁▁▁</td></tr><tr><td>eval/conf_distribution_bs_mcb</td><td>▁▁▁▁▁▁▁▁▁▁▁▁▁▁▁</td></tr><tr><td>eval/conf_distribution_bs_unc</td><td>▁▁▁▁▁▁▁▁▁▁▁▁▁▁▁</td></tr><tr><td>eval/conf_distribution_f1</td><td>▁▁▁▁▁▁▁▁▁▁▁▁▁▁▁</td></tr><tr><td>eval/conf_distribution_precision</td><td>▁▁▁▁▁▁▁▁▁▁▁▁▁▁▁</td></tr><tr><td>eval/conf_distribution_recall</td><td>▁▁▁▁▁▁▁▁▁▁▁▁▁▁▁</td></tr><tr><td>eval/conf_distribution_roc_auc</td><td>▁▁▁▁▁▁▁▁▁▁▁▁▁▁▁</td></tr><tr><td>eval/conf_normalized_accuracy</td><td>▁▁▁▁▁▁▁▁▁▁▁▁▁▁▁</td></tr><tr><td>eval/conf_normalized_balanced_accuracy</td><td>▁▁▁▁▁▁▁▁▁▁▁▁▁▁▁</td></tr><tr><td>eval/conf_normalized_bs</td><td>▁▁▁▁▁▁▁▁▁▁▁▁▁▁▁</td></tr><tr><td>eval/conf_normalized_bs_dsc</td><td>▁▁▁▁▁▁▁▁▁▁▁▁▁▁▁</td></tr><tr><td>eval/conf_normalized_bs_mcb</td><td>▁▁▁▁▁▁▁▁▁▁▁▁▁▁▁</td></tr><tr><td>eval/conf_normalized_bs_unc</td><td>▁▁▁▁▁▁▁▁▁▁▁▁▁▁▁</td></tr><tr><td>eval/conf_normalized_f1</td><td>▁▁▁▁▁▁▁▁▁▁▁▁▁▁▁</td></tr><tr><td>eval/conf_normalized_precision</td><td>▁▁▁▁▁▁▁▁▁▁▁▁▁▁▁</td></tr><tr><td>eval/conf_normalized_recall</td><td>▁▁▁▁▁▁▁▁▁▁▁▁▁▁▁</td></tr><tr><td>eval/conf_normalized_roc_auc</td><td>▁▁▁▁▁▁▁▁▁▁▁▁▁▁▁</td></tr><tr><td>eval/f1</td><td>▁▆▃▅▅▇▄▅▇▄██▆▆▇</td></tr><tr><td>eval/loss</td><td>▄▃▃▃▃▄▂▂▁▁▃▄▃▇█</td></tr><tr><td>eval/precision</td><td>▃▁▃▃▄▂▅▅▅█▃▃▅▃▃</td></tr><tr><td>eval/recall</td><td>▁▇▃▅▄▇▃▄▆▂█▇▅▆▆</td></tr><tr><td>eval/roc_auc</td><td>▁▂▃▃▄▄▆▆█████▅▆</td></tr><tr><td>eval/runtime</td><td>▅▂▇▁▂▁▅▂██▇▄▅▇▅</td></tr><tr><td>eval/samples_per_second</td><td>▄▇▂█▇█▄▇▁▁▂▅▄▂▄</td></tr><tr><td>eval/steps_per_second</td><td>▄▇▂█▇█▄▇▁▁▂▅▄▂▄</td></tr><tr><td>train/epoch</td><td>▁▁▁▁▂▂▂▂▃▃▃▃▄▄▄▄▅▅▅▅▆▆▆▆▇▇▇▇███</td></tr><tr><td>train/global_step</td><td>▁▁▁▁▂▂▂▂▃▃▃▃▄▄▄▄▅▅▅▅▆▆▆▆▇▇▇▇███</td></tr><tr><td>train/learning_rate</td><td>▂▃▄▅▇█▇▆▆▅▄▃▃▂▁</td></tr><tr><td>train/loss</td><td>█▆▆▆▆▆▅▅▅▅▄▃▃▁▁</td></tr><tr><td>train/total_flos</td><td>▁</td></tr><tr><td>train/train_loss</td><td>▁</td></tr><tr><td>train/train_runtime</td><td>▁</td></tr><tr><td>train/train_samples_per_second</td><td>▁</td></tr><tr><td>train/train_steps_per_second</td><td>▁</td></tr></table><br/></div><div class=\"wandb-col\"><h3>Run summary:</h3><br/><table class=\"wandb\"><tr><td>eval/accuracy</td><td>0.68987</td></tr><tr><td>eval/balanced_accuracy</td><td>0.67008</td></tr><tr><td>eval/bs</td><td>0.21441</td></tr><tr><td>eval/bs_dsc</td><td>0.04306</td></tr><tr><td>eval/bs_mcb</td><td>0.02188</td></tr><tr><td>eval/bs_unc</td><td>0.23558</td></tr><tr><td>eval/conf_absolute_accuracy</td><td>0.59228</td></tr><tr><td>eval/conf_absolute_balanced_accuracy</td><td>0.59503</td></tr><tr><td>eval/conf_absolute_bs</td><td>0.27552</td></tr><tr><td>eval/conf_absolute_bs_dsc</td><td>0.01074</td></tr><tr><td>eval/conf_absolute_bs_mcb</td><td>0.05068</td></tr><tr><td>eval/conf_absolute_bs_unc</td><td>0.23558</td></tr><tr><td>eval/conf_absolute_f1</td><td>0.53059</td></tr><tr><td>eval/conf_absolute_precision</td><td>0.47156</td></tr><tr><td>eval/conf_absolute_recall</td><td>0.6065</td></tr><tr><td>eval/conf_absolute_roc_auc</td><td>0.60852</td></tr><tr><td>eval/conf_distribution_accuracy</td><td>0.68554</td></tr><tr><td>eval/conf_distribution_balanced_accuracy</td><td>0.64872</td></tr><tr><td>eval/conf_distribution_bs</td><td>0.19561</td></tr><tr><td>eval/conf_distribution_bs_dsc</td><td>0.03998</td></tr><tr><td>eval/conf_distribution_bs_mcb</td><td>0.0</td></tr><tr><td>eval/conf_distribution_bs_unc</td><td>0.23558</td></tr><tr><td>eval/conf_distribution_f1</td><td>0.54486</td></tr><tr><td>eval/conf_distribution_precision</td><td>0.60527</td></tr><tr><td>eval/conf_distribution_recall</td><td>0.49541</td></tr><tr><td>eval/conf_distribution_roc_auc</td><td>0.74136</td></tr><tr><td>eval/conf_normalized_accuracy</td><td>0.51229</td></tr><tr><td>eval/conf_normalized_balanced_accuracy</td><td>0.58378</td></tr><tr><td>eval/conf_normalized_bs</td><td>0.31189</td></tr><tr><td>eval/conf_normalized_bs_dsc</td><td>0.01337</td></tr><tr><td>eval/conf_normalized_bs_mcb</td><td>0.08967</td></tr><tr><td>eval/conf_normalized_bs_unc</td><td>0.23558</td></tr><tr><td>eval/conf_normalized_f1</td><td>0.57866</td></tr><tr><td>eval/conf_normalized_precision</td><td>0.4307</td></tr><tr><td>eval/conf_normalized_recall</td><td>0.88148</td></tr><tr><td>eval/conf_normalized_roc_auc</td><td>0.62737</td></tr><tr><td>eval/f1</td><td>0.59014</td></tr><tr><td>eval/loss</td><td>0.64393</td></tr><tr><td>eval/precision</td><td>0.59265</td></tr><tr><td>eval/recall</td><td>0.58765</td></tr><tr><td>eval/roc_auc</td><td>0.74601</td></tr><tr><td>eval/runtime</td><td>159.4354</td></tr><tr><td>eval/samples_per_second</td><td>66.579</td></tr><tr><td>eval/steps_per_second</td><td>4.165</td></tr><tr><td>train/epoch</td><td>6.0</td></tr><tr><td>train/global_step</td><td>7956</td></tr><tr><td>train/learning_rate</td><td>0.0</td></tr><tr><td>train/loss</td><td>0.441</td></tr><tr><td>train/total_flos</td><td>6.697454156483789e+16</td></tr><tr><td>train/train_loss</td><td>0.5404</td></tr><tr><td>train/train_runtime</td><td>13206.6747</td></tr><tr><td>train/train_samples_per_second</td><td>19.274</td></tr><tr><td>train/train_steps_per_second</td><td>0.602</td></tr></table><br/></div></div>"
      ],
      "text/plain": [
       "<IPython.core.display.HTML object>"
      ]
     },
     "metadata": {},
     "output_type": "display_data"
    },
    {
     "data": {
      "text/html": [
       "Synced <strong style=\"color:#cdcd00\">deberta-base-for-2-shots-t-left-bs16*2-2sh-instance-split</strong>: <a href=\"https://wandb.ai/wschella/lass/runs/3niamaq8\" target=\"_blank\">https://wandb.ai/wschella/lass/runs/3niamaq8</a><br/>Synced 6 W&B file(s), 0 media file(s), 0 artifact file(s) and 0 other file(s)"
      ],
      "text/plain": [
       "<IPython.core.display.HTML object>"
      ]
     },
     "metadata": {},
     "output_type": "display_data"
    },
    {
     "data": {
      "text/html": [
       "Find logs at: <code>/tmp/wandb/run-20221214_203506-3niamaq8/logs</code>"
      ],
      "text/plain": [
       "<IPython.core.display.HTML object>"
      ]
     },
     "metadata": {},
     "output_type": "display_data"
    },
    {
     "name": "stdout",
     "output_type": "stream",
     "text": [
      "#Examples for 3 shots: 54097\n"
     ]
    },
    {
     "name": "stdout",
     "output_type": "stream",
     "text": [
      "{'text': 'In what follows, we provide short narratives, each of which illustrates a common proverb. \\nNarrative: The anxiety about getting the injection made her unable to sleep that night, but the actual experience wasn\\'t as bad as she thought it would be.\\nThis narrative is a good illustration of the following proverb: Don\\'t meet troubles half-way\\n\\nNarrative: Inmate 76853 lay on the execution gurney ready to utter his last words before lethal drugs ended his life.  He looked through the mirror into the witness room and said to his family and his victim\\'s family: \"I killed Victoria.  It was wrong.  I can\\'t take it back.  I earned my punishment, and I accept it.\"  Inmate 76853 turned his head back to stare at the stark ceiling and paid his debt with his life.\\nThis narrative is a good illustration of the following proverb: The wages of sin is death\\n\\nNarrative: \"Oil change? Why would I want that Tim told the auto tech. Tim was convinced the mechanic was just trying to figure out a way to make even more money and he didn\\'t feel like spending $50 on one. Well, 12 months later, when his car started to smoke, Tim head back to the same auto shop. Unfortunately, because he declined the oil change, his engine became damaged over time and it was going to cost over $1,000 to repair the damage.\\nThis narrative is a good illustration of the following proverb: A stitch in time saves nine\\n\\nNarrative: A father brought his son to the local airport for a show. They got up close to an plane in the show. The pilot arrives and turns on the engine. The plane makes a considerable roar, scaring the child. The child cowers behind the father as the father reassures the child that it is just a loud noise and it won\\'t hurt him.\\nThis narrative is a good illustration of the following proverb: ', 'label': 0}\n"
     ]
    },
    {
     "name": "stderr",
     "output_type": "stream",
     "text": [
      "loading configuration file https://huggingface.co/microsoft/deberta-v3-base/resolve/main/config.json from cache at /home/wout/.cache/huggingface/transformers/e6f9db57345f0f60c9f837fa97bcb27b1ed31e99feb33d732d7d8c80cb8f8459.de97182a9f32a68819030ba8f3f6ff2ba47276be3864425925523202f54cc79c\n"
     ]
    },
    {
     "name": "stderr",
     "output_type": "stream",
     "text": [
      "Model config DebertaV2Config {\n",
      "  \"_name_or_path\": \"microsoft/deberta-v3-base\",\n",
      "  \"attention_probs_dropout_prob\": 0.1,\n",
      "  \"hidden_act\": \"gelu\",\n",
      "  \"hidden_dropout_prob\": 0.1,\n",
      "  \"hidden_size\": 768,\n",
      "  \"initializer_range\": 0.02,\n",
      "  \"intermediate_size\": 3072,\n",
      "  \"layer_norm_eps\": 1e-07,\n",
      "  \"max_position_embeddings\": 512,\n",
      "  \"max_relative_positions\": -1,\n",
      "  \"model_type\": \"deberta-v2\",\n",
      "  \"norm_rel_ebd\": \"layer_norm\",\n",
      "  \"num_attention_heads\": 12,\n",
      "  \"num_hidden_layers\": 12,\n",
      "  \"pad_token_id\": 0,\n",
      "  \"pooler_dropout\": 0,\n",
      "  \"pooler_hidden_act\": \"gelu\",\n",
      "  \"pooler_hidden_size\": 768,\n",
      "  \"pos_att_type\": [\n",
      "    \"p2c\",\n",
      "    \"c2p\"\n",
      "  ],\n",
      "  \"position_biased_input\": false,\n",
      "  \"position_buckets\": 256,\n",
      "  \"relative_attention\": true,\n",
      "  \"share_att_key\": true,\n",
      "  \"transformers_version\": \"4.20.1\",\n",
      "  \"type_vocab_size\": 0,\n",
      "  \"vocab_size\": 128100\n",
      "}\n",
      "\n"
     ]
    },
    {
     "name": "stderr",
     "output_type": "stream",
     "text": [
      "loading file https://huggingface.co/microsoft/deberta-v3-base/resolve/main/spm.model from cache at /home/wout/.cache/huggingface/transformers/ec748fd4f03d0e5a2d5d56dff01e6dd733f23c67105cd54a9910f9d711870253.0abaeacf7287ee8ba758fec15ddfb4bb6c697bb1a8db272725f8aa633501787a\n"
     ]
    },
    {
     "name": "stderr",
     "output_type": "stream",
     "text": [
      "loading file https://huggingface.co/microsoft/deberta-v3-base/resolve/main/tokenizer.json from cache at None\n"
     ]
    },
    {
     "name": "stderr",
     "output_type": "stream",
     "text": [
      "loading file https://huggingface.co/microsoft/deberta-v3-base/resolve/main/added_tokens.json from cache at None\n"
     ]
    },
    {
     "name": "stderr",
     "output_type": "stream",
     "text": [
      "loading file https://huggingface.co/microsoft/deberta-v3-base/resolve/main/special_tokens_map.json from cache at None\n"
     ]
    },
    {
     "name": "stderr",
     "output_type": "stream",
     "text": [
      "loading file https://huggingface.co/microsoft/deberta-v3-base/resolve/main/tokenizer_config.json from cache at /home/wout/.cache/huggingface/transformers/967a4d63eb35950cfd24a9e335906419009f32940fa2ba1b73e7ba032628c38d.df5a7f41459442f66bec27ac9352bba694cde109855024b3ae61be2f5734ee9a\n"
     ]
    },
    {
     "name": "stderr",
     "output_type": "stream",
     "text": [
      "loading configuration file https://huggingface.co/microsoft/deberta-v3-base/resolve/main/config.json from cache at /home/wout/.cache/huggingface/transformers/e6f9db57345f0f60c9f837fa97bcb27b1ed31e99feb33d732d7d8c80cb8f8459.de97182a9f32a68819030ba8f3f6ff2ba47276be3864425925523202f54cc79c\n"
     ]
    },
    {
     "name": "stderr",
     "output_type": "stream",
     "text": [
      "Model config DebertaV2Config {\n",
      "  \"_name_or_path\": \"microsoft/deberta-v3-base\",\n",
      "  \"attention_probs_dropout_prob\": 0.1,\n",
      "  \"hidden_act\": \"gelu\",\n",
      "  \"hidden_dropout_prob\": 0.1,\n",
      "  \"hidden_size\": 768,\n",
      "  \"initializer_range\": 0.02,\n",
      "  \"intermediate_size\": 3072,\n",
      "  \"layer_norm_eps\": 1e-07,\n",
      "  \"max_position_embeddings\": 512,\n",
      "  \"max_relative_positions\": -1,\n",
      "  \"model_type\": \"deberta-v2\",\n",
      "  \"norm_rel_ebd\": \"layer_norm\",\n",
      "  \"num_attention_heads\": 12,\n",
      "  \"num_hidden_layers\": 12,\n",
      "  \"pad_token_id\": 0,\n",
      "  \"pooler_dropout\": 0,\n",
      "  \"pooler_hidden_act\": \"gelu\",\n",
      "  \"pooler_hidden_size\": 768,\n",
      "  \"pos_att_type\": [\n",
      "    \"p2c\",\n",
      "    \"c2p\"\n",
      "  ],\n",
      "  \"position_biased_input\": false,\n",
      "  \"position_buckets\": 256,\n",
      "  \"relative_attention\": true,\n",
      "  \"share_att_key\": true,\n",
      "  \"transformers_version\": \"4.20.1\",\n",
      "  \"type_vocab_size\": 0,\n",
      "  \"vocab_size\": 128100\n",
      "}\n",
      "\n"
     ]
    },
    {
     "name": "stderr",
     "output_type": "stream",
     "text": [
      "Adding [MASK] to the vocabulary\n"
     ]
    },
    {
     "name": "stderr",
     "output_type": "stream",
     "text": [
      "Special tokens have been added in the vocabulary, make sure the associated word embeddings are fine-tuned or trained.\n"
     ]
    },
    {
     "name": "stderr",
     "output_type": "stream",
     "text": [
      "loading configuration file https://huggingface.co/microsoft/deberta-v3-base/resolve/main/config.json from cache at /home/wout/.cache/huggingface/transformers/e6f9db57345f0f60c9f837fa97bcb27b1ed31e99feb33d732d7d8c80cb8f8459.de97182a9f32a68819030ba8f3f6ff2ba47276be3864425925523202f54cc79c\n"
     ]
    },
    {
     "name": "stderr",
     "output_type": "stream",
     "text": [
      "Model config DebertaV2Config {\n",
      "  \"_name_or_path\": \"microsoft/deberta-v3-base\",\n",
      "  \"attention_probs_dropout_prob\": 0.1,\n",
      "  \"hidden_act\": \"gelu\",\n",
      "  \"hidden_dropout_prob\": 0.1,\n",
      "  \"hidden_size\": 768,\n",
      "  \"initializer_range\": 0.02,\n",
      "  \"intermediate_size\": 3072,\n",
      "  \"layer_norm_eps\": 1e-07,\n",
      "  \"max_position_embeddings\": 512,\n",
      "  \"max_relative_positions\": -1,\n",
      "  \"model_type\": \"deberta-v2\",\n",
      "  \"norm_rel_ebd\": \"layer_norm\",\n",
      "  \"num_attention_heads\": 12,\n",
      "  \"num_hidden_layers\": 12,\n",
      "  \"pad_token_id\": 0,\n",
      "  \"pooler_dropout\": 0,\n",
      "  \"pooler_hidden_act\": \"gelu\",\n",
      "  \"pooler_hidden_size\": 768,\n",
      "  \"pos_att_type\": [\n",
      "    \"p2c\",\n",
      "    \"c2p\"\n",
      "  ],\n",
      "  \"position_biased_input\": false,\n",
      "  \"position_buckets\": 256,\n",
      "  \"relative_attention\": true,\n",
      "  \"share_att_key\": true,\n",
      "  \"transformers_version\": \"4.20.1\",\n",
      "  \"type_vocab_size\": 0,\n",
      "  \"vocab_size\": 128100\n",
      "}\n",
      "\n"
     ]
    },
    {
     "name": "stderr",
     "output_type": "stream",
     "text": [
      "/home/wout/pp/lass/.env/lib/python3.10/site-packages/transformers/convert_slow_tokenizer.py:434: UserWarning: The sentencepiece tokenizer that you are converting to a fast tokenizer uses the byte fallback option which is not implemented in the fast tokenizers. In practice this means that the fast version of the tokenizer can produce unknown tokens whereas the sentencepiece version would have converted these unknown tokens into a sequence of byte tokens matching the original piece of text.\n",
      "  warnings.warn(\n"
     ]
    },
    {
     "name": "stderr",
     "output_type": "stream",
     "text": [
      "Special tokens have been added in the vocabulary, make sure the associated word embeddings are fine-tuned or trained.\n"
     ]
    },
    {
     "data": {
      "application/vnd.jupyter.widget-view+json": {
       "model_id": "0c85d84ae1dc4123a380edde4a612c3a",
       "version_major": 2,
       "version_minor": 0
      },
      "text/plain": [
       "  0%|          | 0/43 [00:00<?, ?ba/s]"
      ]
     },
     "metadata": {},
     "output_type": "display_data"
    },
    {
     "data": {
      "application/vnd.jupyter.widget-view+json": {
       "model_id": "1714307a75c9446ba4a9c8a1087cc7bd",
       "version_major": 2,
       "version_minor": 0
      },
      "text/plain": [
       "  0%|          | 0/11 [00:00<?, ?ba/s]"
      ]
     },
     "metadata": {},
     "output_type": "display_data"
    },
    {
     "name": "stderr",
     "output_type": "stream",
     "text": [
      "wandb: WARNING Path shot-influence/wandb/wandb/ wasn't writable, using system temp directory\n"
     ]
    },
    {
     "data": {
      "text/html": [
       "wandb version 0.13.7 is available!  To upgrade, please run:\n",
       " $ pip install wandb --upgrade"
      ],
      "text/plain": [
       "<IPython.core.display.HTML object>"
      ]
     },
     "metadata": {},
     "output_type": "display_data"
    },
    {
     "data": {
      "text/html": [
       "Tracking run with wandb version 0.12.20"
      ],
      "text/plain": [
       "<IPython.core.display.HTML object>"
      ]
     },
     "metadata": {},
     "output_type": "display_data"
    },
    {
     "data": {
      "text/html": [
       "Run data is saved locally in <code>/tmp/wandb/run-20221215_001637-2k5s5awj</code>"
      ],
      "text/plain": [
       "<IPython.core.display.HTML object>"
      ]
     },
     "metadata": {},
     "output_type": "display_data"
    },
    {
     "data": {
      "text/html": [
       "Syncing run <strong><a href=\"https://wandb.ai/wschella/lass/runs/2k5s5awj\" target=\"_blank\">deberta-base-for-3-shots-t-right-bs16*2-3sh-instance-split</a></strong> to <a href=\"https://wandb.ai/wschella/lass\" target=\"_blank\">Weights & Biases</a> (<a href=\"https://wandb.me/run\" target=\"_blank\">docs</a>)<br/>"
      ],
      "text/plain": [
       "<IPython.core.display.HTML object>"
      ]
     },
     "metadata": {},
     "output_type": "display_data"
    },
    {
     "name": "stderr",
     "output_type": "stream",
     "text": [
      "loading configuration file https://huggingface.co/microsoft/deberta-v3-base/resolve/main/config.json from cache at /home/wout/.cache/huggingface/transformers/e6f9db57345f0f60c9f837fa97bcb27b1ed31e99feb33d732d7d8c80cb8f8459.de97182a9f32a68819030ba8f3f6ff2ba47276be3864425925523202f54cc79c\n"
     ]
    },
    {
     "name": "stderr",
     "output_type": "stream",
     "text": [
      "Model config DebertaV2Config {\n",
      "  \"_name_or_path\": \"microsoft/deberta-v3-base\",\n",
      "  \"attention_probs_dropout_prob\": 0.1,\n",
      "  \"hidden_act\": \"gelu\",\n",
      "  \"hidden_dropout_prob\": 0.1,\n",
      "  \"hidden_size\": 768,\n",
      "  \"initializer_range\": 0.02,\n",
      "  \"intermediate_size\": 3072,\n",
      "  \"layer_norm_eps\": 1e-07,\n",
      "  \"max_position_embeddings\": 512,\n",
      "  \"max_relative_positions\": -1,\n",
      "  \"model_type\": \"deberta-v2\",\n",
      "  \"norm_rel_ebd\": \"layer_norm\",\n",
      "  \"num_attention_heads\": 12,\n",
      "  \"num_hidden_layers\": 12,\n",
      "  \"pad_token_id\": 0,\n",
      "  \"pooler_dropout\": 0,\n",
      "  \"pooler_hidden_act\": \"gelu\",\n",
      "  \"pooler_hidden_size\": 768,\n",
      "  \"pos_att_type\": [\n",
      "    \"p2c\",\n",
      "    \"c2p\"\n",
      "  ],\n",
      "  \"position_biased_input\": false,\n",
      "  \"position_buckets\": 256,\n",
      "  \"relative_attention\": true,\n",
      "  \"share_att_key\": true,\n",
      "  \"transformers_version\": \"4.20.1\",\n",
      "  \"type_vocab_size\": 0,\n",
      "  \"vocab_size\": 128100\n",
      "}\n",
      "\n"
     ]
    },
    {
     "name": "stderr",
     "output_type": "stream",
     "text": [
      "loading weights file https://huggingface.co/microsoft/deberta-v3-base/resolve/main/pytorch_model.bin from cache at /home/wout/.cache/huggingface/transformers/322954555e18d37b9f98196875590497a8b33244551ec195e00fcdb831878224.f80cec19a933132f8b9636fbb3b736b2f4b9c8deaa45dfe4dd6e40a4d9970f44\n"
     ]
    },
    {
     "name": "stderr",
     "output_type": "stream",
     "text": [
      "Some weights of the model checkpoint at microsoft/deberta-v3-base were not used when initializing DebertaV2ForSequenceClassification: ['mask_predictions.dense.weight', 'mask_predictions.classifier.bias', 'lm_predictions.lm_head.dense.weight', 'mask_predictions.dense.bias', 'mask_predictions.LayerNorm.weight', 'mask_predictions.LayerNorm.bias', 'lm_predictions.lm_head.LayerNorm.weight', 'lm_predictions.lm_head.LayerNorm.bias', 'lm_predictions.lm_head.dense.bias', 'mask_predictions.classifier.weight', 'lm_predictions.lm_head.bias']\n",
      "- This IS expected if you are initializing DebertaV2ForSequenceClassification from the checkpoint of a model trained on another task or with another architecture (e.g. initializing a BertForSequenceClassification model from a BertForPreTraining model).\n",
      "- This IS NOT expected if you are initializing DebertaV2ForSequenceClassification from the checkpoint of a model that you expect to be exactly identical (initializing a BertForSequenceClassification model from a BertForSequenceClassification model).\n"
     ]
    },
    {
     "name": "stderr",
     "output_type": "stream",
     "text": [
      "Some weights of DebertaV2ForSequenceClassification were not initialized from the model checkpoint at microsoft/deberta-v3-base and are newly initialized: ['classifier.weight', 'pooler.dense.bias', 'classifier.bias', 'pooler.dense.weight']\n",
      "You should probably TRAIN this model on a down-stream task to be able to use it for predictions and inference.\n"
     ]
    },
    {
     "name": "stderr",
     "output_type": "stream",
     "text": [
      "using `logging_steps` to initialize `eval_steps` to 500\n"
     ]
    },
    {
     "name": "stderr",
     "output_type": "stream",
     "text": [
      "PyTorch: setting up devices\n"
     ]
    },
    {
     "name": "stderr",
     "output_type": "stream",
     "text": [
      "The following columns in the training set don't have a corresponding argument in `DebertaV2ForSequenceClassification.forward` and have been ignored: text. If text are not expected by `DebertaV2ForSequenceClassification.forward`,  you can safely ignore this message.\n"
     ]
    },
    {
     "name": "stderr",
     "output_type": "stream",
     "text": [
      "***** Running training *****\n"
     ]
    },
    {
     "name": "stderr",
     "output_type": "stream",
     "text": [
      "  Num examples = 42424\n"
     ]
    },
    {
     "name": "stderr",
     "output_type": "stream",
     "text": [
      "  Num Epochs = 6\n"
     ]
    },
    {
     "name": "stderr",
     "output_type": "stream",
     "text": [
      "  Instantaneous batch size per device = 16\n"
     ]
    },
    {
     "name": "stderr",
     "output_type": "stream",
     "text": [
      "  Total train batch size (w. parallel, distributed & accumulation) = 32\n"
     ]
    },
    {
     "name": "stderr",
     "output_type": "stream",
     "text": [
      "  Gradient Accumulation steps = 2\n"
     ]
    },
    {
     "name": "stderr",
     "output_type": "stream",
     "text": [
      "  Total optimization steps = 7956\n"
     ]
    },
    {
     "name": "stderr",
     "output_type": "stream",
     "text": [
      "Automatic Weights & Biases logging enabled, to disable set os.environ[\"WANDB_DISABLED\"] = \"true\"\n"
     ]
    },
    {
     "data": {
      "text/html": [
       "\n",
       "    <div>\n",
       "      \n",
       "      <progress value='7956' max='7956' style='width:300px; height:20px; vertical-align: middle;'></progress>\n",
       "      [7956/7956 3:40:29, Epoch 6/6]\n",
       "    </div>\n",
       "    <table border=\"1\" class=\"dataframe\">\n",
       "  <thead>\n",
       " <tr style=\"text-align: left;\">\n",
       "      <th>Step</th>\n",
       "      <th>Training Loss</th>\n",
       "      <th>Validation Loss</th>\n",
       "      <th>Conf Distribution Accuracy</th>\n",
       "      <th>Conf Distribution Precision</th>\n",
       "      <th>Conf Distribution Recall</th>\n",
       "      <th>Conf Distribution F1</th>\n",
       "      <th>Conf Distribution Roc Auc</th>\n",
       "      <th>Conf Distribution Bs</th>\n",
       "      <th>Conf Distribution Bs Mcb</th>\n",
       "      <th>Conf Distribution Bs Dsc</th>\n",
       "      <th>Conf Distribution Bs Unc</th>\n",
       "      <th>Conf Distribution Balanced Accuracy</th>\n",
       "      <th>Conf Absolute Accuracy</th>\n",
       "      <th>Conf Absolute Precision</th>\n",
       "      <th>Conf Absolute Recall</th>\n",
       "      <th>Conf Absolute F1</th>\n",
       "      <th>Conf Absolute Roc Auc</th>\n",
       "      <th>Conf Absolute Bs</th>\n",
       "      <th>Conf Absolute Bs Mcb</th>\n",
       "      <th>Conf Absolute Bs Dsc</th>\n",
       "      <th>Conf Absolute Bs Unc</th>\n",
       "      <th>Conf Absolute Balanced Accuracy</th>\n",
       "      <th>Conf Normalized Accuracy</th>\n",
       "      <th>Conf Normalized Precision</th>\n",
       "      <th>Conf Normalized Recall</th>\n",
       "      <th>Conf Normalized F1</th>\n",
       "      <th>Conf Normalized Roc Auc</th>\n",
       "      <th>Conf Normalized Bs</th>\n",
       "      <th>Conf Normalized Bs Mcb</th>\n",
       "      <th>Conf Normalized Bs Dsc</th>\n",
       "      <th>Conf Normalized Bs Unc</th>\n",
       "      <th>Conf Normalized Balanced Accuracy</th>\n",
       "      <th>Accuracy</th>\n",
       "      <th>Precision</th>\n",
       "      <th>Recall</th>\n",
       "      <th>F1</th>\n",
       "      <th>Roc Auc</th>\n",
       "      <th>Bs</th>\n",
       "      <th>Bs Mcb</th>\n",
       "      <th>Bs Dsc</th>\n",
       "      <th>Bs Unc</th>\n",
       "      <th>Balanced Accuracy</th>\n",
       "    </tr>\n",
       "  </thead>\n",
       "  <tbody>\n",
       "    <tr>\n",
       "      <td>500</td>\n",
       "      <td>0.641600</td>\n",
       "      <td>0.602981</td>\n",
       "      <td>0.689308</td>\n",
       "      <td>0.615476</td>\n",
       "      <td>0.507609</td>\n",
       "      <td>0.556363</td>\n",
       "      <td>0.743794</td>\n",
       "      <td>0.195609</td>\n",
       "      <td>0.000000</td>\n",
       "      <td>0.040888</td>\n",
       "      <td>0.236497</td>\n",
       "      <td>0.655043</td>\n",
       "      <td>0.600471</td>\n",
       "      <td>0.484296</td>\n",
       "      <td>0.632057</td>\n",
       "      <td>0.548397</td>\n",
       "      <td>0.623710</td>\n",
       "      <td>0.269777</td>\n",
       "      <td>0.046708</td>\n",
       "      <td>0.013427</td>\n",
       "      <td>0.236497</td>\n",
       "      <td>0.606427</td>\n",
       "      <td>0.515403</td>\n",
       "      <td>0.435913</td>\n",
       "      <td>0.893225</td>\n",
       "      <td>0.585896</td>\n",
       "      <td>0.632145</td>\n",
       "      <td>0.307933</td>\n",
       "      <td>0.086142</td>\n",
       "      <td>0.014706</td>\n",
       "      <td>0.236497</td>\n",
       "      <td>0.586652</td>\n",
       "      <td>0.660009</td>\n",
       "      <td>0.673637</td>\n",
       "      <td>0.221404</td>\n",
       "      <td>0.333272</td>\n",
       "      <td>0.718673</td>\n",
       "      <td>0.208622</td>\n",
       "      <td>0.006277</td>\n",
       "      <td>0.034152</td>\n",
       "      <td>0.236497</td>\n",
       "      <td>0.577297</td>\n",
       "    </tr>\n",
       "    <tr>\n",
       "      <td>1000</td>\n",
       "      <td>0.592200</td>\n",
       "      <td>0.592025</td>\n",
       "      <td>0.689308</td>\n",
       "      <td>0.615476</td>\n",
       "      <td>0.507609</td>\n",
       "      <td>0.556363</td>\n",
       "      <td>0.743794</td>\n",
       "      <td>0.195609</td>\n",
       "      <td>0.000000</td>\n",
       "      <td>0.040888</td>\n",
       "      <td>0.236497</td>\n",
       "      <td>0.655043</td>\n",
       "      <td>0.600471</td>\n",
       "      <td>0.484296</td>\n",
       "      <td>0.632057</td>\n",
       "      <td>0.548397</td>\n",
       "      <td>0.623710</td>\n",
       "      <td>0.269777</td>\n",
       "      <td>0.046708</td>\n",
       "      <td>0.013427</td>\n",
       "      <td>0.236497</td>\n",
       "      <td>0.606427</td>\n",
       "      <td>0.515403</td>\n",
       "      <td>0.435913</td>\n",
       "      <td>0.893225</td>\n",
       "      <td>0.585896</td>\n",
       "      <td>0.632145</td>\n",
       "      <td>0.307933</td>\n",
       "      <td>0.086142</td>\n",
       "      <td>0.014706</td>\n",
       "      <td>0.236497</td>\n",
       "      <td>0.586652</td>\n",
       "      <td>0.677343</td>\n",
       "      <td>0.573901</td>\n",
       "      <td>0.618557</td>\n",
       "      <td>0.595393</td>\n",
       "      <td>0.727849</td>\n",
       "      <td>0.203568</td>\n",
       "      <td>0.003269</td>\n",
       "      <td>0.036198</td>\n",
       "      <td>0.236497</td>\n",
       "      <td>0.666257</td>\n",
       "    </tr>\n",
       "    <tr>\n",
       "      <td>1500</td>\n",
       "      <td>0.588800</td>\n",
       "      <td>0.581620</td>\n",
       "      <td>0.689308</td>\n",
       "      <td>0.615476</td>\n",
       "      <td>0.507609</td>\n",
       "      <td>0.556363</td>\n",
       "      <td>0.743794</td>\n",
       "      <td>0.195609</td>\n",
       "      <td>0.000000</td>\n",
       "      <td>0.040888</td>\n",
       "      <td>0.236497</td>\n",
       "      <td>0.655043</td>\n",
       "      <td>0.600471</td>\n",
       "      <td>0.484296</td>\n",
       "      <td>0.632057</td>\n",
       "      <td>0.548397</td>\n",
       "      <td>0.623710</td>\n",
       "      <td>0.269777</td>\n",
       "      <td>0.046708</td>\n",
       "      <td>0.013427</td>\n",
       "      <td>0.236497</td>\n",
       "      <td>0.606427</td>\n",
       "      <td>0.515403</td>\n",
       "      <td>0.435913</td>\n",
       "      <td>0.893225</td>\n",
       "      <td>0.585896</td>\n",
       "      <td>0.632145</td>\n",
       "      <td>0.307933</td>\n",
       "      <td>0.086142</td>\n",
       "      <td>0.014706</td>\n",
       "      <td>0.236497</td>\n",
       "      <td>0.586652</td>\n",
       "      <td>0.684974</td>\n",
       "      <td>0.602298</td>\n",
       "      <td>0.527491</td>\n",
       "      <td>0.562418</td>\n",
       "      <td>0.736229</td>\n",
       "      <td>0.199504</td>\n",
       "      <td>0.002277</td>\n",
       "      <td>0.039270</td>\n",
       "      <td>0.236497</td>\n",
       "      <td>0.655276</td>\n",
       "    </tr>\n",
       "    <tr>\n",
       "      <td>2000</td>\n",
       "      <td>0.587300</td>\n",
       "      <td>0.588178</td>\n",
       "      <td>0.689308</td>\n",
       "      <td>0.615476</td>\n",
       "      <td>0.507609</td>\n",
       "      <td>0.556363</td>\n",
       "      <td>0.743794</td>\n",
       "      <td>0.195609</td>\n",
       "      <td>0.000000</td>\n",
       "      <td>0.040888</td>\n",
       "      <td>0.236497</td>\n",
       "      <td>0.655043</td>\n",
       "      <td>0.600471</td>\n",
       "      <td>0.484296</td>\n",
       "      <td>0.632057</td>\n",
       "      <td>0.548397</td>\n",
       "      <td>0.623710</td>\n",
       "      <td>0.269777</td>\n",
       "      <td>0.046708</td>\n",
       "      <td>0.013427</td>\n",
       "      <td>0.236497</td>\n",
       "      <td>0.606427</td>\n",
       "      <td>0.515403</td>\n",
       "      <td>0.435913</td>\n",
       "      <td>0.893225</td>\n",
       "      <td>0.585896</td>\n",
       "      <td>0.632145</td>\n",
       "      <td>0.307933</td>\n",
       "      <td>0.086142</td>\n",
       "      <td>0.014706</td>\n",
       "      <td>0.236497</td>\n",
       "      <td>0.586652</td>\n",
       "      <td>0.682713</td>\n",
       "      <td>0.588917</td>\n",
       "      <td>0.573883</td>\n",
       "      <td>0.581303</td>\n",
       "      <td>0.734143</td>\n",
       "      <td>0.200213</td>\n",
       "      <td>0.003524</td>\n",
       "      <td>0.039808</td>\n",
       "      <td>0.236497</td>\n",
       "      <td>0.662190</td>\n",
       "    </tr>\n",
       "    <tr>\n",
       "      <td>2500</td>\n",
       "      <td>0.583800</td>\n",
       "      <td>0.580220</td>\n",
       "      <td>0.689308</td>\n",
       "      <td>0.615476</td>\n",
       "      <td>0.507609</td>\n",
       "      <td>0.556363</td>\n",
       "      <td>0.743794</td>\n",
       "      <td>0.195609</td>\n",
       "      <td>0.000000</td>\n",
       "      <td>0.040888</td>\n",
       "      <td>0.236497</td>\n",
       "      <td>0.655043</td>\n",
       "      <td>0.600471</td>\n",
       "      <td>0.484296</td>\n",
       "      <td>0.632057</td>\n",
       "      <td>0.548397</td>\n",
       "      <td>0.623710</td>\n",
       "      <td>0.269777</td>\n",
       "      <td>0.046708</td>\n",
       "      <td>0.013427</td>\n",
       "      <td>0.236497</td>\n",
       "      <td>0.606427</td>\n",
       "      <td>0.515403</td>\n",
       "      <td>0.435913</td>\n",
       "      <td>0.893225</td>\n",
       "      <td>0.585896</td>\n",
       "      <td>0.632145</td>\n",
       "      <td>0.307933</td>\n",
       "      <td>0.086142</td>\n",
       "      <td>0.014706</td>\n",
       "      <td>0.236497</td>\n",
       "      <td>0.586652</td>\n",
       "      <td>0.684786</td>\n",
       "      <td>0.588564</td>\n",
       "      <td>0.593765</td>\n",
       "      <td>0.591153</td>\n",
       "      <td>0.737589</td>\n",
       "      <td>0.199124</td>\n",
       "      <td>0.003019</td>\n",
       "      <td>0.040392</td>\n",
       "      <td>0.236497</td>\n",
       "      <td>0.667621</td>\n",
       "    </tr>\n",
       "    <tr>\n",
       "      <td>3000</td>\n",
       "      <td>0.583700</td>\n",
       "      <td>0.592972</td>\n",
       "      <td>0.689308</td>\n",
       "      <td>0.615476</td>\n",
       "      <td>0.507609</td>\n",
       "      <td>0.556363</td>\n",
       "      <td>0.743794</td>\n",
       "      <td>0.195609</td>\n",
       "      <td>0.000000</td>\n",
       "      <td>0.040888</td>\n",
       "      <td>0.236497</td>\n",
       "      <td>0.655043</td>\n",
       "      <td>0.600471</td>\n",
       "      <td>0.484296</td>\n",
       "      <td>0.632057</td>\n",
       "      <td>0.548397</td>\n",
       "      <td>0.623710</td>\n",
       "      <td>0.269777</td>\n",
       "      <td>0.046708</td>\n",
       "      <td>0.013427</td>\n",
       "      <td>0.236497</td>\n",
       "      <td>0.606427</td>\n",
       "      <td>0.515403</td>\n",
       "      <td>0.435913</td>\n",
       "      <td>0.893225</td>\n",
       "      <td>0.585896</td>\n",
       "      <td>0.632145</td>\n",
       "      <td>0.307933</td>\n",
       "      <td>0.086142</td>\n",
       "      <td>0.014706</td>\n",
       "      <td>0.236497</td>\n",
       "      <td>0.586652</td>\n",
       "      <td>0.680923</td>\n",
       "      <td>0.573507</td>\n",
       "      <td>0.657830</td>\n",
       "      <td>0.612782</td>\n",
       "      <td>0.734394</td>\n",
       "      <td>0.201345</td>\n",
       "      <td>0.004464</td>\n",
       "      <td>0.039616</td>\n",
       "      <td>0.236497</td>\n",
       "      <td>0.676568</td>\n",
       "    </tr>\n",
       "    <tr>\n",
       "      <td>3500</td>\n",
       "      <td>0.576400</td>\n",
       "      <td>0.578748</td>\n",
       "      <td>0.689308</td>\n",
       "      <td>0.615476</td>\n",
       "      <td>0.507609</td>\n",
       "      <td>0.556363</td>\n",
       "      <td>0.743794</td>\n",
       "      <td>0.195609</td>\n",
       "      <td>0.000000</td>\n",
       "      <td>0.040888</td>\n",
       "      <td>0.236497</td>\n",
       "      <td>0.655043</td>\n",
       "      <td>0.600471</td>\n",
       "      <td>0.484296</td>\n",
       "      <td>0.632057</td>\n",
       "      <td>0.548397</td>\n",
       "      <td>0.623710</td>\n",
       "      <td>0.269777</td>\n",
       "      <td>0.046708</td>\n",
       "      <td>0.013427</td>\n",
       "      <td>0.236497</td>\n",
       "      <td>0.606427</td>\n",
       "      <td>0.515403</td>\n",
       "      <td>0.435913</td>\n",
       "      <td>0.893225</td>\n",
       "      <td>0.585896</td>\n",
       "      <td>0.632145</td>\n",
       "      <td>0.307933</td>\n",
       "      <td>0.086142</td>\n",
       "      <td>0.014706</td>\n",
       "      <td>0.236497</td>\n",
       "      <td>0.586652</td>\n",
       "      <td>0.682902</td>\n",
       "      <td>0.612595</td>\n",
       "      <td>0.472754</td>\n",
       "      <td>0.533666</td>\n",
       "      <td>0.737052</td>\n",
       "      <td>0.198341</td>\n",
       "      <td>0.002326</td>\n",
       "      <td>0.040482</td>\n",
       "      <td>0.236497</td>\n",
       "      <td>0.643272</td>\n",
       "    </tr>\n",
       "    <tr>\n",
       "      <td>4000</td>\n",
       "      <td>0.575500</td>\n",
       "      <td>0.583888</td>\n",
       "      <td>0.689308</td>\n",
       "      <td>0.615476</td>\n",
       "      <td>0.507609</td>\n",
       "      <td>0.556363</td>\n",
       "      <td>0.743794</td>\n",
       "      <td>0.195609</td>\n",
       "      <td>0.000000</td>\n",
       "      <td>0.040888</td>\n",
       "      <td>0.236497</td>\n",
       "      <td>0.655043</td>\n",
       "      <td>0.600471</td>\n",
       "      <td>0.484296</td>\n",
       "      <td>0.632057</td>\n",
       "      <td>0.548397</td>\n",
       "      <td>0.623710</td>\n",
       "      <td>0.269777</td>\n",
       "      <td>0.046708</td>\n",
       "      <td>0.013427</td>\n",
       "      <td>0.236497</td>\n",
       "      <td>0.606427</td>\n",
       "      <td>0.515403</td>\n",
       "      <td>0.435913</td>\n",
       "      <td>0.893225</td>\n",
       "      <td>0.585896</td>\n",
       "      <td>0.632145</td>\n",
       "      <td>0.307933</td>\n",
       "      <td>0.086142</td>\n",
       "      <td>0.014706</td>\n",
       "      <td>0.236497</td>\n",
       "      <td>0.586652</td>\n",
       "      <td>0.674046</td>\n",
       "      <td>0.668867</td>\n",
       "      <td>0.298478</td>\n",
       "      <td>0.412763</td>\n",
       "      <td>0.740016</td>\n",
       "      <td>0.200835</td>\n",
       "      <td>0.005257</td>\n",
       "      <td>0.040919</td>\n",
       "      <td>0.236497</td>\n",
       "      <td>0.603222</td>\n",
       "    </tr>\n",
       "    <tr>\n",
       "      <td>4500</td>\n",
       "      <td>0.564700</td>\n",
       "      <td>0.581751</td>\n",
       "      <td>0.689308</td>\n",
       "      <td>0.615476</td>\n",
       "      <td>0.507609</td>\n",
       "      <td>0.556363</td>\n",
       "      <td>0.743794</td>\n",
       "      <td>0.195609</td>\n",
       "      <td>0.000000</td>\n",
       "      <td>0.040888</td>\n",
       "      <td>0.236497</td>\n",
       "      <td>0.655043</td>\n",
       "      <td>0.600471</td>\n",
       "      <td>0.484296</td>\n",
       "      <td>0.632057</td>\n",
       "      <td>0.548397</td>\n",
       "      <td>0.623710</td>\n",
       "      <td>0.269777</td>\n",
       "      <td>0.046708</td>\n",
       "      <td>0.013427</td>\n",
       "      <td>0.236497</td>\n",
       "      <td>0.606427</td>\n",
       "      <td>0.515403</td>\n",
       "      <td>0.435913</td>\n",
       "      <td>0.893225</td>\n",
       "      <td>0.585896</td>\n",
       "      <td>0.632145</td>\n",
       "      <td>0.307933</td>\n",
       "      <td>0.086142</td>\n",
       "      <td>0.014706</td>\n",
       "      <td>0.236497</td>\n",
       "      <td>0.586652</td>\n",
       "      <td>0.684315</td>\n",
       "      <td>0.603909</td>\n",
       "      <td>0.515709</td>\n",
       "      <td>0.556335</td>\n",
       "      <td>0.737876</td>\n",
       "      <td>0.199489</td>\n",
       "      <td>0.003604</td>\n",
       "      <td>0.040611</td>\n",
       "      <td>0.236497</td>\n",
       "      <td>0.652519</td>\n",
       "    </tr>\n",
       "    <tr>\n",
       "      <td>5000</td>\n",
       "      <td>0.564500</td>\n",
       "      <td>0.576186</td>\n",
       "      <td>0.689308</td>\n",
       "      <td>0.615476</td>\n",
       "      <td>0.507609</td>\n",
       "      <td>0.556363</td>\n",
       "      <td>0.743794</td>\n",
       "      <td>0.195609</td>\n",
       "      <td>0.000000</td>\n",
       "      <td>0.040888</td>\n",
       "      <td>0.236497</td>\n",
       "      <td>0.655043</td>\n",
       "      <td>0.600471</td>\n",
       "      <td>0.484296</td>\n",
       "      <td>0.632057</td>\n",
       "      <td>0.548397</td>\n",
       "      <td>0.623710</td>\n",
       "      <td>0.269777</td>\n",
       "      <td>0.046708</td>\n",
       "      <td>0.013427</td>\n",
       "      <td>0.236497</td>\n",
       "      <td>0.606427</td>\n",
       "      <td>0.515403</td>\n",
       "      <td>0.435913</td>\n",
       "      <td>0.893225</td>\n",
       "      <td>0.585896</td>\n",
       "      <td>0.632145</td>\n",
       "      <td>0.307933</td>\n",
       "      <td>0.086142</td>\n",
       "      <td>0.014706</td>\n",
       "      <td>0.236497</td>\n",
       "      <td>0.586652</td>\n",
       "      <td>0.683467</td>\n",
       "      <td>0.599832</td>\n",
       "      <td>0.526510</td>\n",
       "      <td>0.560784</td>\n",
       "      <td>0.742519</td>\n",
       "      <td>0.197327</td>\n",
       "      <td>0.002854</td>\n",
       "      <td>0.042024</td>\n",
       "      <td>0.236497</td>\n",
       "      <td>0.653868</td>\n",
       "    </tr>\n",
       "    <tr>\n",
       "      <td>5500</td>\n",
       "      <td>0.551300</td>\n",
       "      <td>0.608418</td>\n",
       "      <td>0.689308</td>\n",
       "      <td>0.615476</td>\n",
       "      <td>0.507609</td>\n",
       "      <td>0.556363</td>\n",
       "      <td>0.743794</td>\n",
       "      <td>0.195609</td>\n",
       "      <td>0.000000</td>\n",
       "      <td>0.040888</td>\n",
       "      <td>0.236497</td>\n",
       "      <td>0.655043</td>\n",
       "      <td>0.600471</td>\n",
       "      <td>0.484296</td>\n",
       "      <td>0.632057</td>\n",
       "      <td>0.548397</td>\n",
       "      <td>0.623710</td>\n",
       "      <td>0.269777</td>\n",
       "      <td>0.046708</td>\n",
       "      <td>0.013427</td>\n",
       "      <td>0.236497</td>\n",
       "      <td>0.606427</td>\n",
       "      <td>0.515403</td>\n",
       "      <td>0.435913</td>\n",
       "      <td>0.893225</td>\n",
       "      <td>0.585896</td>\n",
       "      <td>0.632145</td>\n",
       "      <td>0.307933</td>\n",
       "      <td>0.086142</td>\n",
       "      <td>0.014706</td>\n",
       "      <td>0.236497</td>\n",
       "      <td>0.586652</td>\n",
       "      <td>0.672068</td>\n",
       "      <td>0.565323</td>\n",
       "      <td>0.629848</td>\n",
       "      <td>0.595843</td>\n",
       "      <td>0.729196</td>\n",
       "      <td>0.209692</td>\n",
       "      <td>0.011390</td>\n",
       "      <td>0.038194</td>\n",
       "      <td>0.236497</td>\n",
       "      <td>0.664106</td>\n",
       "    </tr>\n",
       "    <tr>\n",
       "      <td>6000</td>\n",
       "      <td>0.522500</td>\n",
       "      <td>0.626915</td>\n",
       "      <td>0.689308</td>\n",
       "      <td>0.615476</td>\n",
       "      <td>0.507609</td>\n",
       "      <td>0.556363</td>\n",
       "      <td>0.743794</td>\n",
       "      <td>0.195609</td>\n",
       "      <td>0.000000</td>\n",
       "      <td>0.040888</td>\n",
       "      <td>0.236497</td>\n",
       "      <td>0.655043</td>\n",
       "      <td>0.600471</td>\n",
       "      <td>0.484296</td>\n",
       "      <td>0.632057</td>\n",
       "      <td>0.548397</td>\n",
       "      <td>0.623710</td>\n",
       "      <td>0.269777</td>\n",
       "      <td>0.046708</td>\n",
       "      <td>0.013427</td>\n",
       "      <td>0.236497</td>\n",
       "      <td>0.606427</td>\n",
       "      <td>0.515403</td>\n",
       "      <td>0.435913</td>\n",
       "      <td>0.893225</td>\n",
       "      <td>0.585896</td>\n",
       "      <td>0.632145</td>\n",
       "      <td>0.307933</td>\n",
       "      <td>0.086142</td>\n",
       "      <td>0.014706</td>\n",
       "      <td>0.236497</td>\n",
       "      <td>0.586652</td>\n",
       "      <td>0.672821</td>\n",
       "      <td>0.569065</td>\n",
       "      <td>0.607757</td>\n",
       "      <td>0.587774</td>\n",
       "      <td>0.731560</td>\n",
       "      <td>0.214823</td>\n",
       "      <td>0.017165</td>\n",
       "      <td>0.038839</td>\n",
       "      <td>0.236497</td>\n",
       "      <td>0.660552</td>\n",
       "    </tr>\n",
       "    <tr>\n",
       "      <td>6500</td>\n",
       "      <td>0.508600</td>\n",
       "      <td>0.608752</td>\n",
       "      <td>0.689308</td>\n",
       "      <td>0.615476</td>\n",
       "      <td>0.507609</td>\n",
       "      <td>0.556363</td>\n",
       "      <td>0.743794</td>\n",
       "      <td>0.195609</td>\n",
       "      <td>0.000000</td>\n",
       "      <td>0.040888</td>\n",
       "      <td>0.236497</td>\n",
       "      <td>0.655043</td>\n",
       "      <td>0.600471</td>\n",
       "      <td>0.484296</td>\n",
       "      <td>0.632057</td>\n",
       "      <td>0.548397</td>\n",
       "      <td>0.623710</td>\n",
       "      <td>0.269777</td>\n",
       "      <td>0.046708</td>\n",
       "      <td>0.013427</td>\n",
       "      <td>0.236497</td>\n",
       "      <td>0.606427</td>\n",
       "      <td>0.515403</td>\n",
       "      <td>0.435913</td>\n",
       "      <td>0.893225</td>\n",
       "      <td>0.585896</td>\n",
       "      <td>0.632145</td>\n",
       "      <td>0.307933</td>\n",
       "      <td>0.086142</td>\n",
       "      <td>0.014706</td>\n",
       "      <td>0.236497</td>\n",
       "      <td>0.586652</td>\n",
       "      <td>0.681112</td>\n",
       "      <td>0.606756</td>\n",
       "      <td>0.480609</td>\n",
       "      <td>0.536365</td>\n",
       "      <td>0.730849</td>\n",
       "      <td>0.208198</td>\n",
       "      <td>0.009704</td>\n",
       "      <td>0.038003</td>\n",
       "      <td>0.236497</td>\n",
       "      <td>0.643301</td>\n",
       "    </tr>\n",
       "    <tr>\n",
       "      <td>7000</td>\n",
       "      <td>0.476000</td>\n",
       "      <td>0.666633</td>\n",
       "      <td>0.689308</td>\n",
       "      <td>0.615476</td>\n",
       "      <td>0.507609</td>\n",
       "      <td>0.556363</td>\n",
       "      <td>0.743794</td>\n",
       "      <td>0.195609</td>\n",
       "      <td>0.000000</td>\n",
       "      <td>0.040888</td>\n",
       "      <td>0.236497</td>\n",
       "      <td>0.655043</td>\n",
       "      <td>0.600471</td>\n",
       "      <td>0.484296</td>\n",
       "      <td>0.632057</td>\n",
       "      <td>0.548397</td>\n",
       "      <td>0.623710</td>\n",
       "      <td>0.269777</td>\n",
       "      <td>0.046708</td>\n",
       "      <td>0.013427</td>\n",
       "      <td>0.236497</td>\n",
       "      <td>0.606427</td>\n",
       "      <td>0.515403</td>\n",
       "      <td>0.435913</td>\n",
       "      <td>0.893225</td>\n",
       "      <td>0.585896</td>\n",
       "      <td>0.632145</td>\n",
       "      <td>0.307933</td>\n",
       "      <td>0.086142</td>\n",
       "      <td>0.014706</td>\n",
       "      <td>0.236497</td>\n",
       "      <td>0.586652</td>\n",
       "      <td>0.668676</td>\n",
       "      <td>0.565299</td>\n",
       "      <td>0.591802</td>\n",
       "      <td>0.578247</td>\n",
       "      <td>0.715419</td>\n",
       "      <td>0.225924</td>\n",
       "      <td>0.022871</td>\n",
       "      <td>0.033443</td>\n",
       "      <td>0.236497</td>\n",
       "      <td>0.654179</td>\n",
       "    </tr>\n",
       "    <tr>\n",
       "      <td>7500</td>\n",
       "      <td>0.450900</td>\n",
       "      <td>0.684699</td>\n",
       "      <td>0.689308</td>\n",
       "      <td>0.615476</td>\n",
       "      <td>0.507609</td>\n",
       "      <td>0.556363</td>\n",
       "      <td>0.743794</td>\n",
       "      <td>0.195609</td>\n",
       "      <td>0.000000</td>\n",
       "      <td>0.040888</td>\n",
       "      <td>0.236497</td>\n",
       "      <td>0.655043</td>\n",
       "      <td>0.600471</td>\n",
       "      <td>0.484296</td>\n",
       "      <td>0.632057</td>\n",
       "      <td>0.548397</td>\n",
       "      <td>0.623710</td>\n",
       "      <td>0.269777</td>\n",
       "      <td>0.046708</td>\n",
       "      <td>0.013427</td>\n",
       "      <td>0.236497</td>\n",
       "      <td>0.606427</td>\n",
       "      <td>0.515403</td>\n",
       "      <td>0.435913</td>\n",
       "      <td>0.893225</td>\n",
       "      <td>0.585896</td>\n",
       "      <td>0.632145</td>\n",
       "      <td>0.307933</td>\n",
       "      <td>0.086142</td>\n",
       "      <td>0.014706</td>\n",
       "      <td>0.236497</td>\n",
       "      <td>0.586652</td>\n",
       "      <td>0.671974</td>\n",
       "      <td>0.573668</td>\n",
       "      <td>0.565783</td>\n",
       "      <td>0.569698</td>\n",
       "      <td>0.713221</td>\n",
       "      <td>0.228810</td>\n",
       "      <td>0.025173</td>\n",
       "      <td>0.032859</td>\n",
       "      <td>0.236497</td>\n",
       "      <td>0.651948</td>\n",
       "    </tr>\n",
       "  </tbody>\n",
       "</table><p>"
      ],
      "text/plain": [
       "<IPython.core.display.HTML object>"
      ]
     },
     "metadata": {},
     "output_type": "display_data"
    },
    {
     "name": "stderr",
     "output_type": "stream",
     "text": [
      "The following columns in the evaluation set don't have a corresponding argument in `DebertaV2ForSequenceClassification.forward` and have been ignored: text. If text are not expected by `DebertaV2ForSequenceClassification.forward`,  you can safely ignore this message.\n"
     ]
    },
    {
     "name": "stderr",
     "output_type": "stream",
     "text": [
      "***** Running Evaluation *****\n"
     ]
    },
    {
     "name": "stderr",
     "output_type": "stream",
     "text": [
      "  Num examples = 10615\n"
     ]
    },
    {
     "name": "stderr",
     "output_type": "stream",
     "text": [
      "  Batch size = 16\n"
     ]
    },
    {
     "name": "stderr",
     "output_type": "stream",
     "text": [
      "Saving model checkpoint to shot-influence/deberta-base-for-3-shots-t-right-bs16*2-3sh-instance-split-12150016/checkpoint-500\n"
     ]
    },
    {
     "name": "stderr",
     "output_type": "stream",
     "text": [
      "Configuration saved in shot-influence/deberta-base-for-3-shots-t-right-bs16*2-3sh-instance-split-12150016/checkpoint-500/config.json\n"
     ]
    },
    {
     "name": "stderr",
     "output_type": "stream",
     "text": [
      "Model weights saved in shot-influence/deberta-base-for-3-shots-t-right-bs16*2-3sh-instance-split-12150016/checkpoint-500/pytorch_model.bin\n"
     ]
    },
    {
     "name": "stderr",
     "output_type": "stream",
     "text": [
      "The following columns in the evaluation set don't have a corresponding argument in `DebertaV2ForSequenceClassification.forward` and have been ignored: text. If text are not expected by `DebertaV2ForSequenceClassification.forward`,  you can safely ignore this message.\n"
     ]
    },
    {
     "name": "stderr",
     "output_type": "stream",
     "text": [
      "***** Running Evaluation *****\n"
     ]
    },
    {
     "name": "stderr",
     "output_type": "stream",
     "text": [
      "  Num examples = 10615\n"
     ]
    },
    {
     "name": "stderr",
     "output_type": "stream",
     "text": [
      "  Batch size = 16\n"
     ]
    },
    {
     "name": "stderr",
     "output_type": "stream",
     "text": [
      "Saving model checkpoint to shot-influence/deberta-base-for-3-shots-t-right-bs16*2-3sh-instance-split-12150016/checkpoint-1000\n"
     ]
    },
    {
     "name": "stderr",
     "output_type": "stream",
     "text": [
      "Configuration saved in shot-influence/deberta-base-for-3-shots-t-right-bs16*2-3sh-instance-split-12150016/checkpoint-1000/config.json\n"
     ]
    },
    {
     "name": "stderr",
     "output_type": "stream",
     "text": [
      "Model weights saved in shot-influence/deberta-base-for-3-shots-t-right-bs16*2-3sh-instance-split-12150016/checkpoint-1000/pytorch_model.bin\n"
     ]
    },
    {
     "name": "stderr",
     "output_type": "stream",
     "text": [
      "Deleting older checkpoint [shot-influence/deberta-base-for-3-shots-t-right-bs16*2-3sh-instance-split-12150016/checkpoint-500] due to args.save_total_limit\n"
     ]
    },
    {
     "name": "stderr",
     "output_type": "stream",
     "text": [
      "The following columns in the evaluation set don't have a corresponding argument in `DebertaV2ForSequenceClassification.forward` and have been ignored: text. If text are not expected by `DebertaV2ForSequenceClassification.forward`,  you can safely ignore this message.\n"
     ]
    },
    {
     "name": "stderr",
     "output_type": "stream",
     "text": [
      "***** Running Evaluation *****\n"
     ]
    },
    {
     "name": "stderr",
     "output_type": "stream",
     "text": [
      "  Num examples = 10615\n"
     ]
    },
    {
     "name": "stderr",
     "output_type": "stream",
     "text": [
      "  Batch size = 16\n"
     ]
    },
    {
     "name": "stderr",
     "output_type": "stream",
     "text": [
      "Saving model checkpoint to shot-influence/deberta-base-for-3-shots-t-right-bs16*2-3sh-instance-split-12150016/checkpoint-1500\n"
     ]
    },
    {
     "name": "stderr",
     "output_type": "stream",
     "text": [
      "Configuration saved in shot-influence/deberta-base-for-3-shots-t-right-bs16*2-3sh-instance-split-12150016/checkpoint-1500/config.json\n"
     ]
    },
    {
     "name": "stderr",
     "output_type": "stream",
     "text": [
      "Model weights saved in shot-influence/deberta-base-for-3-shots-t-right-bs16*2-3sh-instance-split-12150016/checkpoint-1500/pytorch_model.bin\n"
     ]
    },
    {
     "name": "stderr",
     "output_type": "stream",
     "text": [
      "Deleting older checkpoint [shot-influence/deberta-base-for-3-shots-t-right-bs16*2-3sh-instance-split-12150016/checkpoint-1000] due to args.save_total_limit\n"
     ]
    },
    {
     "name": "stderr",
     "output_type": "stream",
     "text": [
      "The following columns in the evaluation set don't have a corresponding argument in `DebertaV2ForSequenceClassification.forward` and have been ignored: text. If text are not expected by `DebertaV2ForSequenceClassification.forward`,  you can safely ignore this message.\n"
     ]
    },
    {
     "name": "stderr",
     "output_type": "stream",
     "text": [
      "***** Running Evaluation *****\n"
     ]
    },
    {
     "name": "stderr",
     "output_type": "stream",
     "text": [
      "  Num examples = 10615\n"
     ]
    },
    {
     "name": "stderr",
     "output_type": "stream",
     "text": [
      "  Batch size = 16\n"
     ]
    },
    {
     "name": "stderr",
     "output_type": "stream",
     "text": [
      "Saving model checkpoint to shot-influence/deberta-base-for-3-shots-t-right-bs16*2-3sh-instance-split-12150016/checkpoint-2000\n"
     ]
    },
    {
     "name": "stderr",
     "output_type": "stream",
     "text": [
      "Configuration saved in shot-influence/deberta-base-for-3-shots-t-right-bs16*2-3sh-instance-split-12150016/checkpoint-2000/config.json\n"
     ]
    },
    {
     "name": "stderr",
     "output_type": "stream",
     "text": [
      "Model weights saved in shot-influence/deberta-base-for-3-shots-t-right-bs16*2-3sh-instance-split-12150016/checkpoint-2000/pytorch_model.bin\n"
     ]
    },
    {
     "name": "stderr",
     "output_type": "stream",
     "text": [
      "The following columns in the evaluation set don't have a corresponding argument in `DebertaV2ForSequenceClassification.forward` and have been ignored: text. If text are not expected by `DebertaV2ForSequenceClassification.forward`,  you can safely ignore this message.\n"
     ]
    },
    {
     "name": "stderr",
     "output_type": "stream",
     "text": [
      "***** Running Evaluation *****\n"
     ]
    },
    {
     "name": "stderr",
     "output_type": "stream",
     "text": [
      "  Num examples = 10615\n"
     ]
    },
    {
     "name": "stderr",
     "output_type": "stream",
     "text": [
      "  Batch size = 16\n"
     ]
    },
    {
     "name": "stderr",
     "output_type": "stream",
     "text": [
      "Saving model checkpoint to shot-influence/deberta-base-for-3-shots-t-right-bs16*2-3sh-instance-split-12150016/checkpoint-2500\n"
     ]
    },
    {
     "name": "stderr",
     "output_type": "stream",
     "text": [
      "Configuration saved in shot-influence/deberta-base-for-3-shots-t-right-bs16*2-3sh-instance-split-12150016/checkpoint-2500/config.json\n"
     ]
    },
    {
     "name": "stderr",
     "output_type": "stream",
     "text": [
      "Model weights saved in shot-influence/deberta-base-for-3-shots-t-right-bs16*2-3sh-instance-split-12150016/checkpoint-2500/pytorch_model.bin\n"
     ]
    },
    {
     "name": "stderr",
     "output_type": "stream",
     "text": [
      "Deleting older checkpoint [shot-influence/deberta-base-for-3-shots-t-right-bs16*2-3sh-instance-split-12150016/checkpoint-1500] due to args.save_total_limit\n"
     ]
    },
    {
     "name": "stderr",
     "output_type": "stream",
     "text": [
      "Deleting older checkpoint [shot-influence/deberta-base-for-3-shots-t-right-bs16*2-3sh-instance-split-12150016/checkpoint-2000] due to args.save_total_limit\n"
     ]
    },
    {
     "name": "stderr",
     "output_type": "stream",
     "text": [
      "The following columns in the evaluation set don't have a corresponding argument in `DebertaV2ForSequenceClassification.forward` and have been ignored: text. If text are not expected by `DebertaV2ForSequenceClassification.forward`,  you can safely ignore this message.\n"
     ]
    },
    {
     "name": "stderr",
     "output_type": "stream",
     "text": [
      "***** Running Evaluation *****\n"
     ]
    },
    {
     "name": "stderr",
     "output_type": "stream",
     "text": [
      "  Num examples = 10615\n"
     ]
    },
    {
     "name": "stderr",
     "output_type": "stream",
     "text": [
      "  Batch size = 16\n"
     ]
    },
    {
     "name": "stderr",
     "output_type": "stream",
     "text": [
      "Saving model checkpoint to shot-influence/deberta-base-for-3-shots-t-right-bs16*2-3sh-instance-split-12150016/checkpoint-3000\n"
     ]
    },
    {
     "name": "stderr",
     "output_type": "stream",
     "text": [
      "Configuration saved in shot-influence/deberta-base-for-3-shots-t-right-bs16*2-3sh-instance-split-12150016/checkpoint-3000/config.json\n"
     ]
    },
    {
     "name": "stderr",
     "output_type": "stream",
     "text": [
      "Model weights saved in shot-influence/deberta-base-for-3-shots-t-right-bs16*2-3sh-instance-split-12150016/checkpoint-3000/pytorch_model.bin\n"
     ]
    },
    {
     "name": "stderr",
     "output_type": "stream",
     "text": [
      "The following columns in the evaluation set don't have a corresponding argument in `DebertaV2ForSequenceClassification.forward` and have been ignored: text. If text are not expected by `DebertaV2ForSequenceClassification.forward`,  you can safely ignore this message.\n"
     ]
    },
    {
     "name": "stderr",
     "output_type": "stream",
     "text": [
      "***** Running Evaluation *****\n"
     ]
    },
    {
     "name": "stderr",
     "output_type": "stream",
     "text": [
      "  Num examples = 10615\n"
     ]
    },
    {
     "name": "stderr",
     "output_type": "stream",
     "text": [
      "  Batch size = 16\n"
     ]
    },
    {
     "name": "stderr",
     "output_type": "stream",
     "text": [
      "Saving model checkpoint to shot-influence/deberta-base-for-3-shots-t-right-bs16*2-3sh-instance-split-12150016/checkpoint-3500\n"
     ]
    },
    {
     "name": "stderr",
     "output_type": "stream",
     "text": [
      "Configuration saved in shot-influence/deberta-base-for-3-shots-t-right-bs16*2-3sh-instance-split-12150016/checkpoint-3500/config.json\n"
     ]
    },
    {
     "name": "stderr",
     "output_type": "stream",
     "text": [
      "Model weights saved in shot-influence/deberta-base-for-3-shots-t-right-bs16*2-3sh-instance-split-12150016/checkpoint-3500/pytorch_model.bin\n"
     ]
    },
    {
     "name": "stderr",
     "output_type": "stream",
     "text": [
      "Deleting older checkpoint [shot-influence/deberta-base-for-3-shots-t-right-bs16*2-3sh-instance-split-12150016/checkpoint-2500] due to args.save_total_limit\n"
     ]
    },
    {
     "name": "stderr",
     "output_type": "stream",
     "text": [
      "Deleting older checkpoint [shot-influence/deberta-base-for-3-shots-t-right-bs16*2-3sh-instance-split-12150016/checkpoint-3000] due to args.save_total_limit\n"
     ]
    },
    {
     "name": "stderr",
     "output_type": "stream",
     "text": [
      "The following columns in the evaluation set don't have a corresponding argument in `DebertaV2ForSequenceClassification.forward` and have been ignored: text. If text are not expected by `DebertaV2ForSequenceClassification.forward`,  you can safely ignore this message.\n"
     ]
    },
    {
     "name": "stderr",
     "output_type": "stream",
     "text": [
      "***** Running Evaluation *****\n"
     ]
    },
    {
     "name": "stderr",
     "output_type": "stream",
     "text": [
      "  Num examples = 10615\n"
     ]
    },
    {
     "name": "stderr",
     "output_type": "stream",
     "text": [
      "  Batch size = 16\n"
     ]
    },
    {
     "name": "stderr",
     "output_type": "stream",
     "text": [
      "Saving model checkpoint to shot-influence/deberta-base-for-3-shots-t-right-bs16*2-3sh-instance-split-12150016/checkpoint-4000\n"
     ]
    },
    {
     "name": "stderr",
     "output_type": "stream",
     "text": [
      "Configuration saved in shot-influence/deberta-base-for-3-shots-t-right-bs16*2-3sh-instance-split-12150016/checkpoint-4000/config.json\n"
     ]
    },
    {
     "name": "stderr",
     "output_type": "stream",
     "text": [
      "Model weights saved in shot-influence/deberta-base-for-3-shots-t-right-bs16*2-3sh-instance-split-12150016/checkpoint-4000/pytorch_model.bin\n"
     ]
    },
    {
     "name": "stderr",
     "output_type": "stream",
     "text": [
      "The following columns in the evaluation set don't have a corresponding argument in `DebertaV2ForSequenceClassification.forward` and have been ignored: text. If text are not expected by `DebertaV2ForSequenceClassification.forward`,  you can safely ignore this message.\n"
     ]
    },
    {
     "name": "stderr",
     "output_type": "stream",
     "text": [
      "***** Running Evaluation *****\n"
     ]
    },
    {
     "name": "stderr",
     "output_type": "stream",
     "text": [
      "  Num examples = 10615\n"
     ]
    },
    {
     "name": "stderr",
     "output_type": "stream",
     "text": [
      "  Batch size = 16\n"
     ]
    },
    {
     "name": "stderr",
     "output_type": "stream",
     "text": [
      "Saving model checkpoint to shot-influence/deberta-base-for-3-shots-t-right-bs16*2-3sh-instance-split-12150016/checkpoint-4500\n"
     ]
    },
    {
     "name": "stderr",
     "output_type": "stream",
     "text": [
      "Configuration saved in shot-influence/deberta-base-for-3-shots-t-right-bs16*2-3sh-instance-split-12150016/checkpoint-4500/config.json\n"
     ]
    },
    {
     "name": "stderr",
     "output_type": "stream",
     "text": [
      "Model weights saved in shot-influence/deberta-base-for-3-shots-t-right-bs16*2-3sh-instance-split-12150016/checkpoint-4500/pytorch_model.bin\n"
     ]
    },
    {
     "name": "stderr",
     "output_type": "stream",
     "text": [
      "Deleting older checkpoint [shot-influence/deberta-base-for-3-shots-t-right-bs16*2-3sh-instance-split-12150016/checkpoint-4000] due to args.save_total_limit\n"
     ]
    },
    {
     "name": "stderr",
     "output_type": "stream",
     "text": [
      "The following columns in the evaluation set don't have a corresponding argument in `DebertaV2ForSequenceClassification.forward` and have been ignored: text. If text are not expected by `DebertaV2ForSequenceClassification.forward`,  you can safely ignore this message.\n"
     ]
    },
    {
     "name": "stderr",
     "output_type": "stream",
     "text": [
      "***** Running Evaluation *****\n"
     ]
    },
    {
     "name": "stderr",
     "output_type": "stream",
     "text": [
      "  Num examples = 10615\n"
     ]
    },
    {
     "name": "stderr",
     "output_type": "stream",
     "text": [
      "  Batch size = 16\n"
     ]
    },
    {
     "name": "stderr",
     "output_type": "stream",
     "text": [
      "Saving model checkpoint to shot-influence/deberta-base-for-3-shots-t-right-bs16*2-3sh-instance-split-12150016/checkpoint-5000\n"
     ]
    },
    {
     "name": "stderr",
     "output_type": "stream",
     "text": [
      "Configuration saved in shot-influence/deberta-base-for-3-shots-t-right-bs16*2-3sh-instance-split-12150016/checkpoint-5000/config.json\n"
     ]
    },
    {
     "name": "stderr",
     "output_type": "stream",
     "text": [
      "Model weights saved in shot-influence/deberta-base-for-3-shots-t-right-bs16*2-3sh-instance-split-12150016/checkpoint-5000/pytorch_model.bin\n"
     ]
    },
    {
     "name": "stderr",
     "output_type": "stream",
     "text": [
      "Deleting older checkpoint [shot-influence/deberta-base-for-3-shots-t-right-bs16*2-3sh-instance-split-12150016/checkpoint-3500] due to args.save_total_limit\n"
     ]
    },
    {
     "name": "stderr",
     "output_type": "stream",
     "text": [
      "Deleting older checkpoint [shot-influence/deberta-base-for-3-shots-t-right-bs16*2-3sh-instance-split-12150016/checkpoint-4500] due to args.save_total_limit\n"
     ]
    },
    {
     "name": "stderr",
     "output_type": "stream",
     "text": [
      "The following columns in the evaluation set don't have a corresponding argument in `DebertaV2ForSequenceClassification.forward` and have been ignored: text. If text are not expected by `DebertaV2ForSequenceClassification.forward`,  you can safely ignore this message.\n"
     ]
    },
    {
     "name": "stderr",
     "output_type": "stream",
     "text": [
      "***** Running Evaluation *****\n"
     ]
    },
    {
     "name": "stderr",
     "output_type": "stream",
     "text": [
      "  Num examples = 10615\n"
     ]
    },
    {
     "name": "stderr",
     "output_type": "stream",
     "text": [
      "  Batch size = 16\n"
     ]
    },
    {
     "name": "stderr",
     "output_type": "stream",
     "text": [
      "Saving model checkpoint to shot-influence/deberta-base-for-3-shots-t-right-bs16*2-3sh-instance-split-12150016/checkpoint-5500\n"
     ]
    },
    {
     "name": "stderr",
     "output_type": "stream",
     "text": [
      "Configuration saved in shot-influence/deberta-base-for-3-shots-t-right-bs16*2-3sh-instance-split-12150016/checkpoint-5500/config.json\n"
     ]
    },
    {
     "name": "stderr",
     "output_type": "stream",
     "text": [
      "Model weights saved in shot-influence/deberta-base-for-3-shots-t-right-bs16*2-3sh-instance-split-12150016/checkpoint-5500/pytorch_model.bin\n"
     ]
    },
    {
     "name": "stderr",
     "output_type": "stream",
     "text": [
      "The following columns in the evaluation set don't have a corresponding argument in `DebertaV2ForSequenceClassification.forward` and have been ignored: text. If text are not expected by `DebertaV2ForSequenceClassification.forward`,  you can safely ignore this message.\n"
     ]
    },
    {
     "name": "stderr",
     "output_type": "stream",
     "text": [
      "***** Running Evaluation *****\n"
     ]
    },
    {
     "name": "stderr",
     "output_type": "stream",
     "text": [
      "  Num examples = 10615\n"
     ]
    },
    {
     "name": "stderr",
     "output_type": "stream",
     "text": [
      "  Batch size = 16\n"
     ]
    },
    {
     "name": "stderr",
     "output_type": "stream",
     "text": [
      "Saving model checkpoint to shot-influence/deberta-base-for-3-shots-t-right-bs16*2-3sh-instance-split-12150016/checkpoint-6000\n"
     ]
    },
    {
     "name": "stderr",
     "output_type": "stream",
     "text": [
      "Configuration saved in shot-influence/deberta-base-for-3-shots-t-right-bs16*2-3sh-instance-split-12150016/checkpoint-6000/config.json\n"
     ]
    },
    {
     "name": "stderr",
     "output_type": "stream",
     "text": [
      "Model weights saved in shot-influence/deberta-base-for-3-shots-t-right-bs16*2-3sh-instance-split-12150016/checkpoint-6000/pytorch_model.bin\n"
     ]
    },
    {
     "name": "stderr",
     "output_type": "stream",
     "text": [
      "Deleting older checkpoint [shot-influence/deberta-base-for-3-shots-t-right-bs16*2-3sh-instance-split-12150016/checkpoint-5500] due to args.save_total_limit\n"
     ]
    },
    {
     "name": "stderr",
     "output_type": "stream",
     "text": [
      "The following columns in the evaluation set don't have a corresponding argument in `DebertaV2ForSequenceClassification.forward` and have been ignored: text. If text are not expected by `DebertaV2ForSequenceClassification.forward`,  you can safely ignore this message.\n"
     ]
    },
    {
     "name": "stderr",
     "output_type": "stream",
     "text": [
      "***** Running Evaluation *****\n"
     ]
    },
    {
     "name": "stderr",
     "output_type": "stream",
     "text": [
      "  Num examples = 10615\n"
     ]
    },
    {
     "name": "stderr",
     "output_type": "stream",
     "text": [
      "  Batch size = 16\n"
     ]
    },
    {
     "name": "stderr",
     "output_type": "stream",
     "text": [
      "Saving model checkpoint to shot-influence/deberta-base-for-3-shots-t-right-bs16*2-3sh-instance-split-12150016/checkpoint-6500\n"
     ]
    },
    {
     "name": "stderr",
     "output_type": "stream",
     "text": [
      "Configuration saved in shot-influence/deberta-base-for-3-shots-t-right-bs16*2-3sh-instance-split-12150016/checkpoint-6500/config.json\n"
     ]
    },
    {
     "name": "stderr",
     "output_type": "stream",
     "text": [
      "Model weights saved in shot-influence/deberta-base-for-3-shots-t-right-bs16*2-3sh-instance-split-12150016/checkpoint-6500/pytorch_model.bin\n"
     ]
    },
    {
     "name": "stderr",
     "output_type": "stream",
     "text": [
      "Deleting older checkpoint [shot-influence/deberta-base-for-3-shots-t-right-bs16*2-3sh-instance-split-12150016/checkpoint-6000] due to args.save_total_limit\n"
     ]
    },
    {
     "name": "stderr",
     "output_type": "stream",
     "text": [
      "The following columns in the evaluation set don't have a corresponding argument in `DebertaV2ForSequenceClassification.forward` and have been ignored: text. If text are not expected by `DebertaV2ForSequenceClassification.forward`,  you can safely ignore this message.\n"
     ]
    },
    {
     "name": "stderr",
     "output_type": "stream",
     "text": [
      "***** Running Evaluation *****\n"
     ]
    },
    {
     "name": "stderr",
     "output_type": "stream",
     "text": [
      "  Num examples = 10615\n"
     ]
    },
    {
     "name": "stderr",
     "output_type": "stream",
     "text": [
      "  Batch size = 16\n"
     ]
    },
    {
     "name": "stderr",
     "output_type": "stream",
     "text": [
      "Saving model checkpoint to shot-influence/deberta-base-for-3-shots-t-right-bs16*2-3sh-instance-split-12150016/checkpoint-7000\n"
     ]
    },
    {
     "name": "stderr",
     "output_type": "stream",
     "text": [
      "Configuration saved in shot-influence/deberta-base-for-3-shots-t-right-bs16*2-3sh-instance-split-12150016/checkpoint-7000/config.json\n"
     ]
    },
    {
     "name": "stderr",
     "output_type": "stream",
     "text": [
      "Model weights saved in shot-influence/deberta-base-for-3-shots-t-right-bs16*2-3sh-instance-split-12150016/checkpoint-7000/pytorch_model.bin\n"
     ]
    },
    {
     "name": "stderr",
     "output_type": "stream",
     "text": [
      "Deleting older checkpoint [shot-influence/deberta-base-for-3-shots-t-right-bs16*2-3sh-instance-split-12150016/checkpoint-6500] due to args.save_total_limit\n"
     ]
    },
    {
     "name": "stderr",
     "output_type": "stream",
     "text": [
      "The following columns in the evaluation set don't have a corresponding argument in `DebertaV2ForSequenceClassification.forward` and have been ignored: text. If text are not expected by `DebertaV2ForSequenceClassification.forward`,  you can safely ignore this message.\n"
     ]
    },
    {
     "name": "stderr",
     "output_type": "stream",
     "text": [
      "***** Running Evaluation *****\n"
     ]
    },
    {
     "name": "stderr",
     "output_type": "stream",
     "text": [
      "  Num examples = 10615\n"
     ]
    },
    {
     "name": "stderr",
     "output_type": "stream",
     "text": [
      "  Batch size = 16\n"
     ]
    },
    {
     "name": "stderr",
     "output_type": "stream",
     "text": [
      "Saving model checkpoint to shot-influence/deberta-base-for-3-shots-t-right-bs16*2-3sh-instance-split-12150016/checkpoint-7500\n"
     ]
    },
    {
     "name": "stderr",
     "output_type": "stream",
     "text": [
      "Configuration saved in shot-influence/deberta-base-for-3-shots-t-right-bs16*2-3sh-instance-split-12150016/checkpoint-7500/config.json\n"
     ]
    },
    {
     "name": "stderr",
     "output_type": "stream",
     "text": [
      "Model weights saved in shot-influence/deberta-base-for-3-shots-t-right-bs16*2-3sh-instance-split-12150016/checkpoint-7500/pytorch_model.bin\n"
     ]
    },
    {
     "name": "stderr",
     "output_type": "stream",
     "text": [
      "Deleting older checkpoint [shot-influence/deberta-base-for-3-shots-t-right-bs16*2-3sh-instance-split-12150016/checkpoint-7000] due to args.save_total_limit\n"
     ]
    },
    {
     "name": "stderr",
     "output_type": "stream",
     "text": [
      "\n",
      "\n",
      "Training completed. Do not forget to share your model on huggingface.co/models =)\n",
      "\n",
      "\n"
     ]
    },
    {
     "name": "stderr",
     "output_type": "stream",
     "text": [
      "Loading best model from shot-influence/deberta-base-for-3-shots-t-right-bs16*2-3sh-instance-split-12150016/checkpoint-5000 (score: 0.5761862993240356).\n"
     ]
    },
    {
     "data": {
      "text/html": [
       "Waiting for W&B process to finish... <strong style=\"color:green\">(success).</strong>"
      ],
      "text/plain": [
       "<IPython.core.display.HTML object>"
      ]
     },
     "metadata": {},
     "output_type": "display_data"
    },
    {
     "data": {
      "application/vnd.jupyter.widget-view+json": {
       "model_id": "3367a370e27b45da9d5584cf00d16df4",
       "version_major": 2,
       "version_minor": 0
      },
      "text/plain": [
       "VBox(children=(Label(value='0.001 MB of 0.001 MB uploaded (0.000 MB deduped)\\r'), FloatProgress(value=1.0, max…"
      ]
     },
     "metadata": {},
     "output_type": "display_data"
    },
    {
     "data": {
      "text/html": [
       "<style>\n",
       "    table.wandb td:nth-child(1) { padding: 0 10px; text-align: left ; width: auto;} td:nth-child(2) {text-align: left ; width: 100%}\n",
       "    .wandb-row { display: flex; flex-direction: row; flex-wrap: wrap; justify-content: flex-start; width: 100% }\n",
       "    .wandb-col { display: flex; flex-direction: column; flex-basis: 100%; flex: 1; padding: 10px; }\n",
       "    </style>\n",
       "<div class=\"wandb-row\"><div class=\"wandb-col\"><h3>Run history:</h3><br/><table class=\"wandb\"><tr><td>eval/accuracy</td><td>▁▆█▇█▇▇▅██▄▅▇▃▄</td></tr><tr><td>eval/balanced_accuracy</td><td>▁▇▆▇▇█▆▃▆▆▇▇▆▆▆</td></tr><tr><td>eval/bs</td><td>▄▂▁▂▁▂▁▂▁▁▄▅▃▇█</td></tr><tr><td>eval/bs_dsc</td><td>▂▄▆▆▇▆▇▇▇█▅▆▅▁▁</td></tr><tr><td>eval/bs_mcb</td><td>▂▁▁▁▁▂▁▂▁▁▄▆▃▇█</td></tr><tr><td>eval/bs_unc</td><td>▁▁▁▁▁▁▁▁▁▁▁▁▁▁▁</td></tr><tr><td>eval/conf_absolute_accuracy</td><td>▁▁▁▁▁▁▁▁▁▁▁▁▁▁▁</td></tr><tr><td>eval/conf_absolute_balanced_accuracy</td><td>▁▁▁▁▁▁▁▁▁▁▁▁▁▁▁</td></tr><tr><td>eval/conf_absolute_bs</td><td>▁▁▁▁▁▁▁▁▁▁▁▁▁▁▁</td></tr><tr><td>eval/conf_absolute_bs_dsc</td><td>▁▁▁▁▁▁▁▁▁▁▁▁▁▁▁</td></tr><tr><td>eval/conf_absolute_bs_mcb</td><td>▁▁▁▁▁▁▁▁▁▁▁▁▁▁▁</td></tr><tr><td>eval/conf_absolute_bs_unc</td><td>▁▁▁▁▁▁▁▁▁▁▁▁▁▁▁</td></tr><tr><td>eval/conf_absolute_f1</td><td>▁▁▁▁▁▁▁▁▁▁▁▁▁▁▁</td></tr><tr><td>eval/conf_absolute_precision</td><td>▁▁▁▁▁▁▁▁▁▁▁▁▁▁▁</td></tr><tr><td>eval/conf_absolute_recall</td><td>▁▁▁▁▁▁▁▁▁▁▁▁▁▁▁</td></tr><tr><td>eval/conf_absolute_roc_auc</td><td>▁▁▁▁▁▁▁▁▁▁▁▁▁▁▁</td></tr><tr><td>eval/conf_distribution_accuracy</td><td>▁▁▁▁▁▁▁▁▁▁▁▁▁▁▁</td></tr><tr><td>eval/conf_distribution_balanced_accuracy</td><td>▁▁▁▁▁▁▁▁▁▁▁▁▁▁▁</td></tr><tr><td>eval/conf_distribution_bs</td><td>▁▁▁▁▁▁▁▁▁▁▁▁▁▁▁</td></tr><tr><td>eval/conf_distribution_bs_dsc</td><td>▁▁▁▁▁▁▁▁▁▁▁▁▁▁▁</td></tr><tr><td>eval/conf_distribution_bs_mcb</td><td>▁▁▁▁▁▁▁▁▁▁▁▁▁▁▁</td></tr><tr><td>eval/conf_distribution_bs_unc</td><td>▁▁▁▁▁▁▁▁▁▁▁▁▁▁▁</td></tr><tr><td>eval/conf_distribution_f1</td><td>▁▁▁▁▁▁▁▁▁▁▁▁▁▁▁</td></tr><tr><td>eval/conf_distribution_precision</td><td>▁▁▁▁▁▁▁▁▁▁▁▁▁▁▁</td></tr><tr><td>eval/conf_distribution_recall</td><td>▁▁▁▁▁▁▁▁▁▁▁▁▁▁▁</td></tr><tr><td>eval/conf_distribution_roc_auc</td><td>▁▁▁▁▁▁▁▁▁▁▁▁▁▁▁</td></tr><tr><td>eval/conf_normalized_accuracy</td><td>▁▁▁▁▁▁▁▁▁▁▁▁▁▁▁</td></tr><tr><td>eval/conf_normalized_balanced_accuracy</td><td>▁▁▁▁▁▁▁▁▁▁▁▁▁▁▁</td></tr><tr><td>eval/conf_normalized_bs</td><td>▁▁▁▁▁▁▁▁▁▁▁▁▁▁▁</td></tr><tr><td>eval/conf_normalized_bs_dsc</td><td>▁▁▁▁▁▁▁▁▁▁▁▁▁▁▁</td></tr><tr><td>eval/conf_normalized_bs_mcb</td><td>▁▁▁▁▁▁▁▁▁▁▁▁▁▁▁</td></tr><tr><td>eval/conf_normalized_bs_unc</td><td>▁▁▁▁▁▁▁▁▁▁▁▁▁▁▁</td></tr><tr><td>eval/conf_normalized_f1</td><td>▁▁▁▁▁▁▁▁▁▁▁▁▁▁▁</td></tr><tr><td>eval/conf_normalized_precision</td><td>▁▁▁▁▁▁▁▁▁▁▁▁▁▁▁</td></tr><tr><td>eval/conf_normalized_recall</td><td>▁▁▁▁▁▁▁▁▁▁▁▁▁▁▁</td></tr><tr><td>eval/conf_normalized_roc_auc</td><td>▁▁▁▁▁▁▁▁▁▁▁▁▁▁▁</td></tr><tr><td>eval/f1</td><td>▁█▇▇▇█▆▃▇▇█▇▆▇▇</td></tr><tr><td>eval/loss</td><td>▃▂▁▂▁▂▁▁▁▁▃▄▃▇█</td></tr><tr><td>eval/precision</td><td>█▂▃▃▃▂▄█▃▃▁▁▄▁▂</td></tr><tr><td>eval/recall</td><td>▁▇▆▇▇█▅▂▆▆█▇▅▇▇</td></tr><tr><td>eval/roc_auc</td><td>▂▄▆▆▇▆▇▇▇█▅▅▅▂▁</td></tr><tr><td>eval/runtime</td><td>▅█▂▂▁▇▁▂▃▅▅▃▁▄▅</td></tr><tr><td>eval/samples_per_second</td><td>▄▁▇▇█▂█▇▆▄▄▆█▅▄</td></tr><tr><td>eval/steps_per_second</td><td>▄▁▇▇█▂█▇▆▄▄▆█▅▄</td></tr><tr><td>train/epoch</td><td>▁▁▁▁▂▂▂▂▃▃▃▃▄▄▄▄▅▅▅▅▆▆▆▆▇▇▇▇███</td></tr><tr><td>train/global_step</td><td>▁▁▁▁▂▂▂▂▃▃▃▃▄▄▄▄▅▅▅▅▆▆▆▆▇▇▇▇███</td></tr><tr><td>train/learning_rate</td><td>▂▃▄▅▇█▇▆▆▅▄▃▃▂▁</td></tr><tr><td>train/loss</td><td>█▆▆▆▆▆▆▆▅▅▅▄▃▂▁</td></tr><tr><td>train/total_flos</td><td>▁</td></tr><tr><td>train/train_loss</td><td>▁</td></tr><tr><td>train/train_runtime</td><td>▁</td></tr><tr><td>train/train_samples_per_second</td><td>▁</td></tr><tr><td>train/train_steps_per_second</td><td>▁</td></tr></table><br/></div><div class=\"wandb-col\"><h3>Run summary:</h3><br/><table class=\"wandb\"><tr><td>eval/accuracy</td><td>0.67197</td></tr><tr><td>eval/balanced_accuracy</td><td>0.65195</td></tr><tr><td>eval/bs</td><td>0.22881</td></tr><tr><td>eval/bs_dsc</td><td>0.03286</td></tr><tr><td>eval/bs_mcb</td><td>0.02517</td></tr><tr><td>eval/bs_unc</td><td>0.2365</td></tr><tr><td>eval/conf_absolute_accuracy</td><td>0.60047</td></tr><tr><td>eval/conf_absolute_balanced_accuracy</td><td>0.60643</td></tr><tr><td>eval/conf_absolute_bs</td><td>0.26978</td></tr><tr><td>eval/conf_absolute_bs_dsc</td><td>0.01343</td></tr><tr><td>eval/conf_absolute_bs_mcb</td><td>0.04671</td></tr><tr><td>eval/conf_absolute_bs_unc</td><td>0.2365</td></tr><tr><td>eval/conf_absolute_f1</td><td>0.5484</td></tr><tr><td>eval/conf_absolute_precision</td><td>0.4843</td></tr><tr><td>eval/conf_absolute_recall</td><td>0.63206</td></tr><tr><td>eval/conf_absolute_roc_auc</td><td>0.62371</td></tr><tr><td>eval/conf_distribution_accuracy</td><td>0.68931</td></tr><tr><td>eval/conf_distribution_balanced_accuracy</td><td>0.65504</td></tr><tr><td>eval/conf_distribution_bs</td><td>0.19561</td></tr><tr><td>eval/conf_distribution_bs_dsc</td><td>0.04089</td></tr><tr><td>eval/conf_distribution_bs_mcb</td><td>0.0</td></tr><tr><td>eval/conf_distribution_bs_unc</td><td>0.2365</td></tr><tr><td>eval/conf_distribution_f1</td><td>0.55636</td></tr><tr><td>eval/conf_distribution_precision</td><td>0.61548</td></tr><tr><td>eval/conf_distribution_recall</td><td>0.50761</td></tr><tr><td>eval/conf_distribution_roc_auc</td><td>0.74379</td></tr><tr><td>eval/conf_normalized_accuracy</td><td>0.5154</td></tr><tr><td>eval/conf_normalized_balanced_accuracy</td><td>0.58665</td></tr><tr><td>eval/conf_normalized_bs</td><td>0.30793</td></tr><tr><td>eval/conf_normalized_bs_dsc</td><td>0.01471</td></tr><tr><td>eval/conf_normalized_bs_mcb</td><td>0.08614</td></tr><tr><td>eval/conf_normalized_bs_unc</td><td>0.2365</td></tr><tr><td>eval/conf_normalized_f1</td><td>0.5859</td></tr><tr><td>eval/conf_normalized_precision</td><td>0.43591</td></tr><tr><td>eval/conf_normalized_recall</td><td>0.89323</td></tr><tr><td>eval/conf_normalized_roc_auc</td><td>0.63214</td></tr><tr><td>eval/f1</td><td>0.5697</td></tr><tr><td>eval/loss</td><td>0.6847</td></tr><tr><td>eval/precision</td><td>0.57367</td></tr><tr><td>eval/recall</td><td>0.56578</td></tr><tr><td>eval/roc_auc</td><td>0.71322</td></tr><tr><td>eval/runtime</td><td>163.5272</td></tr><tr><td>eval/samples_per_second</td><td>64.913</td></tr><tr><td>eval/steps_per_second</td><td>4.06</td></tr><tr><td>train/epoch</td><td>6.0</td></tr><tr><td>train/global_step</td><td>7956</td></tr><tr><td>train/learning_rate</td><td>0.0</td></tr><tr><td>train/loss</td><td>0.4509</td></tr><tr><td>train/total_flos</td><td>6.697454156483789e+16</td></tr><tr><td>train/train_loss</td><td>0.55117</td></tr><tr><td>train/train_runtime</td><td>13230.7774</td></tr><tr><td>train/train_samples_per_second</td><td>19.239</td></tr><tr><td>train/train_steps_per_second</td><td>0.601</td></tr></table><br/></div></div>"
      ],
      "text/plain": [
       "<IPython.core.display.HTML object>"
      ]
     },
     "metadata": {},
     "output_type": "display_data"
    },
    {
     "data": {
      "text/html": [
       "Synced <strong style=\"color:#cdcd00\">deberta-base-for-3-shots-t-right-bs16*2-3sh-instance-split</strong>: <a href=\"https://wandb.ai/wschella/lass/runs/2k5s5awj\" target=\"_blank\">https://wandb.ai/wschella/lass/runs/2k5s5awj</a><br/>Synced 6 W&B file(s), 0 media file(s), 0 artifact file(s) and 0 other file(s)"
      ],
      "text/plain": [
       "<IPython.core.display.HTML object>"
      ]
     },
     "metadata": {},
     "output_type": "display_data"
    },
    {
     "data": {
      "text/html": [
       "Find logs at: <code>/tmp/wandb/run-20221215_001637-2k5s5awj/logs</code>"
      ],
      "text/plain": [
       "<IPython.core.display.HTML object>"
      ]
     },
     "metadata": {},
     "output_type": "display_data"
    },
    {
     "name": "stdout",
     "output_type": "stream",
     "text": [
      "{'text': 'In what follows, we provide short narratives, each of which illustrates a common proverb. \\nNarrative: The anxiety about getting the injection made her unable to sleep that night, but the actual experience wasn\\'t as bad as she thought it would be.\\nThis narrative is a good illustration of the following proverb: Don\\'t meet troubles half-way\\n\\nNarrative: Inmate 76853 lay on the execution gurney ready to utter his last words before lethal drugs ended his life.  He looked through the mirror into the witness room and said to his family and his victim\\'s family: \"I killed Victoria.  It was wrong.  I can\\'t take it back.  I earned my punishment, and I accept it.\"  Inmate 76853 turned his head back to stare at the stark ceiling and paid his debt with his life.\\nThis narrative is a good illustration of the following proverb: The wages of sin is death\\n\\nNarrative: \"Oil change? Why would I want that Tim told the auto tech. Tim was convinced the mechanic was just trying to figure out a way to make even more money and he didn\\'t feel like spending $50 on one. Well, 12 months later, when his car started to smoke, Tim head back to the same auto shop. Unfortunately, because he declined the oil change, his engine became damaged over time and it was going to cost over $1,000 to repair the damage.\\nThis narrative is a good illustration of the following proverb: A stitch in time saves nine\\n\\nNarrative: A father brought his son to the local airport for a show. They got up close to an plane in the show. The pilot arrives and turns on the engine. The plane makes a considerable roar, scaring the child. The child cowers behind the father as the father reassures the child that it is just a loud noise and it won\\'t hurt him.\\nThis narrative is a good illustration of the following proverb: ', 'label': 0}\n"
     ]
    },
    {
     "name": "stderr",
     "output_type": "stream",
     "text": [
      "loading configuration file https://huggingface.co/microsoft/deberta-v3-base/resolve/main/config.json from cache at /home/wout/.cache/huggingface/transformers/e6f9db57345f0f60c9f837fa97bcb27b1ed31e99feb33d732d7d8c80cb8f8459.de97182a9f32a68819030ba8f3f6ff2ba47276be3864425925523202f54cc79c\n"
     ]
    },
    {
     "name": "stderr",
     "output_type": "stream",
     "text": [
      "Model config DebertaV2Config {\n",
      "  \"_name_or_path\": \"microsoft/deberta-v3-base\",\n",
      "  \"attention_probs_dropout_prob\": 0.1,\n",
      "  \"hidden_act\": \"gelu\",\n",
      "  \"hidden_dropout_prob\": 0.1,\n",
      "  \"hidden_size\": 768,\n",
      "  \"initializer_range\": 0.02,\n",
      "  \"intermediate_size\": 3072,\n",
      "  \"layer_norm_eps\": 1e-07,\n",
      "  \"max_position_embeddings\": 512,\n",
      "  \"max_relative_positions\": -1,\n",
      "  \"model_type\": \"deberta-v2\",\n",
      "  \"norm_rel_ebd\": \"layer_norm\",\n",
      "  \"num_attention_heads\": 12,\n",
      "  \"num_hidden_layers\": 12,\n",
      "  \"pad_token_id\": 0,\n",
      "  \"pooler_dropout\": 0,\n",
      "  \"pooler_hidden_act\": \"gelu\",\n",
      "  \"pooler_hidden_size\": 768,\n",
      "  \"pos_att_type\": [\n",
      "    \"p2c\",\n",
      "    \"c2p\"\n",
      "  ],\n",
      "  \"position_biased_input\": false,\n",
      "  \"position_buckets\": 256,\n",
      "  \"relative_attention\": true,\n",
      "  \"share_att_key\": true,\n",
      "  \"transformers_version\": \"4.20.1\",\n",
      "  \"type_vocab_size\": 0,\n",
      "  \"vocab_size\": 128100\n",
      "}\n",
      "\n"
     ]
    },
    {
     "name": "stderr",
     "output_type": "stream",
     "text": [
      "loading file https://huggingface.co/microsoft/deberta-v3-base/resolve/main/spm.model from cache at /home/wout/.cache/huggingface/transformers/ec748fd4f03d0e5a2d5d56dff01e6dd733f23c67105cd54a9910f9d711870253.0abaeacf7287ee8ba758fec15ddfb4bb6c697bb1a8db272725f8aa633501787a\n"
     ]
    },
    {
     "name": "stderr",
     "output_type": "stream",
     "text": [
      "loading file https://huggingface.co/microsoft/deberta-v3-base/resolve/main/tokenizer.json from cache at None\n"
     ]
    },
    {
     "name": "stderr",
     "output_type": "stream",
     "text": [
      "loading file https://huggingface.co/microsoft/deberta-v3-base/resolve/main/added_tokens.json from cache at None\n"
     ]
    },
    {
     "name": "stderr",
     "output_type": "stream",
     "text": [
      "loading file https://huggingface.co/microsoft/deberta-v3-base/resolve/main/special_tokens_map.json from cache at None\n"
     ]
    },
    {
     "name": "stderr",
     "output_type": "stream",
     "text": [
      "loading file https://huggingface.co/microsoft/deberta-v3-base/resolve/main/tokenizer_config.json from cache at /home/wout/.cache/huggingface/transformers/967a4d63eb35950cfd24a9e335906419009f32940fa2ba1b73e7ba032628c38d.df5a7f41459442f66bec27ac9352bba694cde109855024b3ae61be2f5734ee9a\n"
     ]
    },
    {
     "name": "stderr",
     "output_type": "stream",
     "text": [
      "loading configuration file https://huggingface.co/microsoft/deberta-v3-base/resolve/main/config.json from cache at /home/wout/.cache/huggingface/transformers/e6f9db57345f0f60c9f837fa97bcb27b1ed31e99feb33d732d7d8c80cb8f8459.de97182a9f32a68819030ba8f3f6ff2ba47276be3864425925523202f54cc79c\n"
     ]
    },
    {
     "name": "stderr",
     "output_type": "stream",
     "text": [
      "Model config DebertaV2Config {\n",
      "  \"_name_or_path\": \"microsoft/deberta-v3-base\",\n",
      "  \"attention_probs_dropout_prob\": 0.1,\n",
      "  \"hidden_act\": \"gelu\",\n",
      "  \"hidden_dropout_prob\": 0.1,\n",
      "  \"hidden_size\": 768,\n",
      "  \"initializer_range\": 0.02,\n",
      "  \"intermediate_size\": 3072,\n",
      "  \"layer_norm_eps\": 1e-07,\n",
      "  \"max_position_embeddings\": 512,\n",
      "  \"max_relative_positions\": -1,\n",
      "  \"model_type\": \"deberta-v2\",\n",
      "  \"norm_rel_ebd\": \"layer_norm\",\n",
      "  \"num_attention_heads\": 12,\n",
      "  \"num_hidden_layers\": 12,\n",
      "  \"pad_token_id\": 0,\n",
      "  \"pooler_dropout\": 0,\n",
      "  \"pooler_hidden_act\": \"gelu\",\n",
      "  \"pooler_hidden_size\": 768,\n",
      "  \"pos_att_type\": [\n",
      "    \"p2c\",\n",
      "    \"c2p\"\n",
      "  ],\n",
      "  \"position_biased_input\": false,\n",
      "  \"position_buckets\": 256,\n",
      "  \"relative_attention\": true,\n",
      "  \"share_att_key\": true,\n",
      "  \"transformers_version\": \"4.20.1\",\n",
      "  \"type_vocab_size\": 0,\n",
      "  \"vocab_size\": 128100\n",
      "}\n",
      "\n"
     ]
    },
    {
     "name": "stderr",
     "output_type": "stream",
     "text": [
      "Adding [MASK] to the vocabulary\n"
     ]
    },
    {
     "name": "stderr",
     "output_type": "stream",
     "text": [
      "Special tokens have been added in the vocabulary, make sure the associated word embeddings are fine-tuned or trained.\n"
     ]
    },
    {
     "name": "stderr",
     "output_type": "stream",
     "text": [
      "loading configuration file https://huggingface.co/microsoft/deberta-v3-base/resolve/main/config.json from cache at /home/wout/.cache/huggingface/transformers/e6f9db57345f0f60c9f837fa97bcb27b1ed31e99feb33d732d7d8c80cb8f8459.de97182a9f32a68819030ba8f3f6ff2ba47276be3864425925523202f54cc79c\n"
     ]
    },
    {
     "name": "stderr",
     "output_type": "stream",
     "text": [
      "Model config DebertaV2Config {\n",
      "  \"_name_or_path\": \"microsoft/deberta-v3-base\",\n",
      "  \"attention_probs_dropout_prob\": 0.1,\n",
      "  \"hidden_act\": \"gelu\",\n",
      "  \"hidden_dropout_prob\": 0.1,\n",
      "  \"hidden_size\": 768,\n",
      "  \"initializer_range\": 0.02,\n",
      "  \"intermediate_size\": 3072,\n",
      "  \"layer_norm_eps\": 1e-07,\n",
      "  \"max_position_embeddings\": 512,\n",
      "  \"max_relative_positions\": -1,\n",
      "  \"model_type\": \"deberta-v2\",\n",
      "  \"norm_rel_ebd\": \"layer_norm\",\n",
      "  \"num_attention_heads\": 12,\n",
      "  \"num_hidden_layers\": 12,\n",
      "  \"pad_token_id\": 0,\n",
      "  \"pooler_dropout\": 0,\n",
      "  \"pooler_hidden_act\": \"gelu\",\n",
      "  \"pooler_hidden_size\": 768,\n",
      "  \"pos_att_type\": [\n",
      "    \"p2c\",\n",
      "    \"c2p\"\n",
      "  ],\n",
      "  \"position_biased_input\": false,\n",
      "  \"position_buckets\": 256,\n",
      "  \"relative_attention\": true,\n",
      "  \"share_att_key\": true,\n",
      "  \"transformers_version\": \"4.20.1\",\n",
      "  \"type_vocab_size\": 0,\n",
      "  \"vocab_size\": 128100\n",
      "}\n",
      "\n"
     ]
    },
    {
     "name": "stderr",
     "output_type": "stream",
     "text": [
      "/home/wout/pp/lass/.env/lib/python3.10/site-packages/transformers/convert_slow_tokenizer.py:434: UserWarning: The sentencepiece tokenizer that you are converting to a fast tokenizer uses the byte fallback option which is not implemented in the fast tokenizers. In practice this means that the fast version of the tokenizer can produce unknown tokens whereas the sentencepiece version would have converted these unknown tokens into a sequence of byte tokens matching the original piece of text.\n",
      "  warnings.warn(\n"
     ]
    },
    {
     "name": "stderr",
     "output_type": "stream",
     "text": [
      "Special tokens have been added in the vocabulary, make sure the associated word embeddings are fine-tuned or trained.\n"
     ]
    },
    {
     "data": {
      "application/vnd.jupyter.widget-view+json": {
       "model_id": "57bdf9bd9a904d17b2653a142f16daa8",
       "version_major": 2,
       "version_minor": 0
      },
      "text/plain": [
       "  0%|          | 0/43 [00:00<?, ?ba/s]"
      ]
     },
     "metadata": {},
     "output_type": "display_data"
    },
    {
     "data": {
      "application/vnd.jupyter.widget-view+json": {
       "model_id": "64bd998179f04c29ad25807560f277b7",
       "version_major": 2,
       "version_minor": 0
      },
      "text/plain": [
       "  0%|          | 0/11 [00:00<?, ?ba/s]"
      ]
     },
     "metadata": {},
     "output_type": "display_data"
    },
    {
     "name": "stderr",
     "output_type": "stream",
     "text": [
      "wandb: WARNING Path shot-influence/wandb/wandb/ wasn't writable, using system temp directory\n"
     ]
    },
    {
     "data": {
      "text/html": [
       "wandb version 0.13.7 is available!  To upgrade, please run:\n",
       " $ pip install wandb --upgrade"
      ],
      "text/plain": [
       "<IPython.core.display.HTML object>"
      ]
     },
     "metadata": {},
     "output_type": "display_data"
    },
    {
     "data": {
      "text/html": [
       "Tracking run with wandb version 0.12.20"
      ],
      "text/plain": [
       "<IPython.core.display.HTML object>"
      ]
     },
     "metadata": {},
     "output_type": "display_data"
    },
    {
     "data": {
      "text/html": [
       "Run data is saved locally in <code>/tmp/wandb/run-20221215_035834-nxkz2js3</code>"
      ],
      "text/plain": [
       "<IPython.core.display.HTML object>"
      ]
     },
     "metadata": {},
     "output_type": "display_data"
    },
    {
     "data": {
      "text/html": [
       "Syncing run <strong><a href=\"https://wandb.ai/wschella/lass/runs/nxkz2js3\" target=\"_blank\">deberta-base-for-3-shots-t-left-bs16*2-3sh-instance-split</a></strong> to <a href=\"https://wandb.ai/wschella/lass\" target=\"_blank\">Weights & Biases</a> (<a href=\"https://wandb.me/run\" target=\"_blank\">docs</a>)<br/>"
      ],
      "text/plain": [
       "<IPython.core.display.HTML object>"
      ]
     },
     "metadata": {},
     "output_type": "display_data"
    },
    {
     "name": "stderr",
     "output_type": "stream",
     "text": [
      "loading configuration file https://huggingface.co/microsoft/deberta-v3-base/resolve/main/config.json from cache at /home/wout/.cache/huggingface/transformers/e6f9db57345f0f60c9f837fa97bcb27b1ed31e99feb33d732d7d8c80cb8f8459.de97182a9f32a68819030ba8f3f6ff2ba47276be3864425925523202f54cc79c\n"
     ]
    },
    {
     "name": "stderr",
     "output_type": "stream",
     "text": [
      "Model config DebertaV2Config {\n",
      "  \"_name_or_path\": \"microsoft/deberta-v3-base\",\n",
      "  \"attention_probs_dropout_prob\": 0.1,\n",
      "  \"hidden_act\": \"gelu\",\n",
      "  \"hidden_dropout_prob\": 0.1,\n",
      "  \"hidden_size\": 768,\n",
      "  \"initializer_range\": 0.02,\n",
      "  \"intermediate_size\": 3072,\n",
      "  \"layer_norm_eps\": 1e-07,\n",
      "  \"max_position_embeddings\": 512,\n",
      "  \"max_relative_positions\": -1,\n",
      "  \"model_type\": \"deberta-v2\",\n",
      "  \"norm_rel_ebd\": \"layer_norm\",\n",
      "  \"num_attention_heads\": 12,\n",
      "  \"num_hidden_layers\": 12,\n",
      "  \"pad_token_id\": 0,\n",
      "  \"pooler_dropout\": 0,\n",
      "  \"pooler_hidden_act\": \"gelu\",\n",
      "  \"pooler_hidden_size\": 768,\n",
      "  \"pos_att_type\": [\n",
      "    \"p2c\",\n",
      "    \"c2p\"\n",
      "  ],\n",
      "  \"position_biased_input\": false,\n",
      "  \"position_buckets\": 256,\n",
      "  \"relative_attention\": true,\n",
      "  \"share_att_key\": true,\n",
      "  \"transformers_version\": \"4.20.1\",\n",
      "  \"type_vocab_size\": 0,\n",
      "  \"vocab_size\": 128100\n",
      "}\n",
      "\n"
     ]
    },
    {
     "name": "stderr",
     "output_type": "stream",
     "text": [
      "loading weights file https://huggingface.co/microsoft/deberta-v3-base/resolve/main/pytorch_model.bin from cache at /home/wout/.cache/huggingface/transformers/322954555e18d37b9f98196875590497a8b33244551ec195e00fcdb831878224.f80cec19a933132f8b9636fbb3b736b2f4b9c8deaa45dfe4dd6e40a4d9970f44\n"
     ]
    },
    {
     "name": "stderr",
     "output_type": "stream",
     "text": [
      "Some weights of the model checkpoint at microsoft/deberta-v3-base were not used when initializing DebertaV2ForSequenceClassification: ['mask_predictions.dense.weight', 'mask_predictions.classifier.bias', 'lm_predictions.lm_head.dense.weight', 'mask_predictions.dense.bias', 'mask_predictions.LayerNorm.weight', 'mask_predictions.LayerNorm.bias', 'lm_predictions.lm_head.LayerNorm.weight', 'lm_predictions.lm_head.LayerNorm.bias', 'lm_predictions.lm_head.dense.bias', 'mask_predictions.classifier.weight', 'lm_predictions.lm_head.bias']\n",
      "- This IS expected if you are initializing DebertaV2ForSequenceClassification from the checkpoint of a model trained on another task or with another architecture (e.g. initializing a BertForSequenceClassification model from a BertForPreTraining model).\n",
      "- This IS NOT expected if you are initializing DebertaV2ForSequenceClassification from the checkpoint of a model that you expect to be exactly identical (initializing a BertForSequenceClassification model from a BertForSequenceClassification model).\n"
     ]
    },
    {
     "name": "stderr",
     "output_type": "stream",
     "text": [
      "Some weights of DebertaV2ForSequenceClassification were not initialized from the model checkpoint at microsoft/deberta-v3-base and are newly initialized: ['classifier.weight', 'pooler.dense.bias', 'classifier.bias', 'pooler.dense.weight']\n",
      "You should probably TRAIN this model on a down-stream task to be able to use it for predictions and inference.\n"
     ]
    },
    {
     "name": "stderr",
     "output_type": "stream",
     "text": [
      "using `logging_steps` to initialize `eval_steps` to 500\n"
     ]
    },
    {
     "name": "stderr",
     "output_type": "stream",
     "text": [
      "PyTorch: setting up devices\n"
     ]
    },
    {
     "name": "stderr",
     "output_type": "stream",
     "text": [
      "The following columns in the training set don't have a corresponding argument in `DebertaV2ForSequenceClassification.forward` and have been ignored: text. If text are not expected by `DebertaV2ForSequenceClassification.forward`,  you can safely ignore this message.\n"
     ]
    },
    {
     "name": "stderr",
     "output_type": "stream",
     "text": [
      "***** Running training *****\n"
     ]
    },
    {
     "name": "stderr",
     "output_type": "stream",
     "text": [
      "  Num examples = 42424\n"
     ]
    },
    {
     "name": "stderr",
     "output_type": "stream",
     "text": [
      "  Num Epochs = 6\n"
     ]
    },
    {
     "name": "stderr",
     "output_type": "stream",
     "text": [
      "  Instantaneous batch size per device = 16\n"
     ]
    },
    {
     "name": "stderr",
     "output_type": "stream",
     "text": [
      "  Total train batch size (w. parallel, distributed & accumulation) = 32\n"
     ]
    },
    {
     "name": "stderr",
     "output_type": "stream",
     "text": [
      "  Gradient Accumulation steps = 2\n"
     ]
    },
    {
     "name": "stderr",
     "output_type": "stream",
     "text": [
      "  Total optimization steps = 7956\n"
     ]
    },
    {
     "name": "stderr",
     "output_type": "stream",
     "text": [
      "Automatic Weights & Biases logging enabled, to disable set os.environ[\"WANDB_DISABLED\"] = \"true\"\n"
     ]
    },
    {
     "data": {
      "text/html": [
       "\n",
       "    <div>\n",
       "      \n",
       "      <progress value='7956' max='7956' style='width:300px; height:20px; vertical-align: middle;'></progress>\n",
       "      [7956/7956 3:42:48, Epoch 6/6]\n",
       "    </div>\n",
       "    <table border=\"1\" class=\"dataframe\">\n",
       "  <thead>\n",
       " <tr style=\"text-align: left;\">\n",
       "      <th>Step</th>\n",
       "      <th>Training Loss</th>\n",
       "      <th>Validation Loss</th>\n",
       "      <th>Conf Distribution Accuracy</th>\n",
       "      <th>Conf Distribution Precision</th>\n",
       "      <th>Conf Distribution Recall</th>\n",
       "      <th>Conf Distribution F1</th>\n",
       "      <th>Conf Distribution Roc Auc</th>\n",
       "      <th>Conf Distribution Bs</th>\n",
       "      <th>Conf Distribution Bs Mcb</th>\n",
       "      <th>Conf Distribution Bs Dsc</th>\n",
       "      <th>Conf Distribution Bs Unc</th>\n",
       "      <th>Conf Distribution Balanced Accuracy</th>\n",
       "      <th>Conf Absolute Accuracy</th>\n",
       "      <th>Conf Absolute Precision</th>\n",
       "      <th>Conf Absolute Recall</th>\n",
       "      <th>Conf Absolute F1</th>\n",
       "      <th>Conf Absolute Roc Auc</th>\n",
       "      <th>Conf Absolute Bs</th>\n",
       "      <th>Conf Absolute Bs Mcb</th>\n",
       "      <th>Conf Absolute Bs Dsc</th>\n",
       "      <th>Conf Absolute Bs Unc</th>\n",
       "      <th>Conf Absolute Balanced Accuracy</th>\n",
       "      <th>Conf Normalized Accuracy</th>\n",
       "      <th>Conf Normalized Precision</th>\n",
       "      <th>Conf Normalized Recall</th>\n",
       "      <th>Conf Normalized F1</th>\n",
       "      <th>Conf Normalized Roc Auc</th>\n",
       "      <th>Conf Normalized Bs</th>\n",
       "      <th>Conf Normalized Bs Mcb</th>\n",
       "      <th>Conf Normalized Bs Dsc</th>\n",
       "      <th>Conf Normalized Bs Unc</th>\n",
       "      <th>Conf Normalized Balanced Accuracy</th>\n",
       "      <th>Accuracy</th>\n",
       "      <th>Precision</th>\n",
       "      <th>Recall</th>\n",
       "      <th>F1</th>\n",
       "      <th>Roc Auc</th>\n",
       "      <th>Bs</th>\n",
       "      <th>Bs Mcb</th>\n",
       "      <th>Bs Dsc</th>\n",
       "      <th>Bs Unc</th>\n",
       "      <th>Balanced Accuracy</th>\n",
       "    </tr>\n",
       "  </thead>\n",
       "  <tbody>\n",
       "    <tr>\n",
       "      <td>500</td>\n",
       "      <td>0.640800</td>\n",
       "      <td>0.599748</td>\n",
       "      <td>0.689308</td>\n",
       "      <td>0.615476</td>\n",
       "      <td>0.507609</td>\n",
       "      <td>0.556363</td>\n",
       "      <td>0.743794</td>\n",
       "      <td>0.195609</td>\n",
       "      <td>0.000000</td>\n",
       "      <td>0.040888</td>\n",
       "      <td>0.236497</td>\n",
       "      <td>0.655043</td>\n",
       "      <td>0.600471</td>\n",
       "      <td>0.484296</td>\n",
       "      <td>0.632057</td>\n",
       "      <td>0.548397</td>\n",
       "      <td>0.623710</td>\n",
       "      <td>0.269777</td>\n",
       "      <td>0.046708</td>\n",
       "      <td>0.013427</td>\n",
       "      <td>0.236497</td>\n",
       "      <td>0.606427</td>\n",
       "      <td>0.515403</td>\n",
       "      <td>0.435913</td>\n",
       "      <td>0.893225</td>\n",
       "      <td>0.585896</td>\n",
       "      <td>0.632145</td>\n",
       "      <td>0.307933</td>\n",
       "      <td>0.086142</td>\n",
       "      <td>0.014706</td>\n",
       "      <td>0.236497</td>\n",
       "      <td>0.586652</td>\n",
       "      <td>0.661799</td>\n",
       "      <td>0.649752</td>\n",
       "      <td>0.257732</td>\n",
       "      <td>0.369069</td>\n",
       "      <td>0.720183</td>\n",
       "      <td>0.207425</td>\n",
       "      <td>0.005323</td>\n",
       "      <td>0.034395</td>\n",
       "      <td>0.236497</td>\n",
       "      <td>0.585600</td>\n",
       "    </tr>\n",
       "    <tr>\n",
       "      <td>1000</td>\n",
       "      <td>0.591600</td>\n",
       "      <td>0.585428</td>\n",
       "      <td>0.689308</td>\n",
       "      <td>0.615476</td>\n",
       "      <td>0.507609</td>\n",
       "      <td>0.556363</td>\n",
       "      <td>0.743794</td>\n",
       "      <td>0.195609</td>\n",
       "      <td>0.000000</td>\n",
       "      <td>0.040888</td>\n",
       "      <td>0.236497</td>\n",
       "      <td>0.655043</td>\n",
       "      <td>0.600471</td>\n",
       "      <td>0.484296</td>\n",
       "      <td>0.632057</td>\n",
       "      <td>0.548397</td>\n",
       "      <td>0.623710</td>\n",
       "      <td>0.269777</td>\n",
       "      <td>0.046708</td>\n",
       "      <td>0.013427</td>\n",
       "      <td>0.236497</td>\n",
       "      <td>0.606427</td>\n",
       "      <td>0.515403</td>\n",
       "      <td>0.435913</td>\n",
       "      <td>0.893225</td>\n",
       "      <td>0.585896</td>\n",
       "      <td>0.632145</td>\n",
       "      <td>0.307933</td>\n",
       "      <td>0.086142</td>\n",
       "      <td>0.014706</td>\n",
       "      <td>0.236497</td>\n",
       "      <td>0.586652</td>\n",
       "      <td>0.675553</td>\n",
       "      <td>0.570312</td>\n",
       "      <td>0.627148</td>\n",
       "      <td>0.597381</td>\n",
       "      <td>0.732876</td>\n",
       "      <td>0.201177</td>\n",
       "      <td>0.002626</td>\n",
       "      <td>0.037946</td>\n",
       "      <td>0.236497</td>\n",
       "      <td>0.666425</td>\n",
       "    </tr>\n",
       "    <tr>\n",
       "      <td>1500</td>\n",
       "      <td>0.589200</td>\n",
       "      <td>0.580938</td>\n",
       "      <td>0.689308</td>\n",
       "      <td>0.615476</td>\n",
       "      <td>0.507609</td>\n",
       "      <td>0.556363</td>\n",
       "      <td>0.743794</td>\n",
       "      <td>0.195609</td>\n",
       "      <td>0.000000</td>\n",
       "      <td>0.040888</td>\n",
       "      <td>0.236497</td>\n",
       "      <td>0.655043</td>\n",
       "      <td>0.600471</td>\n",
       "      <td>0.484296</td>\n",
       "      <td>0.632057</td>\n",
       "      <td>0.548397</td>\n",
       "      <td>0.623710</td>\n",
       "      <td>0.269777</td>\n",
       "      <td>0.046708</td>\n",
       "      <td>0.013427</td>\n",
       "      <td>0.236497</td>\n",
       "      <td>0.606427</td>\n",
       "      <td>0.515403</td>\n",
       "      <td>0.435913</td>\n",
       "      <td>0.893225</td>\n",
       "      <td>0.585896</td>\n",
       "      <td>0.632145</td>\n",
       "      <td>0.307933</td>\n",
       "      <td>0.086142</td>\n",
       "      <td>0.014706</td>\n",
       "      <td>0.236497</td>\n",
       "      <td>0.586652</td>\n",
       "      <td>0.690250</td>\n",
       "      <td>0.605080</td>\n",
       "      <td>0.555474</td>\n",
       "      <td>0.579217</td>\n",
       "      <td>0.737674</td>\n",
       "      <td>0.199077</td>\n",
       "      <td>0.002333</td>\n",
       "      <td>0.039754</td>\n",
       "      <td>0.236497</td>\n",
       "      <td>0.664834</td>\n",
       "    </tr>\n",
       "    <tr>\n",
       "      <td>2000</td>\n",
       "      <td>0.587300</td>\n",
       "      <td>0.592212</td>\n",
       "      <td>0.689308</td>\n",
       "      <td>0.615476</td>\n",
       "      <td>0.507609</td>\n",
       "      <td>0.556363</td>\n",
       "      <td>0.743794</td>\n",
       "      <td>0.195609</td>\n",
       "      <td>0.000000</td>\n",
       "      <td>0.040888</td>\n",
       "      <td>0.236497</td>\n",
       "      <td>0.655043</td>\n",
       "      <td>0.600471</td>\n",
       "      <td>0.484296</td>\n",
       "      <td>0.632057</td>\n",
       "      <td>0.548397</td>\n",
       "      <td>0.623710</td>\n",
       "      <td>0.269777</td>\n",
       "      <td>0.046708</td>\n",
       "      <td>0.013427</td>\n",
       "      <td>0.236497</td>\n",
       "      <td>0.606427</td>\n",
       "      <td>0.515403</td>\n",
       "      <td>0.435913</td>\n",
       "      <td>0.893225</td>\n",
       "      <td>0.585896</td>\n",
       "      <td>0.632145</td>\n",
       "      <td>0.307933</td>\n",
       "      <td>0.086142</td>\n",
       "      <td>0.014706</td>\n",
       "      <td>0.236497</td>\n",
       "      <td>0.586652</td>\n",
       "      <td>0.684597</td>\n",
       "      <td>0.599018</td>\n",
       "      <td>0.539028</td>\n",
       "      <td>0.567442</td>\n",
       "      <td>0.737134</td>\n",
       "      <td>0.201236</td>\n",
       "      <td>0.004796</td>\n",
       "      <td>0.040056</td>\n",
       "      <td>0.236497</td>\n",
       "      <td>0.657146</td>\n",
       "    </tr>\n",
       "    <tr>\n",
       "      <td>2500</td>\n",
       "      <td>0.584600</td>\n",
       "      <td>0.580745</td>\n",
       "      <td>0.689308</td>\n",
       "      <td>0.615476</td>\n",
       "      <td>0.507609</td>\n",
       "      <td>0.556363</td>\n",
       "      <td>0.743794</td>\n",
       "      <td>0.195609</td>\n",
       "      <td>0.000000</td>\n",
       "      <td>0.040888</td>\n",
       "      <td>0.236497</td>\n",
       "      <td>0.655043</td>\n",
       "      <td>0.600471</td>\n",
       "      <td>0.484296</td>\n",
       "      <td>0.632057</td>\n",
       "      <td>0.548397</td>\n",
       "      <td>0.623710</td>\n",
       "      <td>0.269777</td>\n",
       "      <td>0.046708</td>\n",
       "      <td>0.013427</td>\n",
       "      <td>0.236497</td>\n",
       "      <td>0.606427</td>\n",
       "      <td>0.515403</td>\n",
       "      <td>0.435913</td>\n",
       "      <td>0.893225</td>\n",
       "      <td>0.585896</td>\n",
       "      <td>0.632145</td>\n",
       "      <td>0.307933</td>\n",
       "      <td>0.086142</td>\n",
       "      <td>0.014706</td>\n",
       "      <td>0.236497</td>\n",
       "      <td>0.586652</td>\n",
       "      <td>0.685445</td>\n",
       "      <td>0.618434</td>\n",
       "      <td>0.471036</td>\n",
       "      <td>0.534764</td>\n",
       "      <td>0.741030</td>\n",
       "      <td>0.198933</td>\n",
       "      <td>0.003661</td>\n",
       "      <td>0.041225</td>\n",
       "      <td>0.236497</td>\n",
       "      <td>0.645012</td>\n",
       "    </tr>\n",
       "    <tr>\n",
       "      <td>3000</td>\n",
       "      <td>0.582900</td>\n",
       "      <td>0.599210</td>\n",
       "      <td>0.689308</td>\n",
       "      <td>0.615476</td>\n",
       "      <td>0.507609</td>\n",
       "      <td>0.556363</td>\n",
       "      <td>0.743794</td>\n",
       "      <td>0.195609</td>\n",
       "      <td>0.000000</td>\n",
       "      <td>0.040888</td>\n",
       "      <td>0.236497</td>\n",
       "      <td>0.655043</td>\n",
       "      <td>0.600471</td>\n",
       "      <td>0.484296</td>\n",
       "      <td>0.632057</td>\n",
       "      <td>0.548397</td>\n",
       "      <td>0.623710</td>\n",
       "      <td>0.269777</td>\n",
       "      <td>0.046708</td>\n",
       "      <td>0.013427</td>\n",
       "      <td>0.236497</td>\n",
       "      <td>0.606427</td>\n",
       "      <td>0.515403</td>\n",
       "      <td>0.435913</td>\n",
       "      <td>0.893225</td>\n",
       "      <td>0.585896</td>\n",
       "      <td>0.632145</td>\n",
       "      <td>0.307933</td>\n",
       "      <td>0.086142</td>\n",
       "      <td>0.014706</td>\n",
       "      <td>0.236497</td>\n",
       "      <td>0.586652</td>\n",
       "      <td>0.684409</td>\n",
       "      <td>0.587103</td>\n",
       "      <td>0.598920</td>\n",
       "      <td>0.592953</td>\n",
       "      <td>0.731771</td>\n",
       "      <td>0.202699</td>\n",
       "      <td>0.004713</td>\n",
       "      <td>0.038511</td>\n",
       "      <td>0.236497</td>\n",
       "      <td>0.668287</td>\n",
       "    </tr>\n",
       "    <tr>\n",
       "      <td>3500</td>\n",
       "      <td>0.576600</td>\n",
       "      <td>0.576470</td>\n",
       "      <td>0.689308</td>\n",
       "      <td>0.615476</td>\n",
       "      <td>0.507609</td>\n",
       "      <td>0.556363</td>\n",
       "      <td>0.743794</td>\n",
       "      <td>0.195609</td>\n",
       "      <td>0.000000</td>\n",
       "      <td>0.040888</td>\n",
       "      <td>0.236497</td>\n",
       "      <td>0.655043</td>\n",
       "      <td>0.600471</td>\n",
       "      <td>0.484296</td>\n",
       "      <td>0.632057</td>\n",
       "      <td>0.548397</td>\n",
       "      <td>0.623710</td>\n",
       "      <td>0.269777</td>\n",
       "      <td>0.046708</td>\n",
       "      <td>0.013427</td>\n",
       "      <td>0.236497</td>\n",
       "      <td>0.606427</td>\n",
       "      <td>0.515403</td>\n",
       "      <td>0.435913</td>\n",
       "      <td>0.893225</td>\n",
       "      <td>0.585896</td>\n",
       "      <td>0.632145</td>\n",
       "      <td>0.307933</td>\n",
       "      <td>0.086142</td>\n",
       "      <td>0.014706</td>\n",
       "      <td>0.236497</td>\n",
       "      <td>0.586652</td>\n",
       "      <td>0.682713</td>\n",
       "      <td>0.604130</td>\n",
       "      <td>0.502700</td>\n",
       "      <td>0.548767</td>\n",
       "      <td>0.738492</td>\n",
       "      <td>0.197548</td>\n",
       "      <td>0.001614</td>\n",
       "      <td>0.040562</td>\n",
       "      <td>0.236497</td>\n",
       "      <td>0.648766</td>\n",
       "    </tr>\n",
       "    <tr>\n",
       "      <td>4000</td>\n",
       "      <td>0.575000</td>\n",
       "      <td>0.588484</td>\n",
       "      <td>0.689308</td>\n",
       "      <td>0.615476</td>\n",
       "      <td>0.507609</td>\n",
       "      <td>0.556363</td>\n",
       "      <td>0.743794</td>\n",
       "      <td>0.195609</td>\n",
       "      <td>0.000000</td>\n",
       "      <td>0.040888</td>\n",
       "      <td>0.236497</td>\n",
       "      <td>0.655043</td>\n",
       "      <td>0.600471</td>\n",
       "      <td>0.484296</td>\n",
       "      <td>0.632057</td>\n",
       "      <td>0.548397</td>\n",
       "      <td>0.623710</td>\n",
       "      <td>0.269777</td>\n",
       "      <td>0.046708</td>\n",
       "      <td>0.013427</td>\n",
       "      <td>0.236497</td>\n",
       "      <td>0.606427</td>\n",
       "      <td>0.515403</td>\n",
       "      <td>0.435913</td>\n",
       "      <td>0.893225</td>\n",
       "      <td>0.585896</td>\n",
       "      <td>0.632145</td>\n",
       "      <td>0.307933</td>\n",
       "      <td>0.086142</td>\n",
       "      <td>0.014706</td>\n",
       "      <td>0.236497</td>\n",
       "      <td>0.586652</td>\n",
       "      <td>0.676307</td>\n",
       "      <td>0.676049</td>\n",
       "      <td>0.300687</td>\n",
       "      <td>0.416242</td>\n",
       "      <td>0.740807</td>\n",
       "      <td>0.202642</td>\n",
       "      <td>0.007467</td>\n",
       "      <td>0.041322</td>\n",
       "      <td>0.236497</td>\n",
       "      <td>0.605473</td>\n",
       "    </tr>\n",
       "    <tr>\n",
       "      <td>4500</td>\n",
       "      <td>0.561700</td>\n",
       "      <td>0.581866</td>\n",
       "      <td>0.689308</td>\n",
       "      <td>0.615476</td>\n",
       "      <td>0.507609</td>\n",
       "      <td>0.556363</td>\n",
       "      <td>0.743794</td>\n",
       "      <td>0.195609</td>\n",
       "      <td>0.000000</td>\n",
       "      <td>0.040888</td>\n",
       "      <td>0.236497</td>\n",
       "      <td>0.655043</td>\n",
       "      <td>0.600471</td>\n",
       "      <td>0.484296</td>\n",
       "      <td>0.632057</td>\n",
       "      <td>0.548397</td>\n",
       "      <td>0.623710</td>\n",
       "      <td>0.269777</td>\n",
       "      <td>0.046708</td>\n",
       "      <td>0.013427</td>\n",
       "      <td>0.236497</td>\n",
       "      <td>0.606427</td>\n",
       "      <td>0.515403</td>\n",
       "      <td>0.435913</td>\n",
       "      <td>0.893225</td>\n",
       "      <td>0.585896</td>\n",
       "      <td>0.632145</td>\n",
       "      <td>0.307933</td>\n",
       "      <td>0.086142</td>\n",
       "      <td>0.014706</td>\n",
       "      <td>0.236497</td>\n",
       "      <td>0.586652</td>\n",
       "      <td>0.685822</td>\n",
       "      <td>0.611598</td>\n",
       "      <td>0.497054</td>\n",
       "      <td>0.548409</td>\n",
       "      <td>0.737170</td>\n",
       "      <td>0.199908</td>\n",
       "      <td>0.003854</td>\n",
       "      <td>0.040443</td>\n",
       "      <td>0.236497</td>\n",
       "      <td>0.650224</td>\n",
       "    </tr>\n",
       "    <tr>\n",
       "      <td>5000</td>\n",
       "      <td>0.563100</td>\n",
       "      <td>0.573467</td>\n",
       "      <td>0.689308</td>\n",
       "      <td>0.615476</td>\n",
       "      <td>0.507609</td>\n",
       "      <td>0.556363</td>\n",
       "      <td>0.743794</td>\n",
       "      <td>0.195609</td>\n",
       "      <td>0.000000</td>\n",
       "      <td>0.040888</td>\n",
       "      <td>0.236497</td>\n",
       "      <td>0.655043</td>\n",
       "      <td>0.600471</td>\n",
       "      <td>0.484296</td>\n",
       "      <td>0.632057</td>\n",
       "      <td>0.548397</td>\n",
       "      <td>0.623710</td>\n",
       "      <td>0.269777</td>\n",
       "      <td>0.046708</td>\n",
       "      <td>0.013427</td>\n",
       "      <td>0.236497</td>\n",
       "      <td>0.606427</td>\n",
       "      <td>0.515403</td>\n",
       "      <td>0.435913</td>\n",
       "      <td>0.893225</td>\n",
       "      <td>0.585896</td>\n",
       "      <td>0.632145</td>\n",
       "      <td>0.307933</td>\n",
       "      <td>0.086142</td>\n",
       "      <td>0.014706</td>\n",
       "      <td>0.236497</td>\n",
       "      <td>0.586652</td>\n",
       "      <td>0.688177</td>\n",
       "      <td>0.625246</td>\n",
       "      <td>0.468090</td>\n",
       "      <td>0.535373</td>\n",
       "      <td>0.747830</td>\n",
       "      <td>0.196061</td>\n",
       "      <td>0.003520</td>\n",
       "      <td>0.043956</td>\n",
       "      <td>0.236497</td>\n",
       "      <td>0.646673</td>\n",
       "    </tr>\n",
       "    <tr>\n",
       "      <td>5500</td>\n",
       "      <td>0.548600</td>\n",
       "      <td>0.597094</td>\n",
       "      <td>0.689308</td>\n",
       "      <td>0.615476</td>\n",
       "      <td>0.507609</td>\n",
       "      <td>0.556363</td>\n",
       "      <td>0.743794</td>\n",
       "      <td>0.195609</td>\n",
       "      <td>0.000000</td>\n",
       "      <td>0.040888</td>\n",
       "      <td>0.236497</td>\n",
       "      <td>0.655043</td>\n",
       "      <td>0.600471</td>\n",
       "      <td>0.484296</td>\n",
       "      <td>0.632057</td>\n",
       "      <td>0.548397</td>\n",
       "      <td>0.623710</td>\n",
       "      <td>0.269777</td>\n",
       "      <td>0.046708</td>\n",
       "      <td>0.013427</td>\n",
       "      <td>0.236497</td>\n",
       "      <td>0.606427</td>\n",
       "      <td>0.515403</td>\n",
       "      <td>0.435913</td>\n",
       "      <td>0.893225</td>\n",
       "      <td>0.585896</td>\n",
       "      <td>0.632145</td>\n",
       "      <td>0.307933</td>\n",
       "      <td>0.086142</td>\n",
       "      <td>0.014706</td>\n",
       "      <td>0.236497</td>\n",
       "      <td>0.586652</td>\n",
       "      <td>0.688271</td>\n",
       "      <td>0.592013</td>\n",
       "      <td>0.604075</td>\n",
       "      <td>0.597983</td>\n",
       "      <td>0.744328</td>\n",
       "      <td>0.204412</td>\n",
       "      <td>0.010064</td>\n",
       "      <td>0.042149</td>\n",
       "      <td>0.236497</td>\n",
       "      <td>0.672394</td>\n",
       "    </tr>\n",
       "    <tr>\n",
       "      <td>6000</td>\n",
       "      <td>0.520400</td>\n",
       "      <td>0.600311</td>\n",
       "      <td>0.689308</td>\n",
       "      <td>0.615476</td>\n",
       "      <td>0.507609</td>\n",
       "      <td>0.556363</td>\n",
       "      <td>0.743794</td>\n",
       "      <td>0.195609</td>\n",
       "      <td>0.000000</td>\n",
       "      <td>0.040888</td>\n",
       "      <td>0.236497</td>\n",
       "      <td>0.655043</td>\n",
       "      <td>0.600471</td>\n",
       "      <td>0.484296</td>\n",
       "      <td>0.632057</td>\n",
       "      <td>0.548397</td>\n",
       "      <td>0.623710</td>\n",
       "      <td>0.269777</td>\n",
       "      <td>0.046708</td>\n",
       "      <td>0.013427</td>\n",
       "      <td>0.236497</td>\n",
       "      <td>0.606427</td>\n",
       "      <td>0.515403</td>\n",
       "      <td>0.435913</td>\n",
       "      <td>0.893225</td>\n",
       "      <td>0.585896</td>\n",
       "      <td>0.632145</td>\n",
       "      <td>0.307933</td>\n",
       "      <td>0.086142</td>\n",
       "      <td>0.014706</td>\n",
       "      <td>0.236497</td>\n",
       "      <td>0.586652</td>\n",
       "      <td>0.689873</td>\n",
       "      <td>0.597604</td>\n",
       "      <td>0.587629</td>\n",
       "      <td>0.592574</td>\n",
       "      <td>0.749521</td>\n",
       "      <td>0.204766</td>\n",
       "      <td>0.012534</td>\n",
       "      <td>0.044265</td>\n",
       "      <td>0.236497</td>\n",
       "      <td>0.670592</td>\n",
       "    </tr>\n",
       "    <tr>\n",
       "      <td>6500</td>\n",
       "      <td>0.508400</td>\n",
       "      <td>0.590913</td>\n",
       "      <td>0.689308</td>\n",
       "      <td>0.615476</td>\n",
       "      <td>0.507609</td>\n",
       "      <td>0.556363</td>\n",
       "      <td>0.743794</td>\n",
       "      <td>0.195609</td>\n",
       "      <td>0.000000</td>\n",
       "      <td>0.040888</td>\n",
       "      <td>0.236497</td>\n",
       "      <td>0.655043</td>\n",
       "      <td>0.600471</td>\n",
       "      <td>0.484296</td>\n",
       "      <td>0.632057</td>\n",
       "      <td>0.548397</td>\n",
       "      <td>0.623710</td>\n",
       "      <td>0.269777</td>\n",
       "      <td>0.046708</td>\n",
       "      <td>0.013427</td>\n",
       "      <td>0.236497</td>\n",
       "      <td>0.606427</td>\n",
       "      <td>0.515403</td>\n",
       "      <td>0.435913</td>\n",
       "      <td>0.893225</td>\n",
       "      <td>0.585896</td>\n",
       "      <td>0.632145</td>\n",
       "      <td>0.307933</td>\n",
       "      <td>0.086142</td>\n",
       "      <td>0.014706</td>\n",
       "      <td>0.236497</td>\n",
       "      <td>0.586652</td>\n",
       "      <td>0.694677</td>\n",
       "      <td>0.617489</td>\n",
       "      <td>0.537310</td>\n",
       "      <td>0.574616</td>\n",
       "      <td>0.747990</td>\n",
       "      <td>0.201925</td>\n",
       "      <td>0.008988</td>\n",
       "      <td>0.043559</td>\n",
       "      <td>0.236497</td>\n",
       "      <td>0.665001</td>\n",
       "    </tr>\n",
       "    <tr>\n",
       "      <td>7000</td>\n",
       "      <td>0.477100</td>\n",
       "      <td>0.648161</td>\n",
       "      <td>0.689308</td>\n",
       "      <td>0.615476</td>\n",
       "      <td>0.507609</td>\n",
       "      <td>0.556363</td>\n",
       "      <td>0.743794</td>\n",
       "      <td>0.195609</td>\n",
       "      <td>0.000000</td>\n",
       "      <td>0.040888</td>\n",
       "      <td>0.236497</td>\n",
       "      <td>0.655043</td>\n",
       "      <td>0.600471</td>\n",
       "      <td>0.484296</td>\n",
       "      <td>0.632057</td>\n",
       "      <td>0.548397</td>\n",
       "      <td>0.623710</td>\n",
       "      <td>0.269777</td>\n",
       "      <td>0.046708</td>\n",
       "      <td>0.013427</td>\n",
       "      <td>0.236497</td>\n",
       "      <td>0.606427</td>\n",
       "      <td>0.515403</td>\n",
       "      <td>0.435913</td>\n",
       "      <td>0.893225</td>\n",
       "      <td>0.585896</td>\n",
       "      <td>0.632145</td>\n",
       "      <td>0.307933</td>\n",
       "      <td>0.086142</td>\n",
       "      <td>0.014706</td>\n",
       "      <td>0.236497</td>\n",
       "      <td>0.586652</td>\n",
       "      <td>0.686010</td>\n",
       "      <td>0.593254</td>\n",
       "      <td>0.578547</td>\n",
       "      <td>0.585808</td>\n",
       "      <td>0.730503</td>\n",
       "      <td>0.218004</td>\n",
       "      <td>0.019245</td>\n",
       "      <td>0.037738</td>\n",
       "      <td>0.236497</td>\n",
       "      <td>0.665745</td>\n",
       "    </tr>\n",
       "    <tr>\n",
       "      <td>7500</td>\n",
       "      <td>0.460200</td>\n",
       "      <td>0.656886</td>\n",
       "      <td>0.689308</td>\n",
       "      <td>0.615476</td>\n",
       "      <td>0.507609</td>\n",
       "      <td>0.556363</td>\n",
       "      <td>0.743794</td>\n",
       "      <td>0.195609</td>\n",
       "      <td>0.000000</td>\n",
       "      <td>0.040888</td>\n",
       "      <td>0.236497</td>\n",
       "      <td>0.655043</td>\n",
       "      <td>0.600471</td>\n",
       "      <td>0.484296</td>\n",
       "      <td>0.632057</td>\n",
       "      <td>0.548397</td>\n",
       "      <td>0.623710</td>\n",
       "      <td>0.269777</td>\n",
       "      <td>0.046708</td>\n",
       "      <td>0.013427</td>\n",
       "      <td>0.236497</td>\n",
       "      <td>0.606427</td>\n",
       "      <td>0.515403</td>\n",
       "      <td>0.435913</td>\n",
       "      <td>0.893225</td>\n",
       "      <td>0.585896</td>\n",
       "      <td>0.632145</td>\n",
       "      <td>0.307933</td>\n",
       "      <td>0.086142</td>\n",
       "      <td>0.014706</td>\n",
       "      <td>0.236497</td>\n",
       "      <td>0.586652</td>\n",
       "      <td>0.686952</td>\n",
       "      <td>0.596903</td>\n",
       "      <td>0.567747</td>\n",
       "      <td>0.581960</td>\n",
       "      <td>0.734403</td>\n",
       "      <td>0.219211</td>\n",
       "      <td>0.021603</td>\n",
       "      <td>0.038889</td>\n",
       "      <td>0.236497</td>\n",
       "      <td>0.664473</td>\n",
       "    </tr>\n",
       "  </tbody>\n",
       "</table><p>"
      ],
      "text/plain": [
       "<IPython.core.display.HTML object>"
      ]
     },
     "metadata": {},
     "output_type": "display_data"
    },
    {
     "name": "stderr",
     "output_type": "stream",
     "text": [
      "The following columns in the evaluation set don't have a corresponding argument in `DebertaV2ForSequenceClassification.forward` and have been ignored: text. If text are not expected by `DebertaV2ForSequenceClassification.forward`,  you can safely ignore this message.\n"
     ]
    },
    {
     "name": "stderr",
     "output_type": "stream",
     "text": [
      "***** Running Evaluation *****\n"
     ]
    },
    {
     "name": "stderr",
     "output_type": "stream",
     "text": [
      "  Num examples = 10615\n"
     ]
    },
    {
     "name": "stderr",
     "output_type": "stream",
     "text": [
      "  Batch size = 16\n"
     ]
    },
    {
     "name": "stderr",
     "output_type": "stream",
     "text": [
      "Saving model checkpoint to shot-influence/deberta-base-for-3-shots-t-left-bs16*2-3sh-instance-split-12150358/checkpoint-500\n"
     ]
    },
    {
     "name": "stderr",
     "output_type": "stream",
     "text": [
      "Configuration saved in shot-influence/deberta-base-for-3-shots-t-left-bs16*2-3sh-instance-split-12150358/checkpoint-500/config.json\n"
     ]
    },
    {
     "name": "stderr",
     "output_type": "stream",
     "text": [
      "Model weights saved in shot-influence/deberta-base-for-3-shots-t-left-bs16*2-3sh-instance-split-12150358/checkpoint-500/pytorch_model.bin\n"
     ]
    },
    {
     "name": "stderr",
     "output_type": "stream",
     "text": [
      "The following columns in the evaluation set don't have a corresponding argument in `DebertaV2ForSequenceClassification.forward` and have been ignored: text. If text are not expected by `DebertaV2ForSequenceClassification.forward`,  you can safely ignore this message.\n"
     ]
    },
    {
     "name": "stderr",
     "output_type": "stream",
     "text": [
      "***** Running Evaluation *****\n"
     ]
    },
    {
     "name": "stderr",
     "output_type": "stream",
     "text": [
      "  Num examples = 10615\n"
     ]
    },
    {
     "name": "stderr",
     "output_type": "stream",
     "text": [
      "  Batch size = 16\n"
     ]
    },
    {
     "name": "stderr",
     "output_type": "stream",
     "text": [
      "Saving model checkpoint to shot-influence/deberta-base-for-3-shots-t-left-bs16*2-3sh-instance-split-12150358/checkpoint-1000\n"
     ]
    },
    {
     "name": "stderr",
     "output_type": "stream",
     "text": [
      "Configuration saved in shot-influence/deberta-base-for-3-shots-t-left-bs16*2-3sh-instance-split-12150358/checkpoint-1000/config.json\n"
     ]
    },
    {
     "name": "stderr",
     "output_type": "stream",
     "text": [
      "Model weights saved in shot-influence/deberta-base-for-3-shots-t-left-bs16*2-3sh-instance-split-12150358/checkpoint-1000/pytorch_model.bin\n"
     ]
    },
    {
     "name": "stderr",
     "output_type": "stream",
     "text": [
      "Deleting older checkpoint [shot-influence/deberta-base-for-3-shots-t-left-bs16*2-3sh-instance-split-12150358/checkpoint-500] due to args.save_total_limit\n"
     ]
    },
    {
     "name": "stderr",
     "output_type": "stream",
     "text": [
      "The following columns in the evaluation set don't have a corresponding argument in `DebertaV2ForSequenceClassification.forward` and have been ignored: text. If text are not expected by `DebertaV2ForSequenceClassification.forward`,  you can safely ignore this message.\n"
     ]
    },
    {
     "name": "stderr",
     "output_type": "stream",
     "text": [
      "***** Running Evaluation *****\n"
     ]
    },
    {
     "name": "stderr",
     "output_type": "stream",
     "text": [
      "  Num examples = 10615\n"
     ]
    },
    {
     "name": "stderr",
     "output_type": "stream",
     "text": [
      "  Batch size = 16\n"
     ]
    },
    {
     "name": "stderr",
     "output_type": "stream",
     "text": [
      "Saving model checkpoint to shot-influence/deberta-base-for-3-shots-t-left-bs16*2-3sh-instance-split-12150358/checkpoint-1500\n"
     ]
    },
    {
     "name": "stderr",
     "output_type": "stream",
     "text": [
      "Configuration saved in shot-influence/deberta-base-for-3-shots-t-left-bs16*2-3sh-instance-split-12150358/checkpoint-1500/config.json\n"
     ]
    },
    {
     "name": "stderr",
     "output_type": "stream",
     "text": [
      "Model weights saved in shot-influence/deberta-base-for-3-shots-t-left-bs16*2-3sh-instance-split-12150358/checkpoint-1500/pytorch_model.bin\n"
     ]
    },
    {
     "name": "stderr",
     "output_type": "stream",
     "text": [
      "Deleting older checkpoint [shot-influence/deberta-base-for-3-shots-t-left-bs16*2-3sh-instance-split-12150358/checkpoint-1000] due to args.save_total_limit\n"
     ]
    },
    {
     "name": "stderr",
     "output_type": "stream",
     "text": [
      "The following columns in the evaluation set don't have a corresponding argument in `DebertaV2ForSequenceClassification.forward` and have been ignored: text. If text are not expected by `DebertaV2ForSequenceClassification.forward`,  you can safely ignore this message.\n"
     ]
    },
    {
     "name": "stderr",
     "output_type": "stream",
     "text": [
      "***** Running Evaluation *****\n"
     ]
    },
    {
     "name": "stderr",
     "output_type": "stream",
     "text": [
      "  Num examples = 10615\n"
     ]
    },
    {
     "name": "stderr",
     "output_type": "stream",
     "text": [
      "  Batch size = 16\n"
     ]
    },
    {
     "name": "stderr",
     "output_type": "stream",
     "text": [
      "Saving model checkpoint to shot-influence/deberta-base-for-3-shots-t-left-bs16*2-3sh-instance-split-12150358/checkpoint-2000\n"
     ]
    },
    {
     "name": "stderr",
     "output_type": "stream",
     "text": [
      "Configuration saved in shot-influence/deberta-base-for-3-shots-t-left-bs16*2-3sh-instance-split-12150358/checkpoint-2000/config.json\n"
     ]
    },
    {
     "name": "stderr",
     "output_type": "stream",
     "text": [
      "Model weights saved in shot-influence/deberta-base-for-3-shots-t-left-bs16*2-3sh-instance-split-12150358/checkpoint-2000/pytorch_model.bin\n"
     ]
    },
    {
     "name": "stderr",
     "output_type": "stream",
     "text": [
      "The following columns in the evaluation set don't have a corresponding argument in `DebertaV2ForSequenceClassification.forward` and have been ignored: text. If text are not expected by `DebertaV2ForSequenceClassification.forward`,  you can safely ignore this message.\n"
     ]
    },
    {
     "name": "stderr",
     "output_type": "stream",
     "text": [
      "***** Running Evaluation *****\n"
     ]
    },
    {
     "name": "stderr",
     "output_type": "stream",
     "text": [
      "  Num examples = 10615\n"
     ]
    },
    {
     "name": "stderr",
     "output_type": "stream",
     "text": [
      "  Batch size = 16\n"
     ]
    },
    {
     "name": "stderr",
     "output_type": "stream",
     "text": [
      "Saving model checkpoint to shot-influence/deberta-base-for-3-shots-t-left-bs16*2-3sh-instance-split-12150358/checkpoint-2500\n"
     ]
    },
    {
     "name": "stderr",
     "output_type": "stream",
     "text": [
      "Configuration saved in shot-influence/deberta-base-for-3-shots-t-left-bs16*2-3sh-instance-split-12150358/checkpoint-2500/config.json\n"
     ]
    },
    {
     "name": "stderr",
     "output_type": "stream",
     "text": [
      "Model weights saved in shot-influence/deberta-base-for-3-shots-t-left-bs16*2-3sh-instance-split-12150358/checkpoint-2500/pytorch_model.bin\n"
     ]
    },
    {
     "name": "stderr",
     "output_type": "stream",
     "text": [
      "Deleting older checkpoint [shot-influence/deberta-base-for-3-shots-t-left-bs16*2-3sh-instance-split-12150358/checkpoint-1500] due to args.save_total_limit\n"
     ]
    },
    {
     "name": "stderr",
     "output_type": "stream",
     "text": [
      "Deleting older checkpoint [shot-influence/deberta-base-for-3-shots-t-left-bs16*2-3sh-instance-split-12150358/checkpoint-2000] due to args.save_total_limit\n"
     ]
    },
    {
     "name": "stderr",
     "output_type": "stream",
     "text": [
      "The following columns in the evaluation set don't have a corresponding argument in `DebertaV2ForSequenceClassification.forward` and have been ignored: text. If text are not expected by `DebertaV2ForSequenceClassification.forward`,  you can safely ignore this message.\n"
     ]
    },
    {
     "name": "stderr",
     "output_type": "stream",
     "text": [
      "***** Running Evaluation *****\n"
     ]
    },
    {
     "name": "stderr",
     "output_type": "stream",
     "text": [
      "  Num examples = 10615\n"
     ]
    },
    {
     "name": "stderr",
     "output_type": "stream",
     "text": [
      "  Batch size = 16\n"
     ]
    },
    {
     "name": "stderr",
     "output_type": "stream",
     "text": [
      "Saving model checkpoint to shot-influence/deberta-base-for-3-shots-t-left-bs16*2-3sh-instance-split-12150358/checkpoint-3000\n"
     ]
    },
    {
     "name": "stderr",
     "output_type": "stream",
     "text": [
      "Configuration saved in shot-influence/deberta-base-for-3-shots-t-left-bs16*2-3sh-instance-split-12150358/checkpoint-3000/config.json\n"
     ]
    },
    {
     "name": "stderr",
     "output_type": "stream",
     "text": [
      "Model weights saved in shot-influence/deberta-base-for-3-shots-t-left-bs16*2-3sh-instance-split-12150358/checkpoint-3000/pytorch_model.bin\n"
     ]
    },
    {
     "name": "stderr",
     "output_type": "stream",
     "text": [
      "The following columns in the evaluation set don't have a corresponding argument in `DebertaV2ForSequenceClassification.forward` and have been ignored: text. If text are not expected by `DebertaV2ForSequenceClassification.forward`,  you can safely ignore this message.\n"
     ]
    },
    {
     "name": "stderr",
     "output_type": "stream",
     "text": [
      "***** Running Evaluation *****\n"
     ]
    },
    {
     "name": "stderr",
     "output_type": "stream",
     "text": [
      "  Num examples = 10615\n"
     ]
    },
    {
     "name": "stderr",
     "output_type": "stream",
     "text": [
      "  Batch size = 16\n"
     ]
    },
    {
     "name": "stderr",
     "output_type": "stream",
     "text": [
      "Saving model checkpoint to shot-influence/deberta-base-for-3-shots-t-left-bs16*2-3sh-instance-split-12150358/checkpoint-3500\n"
     ]
    },
    {
     "name": "stderr",
     "output_type": "stream",
     "text": [
      "Configuration saved in shot-influence/deberta-base-for-3-shots-t-left-bs16*2-3sh-instance-split-12150358/checkpoint-3500/config.json\n"
     ]
    },
    {
     "name": "stderr",
     "output_type": "stream",
     "text": [
      "Model weights saved in shot-influence/deberta-base-for-3-shots-t-left-bs16*2-3sh-instance-split-12150358/checkpoint-3500/pytorch_model.bin\n"
     ]
    },
    {
     "name": "stderr",
     "output_type": "stream",
     "text": [
      "Deleting older checkpoint [shot-influence/deberta-base-for-3-shots-t-left-bs16*2-3sh-instance-split-12150358/checkpoint-2500] due to args.save_total_limit\n"
     ]
    },
    {
     "name": "stderr",
     "output_type": "stream",
     "text": [
      "Deleting older checkpoint [shot-influence/deberta-base-for-3-shots-t-left-bs16*2-3sh-instance-split-12150358/checkpoint-3000] due to args.save_total_limit\n"
     ]
    },
    {
     "name": "stderr",
     "output_type": "stream",
     "text": [
      "The following columns in the evaluation set don't have a corresponding argument in `DebertaV2ForSequenceClassification.forward` and have been ignored: text. If text are not expected by `DebertaV2ForSequenceClassification.forward`,  you can safely ignore this message.\n"
     ]
    },
    {
     "name": "stderr",
     "output_type": "stream",
     "text": [
      "***** Running Evaluation *****\n"
     ]
    },
    {
     "name": "stderr",
     "output_type": "stream",
     "text": [
      "  Num examples = 10615\n"
     ]
    },
    {
     "name": "stderr",
     "output_type": "stream",
     "text": [
      "  Batch size = 16\n"
     ]
    },
    {
     "name": "stderr",
     "output_type": "stream",
     "text": [
      "Saving model checkpoint to shot-influence/deberta-base-for-3-shots-t-left-bs16*2-3sh-instance-split-12150358/checkpoint-4000\n"
     ]
    },
    {
     "name": "stderr",
     "output_type": "stream",
     "text": [
      "Configuration saved in shot-influence/deberta-base-for-3-shots-t-left-bs16*2-3sh-instance-split-12150358/checkpoint-4000/config.json\n"
     ]
    },
    {
     "name": "stderr",
     "output_type": "stream",
     "text": [
      "Model weights saved in shot-influence/deberta-base-for-3-shots-t-left-bs16*2-3sh-instance-split-12150358/checkpoint-4000/pytorch_model.bin\n"
     ]
    },
    {
     "name": "stderr",
     "output_type": "stream",
     "text": [
      "The following columns in the evaluation set don't have a corresponding argument in `DebertaV2ForSequenceClassification.forward` and have been ignored: text. If text are not expected by `DebertaV2ForSequenceClassification.forward`,  you can safely ignore this message.\n"
     ]
    },
    {
     "name": "stderr",
     "output_type": "stream",
     "text": [
      "***** Running Evaluation *****\n"
     ]
    },
    {
     "name": "stderr",
     "output_type": "stream",
     "text": [
      "  Num examples = 10615\n"
     ]
    },
    {
     "name": "stderr",
     "output_type": "stream",
     "text": [
      "  Batch size = 16\n"
     ]
    },
    {
     "name": "stderr",
     "output_type": "stream",
     "text": [
      "Saving model checkpoint to shot-influence/deberta-base-for-3-shots-t-left-bs16*2-3sh-instance-split-12150358/checkpoint-4500\n"
     ]
    },
    {
     "name": "stderr",
     "output_type": "stream",
     "text": [
      "Configuration saved in shot-influence/deberta-base-for-3-shots-t-left-bs16*2-3sh-instance-split-12150358/checkpoint-4500/config.json\n"
     ]
    },
    {
     "name": "stderr",
     "output_type": "stream",
     "text": [
      "Model weights saved in shot-influence/deberta-base-for-3-shots-t-left-bs16*2-3sh-instance-split-12150358/checkpoint-4500/pytorch_model.bin\n"
     ]
    },
    {
     "name": "stderr",
     "output_type": "stream",
     "text": [
      "Deleting older checkpoint [shot-influence/deberta-base-for-3-shots-t-left-bs16*2-3sh-instance-split-12150358/checkpoint-4000] due to args.save_total_limit\n"
     ]
    },
    {
     "name": "stderr",
     "output_type": "stream",
     "text": [
      "The following columns in the evaluation set don't have a corresponding argument in `DebertaV2ForSequenceClassification.forward` and have been ignored: text. If text are not expected by `DebertaV2ForSequenceClassification.forward`,  you can safely ignore this message.\n"
     ]
    },
    {
     "name": "stderr",
     "output_type": "stream",
     "text": [
      "***** Running Evaluation *****\n"
     ]
    },
    {
     "name": "stderr",
     "output_type": "stream",
     "text": [
      "  Num examples = 10615\n"
     ]
    },
    {
     "name": "stderr",
     "output_type": "stream",
     "text": [
      "  Batch size = 16\n"
     ]
    },
    {
     "name": "stderr",
     "output_type": "stream",
     "text": [
      "Saving model checkpoint to shot-influence/deberta-base-for-3-shots-t-left-bs16*2-3sh-instance-split-12150358/checkpoint-5000\n"
     ]
    },
    {
     "name": "stderr",
     "output_type": "stream",
     "text": [
      "Configuration saved in shot-influence/deberta-base-for-3-shots-t-left-bs16*2-3sh-instance-split-12150358/checkpoint-5000/config.json\n"
     ]
    },
    {
     "name": "stderr",
     "output_type": "stream",
     "text": [
      "Model weights saved in shot-influence/deberta-base-for-3-shots-t-left-bs16*2-3sh-instance-split-12150358/checkpoint-5000/pytorch_model.bin\n"
     ]
    },
    {
     "name": "stderr",
     "output_type": "stream",
     "text": [
      "Deleting older checkpoint [shot-influence/deberta-base-for-3-shots-t-left-bs16*2-3sh-instance-split-12150358/checkpoint-3500] due to args.save_total_limit\n"
     ]
    },
    {
     "name": "stderr",
     "output_type": "stream",
     "text": [
      "Deleting older checkpoint [shot-influence/deberta-base-for-3-shots-t-left-bs16*2-3sh-instance-split-12150358/checkpoint-4500] due to args.save_total_limit\n"
     ]
    },
    {
     "name": "stderr",
     "output_type": "stream",
     "text": [
      "The following columns in the evaluation set don't have a corresponding argument in `DebertaV2ForSequenceClassification.forward` and have been ignored: text. If text are not expected by `DebertaV2ForSequenceClassification.forward`,  you can safely ignore this message.\n"
     ]
    },
    {
     "name": "stderr",
     "output_type": "stream",
     "text": [
      "***** Running Evaluation *****\n"
     ]
    },
    {
     "name": "stderr",
     "output_type": "stream",
     "text": [
      "  Num examples = 10615\n"
     ]
    },
    {
     "name": "stderr",
     "output_type": "stream",
     "text": [
      "  Batch size = 16\n"
     ]
    },
    {
     "name": "stderr",
     "output_type": "stream",
     "text": [
      "Saving model checkpoint to shot-influence/deberta-base-for-3-shots-t-left-bs16*2-3sh-instance-split-12150358/checkpoint-5500\n"
     ]
    },
    {
     "name": "stderr",
     "output_type": "stream",
     "text": [
      "Configuration saved in shot-influence/deberta-base-for-3-shots-t-left-bs16*2-3sh-instance-split-12150358/checkpoint-5500/config.json\n"
     ]
    },
    {
     "name": "stderr",
     "output_type": "stream",
     "text": [
      "Model weights saved in shot-influence/deberta-base-for-3-shots-t-left-bs16*2-3sh-instance-split-12150358/checkpoint-5500/pytorch_model.bin\n"
     ]
    },
    {
     "name": "stderr",
     "output_type": "stream",
     "text": [
      "The following columns in the evaluation set don't have a corresponding argument in `DebertaV2ForSequenceClassification.forward` and have been ignored: text. If text are not expected by `DebertaV2ForSequenceClassification.forward`,  you can safely ignore this message.\n"
     ]
    },
    {
     "name": "stderr",
     "output_type": "stream",
     "text": [
      "***** Running Evaluation *****\n"
     ]
    },
    {
     "name": "stderr",
     "output_type": "stream",
     "text": [
      "  Num examples = 10615\n"
     ]
    },
    {
     "name": "stderr",
     "output_type": "stream",
     "text": [
      "  Batch size = 16\n"
     ]
    },
    {
     "name": "stderr",
     "output_type": "stream",
     "text": [
      "Saving model checkpoint to shot-influence/deberta-base-for-3-shots-t-left-bs16*2-3sh-instance-split-12150358/checkpoint-6000\n"
     ]
    },
    {
     "name": "stderr",
     "output_type": "stream",
     "text": [
      "Configuration saved in shot-influence/deberta-base-for-3-shots-t-left-bs16*2-3sh-instance-split-12150358/checkpoint-6000/config.json\n"
     ]
    },
    {
     "name": "stderr",
     "output_type": "stream",
     "text": [
      "Model weights saved in shot-influence/deberta-base-for-3-shots-t-left-bs16*2-3sh-instance-split-12150358/checkpoint-6000/pytorch_model.bin\n"
     ]
    },
    {
     "name": "stderr",
     "output_type": "stream",
     "text": [
      "Deleting older checkpoint [shot-influence/deberta-base-for-3-shots-t-left-bs16*2-3sh-instance-split-12150358/checkpoint-5500] due to args.save_total_limit\n"
     ]
    },
    {
     "name": "stderr",
     "output_type": "stream",
     "text": [
      "The following columns in the evaluation set don't have a corresponding argument in `DebertaV2ForSequenceClassification.forward` and have been ignored: text. If text are not expected by `DebertaV2ForSequenceClassification.forward`,  you can safely ignore this message.\n"
     ]
    },
    {
     "name": "stderr",
     "output_type": "stream",
     "text": [
      "***** Running Evaluation *****\n"
     ]
    },
    {
     "name": "stderr",
     "output_type": "stream",
     "text": [
      "  Num examples = 10615\n"
     ]
    },
    {
     "name": "stderr",
     "output_type": "stream",
     "text": [
      "  Batch size = 16\n"
     ]
    },
    {
     "name": "stderr",
     "output_type": "stream",
     "text": [
      "Saving model checkpoint to shot-influence/deberta-base-for-3-shots-t-left-bs16*2-3sh-instance-split-12150358/checkpoint-6500\n"
     ]
    },
    {
     "name": "stderr",
     "output_type": "stream",
     "text": [
      "Configuration saved in shot-influence/deberta-base-for-3-shots-t-left-bs16*2-3sh-instance-split-12150358/checkpoint-6500/config.json\n"
     ]
    },
    {
     "name": "stderr",
     "output_type": "stream",
     "text": [
      "Model weights saved in shot-influence/deberta-base-for-3-shots-t-left-bs16*2-3sh-instance-split-12150358/checkpoint-6500/pytorch_model.bin\n"
     ]
    },
    {
     "name": "stderr",
     "output_type": "stream",
     "text": [
      "Deleting older checkpoint [shot-influence/deberta-base-for-3-shots-t-left-bs16*2-3sh-instance-split-12150358/checkpoint-6000] due to args.save_total_limit\n"
     ]
    },
    {
     "name": "stderr",
     "output_type": "stream",
     "text": [
      "The following columns in the evaluation set don't have a corresponding argument in `DebertaV2ForSequenceClassification.forward` and have been ignored: text. If text are not expected by `DebertaV2ForSequenceClassification.forward`,  you can safely ignore this message.\n"
     ]
    },
    {
     "name": "stderr",
     "output_type": "stream",
     "text": [
      "***** Running Evaluation *****\n"
     ]
    },
    {
     "name": "stderr",
     "output_type": "stream",
     "text": [
      "  Num examples = 10615\n"
     ]
    },
    {
     "name": "stderr",
     "output_type": "stream",
     "text": [
      "  Batch size = 16\n"
     ]
    },
    {
     "name": "stderr",
     "output_type": "stream",
     "text": [
      "Saving model checkpoint to shot-influence/deberta-base-for-3-shots-t-left-bs16*2-3sh-instance-split-12150358/checkpoint-7000\n"
     ]
    },
    {
     "name": "stderr",
     "output_type": "stream",
     "text": [
      "Configuration saved in shot-influence/deberta-base-for-3-shots-t-left-bs16*2-3sh-instance-split-12150358/checkpoint-7000/config.json\n"
     ]
    },
    {
     "name": "stderr",
     "output_type": "stream",
     "text": [
      "Model weights saved in shot-influence/deberta-base-for-3-shots-t-left-bs16*2-3sh-instance-split-12150358/checkpoint-7000/pytorch_model.bin\n"
     ]
    },
    {
     "name": "stderr",
     "output_type": "stream",
     "text": [
      "Deleting older checkpoint [shot-influence/deberta-base-for-3-shots-t-left-bs16*2-3sh-instance-split-12150358/checkpoint-6500] due to args.save_total_limit\n"
     ]
    },
    {
     "name": "stderr",
     "output_type": "stream",
     "text": [
      "The following columns in the evaluation set don't have a corresponding argument in `DebertaV2ForSequenceClassification.forward` and have been ignored: text. If text are not expected by `DebertaV2ForSequenceClassification.forward`,  you can safely ignore this message.\n"
     ]
    },
    {
     "name": "stderr",
     "output_type": "stream",
     "text": [
      "***** Running Evaluation *****\n"
     ]
    },
    {
     "name": "stderr",
     "output_type": "stream",
     "text": [
      "  Num examples = 10615\n"
     ]
    },
    {
     "name": "stderr",
     "output_type": "stream",
     "text": [
      "  Batch size = 16\n"
     ]
    },
    {
     "name": "stderr",
     "output_type": "stream",
     "text": [
      "Saving model checkpoint to shot-influence/deberta-base-for-3-shots-t-left-bs16*2-3sh-instance-split-12150358/checkpoint-7500\n"
     ]
    },
    {
     "name": "stderr",
     "output_type": "stream",
     "text": [
      "Configuration saved in shot-influence/deberta-base-for-3-shots-t-left-bs16*2-3sh-instance-split-12150358/checkpoint-7500/config.json\n"
     ]
    },
    {
     "name": "stderr",
     "output_type": "stream",
     "text": [
      "Model weights saved in shot-influence/deberta-base-for-3-shots-t-left-bs16*2-3sh-instance-split-12150358/checkpoint-7500/pytorch_model.bin\n"
     ]
    },
    {
     "name": "stderr",
     "output_type": "stream",
     "text": [
      "Deleting older checkpoint [shot-influence/deberta-base-for-3-shots-t-left-bs16*2-3sh-instance-split-12150358/checkpoint-7000] due to args.save_total_limit\n"
     ]
    },
    {
     "name": "stderr",
     "output_type": "stream",
     "text": [
      "\n",
      "\n",
      "Training completed. Do not forget to share your model on huggingface.co/models =)\n",
      "\n",
      "\n"
     ]
    },
    {
     "name": "stderr",
     "output_type": "stream",
     "text": [
      "Loading best model from shot-influence/deberta-base-for-3-shots-t-left-bs16*2-3sh-instance-split-12150358/checkpoint-5000 (score: 0.5734668374061584).\n"
     ]
    },
    {
     "data": {
      "text/html": [
       "Waiting for W&B process to finish... <strong style=\"color:green\">(success).</strong>"
      ],
      "text/plain": [
       "<IPython.core.display.HTML object>"
      ]
     },
     "metadata": {},
     "output_type": "display_data"
    },
    {
     "data": {
      "application/vnd.jupyter.widget-view+json": {
       "model_id": "5964a39f5d294f34bffb8e903df0f6c6",
       "version_major": 2,
       "version_minor": 0
      },
      "text/plain": [
       "VBox(children=(Label(value='0.001 MB of 0.001 MB uploaded (0.000 MB deduped)\\r'), FloatProgress(value=1.0, max…"
      ]
     },
     "metadata": {},
     "output_type": "display_data"
    },
    {
     "data": {
      "text/html": [
       "<style>\n",
       "    table.wandb td:nth-child(1) { padding: 0 10px; text-align: left ; width: auto;} td:nth-child(2) {text-align: left ; width: 100%}\n",
       "    .wandb-row { display: flex; flex-direction: row; flex-wrap: wrap; justify-content: flex-start; width: 100% }\n",
       "    .wandb-col { display: flex; flex-direction: column; flex-basis: 100%; flex: 1; padding: 10px; }\n",
       "    </style>\n",
       "<div class=\"wandb-row\"><div class=\"wandb-col\"><h3>Run history:</h3><br/><table class=\"wandb\"><tr><td>eval/accuracy</td><td>▁▄▇▆▆▆▅▄▆▇▇▇█▆▆</td></tr><tr><td>eval/balanced_accuracy</td><td>▁█▇▇▆█▆▃▆▆██▇▇▇</td></tr><tr><td>eval/bs</td><td>▄▃▂▃▂▃▁▃▂▁▄▄▃██</td></tr><tr><td>eval/bs_dsc</td><td>▁▄▅▅▆▄▅▆▅█▆█▇▃▄</td></tr><tr><td>eval/bs_mcb</td><td>▂▁▁▂▂▂▁▃▂▂▄▅▄▇█</td></tr><tr><td>eval/bs_unc</td><td>▁▁▁▁▁▁▁▁▁▁▁▁▁▁▁</td></tr><tr><td>eval/conf_absolute_accuracy</td><td>▁▁▁▁▁▁▁▁▁▁▁▁▁▁▁</td></tr><tr><td>eval/conf_absolute_balanced_accuracy</td><td>▁▁▁▁▁▁▁▁▁▁▁▁▁▁▁</td></tr><tr><td>eval/conf_absolute_bs</td><td>▁▁▁▁▁▁▁▁▁▁▁▁▁▁▁</td></tr><tr><td>eval/conf_absolute_bs_dsc</td><td>▁▁▁▁▁▁▁▁▁▁▁▁▁▁▁</td></tr><tr><td>eval/conf_absolute_bs_mcb</td><td>▁▁▁▁▁▁▁▁▁▁▁▁▁▁▁</td></tr><tr><td>eval/conf_absolute_bs_unc</td><td>▁▁▁▁▁▁▁▁▁▁▁▁▁▁▁</td></tr><tr><td>eval/conf_absolute_f1</td><td>▁▁▁▁▁▁▁▁▁▁▁▁▁▁▁</td></tr><tr><td>eval/conf_absolute_precision</td><td>▁▁▁▁▁▁▁▁▁▁▁▁▁▁▁</td></tr><tr><td>eval/conf_absolute_recall</td><td>▁▁▁▁▁▁▁▁▁▁▁▁▁▁▁</td></tr><tr><td>eval/conf_absolute_roc_auc</td><td>▁▁▁▁▁▁▁▁▁▁▁▁▁▁▁</td></tr><tr><td>eval/conf_distribution_accuracy</td><td>▁▁▁▁▁▁▁▁▁▁▁▁▁▁▁</td></tr><tr><td>eval/conf_distribution_balanced_accuracy</td><td>▁▁▁▁▁▁▁▁▁▁▁▁▁▁▁</td></tr><tr><td>eval/conf_distribution_bs</td><td>▁▁▁▁▁▁▁▁▁▁▁▁▁▁▁</td></tr><tr><td>eval/conf_distribution_bs_dsc</td><td>▁▁▁▁▁▁▁▁▁▁▁▁▁▁▁</td></tr><tr><td>eval/conf_distribution_bs_mcb</td><td>▁▁▁▁▁▁▁▁▁▁▁▁▁▁▁</td></tr><tr><td>eval/conf_distribution_bs_unc</td><td>▁▁▁▁▁▁▁▁▁▁▁▁▁▁▁</td></tr><tr><td>eval/conf_distribution_f1</td><td>▁▁▁▁▁▁▁▁▁▁▁▁▁▁▁</td></tr><tr><td>eval/conf_distribution_precision</td><td>▁▁▁▁▁▁▁▁▁▁▁▁▁▁▁</td></tr><tr><td>eval/conf_distribution_recall</td><td>▁▁▁▁▁▁▁▁▁▁▁▁▁▁▁</td></tr><tr><td>eval/conf_distribution_roc_auc</td><td>▁▁▁▁▁▁▁▁▁▁▁▁▁▁▁</td></tr><tr><td>eval/conf_normalized_accuracy</td><td>▁▁▁▁▁▁▁▁▁▁▁▁▁▁▁</td></tr><tr><td>eval/conf_normalized_balanced_accuracy</td><td>▁▁▁▁▁▁▁▁▁▁▁▁▁▁▁</td></tr><tr><td>eval/conf_normalized_bs</td><td>▁▁▁▁▁▁▁▁▁▁▁▁▁▁▁</td></tr><tr><td>eval/conf_normalized_bs_dsc</td><td>▁▁▁▁▁▁▁▁▁▁▁▁▁▁▁</td></tr><tr><td>eval/conf_normalized_bs_mcb</td><td>▁▁▁▁▁▁▁▁▁▁▁▁▁▁▁</td></tr><tr><td>eval/conf_normalized_bs_unc</td><td>▁▁▁▁▁▁▁▁▁▁▁▁▁▁▁</td></tr><tr><td>eval/conf_normalized_f1</td><td>▁▁▁▁▁▁▁▁▁▁▁▁▁▁▁</td></tr><tr><td>eval/conf_normalized_precision</td><td>▁▁▁▁▁▁▁▁▁▁▁▁▁▁▁</td></tr><tr><td>eval/conf_normalized_recall</td><td>▁▁▁▁▁▁▁▁▁▁▁▁▁▁▁</td></tr><tr><td>eval/conf_normalized_roc_auc</td><td>▁▁▁▁▁▁▁▁▁▁▁▁▁▁▁</td></tr><tr><td>eval/f1</td><td>▁█▇▇▆█▆▂▆▆██▇██</td></tr><tr><td>eval/loss</td><td>▃▂▂▃▂▃▁▂▂▁▃▃▂▇█</td></tr><tr><td>eval/precision</td><td>▆▁▃▃▄▂▃█▄▅▂▃▄▃▃</td></tr><tr><td>eval/recall</td><td>▁█▇▆▅▇▆▂▆▅█▇▆▇▇</td></tr><tr><td>eval/roc_auc</td><td>▁▄▅▅▆▄▅▆▅█▇██▃▄</td></tr><tr><td>eval/runtime</td><td>▆▆▅▄▆█▃▄▅▂▂▂▂▁▁</td></tr><tr><td>eval/samples_per_second</td><td>▃▃▄▅▃▁▆▅▄▇▆▇▇██</td></tr><tr><td>eval/steps_per_second</td><td>▃▃▄▅▃▁▆▅▄▇▆▇▇██</td></tr><tr><td>train/epoch</td><td>▁▁▁▁▂▂▂▂▃▃▃▃▄▄▄▄▅▅▅▅▆▆▆▆▇▇▇▇███</td></tr><tr><td>train/global_step</td><td>▁▁▁▁▂▂▂▂▃▃▃▃▄▄▄▄▅▅▅▅▆▆▆▆▇▇▇▇███</td></tr><tr><td>train/learning_rate</td><td>▂▃▄▅▇█▇▆▆▅▄▃▃▂▁</td></tr><tr><td>train/loss</td><td>█▆▆▆▆▆▆▅▅▅▄▃▃▂▁</td></tr><tr><td>train/total_flos</td><td>▁</td></tr><tr><td>train/train_loss</td><td>▁</td></tr><tr><td>train/train_runtime</td><td>▁</td></tr><tr><td>train/train_samples_per_second</td><td>▁</td></tr><tr><td>train/train_steps_per_second</td><td>▁</td></tr></table><br/></div><div class=\"wandb-col\"><h3>Run summary:</h3><br/><table class=\"wandb\"><tr><td>eval/accuracy</td><td>0.68695</td></tr><tr><td>eval/balanced_accuracy</td><td>0.66447</td></tr><tr><td>eval/bs</td><td>0.21921</td></tr><tr><td>eval/bs_dsc</td><td>0.03889</td></tr><tr><td>eval/bs_mcb</td><td>0.0216</td></tr><tr><td>eval/bs_unc</td><td>0.2365</td></tr><tr><td>eval/conf_absolute_accuracy</td><td>0.60047</td></tr><tr><td>eval/conf_absolute_balanced_accuracy</td><td>0.60643</td></tr><tr><td>eval/conf_absolute_bs</td><td>0.26978</td></tr><tr><td>eval/conf_absolute_bs_dsc</td><td>0.01343</td></tr><tr><td>eval/conf_absolute_bs_mcb</td><td>0.04671</td></tr><tr><td>eval/conf_absolute_bs_unc</td><td>0.2365</td></tr><tr><td>eval/conf_absolute_f1</td><td>0.5484</td></tr><tr><td>eval/conf_absolute_precision</td><td>0.4843</td></tr><tr><td>eval/conf_absolute_recall</td><td>0.63206</td></tr><tr><td>eval/conf_absolute_roc_auc</td><td>0.62371</td></tr><tr><td>eval/conf_distribution_accuracy</td><td>0.68931</td></tr><tr><td>eval/conf_distribution_balanced_accuracy</td><td>0.65504</td></tr><tr><td>eval/conf_distribution_bs</td><td>0.19561</td></tr><tr><td>eval/conf_distribution_bs_dsc</td><td>0.04089</td></tr><tr><td>eval/conf_distribution_bs_mcb</td><td>0.0</td></tr><tr><td>eval/conf_distribution_bs_unc</td><td>0.2365</td></tr><tr><td>eval/conf_distribution_f1</td><td>0.55636</td></tr><tr><td>eval/conf_distribution_precision</td><td>0.61548</td></tr><tr><td>eval/conf_distribution_recall</td><td>0.50761</td></tr><tr><td>eval/conf_distribution_roc_auc</td><td>0.74379</td></tr><tr><td>eval/conf_normalized_accuracy</td><td>0.5154</td></tr><tr><td>eval/conf_normalized_balanced_accuracy</td><td>0.58665</td></tr><tr><td>eval/conf_normalized_bs</td><td>0.30793</td></tr><tr><td>eval/conf_normalized_bs_dsc</td><td>0.01471</td></tr><tr><td>eval/conf_normalized_bs_mcb</td><td>0.08614</td></tr><tr><td>eval/conf_normalized_bs_unc</td><td>0.2365</td></tr><tr><td>eval/conf_normalized_f1</td><td>0.5859</td></tr><tr><td>eval/conf_normalized_precision</td><td>0.43591</td></tr><tr><td>eval/conf_normalized_recall</td><td>0.89323</td></tr><tr><td>eval/conf_normalized_roc_auc</td><td>0.63214</td></tr><tr><td>eval/f1</td><td>0.58196</td></tr><tr><td>eval/loss</td><td>0.65689</td></tr><tr><td>eval/precision</td><td>0.5969</td></tr><tr><td>eval/recall</td><td>0.56775</td></tr><tr><td>eval/roc_auc</td><td>0.7344</td></tr><tr><td>eval/runtime</td><td>155.988</td></tr><tr><td>eval/samples_per_second</td><td>68.05</td></tr><tr><td>eval/steps_per_second</td><td>4.257</td></tr><tr><td>train/epoch</td><td>6.0</td></tr><tr><td>train/global_step</td><td>7956</td></tr><tr><td>train/learning_rate</td><td>0.0</td></tr><tr><td>train/loss</td><td>0.4602</td></tr><tr><td>train/total_flos</td><td>6.697454156483789e+16</td></tr><tr><td>train/train_loss</td><td>0.55153</td></tr><tr><td>train/train_runtime</td><td>13370.1832</td></tr><tr><td>train/train_samples_per_second</td><td>19.038</td></tr><tr><td>train/train_steps_per_second</td><td>0.595</td></tr></table><br/></div></div>"
      ],
      "text/plain": [
       "<IPython.core.display.HTML object>"
      ]
     },
     "metadata": {},
     "output_type": "display_data"
    },
    {
     "data": {
      "text/html": [
       "Synced <strong style=\"color:#cdcd00\">deberta-base-for-3-shots-t-left-bs16*2-3sh-instance-split</strong>: <a href=\"https://wandb.ai/wschella/lass/runs/nxkz2js3\" target=\"_blank\">https://wandb.ai/wschella/lass/runs/nxkz2js3</a><br/>Synced 6 W&B file(s), 0 media file(s), 0 artifact file(s) and 0 other file(s)"
      ],
      "text/plain": [
       "<IPython.core.display.HTML object>"
      ]
     },
     "metadata": {},
     "output_type": "display_data"
    },
    {
     "data": {
      "text/html": [
       "Find logs at: <code>/tmp/wandb/run-20221215_035834-nxkz2js3/logs</code>"
      ],
      "text/plain": [
       "<IPython.core.display.HTML object>"
      ]
     },
     "metadata": {},
     "output_type": "display_data"
    }
   ],
   "source": [
    "@dataclass\n",
    "class Architecture():\n",
    "    name: str\n",
    "    name_short: str\n",
    "    batch_size: int\n",
    "    gradient_accumulation_steps: int\n",
    "    \n",
    "architecture = Architecture(\n",
    "    name=\"microsoft/deberta-v3-base\", \n",
    "    name_short=\"deberta-base\",\n",
    "    batch_size=16,\n",
    "    gradient_accumulation_steps=2,\n",
    ")\n",
    "\n",
    "\n",
    "# for n_shots in [0, 1, 2, 3]:\n",
    "for n_shots in [2, 3]:\n",
    "    print(f\"#Examples for {n_shots} shots: {len(data[data.shots == n_shots])}\")\n",
    "    shot_log_loader_args = LogLoaderArgs(**(log_loader_args.__dict__ | {\n",
    "        'shots': [n_shots],\n",
    "        'tasks': filtered_tasks,\n",
    "    }))\n",
    "\n",
    "    def t(truncation_side: Union[Literal[\"left\"], Literal[\"right\"]]):\n",
    "        lass.train.train(\n",
    "            data_args=shot_log_loader_args,\n",
    "            group='shot-influence',\n",
    "            output_dir=\"shot-influence\",\n",
    "            split='instance',\n",
    "            model_name=architecture.name,\n",
    "            model_name_short=f\"{architecture.name_short}-for-{n_shots}-shots-t-{truncation_side}\",\n",
    "            truncation_side=truncation_side,\n",
    "            batch_size=architecture.batch_size,\n",
    "            gradient_accumulation_steps=architecture.gradient_accumulation_steps,\n",
    "            include_model_in_input=False,\n",
    "            include_n_targets_in_input=False,\n",
    "            n_epochs=6,\n",
    "            extra_training_args={\n",
    "                \"warmup_steps\": 3000,\n",
    "                \"learning_rate\": 2e-5,\n",
    "            },\n",
    "        )\n",
    "\n",
    "    t('right')\n",
    "    t('left')"
   ]
  }
 ],
 "metadata": {
  "kernelspec": {
   "display_name": "Python 3.10.4 (conda)",
   "language": "python",
   "name": "python3"
  },
  "language_info": {
   "codemirror_mode": {
    "name": "ipython",
    "version": 3
   },
   "file_extension": ".py",
   "mimetype": "text/x-python",
   "name": "python",
   "nbconvert_exporter": "python",
   "pygments_lexer": "ipython3",
   "version": "3.10.4"
  },
  "papermill": {
   "default_parameters": {},
   "duration": 53373.219056,
   "end_time": "2022-12-15T06:41:40.115542",
   "environment_variables": {},
   "exception": null,
   "input_path": "Exp_Shots.ipynb",
   "output_path": "Exp_Shots.ipynb",
   "parameters": {},
   "start_time": "2022-12-14T15:52:06.896486",
   "version": "2.3.4"
  },
  "vscode": {
   "interpreter": {
    "hash": "eed4bfcf3d3cfcdb00482c10052e8eba5705b015008b357326d56e176b5397df"
   }
  },
  "widgets": {
   "application/vnd.jupyter.widget-state+json": {
    "state": {
     "02f5ed8b304a48faa93a098eee683ad9": {
      "model_module": "@jupyter-widgets/controls",
      "model_module_version": "1.5.0",
      "model_name": "ProgressStyleModel",
      "state": {
       "_model_module": "@jupyter-widgets/controls",
       "_model_module_version": "1.5.0",
       "_model_name": "ProgressStyleModel",
       "_view_count": null,
       "_view_module": "@jupyter-widgets/base",
       "_view_module_version": "1.2.0",
       "_view_name": "StyleView",
       "bar_color": null,
       "description_width": ""
      }
     },
     "03e5ba81b4ab4bf0b30bc7bcf1e9176f": {
      "model_module": "@jupyter-widgets/base",
      "model_module_version": "1.2.0",
      "model_name": "LayoutModel",
      "state": {
       "_model_module": "@jupyter-widgets/base",
       "_model_module_version": "1.2.0",
       "_model_name": "LayoutModel",
       "_view_count": null,
       "_view_module": "@jupyter-widgets/base",
       "_view_module_version": "1.2.0",
       "_view_name": "LayoutView",
       "align_content": null,
       "align_items": null,
       "align_self": null,
       "border": null,
       "bottom": null,
       "display": null,
       "flex": null,
       "flex_flow": null,
       "grid_area": null,
       "grid_auto_columns": null,
       "grid_auto_flow": null,
       "grid_auto_rows": null,
       "grid_column": null,
       "grid_gap": null,
       "grid_row": null,
       "grid_template_areas": null,
       "grid_template_columns": null,
       "grid_template_rows": null,
       "height": null,
       "justify_content": null,
       "justify_items": null,
       "left": null,
       "margin": null,
       "max_height": null,
       "max_width": null,
       "min_height": null,
       "min_width": null,
       "object_fit": null,
       "object_position": null,
       "order": null,
       "overflow": null,
       "overflow_x": null,
       "overflow_y": null,
       "padding": null,
       "right": null,
       "top": null,
       "visibility": null,
       "width": null
      }
     },
     "056e6e742b83493880b1d4dbf732c78a": {
      "model_module": "@jupyter-widgets/controls",
      "model_module_version": "1.5.0",
      "model_name": "LabelModel",
      "state": {
       "_dom_classes": [],
       "_model_module": "@jupyter-widgets/controls",
       "_model_module_version": "1.5.0",
       "_model_name": "LabelModel",
       "_view_count": null,
       "_view_module": "@jupyter-widgets/controls",
       "_view_module_version": "1.5.0",
       "_view_name": "LabelView",
       "description": "",
       "description_tooltip": null,
       "layout": "IPY_MODEL_516edd045e8140448035ec1078807bae",
       "placeholder": "​",
       "style": "IPY_MODEL_7c211c2a7faf4031b8fc824842d3f980",
       "value": "0.483 MB of 0.483 MB uploaded (0.000 MB deduped)\r"
      }
     },
     "060b5e6b3390476dbef6b01a8e97531d": {
      "model_module": "@jupyter-widgets/base",
      "model_module_version": "1.2.0",
      "model_name": "LayoutModel",
      "state": {
       "_model_module": "@jupyter-widgets/base",
       "_model_module_version": "1.2.0",
       "_model_name": "LayoutModel",
       "_view_count": null,
       "_view_module": "@jupyter-widgets/base",
       "_view_module_version": "1.2.0",
       "_view_name": "LayoutView",
       "align_content": null,
       "align_items": null,
       "align_self": null,
       "border": null,
       "bottom": null,
       "display": null,
       "flex": null,
       "flex_flow": null,
       "grid_area": null,
       "grid_auto_columns": null,
       "grid_auto_flow": null,
       "grid_auto_rows": null,
       "grid_column": null,
       "grid_gap": null,
       "grid_row": null,
       "grid_template_areas": null,
       "grid_template_columns": null,
       "grid_template_rows": null,
       "height": null,
       "justify_content": null,
       "justify_items": null,
       "left": null,
       "margin": null,
       "max_height": null,
       "max_width": null,
       "min_height": null,
       "min_width": null,
       "object_fit": null,
       "object_position": null,
       "order": null,
       "overflow": null,
       "overflow_x": null,
       "overflow_y": null,
       "padding": null,
       "right": null,
       "top": null,
       "visibility": null,
       "width": null
      }
     },
     "0c85d84ae1dc4123a380edde4a612c3a": {
      "model_module": "@jupyter-widgets/controls",
      "model_module_version": "1.5.0",
      "model_name": "HBoxModel",
      "state": {
       "_dom_classes": [],
       "_model_module": "@jupyter-widgets/controls",
       "_model_module_version": "1.5.0",
       "_model_name": "HBoxModel",
       "_view_count": null,
       "_view_module": "@jupyter-widgets/controls",
       "_view_module_version": "1.5.0",
       "_view_name": "HBoxView",
       "box_style": "",
       "children": [
        "IPY_MODEL_dd8a0183005c459784196ca54332047b",
        "IPY_MODEL_a51b962800104ed59dbe5d59e5f80258",
        "IPY_MODEL_97986e4c84454981bec63751e531609b"
       ],
       "layout": "IPY_MODEL_cf48a0bf37cf4e5582f5eb5bad094664"
      }
     },
     "0d05fc275bd1402a95877f979cd09cf1": {
      "model_module": "@jupyter-widgets/controls",
      "model_module_version": "1.5.0",
      "model_name": "ProgressStyleModel",
      "state": {
       "_model_module": "@jupyter-widgets/controls",
       "_model_module_version": "1.5.0",
       "_model_name": "ProgressStyleModel",
       "_view_count": null,
       "_view_module": "@jupyter-widgets/base",
       "_view_module_version": "1.2.0",
       "_view_name": "StyleView",
       "bar_color": null,
       "description_width": ""
      }
     },
     "0e0067eefdfa49efab09976a4728ee66": {
      "model_module": "@jupyter-widgets/base",
      "model_module_version": "1.2.0",
      "model_name": "LayoutModel",
      "state": {
       "_model_module": "@jupyter-widgets/base",
       "_model_module_version": "1.2.0",
       "_model_name": "LayoutModel",
       "_view_count": null,
       "_view_module": "@jupyter-widgets/base",
       "_view_module_version": "1.2.0",
       "_view_name": "LayoutView",
       "align_content": null,
       "align_items": null,
       "align_self": null,
       "border": null,
       "bottom": null,
       "display": null,
       "flex": null,
       "flex_flow": null,
       "grid_area": null,
       "grid_auto_columns": null,
       "grid_auto_flow": null,
       "grid_auto_rows": null,
       "grid_column": null,
       "grid_gap": null,
       "grid_row": null,
       "grid_template_areas": null,
       "grid_template_columns": null,
       "grid_template_rows": null,
       "height": null,
       "justify_content": null,
       "justify_items": null,
       "left": null,
       "margin": null,
       "max_height": null,
       "max_width": null,
       "min_height": null,
       "min_width": null,
       "object_fit": null,
       "object_position": null,
       "order": null,
       "overflow": null,
       "overflow_x": null,
       "overflow_y": null,
       "padding": null,
       "right": null,
       "top": null,
       "visibility": null,
       "width": null
      }
     },
     "0ecb24e4b9df456f84364204b3507ca9": {
      "model_module": "@jupyter-widgets/controls",
      "model_module_version": "1.5.0",
      "model_name": "ProgressStyleModel",
      "state": {
       "_model_module": "@jupyter-widgets/controls",
       "_model_module_version": "1.5.0",
       "_model_name": "ProgressStyleModel",
       "_view_count": null,
       "_view_module": "@jupyter-widgets/base",
       "_view_module_version": "1.2.0",
       "_view_name": "StyleView",
       "bar_color": null,
       "description_width": ""
      }
     },
     "11c8a6274f2049b6b01d324c9456a851": {
      "model_module": "@jupyter-widgets/base",
      "model_module_version": "1.2.0",
      "model_name": "LayoutModel",
      "state": {
       "_model_module": "@jupyter-widgets/base",
       "_model_module_version": "1.2.0",
       "_model_name": "LayoutModel",
       "_view_count": null,
       "_view_module": "@jupyter-widgets/base",
       "_view_module_version": "1.2.0",
       "_view_name": "LayoutView",
       "align_content": null,
       "align_items": null,
       "align_self": null,
       "border": null,
       "bottom": null,
       "display": null,
       "flex": null,
       "flex_flow": null,
       "grid_area": null,
       "grid_auto_columns": null,
       "grid_auto_flow": null,
       "grid_auto_rows": null,
       "grid_column": null,
       "grid_gap": null,
       "grid_row": null,
       "grid_template_areas": null,
       "grid_template_columns": null,
       "grid_template_rows": null,
       "height": null,
       "justify_content": null,
       "justify_items": null,
       "left": null,
       "margin": null,
       "max_height": null,
       "max_width": null,
       "min_height": null,
       "min_width": null,
       "object_fit": null,
       "object_position": null,
       "order": null,
       "overflow": null,
       "overflow_x": null,
       "overflow_y": null,
       "padding": null,
       "right": null,
       "top": null,
       "visibility": null,
       "width": null
      }
     },
     "1361f84ac8a14a148ba7f01420c54668": {
      "model_module": "@jupyter-widgets/controls",
      "model_module_version": "1.5.0",
      "model_name": "FloatProgressModel",
      "state": {
       "_dom_classes": [],
       "_model_module": "@jupyter-widgets/controls",
       "_model_module_version": "1.5.0",
       "_model_name": "FloatProgressModel",
       "_view_count": null,
       "_view_module": "@jupyter-widgets/controls",
       "_view_module_version": "1.5.0",
       "_view_name": "ProgressView",
       "bar_style": "",
       "description": "",
       "description_tooltip": null,
       "layout": "IPY_MODEL_6640c9ff3db94c959503730c728f2899",
       "max": 1.0,
       "min": 0.0,
       "orientation": "horizontal",
       "style": "IPY_MODEL_0d05fc275bd1402a95877f979cd09cf1",
       "value": 0.0
      }
     },
     "13d55addc441441a9a4b97465381ce6c": {
      "model_module": "@jupyter-widgets/base",
      "model_module_version": "1.2.0",
      "model_name": "LayoutModel",
      "state": {
       "_model_module": "@jupyter-widgets/base",
       "_model_module_version": "1.2.0",
       "_model_name": "LayoutModel",
       "_view_count": null,
       "_view_module": "@jupyter-widgets/base",
       "_view_module_version": "1.2.0",
       "_view_name": "LayoutView",
       "align_content": null,
       "align_items": null,
       "align_self": null,
       "border": null,
       "bottom": null,
       "display": null,
       "flex": null,
       "flex_flow": null,
       "grid_area": null,
       "grid_auto_columns": null,
       "grid_auto_flow": null,
       "grid_auto_rows": null,
       "grid_column": null,
       "grid_gap": null,
       "grid_row": null,
       "grid_template_areas": null,
       "grid_template_columns": null,
       "grid_template_rows": null,
       "height": null,
       "justify_content": null,
       "justify_items": null,
       "left": null,
       "margin": null,
       "max_height": null,
       "max_width": null,
       "min_height": null,
       "min_width": null,
       "object_fit": null,
       "object_position": null,
       "order": null,
       "overflow": null,
       "overflow_x": null,
       "overflow_y": null,
       "padding": null,
       "right": null,
       "top": null,
       "visibility": null,
       "width": null
      }
     },
     "1714307a75c9446ba4a9c8a1087cc7bd": {
      "model_module": "@jupyter-widgets/controls",
      "model_module_version": "1.5.0",
      "model_name": "HBoxModel",
      "state": {
       "_dom_classes": [],
       "_model_module": "@jupyter-widgets/controls",
       "_model_module_version": "1.5.0",
       "_model_name": "HBoxModel",
       "_view_count": null,
       "_view_module": "@jupyter-widgets/controls",
       "_view_module_version": "1.5.0",
       "_view_name": "HBoxView",
       "box_style": "",
       "children": [
        "IPY_MODEL_c529138e77b848ae8248b7055703862f",
        "IPY_MODEL_2a2a2716b71e488f808b9314fe823d3d",
        "IPY_MODEL_c3635b8e847042efb8fafdceeb645a53"
       ],
       "layout": "IPY_MODEL_e9369304cca74a05b2535954e4769cf4"
      }
     },
     "19bdd21c3deb4110896c094786cda995": {
      "model_module": "@jupyter-widgets/controls",
      "model_module_version": "1.5.0",
      "model_name": "ProgressStyleModel",
      "state": {
       "_model_module": "@jupyter-widgets/controls",
       "_model_module_version": "1.5.0",
       "_model_name": "ProgressStyleModel",
       "_view_count": null,
       "_view_module": "@jupyter-widgets/base",
       "_view_module_version": "1.2.0",
       "_view_name": "StyleView",
       "bar_color": null,
       "description_width": ""
      }
     },
     "1afdda87348840f48db228b90a86ce1e": {
      "model_module": "@jupyter-widgets/base",
      "model_module_version": "1.2.0",
      "model_name": "LayoutModel",
      "state": {
       "_model_module": "@jupyter-widgets/base",
       "_model_module_version": "1.2.0",
       "_model_name": "LayoutModel",
       "_view_count": null,
       "_view_module": "@jupyter-widgets/base",
       "_view_module_version": "1.2.0",
       "_view_name": "LayoutView",
       "align_content": null,
       "align_items": null,
       "align_self": null,
       "border": null,
       "bottom": null,
       "display": null,
       "flex": null,
       "flex_flow": null,
       "grid_area": null,
       "grid_auto_columns": null,
       "grid_auto_flow": null,
       "grid_auto_rows": null,
       "grid_column": null,
       "grid_gap": null,
       "grid_row": null,
       "grid_template_areas": null,
       "grid_template_columns": null,
       "grid_template_rows": null,
       "height": null,
       "justify_content": null,
       "justify_items": null,
       "left": null,
       "margin": null,
       "max_height": null,
       "max_width": null,
       "min_height": null,
       "min_width": null,
       "object_fit": null,
       "object_position": null,
       "order": null,
       "overflow": null,
       "overflow_x": null,
       "overflow_y": null,
       "padding": null,
       "right": null,
       "top": null,
       "visibility": null,
       "width": null
      }
     },
     "1b2f8a75587c44c7bb617e7c7ed59f09": {
      "model_module": "@jupyter-widgets/base",
      "model_module_version": "1.2.0",
      "model_name": "LayoutModel",
      "state": {
       "_model_module": "@jupyter-widgets/base",
       "_model_module_version": "1.2.0",
       "_model_name": "LayoutModel",
       "_view_count": null,
       "_view_module": "@jupyter-widgets/base",
       "_view_module_version": "1.2.0",
       "_view_name": "LayoutView",
       "align_content": null,
       "align_items": null,
       "align_self": null,
       "border": null,
       "bottom": null,
       "display": null,
       "flex": null,
       "flex_flow": null,
       "grid_area": null,
       "grid_auto_columns": null,
       "grid_auto_flow": null,
       "grid_auto_rows": null,
       "grid_column": null,
       "grid_gap": null,
       "grid_row": null,
       "grid_template_areas": null,
       "grid_template_columns": null,
       "grid_template_rows": null,
       "height": null,
       "justify_content": null,
       "justify_items": null,
       "left": null,
       "margin": null,
       "max_height": null,
       "max_width": null,
       "min_height": null,
       "min_width": null,
       "object_fit": null,
       "object_position": null,
       "order": null,
       "overflow": null,
       "overflow_x": null,
       "overflow_y": null,
       "padding": null,
       "right": null,
       "top": null,
       "visibility": null,
       "width": null
      }
     },
     "20291f0dc67d4dafafe25f000e7bfea0": {
      "model_module": "@jupyter-widgets/controls",
      "model_module_version": "1.5.0",
      "model_name": "HTMLModel",
      "state": {
       "_dom_classes": [],
       "_model_module": "@jupyter-widgets/controls",
       "_model_module_version": "1.5.0",
       "_model_name": "HTMLModel",
       "_view_count": null,
       "_view_module": "@jupyter-widgets/controls",
       "_view_module_version": "1.5.0",
       "_view_name": "HTMLView",
       "description": "",
       "description_tooltip": null,
       "layout": "IPY_MODEL_810b3dff432d4f85942d34af36c0fdd3",
       "placeholder": "​",
       "style": "IPY_MODEL_4a6d28a52c3e4f74bae82288fcadf1d8",
       "value": "100%"
      }
     },
     "206d0620de8b4311938a710be5bd4ba2": {
      "model_module": "@jupyter-widgets/controls",
      "model_module_version": "1.5.0",
      "model_name": "DescriptionStyleModel",
      "state": {
       "_model_module": "@jupyter-widgets/controls",
       "_model_module_version": "1.5.0",
       "_model_name": "DescriptionStyleModel",
       "_view_count": null,
       "_view_module": "@jupyter-widgets/base",
       "_view_module_version": "1.2.0",
       "_view_name": "StyleView",
       "description_width": ""
      }
     },
     "22ca9f392b204302a0ca8d3ec7c70d8b": {
      "model_module": "@jupyter-widgets/controls",
      "model_module_version": "1.5.0",
      "model_name": "ProgressStyleModel",
      "state": {
       "_model_module": "@jupyter-widgets/controls",
       "_model_module_version": "1.5.0",
       "_model_name": "ProgressStyleModel",
       "_view_count": null,
       "_view_module": "@jupyter-widgets/base",
       "_view_module_version": "1.2.0",
       "_view_name": "StyleView",
       "bar_color": null,
       "description_width": ""
      }
     },
     "27415a4412fa4676b7923889e8e3736b": {
      "model_module": "@jupyter-widgets/base",
      "model_module_version": "1.2.0",
      "model_name": "LayoutModel",
      "state": {
       "_model_module": "@jupyter-widgets/base",
       "_model_module_version": "1.2.0",
       "_model_name": "LayoutModel",
       "_view_count": null,
       "_view_module": "@jupyter-widgets/base",
       "_view_module_version": "1.2.0",
       "_view_name": "LayoutView",
       "align_content": null,
       "align_items": null,
       "align_self": null,
       "border": null,
       "bottom": null,
       "display": null,
       "flex": null,
       "flex_flow": null,
       "grid_area": null,
       "grid_auto_columns": null,
       "grid_auto_flow": null,
       "grid_auto_rows": null,
       "grid_column": null,
       "grid_gap": null,
       "grid_row": null,
       "grid_template_areas": null,
       "grid_template_columns": null,
       "grid_template_rows": null,
       "height": null,
       "justify_content": null,
       "justify_items": null,
       "left": null,
       "margin": null,
       "max_height": null,
       "max_width": null,
       "min_height": null,
       "min_width": null,
       "object_fit": null,
       "object_position": null,
       "order": null,
       "overflow": null,
       "overflow_x": null,
       "overflow_y": null,
       "padding": null,
       "right": null,
       "top": null,
       "visibility": null,
       "width": null
      }
     },
     "29dd08ebcb20421b982b8d961eebbf86": {
      "model_module": "@jupyter-widgets/controls",
      "model_module_version": "1.5.0",
      "model_name": "HTMLModel",
      "state": {
       "_dom_classes": [],
       "_model_module": "@jupyter-widgets/controls",
       "_model_module_version": "1.5.0",
       "_model_name": "HTMLModel",
       "_view_count": null,
       "_view_module": "@jupyter-widgets/controls",
       "_view_module_version": "1.5.0",
       "_view_name": "HTMLView",
       "description": "",
       "description_tooltip": null,
       "layout": "IPY_MODEL_552a2b6f7c3847e69f18888d025f9113",
       "placeholder": "​",
       "style": "IPY_MODEL_a10167c83cb84fc9b3b17e3191a57058",
       "value": " 11/11 [00:09&lt;00:00,  1.21s/ba]"
      }
     },
     "29fd9e5a6c244a52a384daba825b95ad": {
      "model_module": "@jupyter-widgets/controls",
      "model_module_version": "1.5.0",
      "model_name": "FloatProgressModel",
      "state": {
       "_dom_classes": [],
       "_model_module": "@jupyter-widgets/controls",
       "_model_module_version": "1.5.0",
       "_model_name": "FloatProgressModel",
       "_view_count": null,
       "_view_module": "@jupyter-widgets/controls",
       "_view_module_version": "1.5.0",
       "_view_name": "ProgressView",
       "bar_style": "",
       "description": "",
       "description_tooltip": null,
       "layout": "IPY_MODEL_a619e4a7a2984ae0b53e28fe261b11aa",
       "max": 1.0,
       "min": 0.0,
       "orientation": "horizontal",
       "style": "IPY_MODEL_4ceb7e38fabf4e699081fb9912fa9fc0",
       "value": 0.0
      }
     },
     "2a2a2716b71e488f808b9314fe823d3d": {
      "model_module": "@jupyter-widgets/controls",
      "model_module_version": "1.5.0",
      "model_name": "FloatProgressModel",
      "state": {
       "_dom_classes": [],
       "_model_module": "@jupyter-widgets/controls",
       "_model_module_version": "1.5.0",
       "_model_name": "FloatProgressModel",
       "_view_count": null,
       "_view_module": "@jupyter-widgets/controls",
       "_view_module_version": "1.5.0",
       "_view_name": "ProgressView",
       "bar_style": "success",
       "description": "",
       "description_tooltip": null,
       "layout": "IPY_MODEL_90c0fbb4de804483a10450a3fdb2f2be",
       "max": 11.0,
       "min": 0.0,
       "orientation": "horizontal",
       "style": "IPY_MODEL_87e3af6ceafa4630a202b8dfd6c99822",
       "value": 11.0
      }
     },
     "2f4fd1a58e9042dfabda18f9b7c78ab2": {
      "model_module": "@jupyter-widgets/controls",
      "model_module_version": "1.5.0",
      "model_name": "FloatProgressModel",
      "state": {
       "_dom_classes": [],
       "_model_module": "@jupyter-widgets/controls",
       "_model_module_version": "1.5.0",
       "_model_name": "FloatProgressModel",
       "_view_count": null,
       "_view_module": "@jupyter-widgets/controls",
       "_view_module_version": "1.5.0",
       "_view_name": "ProgressView",
       "bar_style": "",
       "description": "",
       "description_tooltip": null,
       "layout": "IPY_MODEL_a38fbf4699a34a87a846c0aa537f52df",
       "max": 1.0,
       "min": 0.0,
       "orientation": "horizontal",
       "style": "IPY_MODEL_37250128c40b46e9bdcd1e4b8dc0b7ca",
       "value": 1.0
      }
     },
     "3367a370e27b45da9d5584cf00d16df4": {
      "model_module": "@jupyter-widgets/controls",
      "model_module_version": "1.5.0",
      "model_name": "VBoxModel",
      "state": {
       "_dom_classes": [],
       "_model_module": "@jupyter-widgets/controls",
       "_model_module_version": "1.5.0",
       "_model_name": "VBoxModel",
       "_view_count": null,
       "_view_module": "@jupyter-widgets/controls",
       "_view_module_version": "1.5.0",
       "_view_name": "VBoxView",
       "box_style": "",
       "children": [
        "IPY_MODEL_056e6e742b83493880b1d4dbf732c78a",
        "IPY_MODEL_b0723f4c02b043ad98de00e8fd7ddf58"
       ],
       "layout": "IPY_MODEL_4e7026fbae63471091ed8b6cf3d4e22c"
      }
     },
     "33a92c0ea2924b7b80757a567c03a739": {
      "model_module": "@jupyter-widgets/controls",
      "model_module_version": "1.5.0",
      "model_name": "DescriptionStyleModel",
      "state": {
       "_model_module": "@jupyter-widgets/controls",
       "_model_module_version": "1.5.0",
       "_model_name": "DescriptionStyleModel",
       "_view_count": null,
       "_view_module": "@jupyter-widgets/base",
       "_view_module_version": "1.2.0",
       "_view_name": "StyleView",
       "description_width": ""
      }
     },
     "33dfa0a0fade4b648e406ffcce0ae7c5": {
      "model_module": "@jupyter-widgets/controls",
      "model_module_version": "1.5.0",
      "model_name": "FloatProgressModel",
      "state": {
       "_dom_classes": [],
       "_model_module": "@jupyter-widgets/controls",
       "_model_module_version": "1.5.0",
       "_model_name": "FloatProgressModel",
       "_view_count": null,
       "_view_module": "@jupyter-widgets/controls",
       "_view_module_version": "1.5.0",
       "_view_name": "ProgressView",
       "bar_style": "success",
       "description": "",
       "description_tooltip": null,
       "layout": "IPY_MODEL_03e5ba81b4ab4bf0b30bc7bcf1e9176f",
       "max": 11.0,
       "min": 0.0,
       "orientation": "horizontal",
       "style": "IPY_MODEL_22ca9f392b204302a0ca8d3ec7c70d8b",
       "value": 11.0
      }
     },
     "37250128c40b46e9bdcd1e4b8dc0b7ca": {
      "model_module": "@jupyter-widgets/controls",
      "model_module_version": "1.5.0",
      "model_name": "ProgressStyleModel",
      "state": {
       "_model_module": "@jupyter-widgets/controls",
       "_model_module_version": "1.5.0",
       "_model_name": "ProgressStyleModel",
       "_view_count": null,
       "_view_module": "@jupyter-widgets/base",
       "_view_module_version": "1.2.0",
       "_view_name": "StyleView",
       "bar_color": null,
       "description_width": ""
      }
     },
     "37372e93fbe6462d81801e48b10ae0ea": {
      "model_module": "@jupyter-widgets/controls",
      "model_module_version": "1.5.0",
      "model_name": "DescriptionStyleModel",
      "state": {
       "_model_module": "@jupyter-widgets/controls",
       "_model_module_version": "1.5.0",
       "_model_name": "DescriptionStyleModel",
       "_view_count": null,
       "_view_module": "@jupyter-widgets/base",
       "_view_module_version": "1.2.0",
       "_view_name": "StyleView",
       "description_width": ""
      }
     },
     "3bd49511164f424eadd72eaefb3a94b8": {
      "model_module": "@jupyter-widgets/base",
      "model_module_version": "1.2.0",
      "model_name": "LayoutModel",
      "state": {
       "_model_module": "@jupyter-widgets/base",
       "_model_module_version": "1.2.0",
       "_model_name": "LayoutModel",
       "_view_count": null,
       "_view_module": "@jupyter-widgets/base",
       "_view_module_version": "1.2.0",
       "_view_name": "LayoutView",
       "align_content": null,
       "align_items": null,
       "align_self": null,
       "border": null,
       "bottom": null,
       "display": null,
       "flex": null,
       "flex_flow": null,
       "grid_area": null,
       "grid_auto_columns": null,
       "grid_auto_flow": null,
       "grid_auto_rows": null,
       "grid_column": null,
       "grid_gap": null,
       "grid_row": null,
       "grid_template_areas": null,
       "grid_template_columns": null,
       "grid_template_rows": null,
       "height": null,
       "justify_content": null,
       "justify_items": null,
       "left": null,
       "margin": null,
       "max_height": null,
       "max_width": null,
       "min_height": null,
       "min_width": null,
       "object_fit": null,
       "object_position": null,
       "order": null,
       "overflow": null,
       "overflow_x": null,
       "overflow_y": null,
       "padding": null,
       "right": null,
       "top": null,
       "visibility": null,
       "width": null
      }
     },
     "3e71a6f87810476a8df78d6c0be05efc": {
      "model_module": "@jupyter-widgets/base",
      "model_module_version": "1.2.0",
      "model_name": "LayoutModel",
      "state": {
       "_model_module": "@jupyter-widgets/base",
       "_model_module_version": "1.2.0",
       "_model_name": "LayoutModel",
       "_view_count": null,
       "_view_module": "@jupyter-widgets/base",
       "_view_module_version": "1.2.0",
       "_view_name": "LayoutView",
       "align_content": null,
       "align_items": null,
       "align_self": null,
       "border": null,
       "bottom": null,
       "display": null,
       "flex": null,
       "flex_flow": null,
       "grid_area": null,
       "grid_auto_columns": null,
       "grid_auto_flow": null,
       "grid_auto_rows": null,
       "grid_column": null,
       "grid_gap": null,
       "grid_row": null,
       "grid_template_areas": null,
       "grid_template_columns": null,
       "grid_template_rows": null,
       "height": null,
       "justify_content": null,
       "justify_items": null,
       "left": null,
       "margin": null,
       "max_height": null,
       "max_width": null,
       "min_height": null,
       "min_width": null,
       "object_fit": null,
       "object_position": null,
       "order": null,
       "overflow": null,
       "overflow_x": null,
       "overflow_y": null,
       "padding": null,
       "right": null,
       "top": null,
       "visibility": null,
       "width": null
      }
     },
     "3f783d1a47834f10b6e748b0ca3a7d99": {
      "model_module": "@jupyter-widgets/controls",
      "model_module_version": "1.5.0",
      "model_name": "LabelModel",
      "state": {
       "_dom_classes": [],
       "_model_module": "@jupyter-widgets/controls",
       "_model_module_version": "1.5.0",
       "_model_name": "LabelModel",
       "_view_count": null,
       "_view_module": "@jupyter-widgets/controls",
       "_view_module_version": "1.5.0",
       "_view_name": "LabelView",
       "description": "",
       "description_tooltip": null,
       "layout": "IPY_MODEL_40c3b41f88684073a7e8c8eaa744b673",
       "placeholder": "​",
       "style": "IPY_MODEL_a8a6179ad24041488a0bd30aed8588f4",
       "value": ""
      }
     },
     "40c3b41f88684073a7e8c8eaa744b673": {
      "model_module": "@jupyter-widgets/base",
      "model_module_version": "1.2.0",
      "model_name": "LayoutModel",
      "state": {
       "_model_module": "@jupyter-widgets/base",
       "_model_module_version": "1.2.0",
       "_model_name": "LayoutModel",
       "_view_count": null,
       "_view_module": "@jupyter-widgets/base",
       "_view_module_version": "1.2.0",
       "_view_name": "LayoutView",
       "align_content": null,
       "align_items": null,
       "align_self": null,
       "border": null,
       "bottom": null,
       "display": null,
       "flex": null,
       "flex_flow": null,
       "grid_area": null,
       "grid_auto_columns": null,
       "grid_auto_flow": null,
       "grid_auto_rows": null,
       "grid_column": null,
       "grid_gap": null,
       "grid_row": null,
       "grid_template_areas": null,
       "grid_template_columns": null,
       "grid_template_rows": null,
       "height": null,
       "justify_content": null,
       "justify_items": null,
       "left": null,
       "margin": null,
       "max_height": null,
       "max_width": null,
       "min_height": null,
       "min_width": null,
       "object_fit": null,
       "object_position": null,
       "order": null,
       "overflow": null,
       "overflow_x": null,
       "overflow_y": null,
       "padding": null,
       "right": null,
       "top": null,
       "visibility": null,
       "width": null
      }
     },
     "452bb4376a564453a14b33024979b3be": {
      "model_module": "@jupyter-widgets/controls",
      "model_module_version": "1.5.0",
      "model_name": "HTMLModel",
      "state": {
       "_dom_classes": [],
       "_model_module": "@jupyter-widgets/controls",
       "_model_module_version": "1.5.0",
       "_model_name": "HTMLModel",
       "_view_count": null,
       "_view_module": "@jupyter-widgets/controls",
       "_view_module_version": "1.5.0",
       "_view_name": "HTMLView",
       "description": "",
       "description_tooltip": null,
       "layout": "IPY_MODEL_060b5e6b3390476dbef6b01a8e97531d",
       "placeholder": "​",
       "style": "IPY_MODEL_33a92c0ea2924b7b80757a567c03a739",
       "value": "100%"
      }
     },
     "461266cac1f0461bac81e32788c30e8b": {
      "model_module": "@jupyter-widgets/base",
      "model_module_version": "1.2.0",
      "model_name": "LayoutModel",
      "state": {
       "_model_module": "@jupyter-widgets/base",
       "_model_module_version": "1.2.0",
       "_model_name": "LayoutModel",
       "_view_count": null,
       "_view_module": "@jupyter-widgets/base",
       "_view_module_version": "1.2.0",
       "_view_name": "LayoutView",
       "align_content": null,
       "align_items": null,
       "align_self": null,
       "border": null,
       "bottom": null,
       "display": null,
       "flex": null,
       "flex_flow": null,
       "grid_area": null,
       "grid_auto_columns": null,
       "grid_auto_flow": null,
       "grid_auto_rows": null,
       "grid_column": null,
       "grid_gap": null,
       "grid_row": null,
       "grid_template_areas": null,
       "grid_template_columns": null,
       "grid_template_rows": null,
       "height": null,
       "justify_content": null,
       "justify_items": null,
       "left": null,
       "margin": null,
       "max_height": null,
       "max_width": null,
       "min_height": null,
       "min_width": null,
       "object_fit": null,
       "object_position": null,
       "order": null,
       "overflow": null,
       "overflow_x": null,
       "overflow_y": null,
       "padding": null,
       "right": null,
       "top": null,
       "visibility": null,
       "width": null
      }
     },
     "46143d6dac0d40f692995dbd9b439ffc": {
      "model_module": "@jupyter-widgets/controls",
      "model_module_version": "1.5.0",
      "model_name": "HTMLModel",
      "state": {
       "_dom_classes": [],
       "_model_module": "@jupyter-widgets/controls",
       "_model_module_version": "1.5.0",
       "_model_name": "HTMLModel",
       "_view_count": null,
       "_view_module": "@jupyter-widgets/controls",
       "_view_module_version": "1.5.0",
       "_view_name": "HTMLView",
       "description": "",
       "description_tooltip": null,
       "layout": "IPY_MODEL_6812c5d866064c3baf4e8a3b296e0da6",
       "placeholder": "​",
       "style": "IPY_MODEL_37372e93fbe6462d81801e48b10ae0ea",
       "value": " 43/43 [00:32&lt;00:00,  3.68s/ba]"
      }
     },
     "4a6d28a52c3e4f74bae82288fcadf1d8": {
      "model_module": "@jupyter-widgets/controls",
      "model_module_version": "1.5.0",
      "model_name": "DescriptionStyleModel",
      "state": {
       "_model_module": "@jupyter-widgets/controls",
       "_model_module_version": "1.5.0",
       "_model_name": "DescriptionStyleModel",
       "_view_count": null,
       "_view_module": "@jupyter-widgets/base",
       "_view_module_version": "1.2.0",
       "_view_name": "StyleView",
       "description_width": ""
      }
     },
     "4b00b09fae8f443683bebc54826a418f": {
      "model_module": "@jupyter-widgets/controls",
      "model_module_version": "1.5.0",
      "model_name": "ProgressStyleModel",
      "state": {
       "_model_module": "@jupyter-widgets/controls",
       "_model_module_version": "1.5.0",
       "_model_name": "ProgressStyleModel",
       "_view_count": null,
       "_view_module": "@jupyter-widgets/base",
       "_view_module_version": "1.2.0",
       "_view_name": "StyleView",
       "bar_color": null,
       "description_width": ""
      }
     },
     "4ceb7e38fabf4e699081fb9912fa9fc0": {
      "model_module": "@jupyter-widgets/controls",
      "model_module_version": "1.5.0",
      "model_name": "ProgressStyleModel",
      "state": {
       "_model_module": "@jupyter-widgets/controls",
       "_model_module_version": "1.5.0",
       "_model_name": "ProgressStyleModel",
       "_view_count": null,
       "_view_module": "@jupyter-widgets/base",
       "_view_module_version": "1.2.0",
       "_view_name": "StyleView",
       "bar_color": null,
       "description_width": ""
      }
     },
     "4e7026fbae63471091ed8b6cf3d4e22c": {
      "model_module": "@jupyter-widgets/base",
      "model_module_version": "1.2.0",
      "model_name": "LayoutModel",
      "state": {
       "_model_module": "@jupyter-widgets/base",
       "_model_module_version": "1.2.0",
       "_model_name": "LayoutModel",
       "_view_count": null,
       "_view_module": "@jupyter-widgets/base",
       "_view_module_version": "1.2.0",
       "_view_name": "LayoutView",
       "align_content": null,
       "align_items": null,
       "align_self": null,
       "border": null,
       "bottom": null,
       "display": null,
       "flex": null,
       "flex_flow": null,
       "grid_area": null,
       "grid_auto_columns": null,
       "grid_auto_flow": null,
       "grid_auto_rows": null,
       "grid_column": null,
       "grid_gap": null,
       "grid_row": null,
       "grid_template_areas": null,
       "grid_template_columns": null,
       "grid_template_rows": null,
       "height": null,
       "justify_content": null,
       "justify_items": null,
       "left": null,
       "margin": null,
       "max_height": null,
       "max_width": null,
       "min_height": null,
       "min_width": null,
       "object_fit": null,
       "object_position": null,
       "order": null,
       "overflow": null,
       "overflow_x": null,
       "overflow_y": null,
       "padding": null,
       "right": null,
       "top": null,
       "visibility": null,
       "width": null
      }
     },
     "516edd045e8140448035ec1078807bae": {
      "model_module": "@jupyter-widgets/base",
      "model_module_version": "1.2.0",
      "model_name": "LayoutModel",
      "state": {
       "_model_module": "@jupyter-widgets/base",
       "_model_module_version": "1.2.0",
       "_model_name": "LayoutModel",
       "_view_count": null,
       "_view_module": "@jupyter-widgets/base",
       "_view_module_version": "1.2.0",
       "_view_name": "LayoutView",
       "align_content": null,
       "align_items": null,
       "align_self": null,
       "border": null,
       "bottom": null,
       "display": null,
       "flex": null,
       "flex_flow": null,
       "grid_area": null,
       "grid_auto_columns": null,
       "grid_auto_flow": null,
       "grid_auto_rows": null,
       "grid_column": null,
       "grid_gap": null,
       "grid_row": null,
       "grid_template_areas": null,
       "grid_template_columns": null,
       "grid_template_rows": null,
       "height": null,
       "justify_content": null,
       "justify_items": null,
       "left": null,
       "margin": null,
       "max_height": null,
       "max_width": null,
       "min_height": null,
       "min_width": null,
       "object_fit": null,
       "object_position": null,
       "order": null,
       "overflow": null,
       "overflow_x": null,
       "overflow_y": null,
       "padding": null,
       "right": null,
       "top": null,
       "visibility": null,
       "width": null
      }
     },
     "525e028ed45a45e4abfeed649efc2658": {
      "model_module": "@jupyter-widgets/controls",
      "model_module_version": "1.5.0",
      "model_name": "LabelModel",
      "state": {
       "_dom_classes": [],
       "_model_module": "@jupyter-widgets/controls",
       "_model_module_version": "1.5.0",
       "_model_name": "LabelModel",
       "_view_count": null,
       "_view_module": "@jupyter-widgets/controls",
       "_view_module_version": "1.5.0",
       "_view_name": "LabelView",
       "description": "",
       "description_tooltip": null,
       "layout": "IPY_MODEL_e79a37b203144d289bf88e4135577552",
       "placeholder": "​",
       "style": "IPY_MODEL_9751ad4fd18a487eb010ad862393f539",
       "value": ""
      }
     },
     "528f9274fa4447e7bbb44f56cd2f2420": {
      "model_module": "@jupyter-widgets/controls",
      "model_module_version": "1.5.0",
      "model_name": "HTMLModel",
      "state": {
       "_dom_classes": [],
       "_model_module": "@jupyter-widgets/controls",
       "_model_module_version": "1.5.0",
       "_model_name": "HTMLModel",
       "_view_count": null,
       "_view_module": "@jupyter-widgets/controls",
       "_view_module_version": "1.5.0",
       "_view_name": "HTMLView",
       "description": "",
       "description_tooltip": null,
       "layout": "IPY_MODEL_7d9ef844056745faac20059a6f4da930",
       "placeholder": "​",
       "style": "IPY_MODEL_593af1747faf4a52b38b8e140d310845",
       "value": " 43/43 [00:30&lt;00:00,  3.67s/ba]"
      }
     },
     "52aabc647f65449aa3a8edaae3150e81": {
      "model_module": "@jupyter-widgets/controls",
      "model_module_version": "1.5.0",
      "model_name": "ProgressStyleModel",
      "state": {
       "_model_module": "@jupyter-widgets/controls",
       "_model_module_version": "1.5.0",
       "_model_name": "ProgressStyleModel",
       "_view_count": null,
       "_view_module": "@jupyter-widgets/base",
       "_view_module_version": "1.2.0",
       "_view_name": "StyleView",
       "bar_color": null,
       "description_width": ""
      }
     },
     "52be93dae36345fda25d399234881a45": {
      "model_module": "@jupyter-widgets/controls",
      "model_module_version": "1.5.0",
      "model_name": "DescriptionStyleModel",
      "state": {
       "_model_module": "@jupyter-widgets/controls",
       "_model_module_version": "1.5.0",
       "_model_name": "DescriptionStyleModel",
       "_view_count": null,
       "_view_module": "@jupyter-widgets/base",
       "_view_module_version": "1.2.0",
       "_view_name": "StyleView",
       "description_width": ""
      }
     },
     "53bd383f9f2442c19fa16188985b60c9": {
      "model_module": "@jupyter-widgets/base",
      "model_module_version": "1.2.0",
      "model_name": "LayoutModel",
      "state": {
       "_model_module": "@jupyter-widgets/base",
       "_model_module_version": "1.2.0",
       "_model_name": "LayoutModel",
       "_view_count": null,
       "_view_module": "@jupyter-widgets/base",
       "_view_module_version": "1.2.0",
       "_view_name": "LayoutView",
       "align_content": null,
       "align_items": null,
       "align_self": null,
       "border": null,
       "bottom": null,
       "display": null,
       "flex": null,
       "flex_flow": null,
       "grid_area": null,
       "grid_auto_columns": null,
       "grid_auto_flow": null,
       "grid_auto_rows": null,
       "grid_column": null,
       "grid_gap": null,
       "grid_row": null,
       "grid_template_areas": null,
       "grid_template_columns": null,
       "grid_template_rows": null,
       "height": null,
       "justify_content": null,
       "justify_items": null,
       "left": null,
       "margin": null,
       "max_height": null,
       "max_width": null,
       "min_height": null,
       "min_width": null,
       "object_fit": null,
       "object_position": null,
       "order": null,
       "overflow": null,
       "overflow_x": null,
       "overflow_y": null,
       "padding": null,
       "right": null,
       "top": null,
       "visibility": null,
       "width": null
      }
     },
     "5417b41e131644adbb945d2196bbfae6": {
      "model_module": "@jupyter-widgets/controls",
      "model_module_version": "1.5.0",
      "model_name": "HTMLModel",
      "state": {
       "_dom_classes": [],
       "_model_module": "@jupyter-widgets/controls",
       "_model_module_version": "1.5.0",
       "_model_name": "HTMLModel",
       "_view_count": null,
       "_view_module": "@jupyter-widgets/controls",
       "_view_module_version": "1.5.0",
       "_view_name": "HTMLView",
       "description": "",
       "description_tooltip": null,
       "layout": "IPY_MODEL_b94ee228ff9f45d887a4359da34e14a5",
       "placeholder": "​",
       "style": "IPY_MODEL_892ef0e32e074458b516cc76609fa724",
       "value": "100%"
      }
     },
     "54ecc3cdcec64ed98bdc76b23d91da91": {
      "model_module": "@jupyter-widgets/controls",
      "model_module_version": "1.5.0",
      "model_name": "ProgressStyleModel",
      "state": {
       "_model_module": "@jupyter-widgets/controls",
       "_model_module_version": "1.5.0",
       "_model_name": "ProgressStyleModel",
       "_view_count": null,
       "_view_module": "@jupyter-widgets/base",
       "_view_module_version": "1.2.0",
       "_view_name": "StyleView",
       "bar_color": null,
       "description_width": ""
      }
     },
     "552a2b6f7c3847e69f18888d025f9113": {
      "model_module": "@jupyter-widgets/base",
      "model_module_version": "1.2.0",
      "model_name": "LayoutModel",
      "state": {
       "_model_module": "@jupyter-widgets/base",
       "_model_module_version": "1.2.0",
       "_model_name": "LayoutModel",
       "_view_count": null,
       "_view_module": "@jupyter-widgets/base",
       "_view_module_version": "1.2.0",
       "_view_name": "LayoutView",
       "align_content": null,
       "align_items": null,
       "align_self": null,
       "border": null,
       "bottom": null,
       "display": null,
       "flex": null,
       "flex_flow": null,
       "grid_area": null,
       "grid_auto_columns": null,
       "grid_auto_flow": null,
       "grid_auto_rows": null,
       "grid_column": null,
       "grid_gap": null,
       "grid_row": null,
       "grid_template_areas": null,
       "grid_template_columns": null,
       "grid_template_rows": null,
       "height": null,
       "justify_content": null,
       "justify_items": null,
       "left": null,
       "margin": null,
       "max_height": null,
       "max_width": null,
       "min_height": null,
       "min_width": null,
       "object_fit": null,
       "object_position": null,
       "order": null,
       "overflow": null,
       "overflow_x": null,
       "overflow_y": null,
       "padding": null,
       "right": null,
       "top": null,
       "visibility": null,
       "width": null
      }
     },
     "55cd5bf0a11e4c0fbf67f7cfe5813a03": {
      "model_module": "@jupyter-widgets/controls",
      "model_module_version": "1.5.0",
      "model_name": "DescriptionStyleModel",
      "state": {
       "_model_module": "@jupyter-widgets/controls",
       "_model_module_version": "1.5.0",
       "_model_name": "DescriptionStyleModel",
       "_view_count": null,
       "_view_module": "@jupyter-widgets/base",
       "_view_module_version": "1.2.0",
       "_view_name": "StyleView",
       "description_width": ""
      }
     },
     "5645f77c82c24658a621f2c728426139": {
      "model_module": "@jupyter-widgets/base",
      "model_module_version": "1.2.0",
      "model_name": "LayoutModel",
      "state": {
       "_model_module": "@jupyter-widgets/base",
       "_model_module_version": "1.2.0",
       "_model_name": "LayoutModel",
       "_view_count": null,
       "_view_module": "@jupyter-widgets/base",
       "_view_module_version": "1.2.0",
       "_view_name": "LayoutView",
       "align_content": null,
       "align_items": null,
       "align_self": null,
       "border": null,
       "bottom": null,
       "display": null,
       "flex": null,
       "flex_flow": null,
       "grid_area": null,
       "grid_auto_columns": null,
       "grid_auto_flow": null,
       "grid_auto_rows": null,
       "grid_column": null,
       "grid_gap": null,
       "grid_row": null,
       "grid_template_areas": null,
       "grid_template_columns": null,
       "grid_template_rows": null,
       "height": null,
       "justify_content": null,
       "justify_items": null,
       "left": null,
       "margin": null,
       "max_height": null,
       "max_width": null,
       "min_height": null,
       "min_width": null,
       "object_fit": null,
       "object_position": null,
       "order": null,
       "overflow": null,
       "overflow_x": null,
       "overflow_y": null,
       "padding": null,
       "right": null,
       "top": null,
       "visibility": null,
       "width": null
      }
     },
     "5691d770198640f7a8f9b3adaf13e686": {
      "model_module": "@jupyter-widgets/base",
      "model_module_version": "1.2.0",
      "model_name": "LayoutModel",
      "state": {
       "_model_module": "@jupyter-widgets/base",
       "_model_module_version": "1.2.0",
       "_model_name": "LayoutModel",
       "_view_count": null,
       "_view_module": "@jupyter-widgets/base",
       "_view_module_version": "1.2.0",
       "_view_name": "LayoutView",
       "align_content": null,
       "align_items": null,
       "align_self": null,
       "border": null,
       "bottom": null,
       "display": null,
       "flex": null,
       "flex_flow": null,
       "grid_area": null,
       "grid_auto_columns": null,
       "grid_auto_flow": null,
       "grid_auto_rows": null,
       "grid_column": null,
       "grid_gap": null,
       "grid_row": null,
       "grid_template_areas": null,
       "grid_template_columns": null,
       "grid_template_rows": null,
       "height": null,
       "justify_content": null,
       "justify_items": null,
       "left": null,
       "margin": null,
       "max_height": null,
       "max_width": null,
       "min_height": null,
       "min_width": null,
       "object_fit": null,
       "object_position": null,
       "order": null,
       "overflow": null,
       "overflow_x": null,
       "overflow_y": null,
       "padding": null,
       "right": null,
       "top": null,
       "visibility": null,
       "width": null
      }
     },
     "56c808be81d0435d97fd2c97f6a2c79a": {
      "model_module": "@jupyter-widgets/controls",
      "model_module_version": "1.5.0",
      "model_name": "FloatProgressModel",
      "state": {
       "_dom_classes": [],
       "_model_module": "@jupyter-widgets/controls",
       "_model_module_version": "1.5.0",
       "_model_name": "FloatProgressModel",
       "_view_count": null,
       "_view_module": "@jupyter-widgets/controls",
       "_view_module_version": "1.5.0",
       "_view_name": "ProgressView",
       "bar_style": "",
       "description": "",
       "description_tooltip": null,
       "layout": "IPY_MODEL_461266cac1f0461bac81e32788c30e8b",
       "max": 1.0,
       "min": 0.0,
       "orientation": "horizontal",
       "style": "IPY_MODEL_54ecc3cdcec64ed98bdc76b23d91da91",
       "value": 1.0
      }
     },
     "57bdf9bd9a904d17b2653a142f16daa8": {
      "model_module": "@jupyter-widgets/controls",
      "model_module_version": "1.5.0",
      "model_name": "HBoxModel",
      "state": {
       "_dom_classes": [],
       "_model_module": "@jupyter-widgets/controls",
       "_model_module_version": "1.5.0",
       "_model_name": "HBoxModel",
       "_view_count": null,
       "_view_module": "@jupyter-widgets/controls",
       "_view_module_version": "1.5.0",
       "_view_name": "HBoxView",
       "box_style": "",
       "children": [
        "IPY_MODEL_7550232d7b6c45ddb4f0e5afc3bd4e10",
        "IPY_MODEL_d44a78acfb464db7b02be5a943eedfe5",
        "IPY_MODEL_d4a2a15ad5c04cf59aba7f2946103e5d"
       ],
       "layout": "IPY_MODEL_67e6e42fcbfc45168f1b9400d0e275ff"
      }
     },
     "58de382a353b4a4fb3ce68e501d65f48": {
      "model_module": "@jupyter-widgets/controls",
      "model_module_version": "1.5.0",
      "model_name": "ProgressStyleModel",
      "state": {
       "_model_module": "@jupyter-widgets/controls",
       "_model_module_version": "1.5.0",
       "_model_name": "ProgressStyleModel",
       "_view_count": null,
       "_view_module": "@jupyter-widgets/base",
       "_view_module_version": "1.2.0",
       "_view_name": "StyleView",
       "bar_color": null,
       "description_width": ""
      }
     },
     "593af1747faf4a52b38b8e140d310845": {
      "model_module": "@jupyter-widgets/controls",
      "model_module_version": "1.5.0",
      "model_name": "DescriptionStyleModel",
      "state": {
       "_model_module": "@jupyter-widgets/controls",
       "_model_module_version": "1.5.0",
       "_model_name": "DescriptionStyleModel",
       "_view_count": null,
       "_view_module": "@jupyter-widgets/base",
       "_view_module_version": "1.2.0",
       "_view_name": "StyleView",
       "description_width": ""
      }
     },
     "5964a39f5d294f34bffb8e903df0f6c6": {
      "model_module": "@jupyter-widgets/controls",
      "model_module_version": "1.5.0",
      "model_name": "VBoxModel",
      "state": {
       "_dom_classes": [],
       "_model_module": "@jupyter-widgets/controls",
       "_model_module_version": "1.5.0",
       "_model_name": "VBoxModel",
       "_view_count": null,
       "_view_module": "@jupyter-widgets/controls",
       "_view_module_version": "1.5.0",
       "_view_name": "VBoxView",
       "box_style": "",
       "children": [
        "IPY_MODEL_ed149107e0c542e39ac1302fd0bc9f9e",
        "IPY_MODEL_2f4fd1a58e9042dfabda18f9b7c78ab2"
       ],
       "layout": "IPY_MODEL_6533a62cfa964daeb6e175661236568a"
      }
     },
     "5bdf39f6aafc42648c4df81ca23a119c": {
      "model_module": "@jupyter-widgets/base",
      "model_module_version": "1.2.0",
      "model_name": "LayoutModel",
      "state": {
       "_model_module": "@jupyter-widgets/base",
       "_model_module_version": "1.2.0",
       "_model_name": "LayoutModel",
       "_view_count": null,
       "_view_module": "@jupyter-widgets/base",
       "_view_module_version": "1.2.0",
       "_view_name": "LayoutView",
       "align_content": null,
       "align_items": null,
       "align_self": null,
       "border": null,
       "bottom": null,
       "display": null,
       "flex": null,
       "flex_flow": null,
       "grid_area": null,
       "grid_auto_columns": null,
       "grid_auto_flow": null,
       "grid_auto_rows": null,
       "grid_column": null,
       "grid_gap": null,
       "grid_row": null,
       "grid_template_areas": null,
       "grid_template_columns": null,
       "grid_template_rows": null,
       "height": null,
       "justify_content": null,
       "justify_items": null,
       "left": null,
       "margin": null,
       "max_height": null,
       "max_width": null,
       "min_height": null,
       "min_width": null,
       "object_fit": null,
       "object_position": null,
       "order": null,
       "overflow": null,
       "overflow_x": null,
       "overflow_y": null,
       "padding": null,
       "right": null,
       "top": null,
       "visibility": null,
       "width": null
      }
     },
     "5c67c426a29d46d985178a5d210ee791": {
      "model_module": "@jupyter-widgets/base",
      "model_module_version": "1.2.0",
      "model_name": "LayoutModel",
      "state": {
       "_model_module": "@jupyter-widgets/base",
       "_model_module_version": "1.2.0",
       "_model_name": "LayoutModel",
       "_view_count": null,
       "_view_module": "@jupyter-widgets/base",
       "_view_module_version": "1.2.0",
       "_view_name": "LayoutView",
       "align_content": null,
       "align_items": null,
       "align_self": null,
       "border": null,
       "bottom": null,
       "display": null,
       "flex": null,
       "flex_flow": null,
       "grid_area": null,
       "grid_auto_columns": null,
       "grid_auto_flow": null,
       "grid_auto_rows": null,
       "grid_column": null,
       "grid_gap": null,
       "grid_row": null,
       "grid_template_areas": null,
       "grid_template_columns": null,
       "grid_template_rows": null,
       "height": null,
       "justify_content": null,
       "justify_items": null,
       "left": null,
       "margin": null,
       "max_height": null,
       "max_width": null,
       "min_height": null,
       "min_width": null,
       "object_fit": null,
       "object_position": null,
       "order": null,
       "overflow": null,
       "overflow_x": null,
       "overflow_y": null,
       "padding": null,
       "right": null,
       "top": null,
       "visibility": null,
       "width": null
      }
     },
     "612f92727c4c40359e2db5b2da40b76f": {
      "model_module": "@jupyter-widgets/controls",
      "model_module_version": "1.5.0",
      "model_name": "VBoxModel",
      "state": {
       "_dom_classes": [],
       "_model_module": "@jupyter-widgets/controls",
       "_model_module_version": "1.5.0",
       "_model_name": "VBoxModel",
       "_view_count": null,
       "_view_module": "@jupyter-widgets/controls",
       "_view_module_version": "1.5.0",
       "_view_name": "VBoxView",
       "box_style": "",
       "children": [
        "IPY_MODEL_ce0362917e7a4481974fd3d42e3d7379",
        "IPY_MODEL_56c808be81d0435d97fd2c97f6a2c79a"
       ],
       "layout": "IPY_MODEL_b982b3e3b872415e90e911c6e5ef8091"
      }
     },
     "64bd998179f04c29ad25807560f277b7": {
      "model_module": "@jupyter-widgets/controls",
      "model_module_version": "1.5.0",
      "model_name": "HBoxModel",
      "state": {
       "_dom_classes": [],
       "_model_module": "@jupyter-widgets/controls",
       "_model_module_version": "1.5.0",
       "_model_name": "HBoxModel",
       "_view_count": null,
       "_view_module": "@jupyter-widgets/controls",
       "_view_module_version": "1.5.0",
       "_view_name": "HBoxView",
       "box_style": "",
       "children": [
        "IPY_MODEL_5417b41e131644adbb945d2196bbfae6",
        "IPY_MODEL_a6b633c11d1f4e53998255829e616af2",
        "IPY_MODEL_29dd08ebcb20421b982b8d961eebbf86"
       ],
       "layout": "IPY_MODEL_f8960d48545e47679a797c3b1b3d56ee"
      }
     },
     "6517ecc78b4e41ea8d116f6b0be6f78f": {
      "model_module": "@jupyter-widgets/base",
      "model_module_version": "1.2.0",
      "model_name": "LayoutModel",
      "state": {
       "_model_module": "@jupyter-widgets/base",
       "_model_module_version": "1.2.0",
       "_model_name": "LayoutModel",
       "_view_count": null,
       "_view_module": "@jupyter-widgets/base",
       "_view_module_version": "1.2.0",
       "_view_name": "LayoutView",
       "align_content": null,
       "align_items": null,
       "align_self": null,
       "border": null,
       "bottom": null,
       "display": null,
       "flex": null,
       "flex_flow": null,
       "grid_area": null,
       "grid_auto_columns": null,
       "grid_auto_flow": null,
       "grid_auto_rows": null,
       "grid_column": null,
       "grid_gap": null,
       "grid_row": null,
       "grid_template_areas": null,
       "grid_template_columns": null,
       "grid_template_rows": null,
       "height": null,
       "justify_content": null,
       "justify_items": null,
       "left": null,
       "margin": null,
       "max_height": null,
       "max_width": null,
       "min_height": null,
       "min_width": null,
       "object_fit": null,
       "object_position": null,
       "order": null,
       "overflow": null,
       "overflow_x": null,
       "overflow_y": null,
       "padding": null,
       "right": null,
       "top": null,
       "visibility": null,
       "width": null
      }
     },
     "6533a62cfa964daeb6e175661236568a": {
      "model_module": "@jupyter-widgets/base",
      "model_module_version": "1.2.0",
      "model_name": "LayoutModel",
      "state": {
       "_model_module": "@jupyter-widgets/base",
       "_model_module_version": "1.2.0",
       "_model_name": "LayoutModel",
       "_view_count": null,
       "_view_module": "@jupyter-widgets/base",
       "_view_module_version": "1.2.0",
       "_view_name": "LayoutView",
       "align_content": null,
       "align_items": null,
       "align_self": null,
       "border": null,
       "bottom": null,
       "display": null,
       "flex": null,
       "flex_flow": null,
       "grid_area": null,
       "grid_auto_columns": null,
       "grid_auto_flow": null,
       "grid_auto_rows": null,
       "grid_column": null,
       "grid_gap": null,
       "grid_row": null,
       "grid_template_areas": null,
       "grid_template_columns": null,
       "grid_template_rows": null,
       "height": null,
       "justify_content": null,
       "justify_items": null,
       "left": null,
       "margin": null,
       "max_height": null,
       "max_width": null,
       "min_height": null,
       "min_width": null,
       "object_fit": null,
       "object_position": null,
       "order": null,
       "overflow": null,
       "overflow_x": null,
       "overflow_y": null,
       "padding": null,
       "right": null,
       "top": null,
       "visibility": null,
       "width": null
      }
     },
     "6572321360c84bb591b2bcb67ddcc3c5": {
      "model_module": "@jupyter-widgets/controls",
      "model_module_version": "1.5.0",
      "model_name": "DescriptionStyleModel",
      "state": {
       "_model_module": "@jupyter-widgets/controls",
       "_model_module_version": "1.5.0",
       "_model_name": "DescriptionStyleModel",
       "_view_count": null,
       "_view_module": "@jupyter-widgets/base",
       "_view_module_version": "1.2.0",
       "_view_name": "StyleView",
       "description_width": ""
      }
     },
     "6640c9ff3db94c959503730c728f2899": {
      "model_module": "@jupyter-widgets/base",
      "model_module_version": "1.2.0",
      "model_name": "LayoutModel",
      "state": {
       "_model_module": "@jupyter-widgets/base",
       "_model_module_version": "1.2.0",
       "_model_name": "LayoutModel",
       "_view_count": null,
       "_view_module": "@jupyter-widgets/base",
       "_view_module_version": "1.2.0",
       "_view_name": "LayoutView",
       "align_content": null,
       "align_items": null,
       "align_self": null,
       "border": null,
       "bottom": null,
       "display": null,
       "flex": null,
       "flex_flow": null,
       "grid_area": null,
       "grid_auto_columns": null,
       "grid_auto_flow": null,
       "grid_auto_rows": null,
       "grid_column": null,
       "grid_gap": null,
       "grid_row": null,
       "grid_template_areas": null,
       "grid_template_columns": null,
       "grid_template_rows": null,
       "height": null,
       "justify_content": null,
       "justify_items": null,
       "left": null,
       "margin": null,
       "max_height": null,
       "max_width": null,
       "min_height": null,
       "min_width": null,
       "object_fit": null,
       "object_position": null,
       "order": null,
       "overflow": null,
       "overflow_x": null,
       "overflow_y": null,
       "padding": null,
       "right": null,
       "top": null,
       "visibility": null,
       "width": null
      }
     },
     "67e6e42fcbfc45168f1b9400d0e275ff": {
      "model_module": "@jupyter-widgets/base",
      "model_module_version": "1.2.0",
      "model_name": "LayoutModel",
      "state": {
       "_model_module": "@jupyter-widgets/base",
       "_model_module_version": "1.2.0",
       "_model_name": "LayoutModel",
       "_view_count": null,
       "_view_module": "@jupyter-widgets/base",
       "_view_module_version": "1.2.0",
       "_view_name": "LayoutView",
       "align_content": null,
       "align_items": null,
       "align_self": null,
       "border": null,
       "bottom": null,
       "display": null,
       "flex": null,
       "flex_flow": null,
       "grid_area": null,
       "grid_auto_columns": null,
       "grid_auto_flow": null,
       "grid_auto_rows": null,
       "grid_column": null,
       "grid_gap": null,
       "grid_row": null,
       "grid_template_areas": null,
       "grid_template_columns": null,
       "grid_template_rows": null,
       "height": null,
       "justify_content": null,
       "justify_items": null,
       "left": null,
       "margin": null,
       "max_height": null,
       "max_width": null,
       "min_height": null,
       "min_width": null,
       "object_fit": null,
       "object_position": null,
       "order": null,
       "overflow": null,
       "overflow_x": null,
       "overflow_y": null,
       "padding": null,
       "right": null,
       "top": null,
       "visibility": null,
       "width": null
      }
     },
     "6812c5d866064c3baf4e8a3b296e0da6": {
      "model_module": "@jupyter-widgets/base",
      "model_module_version": "1.2.0",
      "model_name": "LayoutModel",
      "state": {
       "_model_module": "@jupyter-widgets/base",
       "_model_module_version": "1.2.0",
       "_model_name": "LayoutModel",
       "_view_count": null,
       "_view_module": "@jupyter-widgets/base",
       "_view_module_version": "1.2.0",
       "_view_name": "LayoutView",
       "align_content": null,
       "align_items": null,
       "align_self": null,
       "border": null,
       "bottom": null,
       "display": null,
       "flex": null,
       "flex_flow": null,
       "grid_area": null,
       "grid_auto_columns": null,
       "grid_auto_flow": null,
       "grid_auto_rows": null,
       "grid_column": null,
       "grid_gap": null,
       "grid_row": null,
       "grid_template_areas": null,
       "grid_template_columns": null,
       "grid_template_rows": null,
       "height": null,
       "justify_content": null,
       "justify_items": null,
       "left": null,
       "margin": null,
       "max_height": null,
       "max_width": null,
       "min_height": null,
       "min_width": null,
       "object_fit": null,
       "object_position": null,
       "order": null,
       "overflow": null,
       "overflow_x": null,
       "overflow_y": null,
       "padding": null,
       "right": null,
       "top": null,
       "visibility": null,
       "width": null
      }
     },
     "6bdea90f089249e1976f2331633867f1": {
      "model_module": "@jupyter-widgets/controls",
      "model_module_version": "1.5.0",
      "model_name": "FloatProgressModel",
      "state": {
       "_dom_classes": [],
       "_model_module": "@jupyter-widgets/controls",
       "_model_module_version": "1.5.0",
       "_model_name": "FloatProgressModel",
       "_view_count": null,
       "_view_module": "@jupyter-widgets/controls",
       "_view_module_version": "1.5.0",
       "_view_name": "ProgressView",
       "bar_style": "success",
       "description": "",
       "description_tooltip": null,
       "layout": "IPY_MODEL_fd25a2887fd74a0cb5f094d3bfe18dfa",
       "max": 11.0,
       "min": 0.0,
       "orientation": "horizontal",
       "style": "IPY_MODEL_0ecb24e4b9df456f84364204b3507ca9",
       "value": 11.0
      }
     },
     "6c7aaf18f6b54a8897edd40a9e21f2f4": {
      "model_module": "@jupyter-widgets/base",
      "model_module_version": "1.2.0",
      "model_name": "LayoutModel",
      "state": {
       "_model_module": "@jupyter-widgets/base",
       "_model_module_version": "1.2.0",
       "_model_name": "LayoutModel",
       "_view_count": null,
       "_view_module": "@jupyter-widgets/base",
       "_view_module_version": "1.2.0",
       "_view_name": "LayoutView",
       "align_content": null,
       "align_items": null,
       "align_self": null,
       "border": null,
       "bottom": null,
       "display": null,
       "flex": null,
       "flex_flow": null,
       "grid_area": null,
       "grid_auto_columns": null,
       "grid_auto_flow": null,
       "grid_auto_rows": null,
       "grid_column": null,
       "grid_gap": null,
       "grid_row": null,
       "grid_template_areas": null,
       "grid_template_columns": null,
       "grid_template_rows": null,
       "height": null,
       "justify_content": null,
       "justify_items": null,
       "left": null,
       "margin": null,
       "max_height": null,
       "max_width": null,
       "min_height": null,
       "min_width": null,
       "object_fit": null,
       "object_position": null,
       "order": null,
       "overflow": null,
       "overflow_x": null,
       "overflow_y": null,
       "padding": null,
       "right": null,
       "top": null,
       "visibility": null,
       "width": null
      }
     },
     "6f9eb34369b143bfa87e884287782e43": {
      "model_module": "@jupyter-widgets/base",
      "model_module_version": "1.2.0",
      "model_name": "LayoutModel",
      "state": {
       "_model_module": "@jupyter-widgets/base",
       "_model_module_version": "1.2.0",
       "_model_name": "LayoutModel",
       "_view_count": null,
       "_view_module": "@jupyter-widgets/base",
       "_view_module_version": "1.2.0",
       "_view_name": "LayoutView",
       "align_content": null,
       "align_items": null,
       "align_self": null,
       "border": null,
       "bottom": null,
       "display": null,
       "flex": null,
       "flex_flow": null,
       "grid_area": null,
       "grid_auto_columns": null,
       "grid_auto_flow": null,
       "grid_auto_rows": null,
       "grid_column": null,
       "grid_gap": null,
       "grid_row": null,
       "grid_template_areas": null,
       "grid_template_columns": null,
       "grid_template_rows": null,
       "height": null,
       "justify_content": null,
       "justify_items": null,
       "left": null,
       "margin": null,
       "max_height": null,
       "max_width": null,
       "min_height": null,
       "min_width": null,
       "object_fit": null,
       "object_position": null,
       "order": null,
       "overflow": null,
       "overflow_x": null,
       "overflow_y": null,
       "padding": null,
       "right": null,
       "top": null,
       "visibility": null,
       "width": null
      }
     },
     "7550232d7b6c45ddb4f0e5afc3bd4e10": {
      "model_module": "@jupyter-widgets/controls",
      "model_module_version": "1.5.0",
      "model_name": "HTMLModel",
      "state": {
       "_dom_classes": [],
       "_model_module": "@jupyter-widgets/controls",
       "_model_module_version": "1.5.0",
       "_model_name": "HTMLModel",
       "_view_count": null,
       "_view_module": "@jupyter-widgets/controls",
       "_view_module_version": "1.5.0",
       "_view_name": "HTMLView",
       "description": "",
       "description_tooltip": null,
       "layout": "IPY_MODEL_7ce726ac2f9749e7bab91c97a669efcf",
       "placeholder": "​",
       "style": "IPY_MODEL_dc16e43b759d4e5a86fb6fd220da4a1c",
       "value": "100%"
      }
     },
     "7c211c2a7faf4031b8fc824842d3f980": {
      "model_module": "@jupyter-widgets/controls",
      "model_module_version": "1.5.0",
      "model_name": "DescriptionStyleModel",
      "state": {
       "_model_module": "@jupyter-widgets/controls",
       "_model_module_version": "1.5.0",
       "_model_name": "DescriptionStyleModel",
       "_view_count": null,
       "_view_module": "@jupyter-widgets/base",
       "_view_module_version": "1.2.0",
       "_view_name": "StyleView",
       "description_width": ""
      }
     },
     "7ce726ac2f9749e7bab91c97a669efcf": {
      "model_module": "@jupyter-widgets/base",
      "model_module_version": "1.2.0",
      "model_name": "LayoutModel",
      "state": {
       "_model_module": "@jupyter-widgets/base",
       "_model_module_version": "1.2.0",
       "_model_name": "LayoutModel",
       "_view_count": null,
       "_view_module": "@jupyter-widgets/base",
       "_view_module_version": "1.2.0",
       "_view_name": "LayoutView",
       "align_content": null,
       "align_items": null,
       "align_self": null,
       "border": null,
       "bottom": null,
       "display": null,
       "flex": null,
       "flex_flow": null,
       "grid_area": null,
       "grid_auto_columns": null,
       "grid_auto_flow": null,
       "grid_auto_rows": null,
       "grid_column": null,
       "grid_gap": null,
       "grid_row": null,
       "grid_template_areas": null,
       "grid_template_columns": null,
       "grid_template_rows": null,
       "height": null,
       "justify_content": null,
       "justify_items": null,
       "left": null,
       "margin": null,
       "max_height": null,
       "max_width": null,
       "min_height": null,
       "min_width": null,
       "object_fit": null,
       "object_position": null,
       "order": null,
       "overflow": null,
       "overflow_x": null,
       "overflow_y": null,
       "padding": null,
       "right": null,
       "top": null,
       "visibility": null,
       "width": null
      }
     },
     "7d9ef844056745faac20059a6f4da930": {
      "model_module": "@jupyter-widgets/base",
      "model_module_version": "1.2.0",
      "model_name": "LayoutModel",
      "state": {
       "_model_module": "@jupyter-widgets/base",
       "_model_module_version": "1.2.0",
       "_model_name": "LayoutModel",
       "_view_count": null,
       "_view_module": "@jupyter-widgets/base",
       "_view_module_version": "1.2.0",
       "_view_name": "LayoutView",
       "align_content": null,
       "align_items": null,
       "align_self": null,
       "border": null,
       "bottom": null,
       "display": null,
       "flex": null,
       "flex_flow": null,
       "grid_area": null,
       "grid_auto_columns": null,
       "grid_auto_flow": null,
       "grid_auto_rows": null,
       "grid_column": null,
       "grid_gap": null,
       "grid_row": null,
       "grid_template_areas": null,
       "grid_template_columns": null,
       "grid_template_rows": null,
       "height": null,
       "justify_content": null,
       "justify_items": null,
       "left": null,
       "margin": null,
       "max_height": null,
       "max_width": null,
       "min_height": null,
       "min_width": null,
       "object_fit": null,
       "object_position": null,
       "order": null,
       "overflow": null,
       "overflow_x": null,
       "overflow_y": null,
       "padding": null,
       "right": null,
       "top": null,
       "visibility": null,
       "width": null
      }
     },
     "810b3dff432d4f85942d34af36c0fdd3": {
      "model_module": "@jupyter-widgets/base",
      "model_module_version": "1.2.0",
      "model_name": "LayoutModel",
      "state": {
       "_model_module": "@jupyter-widgets/base",
       "_model_module_version": "1.2.0",
       "_model_name": "LayoutModel",
       "_view_count": null,
       "_view_module": "@jupyter-widgets/base",
       "_view_module_version": "1.2.0",
       "_view_name": "LayoutView",
       "align_content": null,
       "align_items": null,
       "align_self": null,
       "border": null,
       "bottom": null,
       "display": null,
       "flex": null,
       "flex_flow": null,
       "grid_area": null,
       "grid_auto_columns": null,
       "grid_auto_flow": null,
       "grid_auto_rows": null,
       "grid_column": null,
       "grid_gap": null,
       "grid_row": null,
       "grid_template_areas": null,
       "grid_template_columns": null,
       "grid_template_rows": null,
       "height": null,
       "justify_content": null,
       "justify_items": null,
       "left": null,
       "margin": null,
       "max_height": null,
       "max_width": null,
       "min_height": null,
       "min_width": null,
       "object_fit": null,
       "object_position": null,
       "order": null,
       "overflow": null,
       "overflow_x": null,
       "overflow_y": null,
       "padding": null,
       "right": null,
       "top": null,
       "visibility": null,
       "width": null
      }
     },
     "81d81238e3974b4184b2bdd054b45d32": {
      "model_module": "@jupyter-widgets/controls",
      "model_module_version": "1.5.0",
      "model_name": "DescriptionStyleModel",
      "state": {
       "_model_module": "@jupyter-widgets/controls",
       "_model_module_version": "1.5.0",
       "_model_name": "DescriptionStyleModel",
       "_view_count": null,
       "_view_module": "@jupyter-widgets/base",
       "_view_module_version": "1.2.0",
       "_view_name": "StyleView",
       "description_width": ""
      }
     },
     "826be56f96e44af782a792222640d9e3": {
      "model_module": "@jupyter-widgets/base",
      "model_module_version": "1.2.0",
      "model_name": "LayoutModel",
      "state": {
       "_model_module": "@jupyter-widgets/base",
       "_model_module_version": "1.2.0",
       "_model_name": "LayoutModel",
       "_view_count": null,
       "_view_module": "@jupyter-widgets/base",
       "_view_module_version": "1.2.0",
       "_view_name": "LayoutView",
       "align_content": null,
       "align_items": null,
       "align_self": null,
       "border": null,
       "bottom": null,
       "display": null,
       "flex": null,
       "flex_flow": null,
       "grid_area": null,
       "grid_auto_columns": null,
       "grid_auto_flow": null,
       "grid_auto_rows": null,
       "grid_column": null,
       "grid_gap": null,
       "grid_row": null,
       "grid_template_areas": null,
       "grid_template_columns": null,
       "grid_template_rows": null,
       "height": null,
       "justify_content": null,
       "justify_items": null,
       "left": null,
       "margin": null,
       "max_height": null,
       "max_width": null,
       "min_height": null,
       "min_width": null,
       "object_fit": null,
       "object_position": null,
       "order": null,
       "overflow": null,
       "overflow_x": null,
       "overflow_y": null,
       "padding": null,
       "right": null,
       "top": null,
       "visibility": null,
       "width": null
      }
     },
     "86ea1c16305245b5adf37dc1b30a0a65": {
      "model_module": "@jupyter-widgets/controls",
      "model_module_version": "1.5.0",
      "model_name": "HBoxModel",
      "state": {
       "_dom_classes": [],
       "_model_module": "@jupyter-widgets/controls",
       "_model_module_version": "1.5.0",
       "_model_name": "HBoxModel",
       "_view_count": null,
       "_view_module": "@jupyter-widgets/controls",
       "_view_module_version": "1.5.0",
       "_view_name": "HBoxView",
       "box_style": "",
       "children": [
        "IPY_MODEL_bcc7d0e2116440d98c77802cee11595d",
        "IPY_MODEL_6bdea90f089249e1976f2331633867f1",
        "IPY_MODEL_d2e6f625a1c74c65acd8f42d01d2551e"
       ],
       "layout": "IPY_MODEL_b8d7e909939844beb7aed9ac2d82e15a"
      }
     },
     "879e81c34e604215a908d575e9a56ca6": {
      "model_module": "@jupyter-widgets/controls",
      "model_module_version": "1.5.0",
      "model_name": "DescriptionStyleModel",
      "state": {
       "_model_module": "@jupyter-widgets/controls",
       "_model_module_version": "1.5.0",
       "_model_name": "DescriptionStyleModel",
       "_view_count": null,
       "_view_module": "@jupyter-widgets/base",
       "_view_module_version": "1.2.0",
       "_view_name": "StyleView",
       "description_width": ""
      }
     },
     "87e3af6ceafa4630a202b8dfd6c99822": {
      "model_module": "@jupyter-widgets/controls",
      "model_module_version": "1.5.0",
      "model_name": "ProgressStyleModel",
      "state": {
       "_model_module": "@jupyter-widgets/controls",
       "_model_module_version": "1.5.0",
       "_model_name": "ProgressStyleModel",
       "_view_count": null,
       "_view_module": "@jupyter-widgets/base",
       "_view_module_version": "1.2.0",
       "_view_name": "StyleView",
       "bar_color": null,
       "description_width": ""
      }
     },
     "892ef0e32e074458b516cc76609fa724": {
      "model_module": "@jupyter-widgets/controls",
      "model_module_version": "1.5.0",
      "model_name": "DescriptionStyleModel",
      "state": {
       "_model_module": "@jupyter-widgets/controls",
       "_model_module_version": "1.5.0",
       "_model_name": "DescriptionStyleModel",
       "_view_count": null,
       "_view_module": "@jupyter-widgets/base",
       "_view_module_version": "1.2.0",
       "_view_name": "StyleView",
       "description_width": ""
      }
     },
     "8a277a70a04741cbb2c079e64d6ea84a": {
      "model_module": "@jupyter-widgets/base",
      "model_module_version": "1.2.0",
      "model_name": "LayoutModel",
      "state": {
       "_model_module": "@jupyter-widgets/base",
       "_model_module_version": "1.2.0",
       "_model_name": "LayoutModel",
       "_view_count": null,
       "_view_module": "@jupyter-widgets/base",
       "_view_module_version": "1.2.0",
       "_view_name": "LayoutView",
       "align_content": null,
       "align_items": null,
       "align_self": null,
       "border": null,
       "bottom": null,
       "display": null,
       "flex": null,
       "flex_flow": null,
       "grid_area": null,
       "grid_auto_columns": null,
       "grid_auto_flow": null,
       "grid_auto_rows": null,
       "grid_column": null,
       "grid_gap": null,
       "grid_row": null,
       "grid_template_areas": null,
       "grid_template_columns": null,
       "grid_template_rows": null,
       "height": null,
       "justify_content": null,
       "justify_items": null,
       "left": null,
       "margin": null,
       "max_height": null,
       "max_width": null,
       "min_height": null,
       "min_width": null,
       "object_fit": null,
       "object_position": null,
       "order": null,
       "overflow": null,
       "overflow_x": null,
       "overflow_y": null,
       "padding": null,
       "right": null,
       "top": null,
       "visibility": null,
       "width": null
      }
     },
     "90475ed9012d43729eb0140ad18cbff4": {
      "model_module": "@jupyter-widgets/base",
      "model_module_version": "1.2.0",
      "model_name": "LayoutModel",
      "state": {
       "_model_module": "@jupyter-widgets/base",
       "_model_module_version": "1.2.0",
       "_model_name": "LayoutModel",
       "_view_count": null,
       "_view_module": "@jupyter-widgets/base",
       "_view_module_version": "1.2.0",
       "_view_name": "LayoutView",
       "align_content": null,
       "align_items": null,
       "align_self": null,
       "border": null,
       "bottom": null,
       "display": null,
       "flex": null,
       "flex_flow": null,
       "grid_area": null,
       "grid_auto_columns": null,
       "grid_auto_flow": null,
       "grid_auto_rows": null,
       "grid_column": null,
       "grid_gap": null,
       "grid_row": null,
       "grid_template_areas": null,
       "grid_template_columns": null,
       "grid_template_rows": null,
       "height": null,
       "justify_content": null,
       "justify_items": null,
       "left": null,
       "margin": null,
       "max_height": null,
       "max_width": null,
       "min_height": null,
       "min_width": null,
       "object_fit": null,
       "object_position": null,
       "order": null,
       "overflow": null,
       "overflow_x": null,
       "overflow_y": null,
       "padding": null,
       "right": null,
       "top": null,
       "visibility": null,
       "width": null
      }
     },
     "90c0fbb4de804483a10450a3fdb2f2be": {
      "model_module": "@jupyter-widgets/base",
      "model_module_version": "1.2.0",
      "model_name": "LayoutModel",
      "state": {
       "_model_module": "@jupyter-widgets/base",
       "_model_module_version": "1.2.0",
       "_model_name": "LayoutModel",
       "_view_count": null,
       "_view_module": "@jupyter-widgets/base",
       "_view_module_version": "1.2.0",
       "_view_name": "LayoutView",
       "align_content": null,
       "align_items": null,
       "align_self": null,
       "border": null,
       "bottom": null,
       "display": null,
       "flex": null,
       "flex_flow": null,
       "grid_area": null,
       "grid_auto_columns": null,
       "grid_auto_flow": null,
       "grid_auto_rows": null,
       "grid_column": null,
       "grid_gap": null,
       "grid_row": null,
       "grid_template_areas": null,
       "grid_template_columns": null,
       "grid_template_rows": null,
       "height": null,
       "justify_content": null,
       "justify_items": null,
       "left": null,
       "margin": null,
       "max_height": null,
       "max_width": null,
       "min_height": null,
       "min_width": null,
       "object_fit": null,
       "object_position": null,
       "order": null,
       "overflow": null,
       "overflow_x": null,
       "overflow_y": null,
       "padding": null,
       "right": null,
       "top": null,
       "visibility": null,
       "width": null
      }
     },
     "927fe9a6490741a8a0483e9c1728f13a": {
      "model_module": "@jupyter-widgets/controls",
      "model_module_version": "1.5.0",
      "model_name": "FloatProgressModel",
      "state": {
       "_dom_classes": [],
       "_model_module": "@jupyter-widgets/controls",
       "_model_module_version": "1.5.0",
       "_model_name": "FloatProgressModel",
       "_view_count": null,
       "_view_module": "@jupyter-widgets/controls",
       "_view_module_version": "1.5.0",
       "_view_name": "ProgressView",
       "bar_style": "success",
       "description": "",
       "description_tooltip": null,
       "layout": "IPY_MODEL_3e71a6f87810476a8df78d6c0be05efc",
       "max": 43.0,
       "min": 0.0,
       "orientation": "horizontal",
       "style": "IPY_MODEL_c900cff54b7744bba83f3837ebee3ee2",
       "value": 43.0
      }
     },
     "92ffcb025d654a568374246105149fdb": {
      "model_module": "@jupyter-widgets/controls",
      "model_module_version": "1.5.0",
      "model_name": "DescriptionStyleModel",
      "state": {
       "_model_module": "@jupyter-widgets/controls",
       "_model_module_version": "1.5.0",
       "_model_name": "DescriptionStyleModel",
       "_view_count": null,
       "_view_module": "@jupyter-widgets/base",
       "_view_module_version": "1.2.0",
       "_view_name": "StyleView",
       "description_width": ""
      }
     },
     "94ff7c345e0c4e3a9e5705eb3cab5d3d": {
      "model_module": "@jupyter-widgets/controls",
      "model_module_version": "1.5.0",
      "model_name": "DescriptionStyleModel",
      "state": {
       "_model_module": "@jupyter-widgets/controls",
       "_model_module_version": "1.5.0",
       "_model_name": "DescriptionStyleModel",
       "_view_count": null,
       "_view_module": "@jupyter-widgets/base",
       "_view_module_version": "1.2.0",
       "_view_name": "StyleView",
       "description_width": ""
      }
     },
     "9586e6aa0aa34cc18f0b5a19f7fa9cff": {
      "model_module": "@jupyter-widgets/controls",
      "model_module_version": "1.5.0",
      "model_name": "HBoxModel",
      "state": {
       "_dom_classes": [],
       "_model_module": "@jupyter-widgets/controls",
       "_model_module_version": "1.5.0",
       "_model_name": "HBoxModel",
       "_view_count": null,
       "_view_module": "@jupyter-widgets/controls",
       "_view_module_version": "1.5.0",
       "_view_name": "HBoxView",
       "box_style": "",
       "children": [
        "IPY_MODEL_20291f0dc67d4dafafe25f000e7bfea0",
        "IPY_MODEL_33dfa0a0fade4b648e406ffcce0ae7c5",
        "IPY_MODEL_ff4ff1cc54a84506a12590c9c69f9331"
       ],
       "layout": "IPY_MODEL_c5452df580ab4c85bfbb09c1dad62ad5"
      }
     },
     "9751ad4fd18a487eb010ad862393f539": {
      "model_module": "@jupyter-widgets/controls",
      "model_module_version": "1.5.0",
      "model_name": "DescriptionStyleModel",
      "state": {
       "_model_module": "@jupyter-widgets/controls",
       "_model_module_version": "1.5.0",
       "_model_name": "DescriptionStyleModel",
       "_view_count": null,
       "_view_module": "@jupyter-widgets/base",
       "_view_module_version": "1.2.0",
       "_view_name": "StyleView",
       "description_width": ""
      }
     },
     "97986e4c84454981bec63751e531609b": {
      "model_module": "@jupyter-widgets/controls",
      "model_module_version": "1.5.0",
      "model_name": "HTMLModel",
      "state": {
       "_dom_classes": [],
       "_model_module": "@jupyter-widgets/controls",
       "_model_module_version": "1.5.0",
       "_model_name": "HTMLModel",
       "_view_count": null,
       "_view_module": "@jupyter-widgets/controls",
       "_view_module_version": "1.5.0",
       "_view_name": "HTMLView",
       "description": "",
       "description_tooltip": null,
       "layout": "IPY_MODEL_f69ea6a2ef01441d9f21647ead211db5",
       "placeholder": "​",
       "style": "IPY_MODEL_e7978e4ac75a46119def73af861c7ca7",
       "value": " 43/43 [00:44&lt;00:00,  5.17s/ba]"
      }
     },
     "97b119c1425a46a8995a9d5b656bb880": {
      "model_module": "@jupyter-widgets/controls",
      "model_module_version": "1.5.0",
      "model_name": "DescriptionStyleModel",
      "state": {
       "_model_module": "@jupyter-widgets/controls",
       "_model_module_version": "1.5.0",
       "_model_name": "DescriptionStyleModel",
       "_view_count": null,
       "_view_module": "@jupyter-widgets/base",
       "_view_module_version": "1.2.0",
       "_view_name": "StyleView",
       "description_width": ""
      }
     },
     "9cb129be223a4f66bcda40d9c7cfb19e": {
      "model_module": "@jupyter-widgets/controls",
      "model_module_version": "1.5.0",
      "model_name": "VBoxModel",
      "state": {
       "_dom_classes": [],
       "_model_module": "@jupyter-widgets/controls",
       "_model_module_version": "1.5.0",
       "_model_name": "VBoxModel",
       "_view_count": null,
       "_view_module": "@jupyter-widgets/controls",
       "_view_module_version": "1.5.0",
       "_view_name": "VBoxView",
       "box_style": "",
       "children": [
        "IPY_MODEL_3f783d1a47834f10b6e748b0ca3a7d99",
        "IPY_MODEL_a4dea9b13f804a83837cbbfcdbc118d5"
       ],
       "layout": "IPY_MODEL_a5f3d858fe9f4cd589288de6477fbc6a"
      }
     },
     "a10167c83cb84fc9b3b17e3191a57058": {
      "model_module": "@jupyter-widgets/controls",
      "model_module_version": "1.5.0",
      "model_name": "DescriptionStyleModel",
      "state": {
       "_model_module": "@jupyter-widgets/controls",
       "_model_module_version": "1.5.0",
       "_model_name": "DescriptionStyleModel",
       "_view_count": null,
       "_view_module": "@jupyter-widgets/base",
       "_view_module_version": "1.2.0",
       "_view_name": "StyleView",
       "description_width": ""
      }
     },
     "a211135a1180486eb8ed2ce8562047e8": {
      "model_module": "@jupyter-widgets/controls",
      "model_module_version": "1.5.0",
      "model_name": "ProgressStyleModel",
      "state": {
       "_model_module": "@jupyter-widgets/controls",
       "_model_module_version": "1.5.0",
       "_model_name": "ProgressStyleModel",
       "_view_count": null,
       "_view_module": "@jupyter-widgets/base",
       "_view_module_version": "1.2.0",
       "_view_name": "StyleView",
       "bar_color": null,
       "description_width": ""
      }
     },
     "a35f7da07ade4cb29d2e512720db3a1c": {
      "model_module": "@jupyter-widgets/controls",
      "model_module_version": "1.5.0",
      "model_name": "HTMLModel",
      "state": {
       "_dom_classes": [],
       "_model_module": "@jupyter-widgets/controls",
       "_model_module_version": "1.5.0",
       "_model_name": "HTMLModel",
       "_view_count": null,
       "_view_module": "@jupyter-widgets/controls",
       "_view_module_version": "1.5.0",
       "_view_name": "HTMLView",
       "description": "",
       "description_tooltip": null,
       "layout": "IPY_MODEL_6517ecc78b4e41ea8d116f6b0be6f78f",
       "placeholder": "​",
       "style": "IPY_MODEL_81d81238e3974b4184b2bdd054b45d32",
       "value": "100%"
      }
     },
     "a38fbf4699a34a87a846c0aa537f52df": {
      "model_module": "@jupyter-widgets/base",
      "model_module_version": "1.2.0",
      "model_name": "LayoutModel",
      "state": {
       "_model_module": "@jupyter-widgets/base",
       "_model_module_version": "1.2.0",
       "_model_name": "LayoutModel",
       "_view_count": null,
       "_view_module": "@jupyter-widgets/base",
       "_view_module_version": "1.2.0",
       "_view_name": "LayoutView",
       "align_content": null,
       "align_items": null,
       "align_self": null,
       "border": null,
       "bottom": null,
       "display": null,
       "flex": null,
       "flex_flow": null,
       "grid_area": null,
       "grid_auto_columns": null,
       "grid_auto_flow": null,
       "grid_auto_rows": null,
       "grid_column": null,
       "grid_gap": null,
       "grid_row": null,
       "grid_template_areas": null,
       "grid_template_columns": null,
       "grid_template_rows": null,
       "height": null,
       "justify_content": null,
       "justify_items": null,
       "left": null,
       "margin": null,
       "max_height": null,
       "max_width": null,
       "min_height": null,
       "min_width": null,
       "object_fit": null,
       "object_position": null,
       "order": null,
       "overflow": null,
       "overflow_x": null,
       "overflow_y": null,
       "padding": null,
       "right": null,
       "top": null,
       "visibility": null,
       "width": null
      }
     },
     "a4dea9b13f804a83837cbbfcdbc118d5": {
      "model_module": "@jupyter-widgets/controls",
      "model_module_version": "1.5.0",
      "model_name": "FloatProgressModel",
      "state": {
       "_dom_classes": [],
       "_model_module": "@jupyter-widgets/controls",
       "_model_module_version": "1.5.0",
       "_model_name": "FloatProgressModel",
       "_view_count": null,
       "_view_module": "@jupyter-widgets/controls",
       "_view_module_version": "1.5.0",
       "_view_name": "ProgressView",
       "bar_style": "",
       "description": "",
       "description_tooltip": null,
       "layout": "IPY_MODEL_13d55addc441441a9a4b97465381ce6c",
       "max": 1.0,
       "min": 0.0,
       "orientation": "horizontal",
       "style": "IPY_MODEL_a211135a1180486eb8ed2ce8562047e8",
       "value": 0.0
      }
     },
     "a4e8799cde4b40af95d117d14edc441f": {
      "model_module": "@jupyter-widgets/controls",
      "model_module_version": "1.5.0",
      "model_name": "VBoxModel",
      "state": {
       "_dom_classes": [],
       "_model_module": "@jupyter-widgets/controls",
       "_model_module_version": "1.5.0",
       "_model_name": "VBoxModel",
       "_view_count": null,
       "_view_module": "@jupyter-widgets/controls",
       "_view_module_version": "1.5.0",
       "_view_name": "VBoxView",
       "box_style": "",
       "children": [
        "IPY_MODEL_525e028ed45a45e4abfeed649efc2658",
        "IPY_MODEL_29fd9e5a6c244a52a384daba825b95ad"
       ],
       "layout": "IPY_MODEL_6f9eb34369b143bfa87e884287782e43"
      }
     },
     "a51b962800104ed59dbe5d59e5f80258": {
      "model_module": "@jupyter-widgets/controls",
      "model_module_version": "1.5.0",
      "model_name": "FloatProgressModel",
      "state": {
       "_dom_classes": [],
       "_model_module": "@jupyter-widgets/controls",
       "_model_module_version": "1.5.0",
       "_model_name": "FloatProgressModel",
       "_view_count": null,
       "_view_module": "@jupyter-widgets/controls",
       "_view_module_version": "1.5.0",
       "_view_name": "ProgressView",
       "bar_style": "success",
       "description": "",
       "description_tooltip": null,
       "layout": "IPY_MODEL_6c7aaf18f6b54a8897edd40a9e21f2f4",
       "max": 43.0,
       "min": 0.0,
       "orientation": "horizontal",
       "style": "IPY_MODEL_02f5ed8b304a48faa93a098eee683ad9",
       "value": 43.0
      }
     },
     "a5f3d858fe9f4cd589288de6477fbc6a": {
      "model_module": "@jupyter-widgets/base",
      "model_module_version": "1.2.0",
      "model_name": "LayoutModel",
      "state": {
       "_model_module": "@jupyter-widgets/base",
       "_model_module_version": "1.2.0",
       "_model_name": "LayoutModel",
       "_view_count": null,
       "_view_module": "@jupyter-widgets/base",
       "_view_module_version": "1.2.0",
       "_view_name": "LayoutView",
       "align_content": null,
       "align_items": null,
       "align_self": null,
       "border": null,
       "bottom": null,
       "display": null,
       "flex": null,
       "flex_flow": null,
       "grid_area": null,
       "grid_auto_columns": null,
       "grid_auto_flow": null,
       "grid_auto_rows": null,
       "grid_column": null,
       "grid_gap": null,
       "grid_row": null,
       "grid_template_areas": null,
       "grid_template_columns": null,
       "grid_template_rows": null,
       "height": null,
       "justify_content": null,
       "justify_items": null,
       "left": null,
       "margin": null,
       "max_height": null,
       "max_width": null,
       "min_height": null,
       "min_width": null,
       "object_fit": null,
       "object_position": null,
       "order": null,
       "overflow": null,
       "overflow_x": null,
       "overflow_y": null,
       "padding": null,
       "right": null,
       "top": null,
       "visibility": null,
       "width": null
      }
     },
     "a619e4a7a2984ae0b53e28fe261b11aa": {
      "model_module": "@jupyter-widgets/base",
      "model_module_version": "1.2.0",
      "model_name": "LayoutModel",
      "state": {
       "_model_module": "@jupyter-widgets/base",
       "_model_module_version": "1.2.0",
       "_model_name": "LayoutModel",
       "_view_count": null,
       "_view_module": "@jupyter-widgets/base",
       "_view_module_version": "1.2.0",
       "_view_name": "LayoutView",
       "align_content": null,
       "align_items": null,
       "align_self": null,
       "border": null,
       "bottom": null,
       "display": null,
       "flex": null,
       "flex_flow": null,
       "grid_area": null,
       "grid_auto_columns": null,
       "grid_auto_flow": null,
       "grid_auto_rows": null,
       "grid_column": null,
       "grid_gap": null,
       "grid_row": null,
       "grid_template_areas": null,
       "grid_template_columns": null,
       "grid_template_rows": null,
       "height": null,
       "justify_content": null,
       "justify_items": null,
       "left": null,
       "margin": null,
       "max_height": null,
       "max_width": null,
       "min_height": null,
       "min_width": null,
       "object_fit": null,
       "object_position": null,
       "order": null,
       "overflow": null,
       "overflow_x": null,
       "overflow_y": null,
       "padding": null,
       "right": null,
       "top": null,
       "visibility": null,
       "width": null
      }
     },
     "a6b633c11d1f4e53998255829e616af2": {
      "model_module": "@jupyter-widgets/controls",
      "model_module_version": "1.5.0",
      "model_name": "FloatProgressModel",
      "state": {
       "_dom_classes": [],
       "_model_module": "@jupyter-widgets/controls",
       "_model_module_version": "1.5.0",
       "_model_name": "FloatProgressModel",
       "_view_count": null,
       "_view_module": "@jupyter-widgets/controls",
       "_view_module_version": "1.5.0",
       "_view_name": "ProgressView",
       "bar_style": "success",
       "description": "",
       "description_tooltip": null,
       "layout": "IPY_MODEL_b26b6ddee7f44526b84ae6f842daa6d0",
       "max": 11.0,
       "min": 0.0,
       "orientation": "horizontal",
       "style": "IPY_MODEL_d788ce0f0d5f42ccbb3e02130680f000",
       "value": 11.0
      }
     },
     "a6f530cc738e47b29d2f3a52824dbb50": {
      "model_module": "@jupyter-widgets/controls",
      "model_module_version": "1.5.0",
      "model_name": "LabelModel",
      "state": {
       "_dom_classes": [],
       "_model_module": "@jupyter-widgets/controls",
       "_model_module_version": "1.5.0",
       "_model_name": "LabelModel",
       "_view_count": null,
       "_view_module": "@jupyter-widgets/controls",
       "_view_module_version": "1.5.0",
       "_view_name": "LabelView",
       "description": "",
       "description_tooltip": null,
       "layout": "IPY_MODEL_5691d770198640f7a8f9b3adaf13e686",
       "placeholder": "​",
       "style": "IPY_MODEL_92ffcb025d654a568374246105149fdb",
       "value": "0.483 MB of 0.483 MB uploaded (0.000 MB deduped)\r"
      }
     },
     "a8a6179ad24041488a0bd30aed8588f4": {
      "model_module": "@jupyter-widgets/controls",
      "model_module_version": "1.5.0",
      "model_name": "DescriptionStyleModel",
      "state": {
       "_model_module": "@jupyter-widgets/controls",
       "_model_module_version": "1.5.0",
       "_model_name": "DescriptionStyleModel",
       "_view_count": null,
       "_view_module": "@jupyter-widgets/base",
       "_view_module_version": "1.2.0",
       "_view_name": "StyleView",
       "description_width": ""
      }
     },
     "aca1a79ff42d446f96a60e4ee5fcfdb4": {
      "model_module": "@jupyter-widgets/controls",
      "model_module_version": "1.5.0",
      "model_name": "DescriptionStyleModel",
      "state": {
       "_model_module": "@jupyter-widgets/controls",
       "_model_module_version": "1.5.0",
       "_model_name": "DescriptionStyleModel",
       "_view_count": null,
       "_view_module": "@jupyter-widgets/base",
       "_view_module_version": "1.2.0",
       "_view_name": "StyleView",
       "description_width": ""
      }
     },
     "afbc51592b7441fca0d0fe972479d2ae": {
      "model_module": "@jupyter-widgets/base",
      "model_module_version": "1.2.0",
      "model_name": "LayoutModel",
      "state": {
       "_model_module": "@jupyter-widgets/base",
       "_model_module_version": "1.2.0",
       "_model_name": "LayoutModel",
       "_view_count": null,
       "_view_module": "@jupyter-widgets/base",
       "_view_module_version": "1.2.0",
       "_view_name": "LayoutView",
       "align_content": null,
       "align_items": null,
       "align_self": null,
       "border": null,
       "bottom": null,
       "display": null,
       "flex": null,
       "flex_flow": null,
       "grid_area": null,
       "grid_auto_columns": null,
       "grid_auto_flow": null,
       "grid_auto_rows": null,
       "grid_column": null,
       "grid_gap": null,
       "grid_row": null,
       "grid_template_areas": null,
       "grid_template_columns": null,
       "grid_template_rows": null,
       "height": null,
       "justify_content": null,
       "justify_items": null,
       "left": null,
       "margin": null,
       "max_height": null,
       "max_width": null,
       "min_height": null,
       "min_width": null,
       "object_fit": null,
       "object_position": null,
       "order": null,
       "overflow": null,
       "overflow_x": null,
       "overflow_y": null,
       "padding": null,
       "right": null,
       "top": null,
       "visibility": null,
       "width": null
      }
     },
     "b0723f4c02b043ad98de00e8fd7ddf58": {
      "model_module": "@jupyter-widgets/controls",
      "model_module_version": "1.5.0",
      "model_name": "FloatProgressModel",
      "state": {
       "_dom_classes": [],
       "_model_module": "@jupyter-widgets/controls",
       "_model_module_version": "1.5.0",
       "_model_name": "FloatProgressModel",
       "_view_count": null,
       "_view_module": "@jupyter-widgets/controls",
       "_view_module_version": "1.5.0",
       "_view_name": "ProgressView",
       "bar_style": "",
       "description": "",
       "description_tooltip": null,
       "layout": "IPY_MODEL_be23226a911f46118a71946b7f437f55",
       "max": 1.0,
       "min": 0.0,
       "orientation": "horizontal",
       "style": "IPY_MODEL_58de382a353b4a4fb3ce68e501d65f48",
       "value": 1.0
      }
     },
     "b26b6ddee7f44526b84ae6f842daa6d0": {
      "model_module": "@jupyter-widgets/base",
      "model_module_version": "1.2.0",
      "model_name": "LayoutModel",
      "state": {
       "_model_module": "@jupyter-widgets/base",
       "_model_module_version": "1.2.0",
       "_model_name": "LayoutModel",
       "_view_count": null,
       "_view_module": "@jupyter-widgets/base",
       "_view_module_version": "1.2.0",
       "_view_name": "LayoutView",
       "align_content": null,
       "align_items": null,
       "align_self": null,
       "border": null,
       "bottom": null,
       "display": null,
       "flex": null,
       "flex_flow": null,
       "grid_area": null,
       "grid_auto_columns": null,
       "grid_auto_flow": null,
       "grid_auto_rows": null,
       "grid_column": null,
       "grid_gap": null,
       "grid_row": null,
       "grid_template_areas": null,
       "grid_template_columns": null,
       "grid_template_rows": null,
       "height": null,
       "justify_content": null,
       "justify_items": null,
       "left": null,
       "margin": null,
       "max_height": null,
       "max_width": null,
       "min_height": null,
       "min_width": null,
       "object_fit": null,
       "object_position": null,
       "order": null,
       "overflow": null,
       "overflow_x": null,
       "overflow_y": null,
       "padding": null,
       "right": null,
       "top": null,
       "visibility": null,
       "width": null
      }
     },
     "b413f4b6d73b491a8d26a63ec4ee9406": {
      "model_module": "@jupyter-widgets/controls",
      "model_module_version": "1.5.0",
      "model_name": "ProgressStyleModel",
      "state": {
       "_model_module": "@jupyter-widgets/controls",
       "_model_module_version": "1.5.0",
       "_model_name": "ProgressStyleModel",
       "_view_count": null,
       "_view_module": "@jupyter-widgets/base",
       "_view_module_version": "1.2.0",
       "_view_name": "StyleView",
       "bar_color": null,
       "description_width": ""
      }
     },
     "b4578b17c5a148f6a19a294bb23e9664": {
      "model_module": "@jupyter-widgets/base",
      "model_module_version": "1.2.0",
      "model_name": "LayoutModel",
      "state": {
       "_model_module": "@jupyter-widgets/base",
       "_model_module_version": "1.2.0",
       "_model_name": "LayoutModel",
       "_view_count": null,
       "_view_module": "@jupyter-widgets/base",
       "_view_module_version": "1.2.0",
       "_view_name": "LayoutView",
       "align_content": null,
       "align_items": null,
       "align_self": null,
       "border": null,
       "bottom": null,
       "display": null,
       "flex": null,
       "flex_flow": null,
       "grid_area": null,
       "grid_auto_columns": null,
       "grid_auto_flow": null,
       "grid_auto_rows": null,
       "grid_column": null,
       "grid_gap": null,
       "grid_row": null,
       "grid_template_areas": null,
       "grid_template_columns": null,
       "grid_template_rows": null,
       "height": null,
       "justify_content": null,
       "justify_items": null,
       "left": null,
       "margin": null,
       "max_height": null,
       "max_width": null,
       "min_height": null,
       "min_width": null,
       "object_fit": null,
       "object_position": null,
       "order": null,
       "overflow": null,
       "overflow_x": null,
       "overflow_y": null,
       "padding": null,
       "right": null,
       "top": null,
       "visibility": null,
       "width": null
      }
     },
     "b547c3528b0e4b74907aeb21d113e8a7": {
      "model_module": "@jupyter-widgets/controls",
      "model_module_version": "1.5.0",
      "model_name": "LabelModel",
      "state": {
       "_dom_classes": [],
       "_model_module": "@jupyter-widgets/controls",
       "_model_module_version": "1.5.0",
       "_model_name": "LabelModel",
       "_view_count": null,
       "_view_module": "@jupyter-widgets/controls",
       "_view_module_version": "1.5.0",
       "_view_name": "LabelView",
       "description": "",
       "description_tooltip": null,
       "layout": "IPY_MODEL_53bd383f9f2442c19fa16188985b60c9",
       "placeholder": "​",
       "style": "IPY_MODEL_55cd5bf0a11e4c0fbf67f7cfe5813a03",
       "value": ""
      }
     },
     "b5e7ba985ca94d95a6c569f8eea23fe9": {
      "model_module": "@jupyter-widgets/controls",
      "model_module_version": "1.5.0",
      "model_name": "HBoxModel",
      "state": {
       "_dom_classes": [],
       "_model_module": "@jupyter-widgets/controls",
       "_model_module_version": "1.5.0",
       "_model_name": "HBoxModel",
       "_view_count": null,
       "_view_module": "@jupyter-widgets/controls",
       "_view_module_version": "1.5.0",
       "_view_name": "HBoxView",
       "box_style": "",
       "children": [
        "IPY_MODEL_a35f7da07ade4cb29d2e512720db3a1c",
        "IPY_MODEL_927fe9a6490741a8a0483e9c1728f13a",
        "IPY_MODEL_46143d6dac0d40f692995dbd9b439ffc"
       ],
       "layout": "IPY_MODEL_e9236aec6e884012a1a21f1bdac02119"
      }
     },
     "b894a47e95d340a3a1f2982562c6e23d": {
      "model_module": "@jupyter-widgets/base",
      "model_module_version": "1.2.0",
      "model_name": "LayoutModel",
      "state": {
       "_model_module": "@jupyter-widgets/base",
       "_model_module_version": "1.2.0",
       "_model_name": "LayoutModel",
       "_view_count": null,
       "_view_module": "@jupyter-widgets/base",
       "_view_module_version": "1.2.0",
       "_view_name": "LayoutView",
       "align_content": null,
       "align_items": null,
       "align_self": null,
       "border": null,
       "bottom": null,
       "display": null,
       "flex": null,
       "flex_flow": null,
       "grid_area": null,
       "grid_auto_columns": null,
       "grid_auto_flow": null,
       "grid_auto_rows": null,
       "grid_column": null,
       "grid_gap": null,
       "grid_row": null,
       "grid_template_areas": null,
       "grid_template_columns": null,
       "grid_template_rows": null,
       "height": null,
       "justify_content": null,
       "justify_items": null,
       "left": null,
       "margin": null,
       "max_height": null,
       "max_width": null,
       "min_height": null,
       "min_width": null,
       "object_fit": null,
       "object_position": null,
       "order": null,
       "overflow": null,
       "overflow_x": null,
       "overflow_y": null,
       "padding": null,
       "right": null,
       "top": null,
       "visibility": null,
       "width": null
      }
     },
     "b8d7e909939844beb7aed9ac2d82e15a": {
      "model_module": "@jupyter-widgets/base",
      "model_module_version": "1.2.0",
      "model_name": "LayoutModel",
      "state": {
       "_model_module": "@jupyter-widgets/base",
       "_model_module_version": "1.2.0",
       "_model_name": "LayoutModel",
       "_view_count": null,
       "_view_module": "@jupyter-widgets/base",
       "_view_module_version": "1.2.0",
       "_view_name": "LayoutView",
       "align_content": null,
       "align_items": null,
       "align_self": null,
       "border": null,
       "bottom": null,
       "display": null,
       "flex": null,
       "flex_flow": null,
       "grid_area": null,
       "grid_auto_columns": null,
       "grid_auto_flow": null,
       "grid_auto_rows": null,
       "grid_column": null,
       "grid_gap": null,
       "grid_row": null,
       "grid_template_areas": null,
       "grid_template_columns": null,
       "grid_template_rows": null,
       "height": null,
       "justify_content": null,
       "justify_items": null,
       "left": null,
       "margin": null,
       "max_height": null,
       "max_width": null,
       "min_height": null,
       "min_width": null,
       "object_fit": null,
       "object_position": null,
       "order": null,
       "overflow": null,
       "overflow_x": null,
       "overflow_y": null,
       "padding": null,
       "right": null,
       "top": null,
       "visibility": null,
       "width": null
      }
     },
     "b94ee228ff9f45d887a4359da34e14a5": {
      "model_module": "@jupyter-widgets/base",
      "model_module_version": "1.2.0",
      "model_name": "LayoutModel",
      "state": {
       "_model_module": "@jupyter-widgets/base",
       "_model_module_version": "1.2.0",
       "_model_name": "LayoutModel",
       "_view_count": null,
       "_view_module": "@jupyter-widgets/base",
       "_view_module_version": "1.2.0",
       "_view_name": "LayoutView",
       "align_content": null,
       "align_items": null,
       "align_self": null,
       "border": null,
       "bottom": null,
       "display": null,
       "flex": null,
       "flex_flow": null,
       "grid_area": null,
       "grid_auto_columns": null,
       "grid_auto_flow": null,
       "grid_auto_rows": null,
       "grid_column": null,
       "grid_gap": null,
       "grid_row": null,
       "grid_template_areas": null,
       "grid_template_columns": null,
       "grid_template_rows": null,
       "height": null,
       "justify_content": null,
       "justify_items": null,
       "left": null,
       "margin": null,
       "max_height": null,
       "max_width": null,
       "min_height": null,
       "min_width": null,
       "object_fit": null,
       "object_position": null,
       "order": null,
       "overflow": null,
       "overflow_x": null,
       "overflow_y": null,
       "padding": null,
       "right": null,
       "top": null,
       "visibility": null,
       "width": null
      }
     },
     "b982b3e3b872415e90e911c6e5ef8091": {
      "model_module": "@jupyter-widgets/base",
      "model_module_version": "1.2.0",
      "model_name": "LayoutModel",
      "state": {
       "_model_module": "@jupyter-widgets/base",
       "_model_module_version": "1.2.0",
       "_model_name": "LayoutModel",
       "_view_count": null,
       "_view_module": "@jupyter-widgets/base",
       "_view_module_version": "1.2.0",
       "_view_name": "LayoutView",
       "align_content": null,
       "align_items": null,
       "align_self": null,
       "border": null,
       "bottom": null,
       "display": null,
       "flex": null,
       "flex_flow": null,
       "grid_area": null,
       "grid_auto_columns": null,
       "grid_auto_flow": null,
       "grid_auto_rows": null,
       "grid_column": null,
       "grid_gap": null,
       "grid_row": null,
       "grid_template_areas": null,
       "grid_template_columns": null,
       "grid_template_rows": null,
       "height": null,
       "justify_content": null,
       "justify_items": null,
       "left": null,
       "margin": null,
       "max_height": null,
       "max_width": null,
       "min_height": null,
       "min_width": null,
       "object_fit": null,
       "object_position": null,
       "order": null,
       "overflow": null,
       "overflow_x": null,
       "overflow_y": null,
       "padding": null,
       "right": null,
       "top": null,
       "visibility": null,
       "width": null
      }
     },
     "ba5e897edb7a41fbb1a9dc6b0bebfb0f": {
      "model_module": "@jupyter-widgets/controls",
      "model_module_version": "1.5.0",
      "model_name": "HBoxModel",
      "state": {
       "_dom_classes": [],
       "_model_module": "@jupyter-widgets/controls",
       "_model_module_version": "1.5.0",
       "_model_name": "HBoxModel",
       "_view_count": null,
       "_view_module": "@jupyter-widgets/controls",
       "_view_module_version": "1.5.0",
       "_view_name": "HBoxView",
       "box_style": "",
       "children": [
        "IPY_MODEL_452bb4376a564453a14b33024979b3be",
        "IPY_MODEL_cbce8ebc49354b94b4e3f69ae93dd5c3",
        "IPY_MODEL_528f9274fa4447e7bbb44f56cd2f2420"
       ],
       "layout": "IPY_MODEL_5645f77c82c24658a621f2c728426139"
      }
     },
     "ba82e204bd8945a899bfda1eff518bd0": {
      "model_module": "@jupyter-widgets/controls",
      "model_module_version": "1.5.0",
      "model_name": "DescriptionStyleModel",
      "state": {
       "_model_module": "@jupyter-widgets/controls",
       "_model_module_version": "1.5.0",
       "_model_name": "DescriptionStyleModel",
       "_view_count": null,
       "_view_module": "@jupyter-widgets/base",
       "_view_module_version": "1.2.0",
       "_view_name": "StyleView",
       "description_width": ""
      }
     },
     "bcc7d0e2116440d98c77802cee11595d": {
      "model_module": "@jupyter-widgets/controls",
      "model_module_version": "1.5.0",
      "model_name": "HTMLModel",
      "state": {
       "_dom_classes": [],
       "_model_module": "@jupyter-widgets/controls",
       "_model_module_version": "1.5.0",
       "_model_name": "HTMLModel",
       "_view_count": null,
       "_view_module": "@jupyter-widgets/controls",
       "_view_module_version": "1.5.0",
       "_view_name": "HTMLView",
       "description": "",
       "description_tooltip": null,
       "layout": "IPY_MODEL_1b2f8a75587c44c7bb617e7c7ed59f09",
       "placeholder": "​",
       "style": "IPY_MODEL_cad6791f274245e3b1ae1e00f3db80fc",
       "value": "100%"
      }
     },
     "bddbfe1aee5b4a62b7fa3600661fc32f": {
      "model_module": "@jupyter-widgets/controls",
      "model_module_version": "1.5.0",
      "model_name": "FloatProgressModel",
      "state": {
       "_dom_classes": [],
       "_model_module": "@jupyter-widgets/controls",
       "_model_module_version": "1.5.0",
       "_model_name": "FloatProgressModel",
       "_view_count": null,
       "_view_module": "@jupyter-widgets/controls",
       "_view_module_version": "1.5.0",
       "_view_name": "ProgressView",
       "bar_style": "",
       "description": "",
       "description_tooltip": null,
       "layout": "IPY_MODEL_0e0067eefdfa49efab09976a4728ee66",
       "max": 1.0,
       "min": 0.0,
       "orientation": "horizontal",
       "style": "IPY_MODEL_19bdd21c3deb4110896c094786cda995",
       "value": 1.0
      }
     },
     "be23226a911f46118a71946b7f437f55": {
      "model_module": "@jupyter-widgets/base",
      "model_module_version": "1.2.0",
      "model_name": "LayoutModel",
      "state": {
       "_model_module": "@jupyter-widgets/base",
       "_model_module_version": "1.2.0",
       "_model_name": "LayoutModel",
       "_view_count": null,
       "_view_module": "@jupyter-widgets/base",
       "_view_module_version": "1.2.0",
       "_view_name": "LayoutView",
       "align_content": null,
       "align_items": null,
       "align_self": null,
       "border": null,
       "bottom": null,
       "display": null,
       "flex": null,
       "flex_flow": null,
       "grid_area": null,
       "grid_auto_columns": null,
       "grid_auto_flow": null,
       "grid_auto_rows": null,
       "grid_column": null,
       "grid_gap": null,
       "grid_row": null,
       "grid_template_areas": null,
       "grid_template_columns": null,
       "grid_template_rows": null,
       "height": null,
       "justify_content": null,
       "justify_items": null,
       "left": null,
       "margin": null,
       "max_height": null,
       "max_width": null,
       "min_height": null,
       "min_width": null,
       "object_fit": null,
       "object_position": null,
       "order": null,
       "overflow": null,
       "overflow_x": null,
       "overflow_y": null,
       "padding": null,
       "right": null,
       "top": null,
       "visibility": null,
       "width": null
      }
     },
     "be490f6a3e56437e8c4179289902125c": {
      "model_module": "@jupyter-widgets/base",
      "model_module_version": "1.2.0",
      "model_name": "LayoutModel",
      "state": {
       "_model_module": "@jupyter-widgets/base",
       "_model_module_version": "1.2.0",
       "_model_name": "LayoutModel",
       "_view_count": null,
       "_view_module": "@jupyter-widgets/base",
       "_view_module_version": "1.2.0",
       "_view_name": "LayoutView",
       "align_content": null,
       "align_items": null,
       "align_self": null,
       "border": null,
       "bottom": null,
       "display": null,
       "flex": null,
       "flex_flow": null,
       "grid_area": null,
       "grid_auto_columns": null,
       "grid_auto_flow": null,
       "grid_auto_rows": null,
       "grid_column": null,
       "grid_gap": null,
       "grid_row": null,
       "grid_template_areas": null,
       "grid_template_columns": null,
       "grid_template_rows": null,
       "height": null,
       "justify_content": null,
       "justify_items": null,
       "left": null,
       "margin": null,
       "max_height": null,
       "max_width": null,
       "min_height": null,
       "min_width": null,
       "object_fit": null,
       "object_position": null,
       "order": null,
       "overflow": null,
       "overflow_x": null,
       "overflow_y": null,
       "padding": null,
       "right": null,
       "top": null,
       "visibility": null,
       "width": null
      }
     },
     "c3635b8e847042efb8fafdceeb645a53": {
      "model_module": "@jupyter-widgets/controls",
      "model_module_version": "1.5.0",
      "model_name": "HTMLModel",
      "state": {
       "_dom_classes": [],
       "_model_module": "@jupyter-widgets/controls",
       "_model_module_version": "1.5.0",
       "_model_name": "HTMLModel",
       "_view_count": null,
       "_view_module": "@jupyter-widgets/controls",
       "_view_module_version": "1.5.0",
       "_view_name": "HTMLView",
       "description": "",
       "description_tooltip": null,
       "layout": "IPY_MODEL_3bd49511164f424eadd72eaefb3a94b8",
       "placeholder": "​",
       "style": "IPY_MODEL_6572321360c84bb591b2bcb67ddcc3c5",
       "value": " 11/11 [00:08&lt;00:00,  1.17s/ba]"
      }
     },
     "c529138e77b848ae8248b7055703862f": {
      "model_module": "@jupyter-widgets/controls",
      "model_module_version": "1.5.0",
      "model_name": "HTMLModel",
      "state": {
       "_dom_classes": [],
       "_model_module": "@jupyter-widgets/controls",
       "_model_module_version": "1.5.0",
       "_model_name": "HTMLModel",
       "_view_count": null,
       "_view_module": "@jupyter-widgets/controls",
       "_view_module_version": "1.5.0",
       "_view_name": "HTMLView",
       "description": "",
       "description_tooltip": null,
       "layout": "IPY_MODEL_826be56f96e44af782a792222640d9e3",
       "placeholder": "​",
       "style": "IPY_MODEL_94ff7c345e0c4e3a9e5705eb3cab5d3d",
       "value": "100%"
      }
     },
     "c5452df580ab4c85bfbb09c1dad62ad5": {
      "model_module": "@jupyter-widgets/base",
      "model_module_version": "1.2.0",
      "model_name": "LayoutModel",
      "state": {
       "_model_module": "@jupyter-widgets/base",
       "_model_module_version": "1.2.0",
       "_model_name": "LayoutModel",
       "_view_count": null,
       "_view_module": "@jupyter-widgets/base",
       "_view_module_version": "1.2.0",
       "_view_name": "LayoutView",
       "align_content": null,
       "align_items": null,
       "align_self": null,
       "border": null,
       "bottom": null,
       "display": null,
       "flex": null,
       "flex_flow": null,
       "grid_area": null,
       "grid_auto_columns": null,
       "grid_auto_flow": null,
       "grid_auto_rows": null,
       "grid_column": null,
       "grid_gap": null,
       "grid_row": null,
       "grid_template_areas": null,
       "grid_template_columns": null,
       "grid_template_rows": null,
       "height": null,
       "justify_content": null,
       "justify_items": null,
       "left": null,
       "margin": null,
       "max_height": null,
       "max_width": null,
       "min_height": null,
       "min_width": null,
       "object_fit": null,
       "object_position": null,
       "order": null,
       "overflow": null,
       "overflow_x": null,
       "overflow_y": null,
       "padding": null,
       "right": null,
       "top": null,
       "visibility": null,
       "width": null
      }
     },
     "c900cff54b7744bba83f3837ebee3ee2": {
      "model_module": "@jupyter-widgets/controls",
      "model_module_version": "1.5.0",
      "model_name": "ProgressStyleModel",
      "state": {
       "_model_module": "@jupyter-widgets/controls",
       "_model_module_version": "1.5.0",
       "_model_name": "ProgressStyleModel",
       "_view_count": null,
       "_view_module": "@jupyter-widgets/base",
       "_view_module_version": "1.2.0",
       "_view_name": "StyleView",
       "bar_color": null,
       "description_width": ""
      }
     },
     "c95f14b1c378424c936475b8dd8b7c92": {
      "model_module": "@jupyter-widgets/base",
      "model_module_version": "1.2.0",
      "model_name": "LayoutModel",
      "state": {
       "_model_module": "@jupyter-widgets/base",
       "_model_module_version": "1.2.0",
       "_model_name": "LayoutModel",
       "_view_count": null,
       "_view_module": "@jupyter-widgets/base",
       "_view_module_version": "1.2.0",
       "_view_name": "LayoutView",
       "align_content": null,
       "align_items": null,
       "align_self": null,
       "border": null,
       "bottom": null,
       "display": null,
       "flex": null,
       "flex_flow": null,
       "grid_area": null,
       "grid_auto_columns": null,
       "grid_auto_flow": null,
       "grid_auto_rows": null,
       "grid_column": null,
       "grid_gap": null,
       "grid_row": null,
       "grid_template_areas": null,
       "grid_template_columns": null,
       "grid_template_rows": null,
       "height": null,
       "justify_content": null,
       "justify_items": null,
       "left": null,
       "margin": null,
       "max_height": null,
       "max_width": null,
       "min_height": null,
       "min_width": null,
       "object_fit": null,
       "object_position": null,
       "order": null,
       "overflow": null,
       "overflow_x": null,
       "overflow_y": null,
       "padding": null,
       "right": null,
       "top": null,
       "visibility": null,
       "width": null
      }
     },
     "cad6791f274245e3b1ae1e00f3db80fc": {
      "model_module": "@jupyter-widgets/controls",
      "model_module_version": "1.5.0",
      "model_name": "DescriptionStyleModel",
      "state": {
       "_model_module": "@jupyter-widgets/controls",
       "_model_module_version": "1.5.0",
       "_model_name": "DescriptionStyleModel",
       "_view_count": null,
       "_view_module": "@jupyter-widgets/base",
       "_view_module_version": "1.2.0",
       "_view_name": "StyleView",
       "description_width": ""
      }
     },
     "cbce8ebc49354b94b4e3f69ae93dd5c3": {
      "model_module": "@jupyter-widgets/controls",
      "model_module_version": "1.5.0",
      "model_name": "FloatProgressModel",
      "state": {
       "_dom_classes": [],
       "_model_module": "@jupyter-widgets/controls",
       "_model_module_version": "1.5.0",
       "_model_name": "FloatProgressModel",
       "_view_count": null,
       "_view_module": "@jupyter-widgets/controls",
       "_view_module_version": "1.5.0",
       "_view_name": "ProgressView",
       "bar_style": "success",
       "description": "",
       "description_tooltip": null,
       "layout": "IPY_MODEL_90475ed9012d43729eb0140ad18cbff4",
       "max": 43.0,
       "min": 0.0,
       "orientation": "horizontal",
       "style": "IPY_MODEL_b413f4b6d73b491a8d26a63ec4ee9406",
       "value": 43.0
      }
     },
     "ce0362917e7a4481974fd3d42e3d7379": {
      "model_module": "@jupyter-widgets/controls",
      "model_module_version": "1.5.0",
      "model_name": "LabelModel",
      "state": {
       "_dom_classes": [],
       "_model_module": "@jupyter-widgets/controls",
       "_model_module_version": "1.5.0",
       "_model_name": "LabelModel",
       "_view_count": null,
       "_view_module": "@jupyter-widgets/controls",
       "_view_module_version": "1.5.0",
       "_view_name": "LabelView",
       "description": "",
       "description_tooltip": null,
       "layout": "IPY_MODEL_c95f14b1c378424c936475b8dd8b7c92",
       "placeholder": "​",
       "style": "IPY_MODEL_e60f776d2d494232820ace8cd36d36bc",
       "value": "0.477 MB of 0.477 MB uploaded (0.000 MB deduped)\r"
      }
     },
     "cf48a0bf37cf4e5582f5eb5bad094664": {
      "model_module": "@jupyter-widgets/base",
      "model_module_version": "1.2.0",
      "model_name": "LayoutModel",
      "state": {
       "_model_module": "@jupyter-widgets/base",
       "_model_module_version": "1.2.0",
       "_model_name": "LayoutModel",
       "_view_count": null,
       "_view_module": "@jupyter-widgets/base",
       "_view_module_version": "1.2.0",
       "_view_name": "LayoutView",
       "align_content": null,
       "align_items": null,
       "align_self": null,
       "border": null,
       "bottom": null,
       "display": null,
       "flex": null,
       "flex_flow": null,
       "grid_area": null,
       "grid_auto_columns": null,
       "grid_auto_flow": null,
       "grid_auto_rows": null,
       "grid_column": null,
       "grid_gap": null,
       "grid_row": null,
       "grid_template_areas": null,
       "grid_template_columns": null,
       "grid_template_rows": null,
       "height": null,
       "justify_content": null,
       "justify_items": null,
       "left": null,
       "margin": null,
       "max_height": null,
       "max_width": null,
       "min_height": null,
       "min_width": null,
       "object_fit": null,
       "object_position": null,
       "order": null,
       "overflow": null,
       "overflow_x": null,
       "overflow_y": null,
       "padding": null,
       "right": null,
       "top": null,
       "visibility": null,
       "width": null
      }
     },
     "d2e6f625a1c74c65acd8f42d01d2551e": {
      "model_module": "@jupyter-widgets/controls",
      "model_module_version": "1.5.0",
      "model_name": "HTMLModel",
      "state": {
       "_dom_classes": [],
       "_model_module": "@jupyter-widgets/controls",
       "_model_module_version": "1.5.0",
       "_model_name": "HTMLModel",
       "_view_count": null,
       "_view_module": "@jupyter-widgets/controls",
       "_view_module_version": "1.5.0",
       "_view_name": "HTMLView",
       "description": "",
       "description_tooltip": null,
       "layout": "IPY_MODEL_1afdda87348840f48db228b90a86ce1e",
       "placeholder": "​",
       "style": "IPY_MODEL_ba82e204bd8945a899bfda1eff518bd0",
       "value": " 11/11 [00:07&lt;00:00,  1.03s/ba]"
      }
     },
     "d44a78acfb464db7b02be5a943eedfe5": {
      "model_module": "@jupyter-widgets/controls",
      "model_module_version": "1.5.0",
      "model_name": "FloatProgressModel",
      "state": {
       "_dom_classes": [],
       "_model_module": "@jupyter-widgets/controls",
       "_model_module_version": "1.5.0",
       "_model_name": "FloatProgressModel",
       "_view_count": null,
       "_view_module": "@jupyter-widgets/controls",
       "_view_module_version": "1.5.0",
       "_view_name": "ProgressView",
       "bar_style": "success",
       "description": "",
       "description_tooltip": null,
       "layout": "IPY_MODEL_5c67c426a29d46d985178a5d210ee791",
       "max": 43.0,
       "min": 0.0,
       "orientation": "horizontal",
       "style": "IPY_MODEL_4b00b09fae8f443683bebc54826a418f",
       "value": 43.0
      }
     },
     "d4a2a15ad5c04cf59aba7f2946103e5d": {
      "model_module": "@jupyter-widgets/controls",
      "model_module_version": "1.5.0",
      "model_name": "HTMLModel",
      "state": {
       "_dom_classes": [],
       "_model_module": "@jupyter-widgets/controls",
       "_model_module_version": "1.5.0",
       "_model_name": "HTMLModel",
       "_view_count": null,
       "_view_module": "@jupyter-widgets/controls",
       "_view_module_version": "1.5.0",
       "_view_name": "HTMLView",
       "description": "",
       "description_tooltip": null,
       "layout": "IPY_MODEL_5bdf39f6aafc42648c4df81ca23a119c",
       "placeholder": "​",
       "style": "IPY_MODEL_879e81c34e604215a908d575e9a56ca6",
       "value": " 43/43 [00:45&lt;00:00,  5.39s/ba]"
      }
     },
     "d788ce0f0d5f42ccbb3e02130680f000": {
      "model_module": "@jupyter-widgets/controls",
      "model_module_version": "1.5.0",
      "model_name": "ProgressStyleModel",
      "state": {
       "_model_module": "@jupyter-widgets/controls",
       "_model_module_version": "1.5.0",
       "_model_name": "ProgressStyleModel",
       "_view_count": null,
       "_view_module": "@jupyter-widgets/base",
       "_view_module_version": "1.2.0",
       "_view_name": "StyleView",
       "bar_color": null,
       "description_width": ""
      }
     },
     "dc16e43b759d4e5a86fb6fd220da4a1c": {
      "model_module": "@jupyter-widgets/controls",
      "model_module_version": "1.5.0",
      "model_name": "DescriptionStyleModel",
      "state": {
       "_model_module": "@jupyter-widgets/controls",
       "_model_module_version": "1.5.0",
       "_model_name": "DescriptionStyleModel",
       "_view_count": null,
       "_view_module": "@jupyter-widgets/base",
       "_view_module_version": "1.2.0",
       "_view_name": "StyleView",
       "description_width": ""
      }
     },
     "dd8a0183005c459784196ca54332047b": {
      "model_module": "@jupyter-widgets/controls",
      "model_module_version": "1.5.0",
      "model_name": "HTMLModel",
      "state": {
       "_dom_classes": [],
       "_model_module": "@jupyter-widgets/controls",
       "_model_module_version": "1.5.0",
       "_model_name": "HTMLModel",
       "_view_count": null,
       "_view_module": "@jupyter-widgets/controls",
       "_view_module_version": "1.5.0",
       "_view_name": "HTMLView",
       "description": "",
       "description_tooltip": null,
       "layout": "IPY_MODEL_8a277a70a04741cbb2c079e64d6ea84a",
       "placeholder": "​",
       "style": "IPY_MODEL_52be93dae36345fda25d399234881a45",
       "value": "100%"
      }
     },
     "e60f776d2d494232820ace8cd36d36bc": {
      "model_module": "@jupyter-widgets/controls",
      "model_module_version": "1.5.0",
      "model_name": "DescriptionStyleModel",
      "state": {
       "_model_module": "@jupyter-widgets/controls",
       "_model_module_version": "1.5.0",
       "_model_name": "DescriptionStyleModel",
       "_view_count": null,
       "_view_module": "@jupyter-widgets/base",
       "_view_module_version": "1.2.0",
       "_view_name": "StyleView",
       "description_width": ""
      }
     },
     "e7107223995a44d99619d553883b9696": {
      "model_module": "@jupyter-widgets/controls",
      "model_module_version": "1.5.0",
      "model_name": "VBoxModel",
      "state": {
       "_dom_classes": [],
       "_model_module": "@jupyter-widgets/controls",
       "_model_module_version": "1.5.0",
       "_model_name": "VBoxModel",
       "_view_count": null,
       "_view_module": "@jupyter-widgets/controls",
       "_view_module_version": "1.5.0",
       "_view_name": "VBoxView",
       "box_style": "",
       "children": [
        "IPY_MODEL_f96ba176ae76453480caa731e57135f3",
        "IPY_MODEL_f2ce13dc117641db8dbde7f60e4126c7"
       ],
       "layout": "IPY_MODEL_afbc51592b7441fca0d0fe972479d2ae"
      }
     },
     "e7978e4ac75a46119def73af861c7ca7": {
      "model_module": "@jupyter-widgets/controls",
      "model_module_version": "1.5.0",
      "model_name": "DescriptionStyleModel",
      "state": {
       "_model_module": "@jupyter-widgets/controls",
       "_model_module_version": "1.5.0",
       "_model_name": "DescriptionStyleModel",
       "_view_count": null,
       "_view_module": "@jupyter-widgets/base",
       "_view_module_version": "1.2.0",
       "_view_name": "StyleView",
       "description_width": ""
      }
     },
     "e79a37b203144d289bf88e4135577552": {
      "model_module": "@jupyter-widgets/base",
      "model_module_version": "1.2.0",
      "model_name": "LayoutModel",
      "state": {
       "_model_module": "@jupyter-widgets/base",
       "_model_module_version": "1.2.0",
       "_model_name": "LayoutModel",
       "_view_count": null,
       "_view_module": "@jupyter-widgets/base",
       "_view_module_version": "1.2.0",
       "_view_name": "LayoutView",
       "align_content": null,
       "align_items": null,
       "align_self": null,
       "border": null,
       "bottom": null,
       "display": null,
       "flex": null,
       "flex_flow": null,
       "grid_area": null,
       "grid_auto_columns": null,
       "grid_auto_flow": null,
       "grid_auto_rows": null,
       "grid_column": null,
       "grid_gap": null,
       "grid_row": null,
       "grid_template_areas": null,
       "grid_template_columns": null,
       "grid_template_rows": null,
       "height": null,
       "justify_content": null,
       "justify_items": null,
       "left": null,
       "margin": null,
       "max_height": null,
       "max_width": null,
       "min_height": null,
       "min_width": null,
       "object_fit": null,
       "object_position": null,
       "order": null,
       "overflow": null,
       "overflow_x": null,
       "overflow_y": null,
       "padding": null,
       "right": null,
       "top": null,
       "visibility": null,
       "width": null
      }
     },
     "e9236aec6e884012a1a21f1bdac02119": {
      "model_module": "@jupyter-widgets/base",
      "model_module_version": "1.2.0",
      "model_name": "LayoutModel",
      "state": {
       "_model_module": "@jupyter-widgets/base",
       "_model_module_version": "1.2.0",
       "_model_name": "LayoutModel",
       "_view_count": null,
       "_view_module": "@jupyter-widgets/base",
       "_view_module_version": "1.2.0",
       "_view_name": "LayoutView",
       "align_content": null,
       "align_items": null,
       "align_self": null,
       "border": null,
       "bottom": null,
       "display": null,
       "flex": null,
       "flex_flow": null,
       "grid_area": null,
       "grid_auto_columns": null,
       "grid_auto_flow": null,
       "grid_auto_rows": null,
       "grid_column": null,
       "grid_gap": null,
       "grid_row": null,
       "grid_template_areas": null,
       "grid_template_columns": null,
       "grid_template_rows": null,
       "height": null,
       "justify_content": null,
       "justify_items": null,
       "left": null,
       "margin": null,
       "max_height": null,
       "max_width": null,
       "min_height": null,
       "min_width": null,
       "object_fit": null,
       "object_position": null,
       "order": null,
       "overflow": null,
       "overflow_x": null,
       "overflow_y": null,
       "padding": null,
       "right": null,
       "top": null,
       "visibility": null,
       "width": null
      }
     },
     "e9369304cca74a05b2535954e4769cf4": {
      "model_module": "@jupyter-widgets/base",
      "model_module_version": "1.2.0",
      "model_name": "LayoutModel",
      "state": {
       "_model_module": "@jupyter-widgets/base",
       "_model_module_version": "1.2.0",
       "_model_name": "LayoutModel",
       "_view_count": null,
       "_view_module": "@jupyter-widgets/base",
       "_view_module_version": "1.2.0",
       "_view_name": "LayoutView",
       "align_content": null,
       "align_items": null,
       "align_self": null,
       "border": null,
       "bottom": null,
       "display": null,
       "flex": null,
       "flex_flow": null,
       "grid_area": null,
       "grid_auto_columns": null,
       "grid_auto_flow": null,
       "grid_auto_rows": null,
       "grid_column": null,
       "grid_gap": null,
       "grid_row": null,
       "grid_template_areas": null,
       "grid_template_columns": null,
       "grid_template_rows": null,
       "height": null,
       "justify_content": null,
       "justify_items": null,
       "left": null,
       "margin": null,
       "max_height": null,
       "max_width": null,
       "min_height": null,
       "min_width": null,
       "object_fit": null,
       "object_position": null,
       "order": null,
       "overflow": null,
       "overflow_x": null,
       "overflow_y": null,
       "padding": null,
       "right": null,
       "top": null,
       "visibility": null,
       "width": null
      }
     },
     "ed149107e0c542e39ac1302fd0bc9f9e": {
      "model_module": "@jupyter-widgets/controls",
      "model_module_version": "1.5.0",
      "model_name": "LabelModel",
      "state": {
       "_dom_classes": [],
       "_model_module": "@jupyter-widgets/controls",
       "_model_module_version": "1.5.0",
       "_model_name": "LabelModel",
       "_view_count": null,
       "_view_module": "@jupyter-widgets/controls",
       "_view_module_version": "1.5.0",
       "_view_name": "LabelView",
       "description": "",
       "description_tooltip": null,
       "layout": "IPY_MODEL_b894a47e95d340a3a1f2982562c6e23d",
       "placeholder": "​",
       "style": "IPY_MODEL_97b119c1425a46a8995a9d5b656bb880",
       "value": "0.480 MB of 0.480 MB uploaded (0.000 MB deduped)\r"
      }
     },
     "ef52c13fa254493f8554a43c95c6c271": {
      "model_module": "@jupyter-widgets/base",
      "model_module_version": "1.2.0",
      "model_name": "LayoutModel",
      "state": {
       "_model_module": "@jupyter-widgets/base",
       "_model_module_version": "1.2.0",
       "_model_name": "LayoutModel",
       "_view_count": null,
       "_view_module": "@jupyter-widgets/base",
       "_view_module_version": "1.2.0",
       "_view_name": "LayoutView",
       "align_content": null,
       "align_items": null,
       "align_self": null,
       "border": null,
       "bottom": null,
       "display": null,
       "flex": null,
       "flex_flow": null,
       "grid_area": null,
       "grid_auto_columns": null,
       "grid_auto_flow": null,
       "grid_auto_rows": null,
       "grid_column": null,
       "grid_gap": null,
       "grid_row": null,
       "grid_template_areas": null,
       "grid_template_columns": null,
       "grid_template_rows": null,
       "height": null,
       "justify_content": null,
       "justify_items": null,
       "left": null,
       "margin": null,
       "max_height": null,
       "max_width": null,
       "min_height": null,
       "min_width": null,
       "object_fit": null,
       "object_position": null,
       "order": null,
       "overflow": null,
       "overflow_x": null,
       "overflow_y": null,
       "padding": null,
       "right": null,
       "top": null,
       "visibility": null,
       "width": null
      }
     },
     "f0e400184e65493ca703906cf0360244": {
      "model_module": "@jupyter-widgets/controls",
      "model_module_version": "1.5.0",
      "model_name": "VBoxModel",
      "state": {
       "_dom_classes": [],
       "_model_module": "@jupyter-widgets/controls",
       "_model_module_version": "1.5.0",
       "_model_name": "VBoxModel",
       "_view_count": null,
       "_view_module": "@jupyter-widgets/controls",
       "_view_module_version": "1.5.0",
       "_view_name": "VBoxView",
       "box_style": "",
       "children": [
        "IPY_MODEL_a6f530cc738e47b29d2f3a52824dbb50",
        "IPY_MODEL_bddbfe1aee5b4a62b7fa3600661fc32f"
       ],
       "layout": "IPY_MODEL_be490f6a3e56437e8c4179289902125c"
      }
     },
     "f2ce13dc117641db8dbde7f60e4126c7": {
      "model_module": "@jupyter-widgets/controls",
      "model_module_version": "1.5.0",
      "model_name": "FloatProgressModel",
      "state": {
       "_dom_classes": [],
       "_model_module": "@jupyter-widgets/controls",
       "_model_module_version": "1.5.0",
       "_model_name": "FloatProgressModel",
       "_view_count": null,
       "_view_module": "@jupyter-widgets/controls",
       "_view_module_version": "1.5.0",
       "_view_name": "ProgressView",
       "bar_style": "",
       "description": "",
       "description_tooltip": null,
       "layout": "IPY_MODEL_11c8a6274f2049b6b01d324c9456a851",
       "max": 1.0,
       "min": 0.0,
       "orientation": "horizontal",
       "style": "IPY_MODEL_52aabc647f65449aa3a8edaae3150e81",
       "value": 0.0
      }
     },
     "f69ea6a2ef01441d9f21647ead211db5": {
      "model_module": "@jupyter-widgets/base",
      "model_module_version": "1.2.0",
      "model_name": "LayoutModel",
      "state": {
       "_model_module": "@jupyter-widgets/base",
       "_model_module_version": "1.2.0",
       "_model_name": "LayoutModel",
       "_view_count": null,
       "_view_module": "@jupyter-widgets/base",
       "_view_module_version": "1.2.0",
       "_view_name": "LayoutView",
       "align_content": null,
       "align_items": null,
       "align_self": null,
       "border": null,
       "bottom": null,
       "display": null,
       "flex": null,
       "flex_flow": null,
       "grid_area": null,
       "grid_auto_columns": null,
       "grid_auto_flow": null,
       "grid_auto_rows": null,
       "grid_column": null,
       "grid_gap": null,
       "grid_row": null,
       "grid_template_areas": null,
       "grid_template_columns": null,
       "grid_template_rows": null,
       "height": null,
       "justify_content": null,
       "justify_items": null,
       "left": null,
       "margin": null,
       "max_height": null,
       "max_width": null,
       "min_height": null,
       "min_width": null,
       "object_fit": null,
       "object_position": null,
       "order": null,
       "overflow": null,
       "overflow_x": null,
       "overflow_y": null,
       "padding": null,
       "right": null,
       "top": null,
       "visibility": null,
       "width": null
      }
     },
     "f8960d48545e47679a797c3b1b3d56ee": {
      "model_module": "@jupyter-widgets/base",
      "model_module_version": "1.2.0",
      "model_name": "LayoutModel",
      "state": {
       "_model_module": "@jupyter-widgets/base",
       "_model_module_version": "1.2.0",
       "_model_name": "LayoutModel",
       "_view_count": null,
       "_view_module": "@jupyter-widgets/base",
       "_view_module_version": "1.2.0",
       "_view_name": "LayoutView",
       "align_content": null,
       "align_items": null,
       "align_self": null,
       "border": null,
       "bottom": null,
       "display": null,
       "flex": null,
       "flex_flow": null,
       "grid_area": null,
       "grid_auto_columns": null,
       "grid_auto_flow": null,
       "grid_auto_rows": null,
       "grid_column": null,
       "grid_gap": null,
       "grid_row": null,
       "grid_template_areas": null,
       "grid_template_columns": null,
       "grid_template_rows": null,
       "height": null,
       "justify_content": null,
       "justify_items": null,
       "left": null,
       "margin": null,
       "max_height": null,
       "max_width": null,
       "min_height": null,
       "min_width": null,
       "object_fit": null,
       "object_position": null,
       "order": null,
       "overflow": null,
       "overflow_x": null,
       "overflow_y": null,
       "padding": null,
       "right": null,
       "top": null,
       "visibility": null,
       "width": null
      }
     },
     "f96ba176ae76453480caa731e57135f3": {
      "model_module": "@jupyter-widgets/controls",
      "model_module_version": "1.5.0",
      "model_name": "LabelModel",
      "state": {
       "_dom_classes": [],
       "_model_module": "@jupyter-widgets/controls",
       "_model_module_version": "1.5.0",
       "_model_name": "LabelModel",
       "_view_count": null,
       "_view_module": "@jupyter-widgets/controls",
       "_view_module_version": "1.5.0",
       "_view_name": "LabelView",
       "description": "",
       "description_tooltip": null,
       "layout": "IPY_MODEL_b4578b17c5a148f6a19a294bb23e9664",
       "placeholder": "​",
       "style": "IPY_MODEL_206d0620de8b4311938a710be5bd4ba2",
       "value": ""
      }
     },
     "fd25a2887fd74a0cb5f094d3bfe18dfa": {
      "model_module": "@jupyter-widgets/base",
      "model_module_version": "1.2.0",
      "model_name": "LayoutModel",
      "state": {
       "_model_module": "@jupyter-widgets/base",
       "_model_module_version": "1.2.0",
       "_model_name": "LayoutModel",
       "_view_count": null,
       "_view_module": "@jupyter-widgets/base",
       "_view_module_version": "1.2.0",
       "_view_name": "LayoutView",
       "align_content": null,
       "align_items": null,
       "align_self": null,
       "border": null,
       "bottom": null,
       "display": null,
       "flex": null,
       "flex_flow": null,
       "grid_area": null,
       "grid_auto_columns": null,
       "grid_auto_flow": null,
       "grid_auto_rows": null,
       "grid_column": null,
       "grid_gap": null,
       "grid_row": null,
       "grid_template_areas": null,
       "grid_template_columns": null,
       "grid_template_rows": null,
       "height": null,
       "justify_content": null,
       "justify_items": null,
       "left": null,
       "margin": null,
       "max_height": null,
       "max_width": null,
       "min_height": null,
       "min_width": null,
       "object_fit": null,
       "object_position": null,
       "order": null,
       "overflow": null,
       "overflow_x": null,
       "overflow_y": null,
       "padding": null,
       "right": null,
       "top": null,
       "visibility": null,
       "width": null
      }
     },
     "fdc810095c644bca9b4ea0ccc8fe5d0e": {
      "model_module": "@jupyter-widgets/controls",
      "model_module_version": "1.5.0",
      "model_name": "VBoxModel",
      "state": {
       "_dom_classes": [],
       "_model_module": "@jupyter-widgets/controls",
       "_model_module_version": "1.5.0",
       "_model_name": "VBoxModel",
       "_view_count": null,
       "_view_module": "@jupyter-widgets/controls",
       "_view_module_version": "1.5.0",
       "_view_name": "VBoxView",
       "box_style": "",
       "children": [
        "IPY_MODEL_b547c3528b0e4b74907aeb21d113e8a7",
        "IPY_MODEL_1361f84ac8a14a148ba7f01420c54668"
       ],
       "layout": "IPY_MODEL_27415a4412fa4676b7923889e8e3736b"
      }
     },
     "ff4ff1cc54a84506a12590c9c69f9331": {
      "model_module": "@jupyter-widgets/controls",
      "model_module_version": "1.5.0",
      "model_name": "HTMLModel",
      "state": {
       "_dom_classes": [],
       "_model_module": "@jupyter-widgets/controls",
       "_model_module_version": "1.5.0",
       "_model_name": "HTMLModel",
       "_view_count": null,
       "_view_module": "@jupyter-widgets/controls",
       "_view_module_version": "1.5.0",
       "_view_name": "HTMLView",
       "description": "",
       "description_tooltip": null,
       "layout": "IPY_MODEL_ef52c13fa254493f8554a43c95c6c271",
       "placeholder": "​",
       "style": "IPY_MODEL_aca1a79ff42d446f96a60e4ee5fcfdb4",
       "value": " 11/11 [00:06&lt;00:00,  1.06ba/s]"
      }
     }
    },
    "version_major": 2,
    "version_minor": 0
   }
  }
 },
 "nbformat": 4,
 "nbformat_minor": 5
}