{
 "cells": [
  {
   "cell_type": "code",
   "execution_count": 1,
   "metadata": {},
   "outputs": [],
   "source": [
    "import math\n",
    "\n",
    "import pandas as pd\n",
    "import numpy as np\n",
    "import matplotlib.pyplot as plt\n",
    "\n",
    "import lass.datasets\n",
    "import lass.pipeline\n",
    "from lass.log_handling import LogLoader\n",
    "\n",
    "from sklearn.metrics import log_loss\n",
    "from sklearn.metrics import brier_score_loss\n",
    "from scipy.special import kl_div"
   ]
  },
  {
   "cell_type": "code",
   "execution_count": 2,
   "metadata": {},
   "outputs": [],
   "source": [
    "loader = LogLoader(\n",
    "    logdir='../artifacts/logs',\n",
    "    tasks='paper-full',\n",
    "    model_families=['BIG-G T=0'],\n",
    "    # model_sizes=['128b'],\n",
    "    query_types=['scoring'],\n",
    "    # shots=[0],\n",
    "    include_unknown_shots=True,\n",
    "    exclude_faulty_tasks=True,\n",
    ")\n",
    "\n",
    "bigdf = lass.datasets.to_dataframe(loader)\n",
    "# bigdf = lass.pipeline.augment(bigdf)\n",
    "# bigdf = lass.pipeline.binarize(bigdf)\n",
    "# bigdf = lass.pipeline.clean(bigdf)"
   ]
  },
  {
   "cell_type": "code",
   "execution_count": null,
   "metadata": {},
   "outputs": [],
   "source": [
    "pe_loader = LogLoader(\n",
    "    logdir='../artifacts/logs',\n",
    "    tasks=['periodic_elements'],\n",
    "    model_families=['BIG-G T=0'],\n",
    "    # model_sizes=['128b'],\n",
    "    query_types=['multiple_choice'],\n",
    "    # shots=[0],\n",
    "    include_unknown_shots=True,\n",
    "    exclude_faulty_tasks=False,\n",
    ")"
   ]
  }
 ],
 "metadata": {
  "kernelspec": {
   "display_name": "Python 3.10.4 (conda)",
   "language": "python",
   "name": "python3"
  },
  "language_info": {
   "codemirror_mode": {
    "name": "ipython",
    "version": 3
   },
   "file_extension": ".py",
   "mimetype": "text/x-python",
   "name": "python",
   "nbconvert_exporter": "python",
   "pygments_lexer": "ipython3",
   "version": "3.10.4"
  },
  "orig_nbformat": 4,
  "vscode": {
   "interpreter": {
    "hash": "eed4bfcf3d3cfcdb00482c10052e8eba5705b015008b357326d56e176b5397df"
   }
  }
 },
 "nbformat": 4,
 "nbformat_minor": 2
}
