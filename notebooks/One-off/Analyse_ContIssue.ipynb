{
 "cells": [
  {
   "cell_type": "code",
   "execution_count": 1,
   "metadata": {},
   "outputs": [],
   "source": [
    "# !!!IMPORTANT!!! Don't run this anymore, we need the old results, without the changed .loading implementation.\n",
    "\n",
    "import os\n",
    "os.environ['PROTOCOL_BUFFERS_PYTHON_IMPLEMENTATION' ] = 'python'"
   ]
  },
  {
   "cell_type": "code",
   "execution_count": 2,
   "metadata": {},
   "outputs": [],
   "source": [
    "from lass.log_handling import LogLoaderArgs, LogLoader\n",
    "from lass.data.loading import get_query_type\n",
    "import lass.data\n",
    "\n",
    "\n",
    "args = LogLoaderArgs(\n",
    "    logdir=\"../artifacts/logs\",\n",
    "    tasks=\"paper-full\",\n",
    "    model_families=[\"BIG-G T=0\"],\n",
    "    model_sizes=[\"128b\"],\n",
    "    # model_sizes=[\"2m\"],\n",
    "    shots=[3],\n",
    "    query_types=[\"multiple_choice\", \"scoring\", \"generative\"],\n",
    ")\n",
    "loader = LogLoader(args)"
   ]
  },
  {
   "cell_type": "code",
   "execution_count": 3,
   "metadata": {},
   "outputs": [],
   "source": [
    "data = lass.data.loading.load(args)\n",
    "data = lass.data.wrangling.wrangle(\n",
    "    data,\n",
    "    include_model_in_input=False,\n",
    "    include_n_targets_in_input=False,\n",
    "    filter_bad_tasks=False,\n",
    ")"
   ]
  },
  {
   "cell_type": "code",
   "execution_count": 4,
   "metadata": {},
   "outputs": [],
   "source": [
    "data_filtered = lass.data.wrangling.wrangle(\n",
    "    data,\n",
    "    include_model_in_input=False,\n",
    "    include_n_targets_in_input=False,\n",
    "    filter_bad_tasks=True,\n",
    ")"
   ]
  },
  {
   "cell_type": "code",
   "execution_count": 5,
   "metadata": {},
   "outputs": [
    {
     "name": "stdout",
     "output_type": "stream",
     "text": [
      "161\n"
     ]
    }
   ],
   "source": [
    "print(data.task.nunique())"
   ]
  },
  {
   "cell_type": "code",
   "execution_count": 6,
   "metadata": {},
   "outputs": [
    {
     "data": {
      "text/plain": [
       "query_type\n",
       "multiple_choice       118\n",
       "scoring_generative     53\n",
       "Name: task, dtype: int64"
      ]
     },
     "execution_count": 6,
     "metadata": {},
     "output_type": "execute_result"
    }
   ],
   "source": [
    "data.groupby(\"query_type\").task.nunique()"
   ]
  },
  {
   "cell_type": "code",
   "execution_count": 7,
   "metadata": {},
   "outputs": [
    {
     "data": {
      "text/plain": [
       "task\n",
       "checkmate_in_one            2\n",
       "color                       2\n",
       "emoji_movie                 2\n",
       "geometric_shapes            2\n",
       "kanji_ascii                 2\n",
       "minute_mysteries_qa         2\n",
       "penguins_in_a_table         2\n",
       "similarities_abstraction    2\n",
       "strategyqa                  2\n",
       "unit_conversion             2\n",
       "Name: query_type, dtype: int64"
      ]
     },
     "execution_count": 7,
     "metadata": {},
     "output_type": "execute_result"
    }
   ],
   "source": [
    "# This should be empty, but it is not! 10 tasks with duplicate queries (and thus instances)\n",
    "import pandas as pd\n",
    "pd.set_option('display.max_rows', None)\n",
    "n_queries = data.groupby([\"task\"]).query_type.nunique()\n",
    "n_queries = n_queries[n_queries > 1]\n",
    "n_queries"
   ]
  },
  {
   "cell_type": "code",
   "execution_count": 8,
   "metadata": {},
   "outputs": [
    {
     "data": {
      "text/plain": [
       "{'emoji_movie', 'penguins_in_a_table', 'unit_conversion'}"
      ]
     },
     "execution_count": 8,
     "metadata": {},
     "output_type": "execute_result"
    }
   ],
   "source": [
    "# Check which tasks are in the filtered data\n",
    "problem_tasks = set(n_queries.reset_index().task.unique()).intersection(data_filtered.task.unique())\n",
    "problem_tasks"
   ]
  },
  {
   "cell_type": "code",
   "execution_count": 9,
   "metadata": {},
   "outputs": [
    {
     "name": "stdout",
     "output_type": "stream",
     "text": [
      "761.0 potentially duplicate instances\n"
     ]
    }
   ],
   "source": [
    "# How many instances of these are actually duplicate?\n",
    "print(f\"{data_filtered.task.isin(n_queries.index).sum() / 2} potentially duplicate instances\")"
   ]
  },
  {
   "cell_type": "code",
   "execution_count": 10,
   "metadata": {},
   "outputs": [
    {
     "data": {
      "text/plain": [
       "task\n",
       "emoji_movie            100.0\n",
       "penguins_in_a_table    149.0\n",
       "unit_conversion        512.0\n",
       "dtype: float64"
      ]
     },
     "execution_count": 10,
     "metadata": {},
     "output_type": "execute_result"
    }
   ],
   "source": [
    "# Which of the problem tasks have over 500 instances? That they would be displayed individually in the paper.\n",
    "data_filtered.query(\"task in @problem_tasks\").groupby(\"task\").size() / 2"
   ]
  }
 ],
 "metadata": {
  "kernelspec": {
   "display_name": "Python 3",
   "language": "python",
   "name": "python3"
  },
  "language_info": {
   "codemirror_mode": {
    "name": "ipython",
    "version": 3
   },
   "file_extension": ".py",
   "mimetype": "text/x-python",
   "name": "python",
   "nbconvert_exporter": "python",
   "pygments_lexer": "ipython3",
   "version": "3.10.13"
  }
 },
 "nbformat": 4,
 "nbformat_minor": 2
}
