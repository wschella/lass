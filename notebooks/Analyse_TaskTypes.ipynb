{
 "cells": [
  {
   "cell_type": "code",
   "execution_count": 1,
   "metadata": {},
   "outputs": [],
   "source": [
    "import os\n",
    "os.environ['PROTOCOL_BUFFERS_PYTHON_IMPLEMENTATION' ] = 'python'"
   ]
  },
  {
   "cell_type": "code",
   "execution_count": 2,
   "metadata": {},
   "outputs": [],
   "source": [
    "from lass.log_handling import LogLoaderArgs, LogLoader\n",
    "from lass.data.loading import get_query_type\n",
    "\n",
    "\n",
    "args = LogLoaderArgs(\n",
    "    logdir=\"../artifacts/logs\",\n",
    "    tasks=\"paper-full\",\n",
    "    model_families=[\"BIG-G T=0\"],\n",
    "    model_sizes=[\"128b\"],\n",
    "    # model_sizes=[\"2m\"],\n",
    "    shots=[3],\n",
    "    # query_types=[\"multiple_choice\"],\n",
    ")\n",
    "loader = LogLoader(args)"
   ]
  },
  {
   "cell_type": "code",
   "execution_count": 3,
   "metadata": {},
   "outputs": [],
   "source": [
    "tasks = list(loader.load_per_task())"
   ]
  },
  {
   "cell_type": "markdown",
   "metadata": {},
   "source": [
    "### Count the number of tasks with queries of specific question types\n",
    "The options are multiple choice, generative, and scoring."
   ]
  },
  {
   "cell_type": "code",
   "execution_count": 4,
   "metadata": {},
   "outputs": [
    {
     "data": {
      "text/plain": [
       "{'multiple_choice': 118, 'generative': 54, 'mixed': 54, 'scoring': 68}"
      ]
     },
     "execution_count": 4,
     "metadata": {},
     "output_type": "execute_result"
    }
   ],
   "source": [
    "from collections import defaultdict\n",
    "\n",
    "task_types = defaultdict(list)\n",
    "for task in tasks:\n",
    "    run = task[list(task.keys())[0]]\n",
    "    types = [get_query_type(query) for query in (run.queries or [])]\n",
    "    for type_ in set(types):\n",
    "        task_types[type_].append(run.task.task_name)\n",
    "\n",
    "    if len(set(types)) > 1:\n",
    "        task_types[\"mixed\"].append(run.task.task_name)\n",
    "\n",
    "{key: len(value) for key, value in task_types.items()}\n",
    "\n",
    "# For 3-shot it's {'multiple_choice': 118, 'generative': 54, 'mixed': 54, 'scoring': 53}\n",
    "# For 0-shot it's {'multiple_choice': 118, 'generative': 54, 'mixed': 54, 'scoring': 68}"
   ]
  },
  {
   "cell_type": "markdown",
   "metadata": {},
   "source": [
    "### Example Tasks"
   ]
  },
  {
   "cell_type": "code",
   "execution_count": 5,
   "metadata": {},
   "outputs": [
    {
     "data": {
      "text/plain": [
       "['abstract_narrative_understanding',\n",
       " 'anachronisms',\n",
       " 'analogical_similarity',\n",
       " 'analytic_entailment',\n",
       " 'arithmetic',\n",
       " 'authorship_verification',\n",
       " 'bbq_lite_json',\n",
       " 'causal_judgment',\n",
       " 'cause_and_effect',\n",
       " 'checkmate_in_one']"
      ]
     },
     "execution_count": 5,
     "metadata": {},
     "output_type": "execute_result"
    }
   ],
   "source": [
    "task_types[\"multiple_choice\"][:10]"
   ]
  },
  {
   "cell_type": "code",
   "execution_count": 6,
   "metadata": {},
   "outputs": [
    {
     "data": {
      "text/plain": [
       "['arithmetic',\n",
       " 'ascii_word_recognition',\n",
       " 'auto_categorization',\n",
       " 'auto_debugging',\n",
       " 'bridging_anaphora_resolution_barqa',\n",
       " 'checkmate_in_one',\n",
       " 'chess_state_tracking',\n",
       " 'chinese_remainder_theorem',\n",
       " 'codenames',\n",
       " 'color']"
      ]
     },
     "execution_count": 6,
     "metadata": {},
     "output_type": "execute_result"
    }
   ],
   "source": [
    "task_types[\"generative\"][:10]"
   ]
  },
  {
   "cell_type": "code",
   "execution_count": 7,
   "metadata": {},
   "outputs": [
    {
     "data": {
      "text/plain": [
       "['ascii_word_recognition',\n",
       " 'auto_categorization',\n",
       " 'auto_debugging',\n",
       " 'bbq_lite',\n",
       " 'bias_from_probabilities',\n",
       " 'boolean_expressions',\n",
       " 'bridging_anaphora_resolution_barqa',\n",
       " 'checkmate_in_one',\n",
       " 'chess_state_tracking',\n",
       " 'chinese_remainder_theorem']"
      ]
     },
     "execution_count": 7,
     "metadata": {},
     "output_type": "execute_result"
    }
   ],
   "source": [
    "task_types[\"scoring\"][:10]"
   ]
  },
  {
   "cell_type": "code",
   "execution_count": 8,
   "metadata": {},
   "outputs": [
    {
     "data": {
      "text/plain": [
       "['arithmetic',\n",
       " 'ascii_word_recognition',\n",
       " 'auto_categorization',\n",
       " 'auto_debugging',\n",
       " 'bridging_anaphora_resolution_barqa',\n",
       " 'checkmate_in_one',\n",
       " 'chess_state_tracking',\n",
       " 'chinese_remainder_theorem',\n",
       " 'codenames',\n",
       " 'color']"
      ]
     },
     "execution_count": 8,
     "metadata": {},
     "output_type": "execute_result"
    }
   ],
   "source": [
    "task_types[\"mixed\"][:10]"
   ]
  },
  {
   "cell_type": "markdown",
   "metadata": {},
   "source": [
    "### Validate disjoint sets"
   ]
  },
  {
   "cell_type": "code",
   "execution_count": 9,
   "metadata": {},
   "outputs": [],
   "source": [
    "generative_non_mpc = set(task_types[\"generative\"]) - set(task_types[\"multiple_choice\"])\n",
    "generative_non_scoring = set(task_types[\"generative\"]) - set(task_types[\"scoring\"])\n",
    "generative_only = set(task_types[\"generative\"]) - set(task_types[\"mixed\"])\n",
    "scoring_non_generative = set(task_types[\"scoring\"]) - set(task_types[\"generative\"])\n",
    "scoring_non_mpc = set(task_types[\"scoring\"]) - set(task_types[\"multiple_choice\"])\n",
    "scoring_only = set(task_types[\"scoring\"]) - set(task_types[\"mixed\"])\n",
    "mpc_only = set(task_types[\"multiple_choice\"]) - set(task_types[\"mixed\"])\n",
    "all_tasks = set(task_types[\"multiple_choice\"]) | set(task_types[\"generative\"]) | set(task_types[\"scoring\"])"
   ]
  },
  {
   "cell_type": "markdown",
   "metadata": {},
   "source": [
    "All generative tasks are mixed tasks."
   ]
  },
  {
   "cell_type": "code",
   "execution_count": 10,
   "metadata": {},
   "outputs": [
    {
     "data": {
      "text/plain": [
       "0"
      ]
     },
     "execution_count": 10,
     "metadata": {},
     "output_type": "execute_result"
    }
   ],
   "source": [
    "len(generative_only)"
   ]
  },
  {
   "cell_type": "markdown",
   "metadata": {},
   "source": [
    "... and there is only one task that is generative, but not a scoring task."
   ]
  },
  {
   "cell_type": "code",
   "execution_count": 11,
   "metadata": {},
   "outputs": [
    {
     "name": "stdout",
     "output_type": "stream",
     "text": [
      "1 {'arithmetic'}\n"
     ]
    }
   ],
   "source": [
    "print(len(generative_non_scoring), generative_non_scoring)"
   ]
  },
  {
   "cell_type": "markdown",
   "metadata": {},
   "source": [
    "While there are multiple 'scoring' tasks that are not generative."
   ]
  },
  {
   "cell_type": "code",
   "execution_count": 12,
   "metadata": {},
   "outputs": [
    {
     "name": "stdout",
     "output_type": "stream",
     "text": [
      "15 ['bbq_lite', 'bias_from_probabilities', 'boolean_expressions', 'com2sense', 'diverse_social_bias', 'dynamic_counting', 'factuality_of_summary', 'forecasting_subquestions', 'gender_sensitivity_chinese', 'gender_sensitivity_english', 'protein_interacting_sites', 'subject_verb_agreement', 'talkdown', 'unqover', 'web_of_lies']\n",
      "15 ['bbq_lite', 'bias_from_probabilities', 'boolean_expressions', 'com2sense', 'diverse_social_bias', 'dynamic_counting', 'factuality_of_summary', 'forecasting_subquestions', 'gender_sensitivity_chinese', 'gender_sensitivity_english', 'protein_interacting_sites', 'subject_verb_agreement', 'talkdown', 'unqover', 'web_of_lies']\n",
      "58 ['ascii_word_recognition', 'auto_categorization', 'auto_debugging', 'bbq_lite', 'bias_from_probabilities', 'boolean_expressions', 'bridging_anaphora_resolution_barqa', 'chess_state_tracking', 'chinese_remainder_theorem', 'codenames', 'com2sense', 'conlang_translation', 'cryptonite', 'disfl_qa', 'diverse_social_bias', 'dynamic_counting', 'factuality_of_summary', 'few_shot_nlg', 'forecasting_subquestions', 'gem', 'gender_inclusive_sentences_german', 'gender_sensitivity_chinese', 'gender_sensitivity_english', 'hindi_question_answering', 'international_phonetic_alphabet_transliterate', 'language_games', 'linguistic_mappings', 'linguistics_puzzles', 'list_functions', 'matrixshapes', 'modified_arithmetic', 'mult_data_wrangling', 'natural_instructions', 'object_counting', 'operators', 'paragraph_segmentation', 'parsinlu_reading_comprehension', 'physics_questions', 'polish_sequence_labeling', 'protein_interacting_sites', 'qa_wikidata', 'repeat_copy_logic', 'rephrase', 'scientific_press_release', 'semantic_parsing_in_context_sparc', 'semantic_parsing_spider', 'simp_turing_concept', 'simple_text_editing', 'subject_verb_agreement', 'sufficient_information', 'talkdown', 'tense', 'topical_chat', 'unnatural_in_context_learning', 'unqover', 'web_of_lies', 'word_sorting', 'word_unscrambling']\n"
     ]
    }
   ],
   "source": [
    "print(len(scoring_non_generative), sorted(list(scoring_non_generative)))\n",
    "print(len(scoring_only), sorted(list(scoring_only)))\n",
    "print(len(scoring_non_mpc), sorted(list(scoring_non_mpc)))"
   ]
  },
  {
   "cell_type": "code",
   "execution_count": 13,
   "metadata": {},
   "outputs": [
    {
     "data": {
      "text/plain": [
       "{'abstract_narrative_understanding',\n",
       " 'anachronisms',\n",
       " 'analogical_similarity',\n",
       " 'analytic_entailment',\n",
       " 'ascii_word_recognition',\n",
       " 'authorship_verification',\n",
       " 'auto_categorization',\n",
       " 'auto_debugging',\n",
       " 'bbq_lite_json',\n",
       " 'bridging_anaphora_resolution_barqa',\n",
       " 'causal_judgment',\n",
       " 'cause_and_effect',\n",
       " 'chess_state_tracking',\n",
       " 'chinese_remainder_theorem',\n",
       " 'cifar10_classification',\n",
       " 'code_line_description',\n",
       " 'codenames',\n",
       " 'common_morpheme',\n",
       " 'conceptual_combinations',\n",
       " 'conlang_translation',\n",
       " 'crash_blossom',\n",
       " 'crass_ai',\n",
       " 'cryobiology_spanish',\n",
       " 'cryptonite',\n",
       " 'cs_algorithms',\n",
       " 'dark_humor_detection',\n",
       " 'date_understanding',\n",
       " 'disambiguation_qa',\n",
       " 'discourse_marker_prediction',\n",
       " 'disfl_qa',\n",
       " 'dyck_languages',\n",
       " 'elementary_math_qa',\n",
       " 'emojis_emotion_prediction',\n",
       " 'empirical_judgments',\n",
       " 'english_proverbs',\n",
       " 'english_russian_proverbs',\n",
       " 'entailed_polarity',\n",
       " 'entailed_polarity_hindi',\n",
       " 'epistemic_reasoning',\n",
       " 'evaluating_information_essentiality',\n",
       " 'fact_checker',\n",
       " 'fantasy_reasoning',\n",
       " 'few_shot_nlg',\n",
       " 'figure_of_speech_detection',\n",
       " 'formal_fallacies_syllogisms_negation',\n",
       " 'gem',\n",
       " 'gender_inclusive_sentences_german',\n",
       " 'general_knowledge',\n",
       " 'goal_step_wikihow',\n",
       " 'gre_reading_comprehension',\n",
       " 'hhh_alignment',\n",
       " 'hindi_question_answering',\n",
       " 'hindu_knowledge',\n",
       " 'hinglish_toxicity',\n",
       " 'human_organs_senses',\n",
       " 'hyperbaton',\n",
       " 'identify_math_theorems',\n",
       " 'identify_odd_metaphor',\n",
       " 'implicatures',\n",
       " 'implicit_relations',\n",
       " 'intent_recognition',\n",
       " 'international_phonetic_alphabet_nli',\n",
       " 'international_phonetic_alphabet_transliterate',\n",
       " 'intersect_geometry',\n",
       " 'irony_identification',\n",
       " 'kannada',\n",
       " 'key_value_maps',\n",
       " 'known_unknowns',\n",
       " 'language_games',\n",
       " 'language_identification',\n",
       " 'linguistic_mappings',\n",
       " 'linguistics_puzzles',\n",
       " 'list_functions',\n",
       " 'logic_grid_puzzle',\n",
       " 'logical_args',\n",
       " 'logical_deduction',\n",
       " 'logical_fallacy_detection',\n",
       " 'logical_sequence',\n",
       " 'mathematical_induction',\n",
       " 'matrixshapes',\n",
       " 'metaphor_boolean',\n",
       " 'metaphor_understanding',\n",
       " 'misconceptions',\n",
       " 'misconceptions_russian',\n",
       " 'mnist_ascii',\n",
       " 'modified_arithmetic',\n",
       " 'moral_permissibility',\n",
       " 'movie_dialog_same_or_different',\n",
       " 'movie_recommendation',\n",
       " 'mult_data_wrangling',\n",
       " 'multiemo',\n",
       " 'natural_instructions',\n",
       " 'navigate',\n",
       " 'nonsense_words_grammar',\n",
       " 'novel_concepts',\n",
       " 'object_counting',\n",
       " 'odd_one_out',\n",
       " 'operators',\n",
       " 'paragraph_segmentation',\n",
       " 'parsinlu_qa',\n",
       " 'parsinlu_reading_comprehension',\n",
       " 'persian_idioms',\n",
       " 'phrase_relatedness',\n",
       " 'physical_intuition',\n",
       " 'physics',\n",
       " 'physics_questions',\n",
       " 'play_dialog_same_or_different',\n",
       " 'polish_sequence_labeling',\n",
       " 'presuppositions_as_nli',\n",
       " 'qa_wikidata',\n",
       " 'question_selection',\n",
       " 'real_or_fake_text',\n",
       " 'reasoning_about_colored_objects',\n",
       " 'repeat_copy_logic',\n",
       " 'rephrase',\n",
       " 'riddle_sense',\n",
       " 'ruin_names',\n",
       " 'salient_translation_error_detection',\n",
       " 'scientific_press_release',\n",
       " 'semantic_parsing_in_context_sparc',\n",
       " 'semantic_parsing_spider',\n",
       " 'sentence_ambiguity',\n",
       " 'simp_turing_concept',\n",
       " 'simple_ethical_questions',\n",
       " 'simple_text_editing',\n",
       " 'snarks',\n",
       " 'social_iqa',\n",
       " 'social_support',\n",
       " 'sports_understanding',\n",
       " 'strange_stories',\n",
       " 'sufficient_information',\n",
       " 'suicide_risk',\n",
       " 'swahili_english_proverbs',\n",
       " 'swedish_to_german_proverbs',\n",
       " 'symbol_interpretation',\n",
       " 'temporal_sequences',\n",
       " 'tense',\n",
       " 'timedial',\n",
       " 'topical_chat',\n",
       " 'tracking_shuffled_objects',\n",
       " 'understanding_fables',\n",
       " 'undo_permutation',\n",
       " 'unit_interpretation',\n",
       " 'unnatural_in_context_learning',\n",
       " 'vitaminc_fact_verification',\n",
       " 'what_is_the_tao',\n",
       " 'which_wiki_edit',\n",
       " 'winowhy',\n",
       " 'word_sorting',\n",
       " 'word_unscrambling'}"
      ]
     },
     "execution_count": 13,
     "metadata": {},
     "output_type": "execute_result"
    }
   ],
   "source": [
    "generative_non_mpc.intersection(scoring_non_mpc) | mpc_only"
   ]
  },
  {
   "cell_type": "code",
   "execution_count": 14,
   "metadata": {},
   "outputs": [
    {
     "name": "stdout",
     "output_type": "stream",
     "text": [
      "43 ['ascii_word_recognition', 'auto_categorization', 'auto_debugging', 'bridging_anaphora_resolution_barqa', 'chess_state_tracking', 'chinese_remainder_theorem', 'codenames', 'conlang_translation', 'cryptonite', 'disfl_qa', 'few_shot_nlg', 'gem', 'gender_inclusive_sentences_german', 'hindi_question_answering', 'international_phonetic_alphabet_transliterate', 'language_games', 'linguistic_mappings', 'linguistics_puzzles', 'list_functions', 'matrixshapes', 'modified_arithmetic', 'mult_data_wrangling', 'natural_instructions', 'object_counting', 'operators', 'paragraph_segmentation', 'parsinlu_reading_comprehension', 'physics_questions', 'polish_sequence_labeling', 'qa_wikidata', 'repeat_copy_logic', 'rephrase', 'scientific_press_release', 'semantic_parsing_in_context_sparc', 'semantic_parsing_spider', 'simp_turing_concept', 'simple_text_editing', 'sufficient_information', 'tense', 'topical_chat', 'unnatural_in_context_learning', 'word_sorting', 'word_unscrambling']\n"
     ]
    }
   ],
   "source": [
    "print(len(generative_non_mpc), sorted(list(generative_non_mpc)))"
   ]
  },
  {
   "cell_type": "code",
   "execution_count": 15,
   "metadata": {},
   "outputs": [],
   "source": [
    "# ascii_word_recognition: single word output, big discrete set\n",
    "# auto_categorization: single word output, big discrete set\n",
    "# auto_debugging: single word output, big discrete set\n",
    "# bridging_anaphora: multiple word output, small set (from context)\n",
    "# chess_state_tracking: multiple word output, small discrete set (64 options) (but arbitrary length)\n",
    "# chinese_remainder_theorem: single word output, big discrete set\n",
    "# codenames: single word output, big discrete set\n",
    "# All QA or math?"
   ]
  },
  {
   "cell_type": "markdown",
   "metadata": {},
   "source": [
    "# Metrics Used"
   ]
  },
  {
   "cell_type": "code",
   "execution_count": 16,
   "metadata": {},
   "outputs": [
    {
     "name": "stdout",
     "output_type": "stream",
     "text": [
      "{'exact_str_match': 28, 'normalized_aggregate_score': 11, 'bleu': 9, 'rougeLsum': 5, 'bleurt': 1, 'sequence_f1': 1, 'log_likelihood': 1}\n",
      "{'exact_str_match': 28, 'normalized_aggregate_score': 17, 'bleu': 9, 'rougeLsum': 5, 'multiple_choice_grade': 4, 'gender_bias_score': 2, 'gender_stereotype_score': 2, 'mean_accuracy': 2, 'accuracy': 1, 'difference_score': 1, 'pair-wise-accuracy': 1, 'overall gender bias': 1, 'avg_acc': 1, 'bleurt': 1, 'average_log_probability': 1, 'gender_minority_bias_score': 1, 'gender_minority_stereotype_score': 1, 'sequence_f1': 1, 'log_likelihood': 1, 'full': 1, 'macro_f1': 1}\n",
      "{'multiple_choice_grade': 106, 'macro_f1': 1}\n",
      "{'exact_str_match': 28, 'normalized_aggregate_score': 11, 'bleu': 9, 'rougeLsum': 5, 'bleurt': 1, 'sequence_f1': 1, 'log_likelihood': 1}\n"
     ]
    }
   ],
   "source": [
    "def get_preferred_metrics(task_list):\n",
    "    counts = {}\n",
    "    for task in tasks:\n",
    "        run = task[list(task.keys())[0]] # Wtf is this?\n",
    "        if run.task.task_name not in task_list:\n",
    "            continue\n",
    "        pref_metrics = [score.preferred_score for score in run.scores]\n",
    "        pref_metrics_unique = set(pref_metrics)\n",
    "        for metric in pref_metrics_unique:\n",
    "            counts[metric] = counts.get(metric, 0) + 1\n",
    "    return dict(sorted(counts.items(), key=lambda item: item[1], reverse=True)) # Sort by count\n",
    "print(get_preferred_metrics(generative_non_mpc))\n",
    "print(get_preferred_metrics(scoring_non_mpc))\n",
    "print(get_preferred_metrics(mpc_only))\n",
    "print(get_preferred_metrics(generative_non_mpc.intersection(scoring_non_mpc)))"
   ]
  },
  {
   "cell_type": "markdown",
   "metadata": {},
   "source": [
    "# Performance Analysis"
   ]
  },
  {
   "cell_type": "code",
   "execution_count": 17,
   "metadata": {},
   "outputs": [],
   "source": [
    "import matplotlib.pyplot as plt\n",
    "\n",
    "def plot_cumulative_performance(task_list, metrics: list, tresholds: list = []):\n",
    "    scores = {}\n",
    "    for task in tasks:\n",
    "        run = task[list(task.keys())[0]]\n",
    "\n",
    "        # Filter out irrelevant tasks\n",
    "        if run.task.task_name not in task_list:\n",
    "            continue\n",
    "\n",
    "        # Filter out tasks that don't have the metrics we're interested in\n",
    "        pref_metrics = [score.preferred_score for score in run.scores]\n",
    "        if len(list(filter(lambda m: m in metrics, pref_metrics))) == 0:\n",
    "            continue\n",
    "        \n",
    "        score_data = [sd for sd in run.scores if sd.subtask_description == run.task.task_name] # filter out subtasks to remove duplication and weird aggregate math\n",
    "        avg_score = sum([score.score_dict[score.preferred_score] for score in score_data]) / len(score_data)\n",
    "        scores[run.task.task_name] = avg_score\n",
    "\n",
    "    # Reverse cumulative plot of performance, with x-axis being the score, and y-axis the number of tasks that have that score or better\n",
    "    plt.hist(list(scores.values()), bins=list(range(0, 100, 1)), cumulative=-1, density=True)\n",
    "    plt.xlim(0, 100)\n",
    "\n",
    "    plt.xlabel(\"Score\")\n",
    "    plt.ylabel(\"# Tasks\")\n",
    "\n",
    "    # Format y-labels to display the number of tasks\n",
    "    plt.gca().yaxis.set_major_formatter(plt.FuncFormatter(lambda x, _: f\"({int(len(scores) * x)}) {x:0.2f}\")) # type: ignore\n",
    "\n",
    "    # Count the number of tasks that have a score above the tresholds\n",
    "    for treshold in tresholds:\n",
    "        count = len(list(filter(lambda x: x > treshold, scores.values())))\n",
    "        plt.axvline(treshold, color='r', linestyle='--', label=f\"{count} tasks above {treshold}\")\n",
    "        plt.legend()\n",
    "\n",
    "    return scores"
   ]
  },
  {
   "cell_type": "code",
   "execution_count": 18,
   "metadata": {},
   "outputs": [
    {
     "data": {
      "text/plain": [
       "{'ascii_word_recognition': 0.1953125,\n",
       " 'auto_debugging': 0.0,\n",
       " 'bridging_anaphora_resolution_barqa': 1.8518518518518516,\n",
       " 'chess_state_tracking': 47.35294117647059,\n",
       " 'chinese_remainder_theorem': 0.0,\n",
       " 'cryptonite': 0.1953125,\n",
       " 'disfl_qa': 1.85546875,\n",
       " 'gender_inclusive_sentences_german': 0.0,\n",
       " 'language_games': 2.4929361696556676,\n",
       " 'linguistic_mappings': 26.770833333333332,\n",
       " 'linguistics_puzzles': 0.0,\n",
       " 'list_functions': 3.9591315453384417,\n",
       " 'matrixshapes': 0.0,\n",
       " 'modified_arithmetic': 18.333333333333336,\n",
       " 'mult_data_wrangling': 4.67479674796748,\n",
       " 'object_counting': 0.0,\n",
       " 'operators': 27.142857142857142,\n",
       " 'paragraph_segmentation': 0.0,\n",
       " 'parsinlu_reading_comprehension': 0.3861003861003861,\n",
       " 'physics_questions': 2.0,\n",
       " 'repeat_copy_logic': 0.0,\n",
       " 'simp_turing_concept': 40.66471163245357,\n",
       " 'simple_text_editing': 0.0,\n",
       " 'sufficient_information': 0.0,\n",
       " 'tense': 1.3986013986013985,\n",
       " 'unnatural_in_context_learning': 4.39453125,\n",
       " 'word_sorting': 18.26171875,\n",
       " 'word_unscrambling': 2.5390625}"
      ]
     },
     "execution_count": 18,
     "metadata": {},
     "output_type": "execute_result"
    },
    {
     "data": {
      "image/png": "[encoded data removed]",
      "text/plain": [
       "<Figure size 432x288 with 1 Axes>"
      ]
     },
     "metadata": {
      "needs_background": "light"
     },
     "output_type": "display_data"
    }
   ],
   "source": [
    "plot_cumulative_performance(scoring_non_mpc, [\"exact_str_match\"], tresholds=[10, 20, 30])\n",
    "# For 3-shot, number of tasks above thresholds doubles vs 0-shot"
   ]
  },
  {
   "cell_type": "code",
   "execution_count": 19,
   "metadata": {},
   "outputs": [
    {
     "data": {
      "text/plain": [
       "{'auto_categorization': 1.3656397149000898,\n",
       " 'codenames': 1.3122319986689366,\n",
       " 'hindi_question_answering': 0.12301366558661819,\n",
       " 'international_phonetic_alphabet_transliterate': 23.306149717605425,\n",
       " 'language_games': 2.4929361696556676,\n",
       " 'scientific_press_release': 0.9775131150884434,\n",
       " 'semantic_parsing_in_context_sparc': 1.5050985778245853,\n",
       " 'semantic_parsing_spider': 0.7276490529888654,\n",
       " 'topical_chat': 1.624585043382689}"
      ]
     },
     "execution_count": 19,
     "metadata": {},
     "output_type": "execute_result"
    },
    {
     "data": {
      "image/png": "[encoded data removed]",
      "text/plain": [
       "<Figure size 432x288 with 1 Axes>"
      ]
     },
     "metadata": {
      "needs_background": "light"
     },
     "output_type": "display_data"
    }
   ],
   "source": [
    "plot_cumulative_performance(scoring_non_mpc, [\"bleu\"])"
   ]
  },
  {
   "cell_type": "code",
   "execution_count": 20,
   "metadata": {},
   "outputs": [
    {
     "data": {
      "text/plain": [
       "{'bbq_lite': 18.33237579038372,\n",
       " 'chess_state_tracking': 47.35294117647059,\n",
       " 'conlang_translation': 39.8573547876847,\n",
       " 'diverse_social_bias': 79.1280439164212,\n",
       " 'factuality_of_summary': 50.54954954954955,\n",
       " 'gem': 26.17426614955515,\n",
       " 'gender_sensitivity_chinese': 75.30875321771775,\n",
       " 'gender_sensitivity_english': 63.527406751208446,\n",
       " 'language_games': 2.4929361696556676,\n",
       " 'linguistic_mappings': 26.770833333333332,\n",
       " 'list_functions': 3.9591315453384417,\n",
       " 'modified_arithmetic': 18.333333333333336,\n",
       " 'mult_data_wrangling': 4.67479674796748,\n",
       " 'natural_instructions': 21.29049156523259,\n",
       " 'simp_turing_concept': 40.66471163245357,\n",
       " 'subject_verb_agreement': 59.41605596277577,\n",
       " 'unnatural_in_context_learning': 4.39453125}"
      ]
     },
     "execution_count": 20,
     "metadata": {},
     "output_type": "execute_result"
    },
    {
     "data": {
      "image/png": "[encoded data removed]",
      "text/plain": [
       "<Figure size 432x288 with 1 Axes>"
      ]
     },
     "metadata": {
      "needs_background": "light"
     },
     "output_type": "display_data"
    }
   ],
   "source": [
    "plot_cumulative_performance(scoring_non_mpc, [\"normalized_aggregate_score\"])"
   ]
  },
  {
   "cell_type": "code",
   "execution_count": 21,
   "metadata": {},
   "outputs": [
    {
     "data": {
      "text/plain": [
       "{'abstract_narrative_understanding': 33.33333333333333,\n",
       " 'anachronisms': 50.0,\n",
       " 'analogical_similarity': 20.123839009287924,\n",
       " 'analytic_entailment': 42.857142857142854,\n",
       " 'authorship_verification': 50.34090909090909,\n",
       " 'bbq_lite_json': 29.66269841269841,\n",
       " 'causal_judgment': 52.63157894736842,\n",
       " 'cause_and_effect': 67.32026143790848,\n",
       " 'cifar10_classification': 10.15625,\n",
       " 'code_line_description': 26.666666666666668,\n",
       " 'color': 5.56640625,\n",
       " 'common_morpheme': 32.0,\n",
       " 'conceptual_combinations': 40.978835978835974,\n",
       " 'crash_blossom': 31.57894736842105,\n",
       " 'crass_ai': 20.454545454545457,\n",
       " 'cryobiology_spanish': 63.6986301369863,\n",
       " 'cs_algorithms': 25.87890625,\n",
       " 'dark_humor_detection': 50.0,\n",
       " 'date_understanding': 56.36856368563685,\n",
       " 'disambiguation_qa': 32.55813953488372,\n",
       " 'discourse_marker_prediction': 13.302217036172696,\n",
       " 'dyck_languages': 23.3,\n",
       " 'elementary_math_qa': 21.666666666666668,\n",
       " 'emoji_movie': 32.0,\n",
       " 'emojis_emotion_prediction': 42.09923664122137,\n",
       " 'empirical_judgments': 33.33333333333333,\n",
       " 'english_proverbs': 35.294117647058826,\n",
       " 'english_russian_proverbs': 30.0,\n",
       " 'entailed_polarity': 86.48648648648648,\n",
       " 'entailed_polarity_hindi': 64.4927536231884,\n",
       " 'epistemic_reasoning': 37.59765625,\n",
       " 'evaluating_information_essentiality': 19.11764705882353,\n",
       " 'fact_checker': 70.16232291107349,\n",
       " 'fantasy_reasoning': 67.66169154228857,\n",
       " 'figure_of_speech_detection': 23.728813559322035,\n",
       " 'formal_fallacies_syllogisms_negation': 49.12109375,\n",
       " 'general_knowledge': 54.285714285714285,\n",
       " 'geometric_shapes': 16.434540389972145,\n",
       " 'goal_step_wikihow': 37.34115347018573,\n",
       " 'gre_reading_comprehension': 29.03225806451613,\n",
       " 'hhh_alignment': 44.062131443889896,\n",
       " 'hindu_knowledge': 40.57142857142857,\n",
       " 'hinglish_toxicity': 56.99999999999999,\n",
       " 'human_organs_senses': 50.0,\n",
       " 'hyperbaton': 51.26953125,\n",
       " 'identify_math_theorems': 35.84905660377358,\n",
       " 'identify_odd_metaphor': 19.148936170212767,\n",
       " 'implicatures': 50.20325203252033,\n",
       " 'implicit_relations': 24.705882352941178,\n",
       " 'intent_recognition': 50.505050505050505,\n",
       " 'international_phonetic_alphabet_nli': 39.682539682539684,\n",
       " 'intersect_geometry': 11.96078431372549,\n",
       " 'irony_identification': 49.494949494949495,\n",
       " 'kanji_ascii': -1.5292553191489349,\n",
       " 'kannada': 23.10126582278481,\n",
       " 'key_value_maps': 49.357549857549856,\n",
       " 'known_unknowns': 56.52173913043478,\n",
       " 'language_identification': 13.57421875,\n",
       " 'logic_grid_puzzle': 29.4,\n",
       " 'logical_args': 40.625,\n",
       " 'logical_deduction': 25.729553600521342,\n",
       " 'logical_fallacy_detection': 52.1484375,\n",
       " 'logical_sequence': 38.46153846153847,\n",
       " 'mathematical_induction': 56.52173913043478,\n",
       " 'metaphor_boolean': 39.55882352941176,\n",
       " 'metaphor_understanding': 43.162393162393165,\n",
       " 'minute_mysteries_qa': -1.3250458901448385,\n",
       " 'misconceptions': 51.598173515981735,\n",
       " 'misconceptions_russian': 34.69387755102041,\n",
       " 'mnist_ascii': 12.59765625,\n",
       " 'moral_permissibility': 50.58479532163743,\n",
       " 'movie_dialog_same_or_different': 49.12109375,\n",
       " 'movie_recommendation': 29.799999999999997,\n",
       " 'multiemo': 48.18181818181818,\n",
       " 'navigate': 50.0,\n",
       " 'nonsense_words_grammar': 40.0,\n",
       " 'novel_concepts': 31.25,\n",
       " 'odd_one_out': 31.3953488372093,\n",
       " 'parsinlu_qa': 23.6328125,\n",
       " 'persian_idioms': 30.303030303030305,\n",
       " 'phrase_relatedness': 38.0,\n",
       " 'physical_intuition': 44.44444444444444,\n",
       " 'physics': 37.55458515283843,\n",
       " 'play_dialog_same_or_different': 63.18359375,\n",
       " 'presuppositions_as_nli': 38.775510204081634,\n",
       " 'question_selection': 41.69921875,\n",
       " 'real_or_fake_text': 24.516129032258057,\n",
       " 'reasoning_about_colored_objects': 41.2109375,\n",
       " 'riddle_sense': 48.97959183673469,\n",
       " 'ruin_names': 36.607142857142854,\n",
       " 'salient_translation_error_detection': 24.448897795591183,\n",
       " 'sentence_ambiguity': 61.66666666666667,\n",
       " 'similarities_abstraction': 63.1578947368421,\n",
       " 'simple_ethical_questions': 20.869565217391305,\n",
       " 'snarks': 46.408839779005525,\n",
       " 'social_iqa': 38.28125,\n",
       " 'sports_understanding': 50.0,\n",
       " 'strange_stories': 50.61593637922969,\n",
       " 'strategyqa': 60.64453125,\n",
       " 'suicide_risk': 22.5,\n",
       " 'swahili_english_proverbs': 42.48366013071895,\n",
       " 'swedish_to_german_proverbs': 40.97222222222222,\n",
       " 'symbol_interpretation': 20.303030303030305,\n",
       " 'temporal_sequences': 27.1,\n",
       " 'timedial': 41.30859375,\n",
       " 'tracking_shuffled_objects': 20.918866080156402,\n",
       " 'understanding_fables': 24.33862433862434,\n",
       " 'undo_permutation': 57.666666666666664,\n",
       " 'unit_conversion': 32.93457031250001,\n",
       " 'unit_interpretation': 20.0,\n",
       " 'vitaminc_fact_verification': 12.01171875,\n",
       " 'what_is_the_tao': 55.55555555555556,\n",
       " 'which_wiki_edit': 25.91943957968476,\n",
       " 'winowhy': 45.21484375}"
      ]
     },
     "execution_count": 21,
     "metadata": {},
     "output_type": "execute_result"
    },
    {
     "data": {
      "image/png": "[encoded data removed]",
      "text/plain": [
       "<Figure size 432x288 with 1 Axes>"
      ]
     },
     "metadata": {
      "needs_background": "light"
     },
     "output_type": "display_data"
    }
   ],
   "source": [
    "plot_cumulative_performance(set(task_types[\"multiple_choice\"]), [\"multiple_choice_grade\"], tresholds=[30, 50, 60])\n"
   ]
  }
 ],
 "metadata": {
  "kernelspec": {
   "display_name": "Python 3",
   "language": "python",
   "name": "python3"
  },
  "language_info": {
   "codemirror_mode": {
    "name": "ipython",
    "version": 3
   },
   "file_extension": ".py",
   "mimetype": "text/x-python",
   "name": "python",
   "nbconvert_exporter": "python",
   "pygments_lexer": "ipython3",
   "version": "3.10.4"
  }
 },
 "nbformat": 4,
 "nbformat_minor": 2
}
