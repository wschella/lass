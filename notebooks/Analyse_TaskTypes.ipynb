{
 "cells": [
  {
   "cell_type": "code",
   "execution_count": 1,
   "metadata": {},
   "outputs": [],
   "source": [
    "import os\n",
    "os.environ['PROTOCOL_BUFFERS_PYTHON_IMPLEMENTATION' ] = 'python'"
   ]
  },
  {
   "cell_type": "code",
   "execution_count": 2,
   "metadata": {},
   "outputs": [],
   "source": [
    "from lass.log_handling import LogLoaderArgs, LogLoader\n",
    "from lass.data.loading import get_query_type\n",
    "\n",
    "\n",
    "args = LogLoaderArgs(\n",
    "    logdir=\"../artifacts/logs\",\n",
    "    tasks=\"paper-full\",\n",
    "    model_families=[\"BIG-G T=0\"],\n",
    "    model_sizes=[\"128b\"],\n",
    "    shots=[3],\n",
    "    query_types=[\"multiple_choice\", \"scoring\", \"generative\"],\n",
    ")\n",
    "loader = LogLoader(args)"
   ]
  },
  {
   "cell_type": "code",
   "execution_count": 3,
   "metadata": {},
   "outputs": [],
   "source": [
    "tasks = list(loader.load_per_task())"
   ]
  },
  {
   "cell_type": "markdown",
   "metadata": {},
   "source": [
    "### Count the number of tasks with queries of specific question types\n",
    "The options are multiple choice, generative, and scoring."
   ]
  },
  {
   "cell_type": "code",
   "execution_count": 4,
   "metadata": {},
   "outputs": [
    {
     "data": {
      "text/plain": [
       "{'multiple_choice': 118, 'generative': 54, 'mixed': 54, 'scoring': 53}"
      ]
     },
     "execution_count": 4,
     "metadata": {},
     "output_type": "execute_result"
    }
   ],
   "source": [
    "from collections import defaultdict\n",
    "\n",
    "task_types = defaultdict(list)\n",
    "for task in tasks:\n",
    "    run = task[list(task.keys())[0]]\n",
    "    types = [get_query_type(query) for query in (run.queries or [])]\n",
    "    for type_ in set(types):\n",
    "        task_types[type_].append(run.task.task_name)\n",
    "\n",
    "    if len(set(types)) > 1:\n",
    "        task_types[\"mixed\"].append(run.task.task_name)\n",
    "\n",
    "{key: len(value) for key, value in task_types.items()}\n",
    "\n",
    "# For 3-shot it's {'multiple_choice': 118, 'generative': 54, 'mixed': 54, 'scoring': 53}\n",
    "# For 0-shot it's {'multiple_choice': 118, 'generative': 54, 'mixed': 54, 'scoring': 68}"
   ]
  },
  {
   "cell_type": "markdown",
   "metadata": {},
   "source": [
    "### Example Tasks"
   ]
  },
  {
   "cell_type": "code",
   "execution_count": 5,
   "metadata": {},
   "outputs": [
    {
     "data": {
      "text/plain": [
       "['abstract_narrative_understanding',\n",
       " 'anachronisms',\n",
       " 'analogical_similarity',\n",
       " 'analytic_entailment',\n",
       " 'arithmetic',\n",
       " 'authorship_verification',\n",
       " 'bbq_lite_json',\n",
       " 'causal_judgment',\n",
       " 'cause_and_effect',\n",
       " 'checkmate_in_one']"
      ]
     },
     "execution_count": 5,
     "metadata": {},
     "output_type": "execute_result"
    }
   ],
   "source": [
    "task_types[\"multiple_choice\"][:10]"
   ]
  },
  {
   "cell_type": "code",
   "execution_count": 6,
   "metadata": {},
   "outputs": [
    {
     "data": {
      "text/plain": [
       "['arithmetic',\n",
       " 'ascii_word_recognition',\n",
       " 'auto_categorization',\n",
       " 'auto_debugging',\n",
       " 'bridging_anaphora_resolution_barqa',\n",
       " 'checkmate_in_one',\n",
       " 'chess_state_tracking',\n",
       " 'chinese_remainder_theorem',\n",
       " 'codenames',\n",
       " 'color']"
      ]
     },
     "execution_count": 6,
     "metadata": {},
     "output_type": "execute_result"
    }
   ],
   "source": [
    "task_types[\"generative\"][:10]"
   ]
  },
  {
   "cell_type": "code",
   "execution_count": 7,
   "metadata": {},
   "outputs": [
    {
     "data": {
      "text/plain": [
       "['ascii_word_recognition',\n",
       " 'auto_categorization',\n",
       " 'auto_debugging',\n",
       " 'bridging_anaphora_resolution_barqa',\n",
       " 'checkmate_in_one',\n",
       " 'chess_state_tracking',\n",
       " 'chinese_remainder_theorem',\n",
       " 'codenames',\n",
       " 'color',\n",
       " 'conlang_translation']"
      ]
     },
     "execution_count": 7,
     "metadata": {},
     "output_type": "execute_result"
    }
   ],
   "source": [
    "task_types[\"scoring\"][:10]"
   ]
  },
  {
   "cell_type": "code",
   "execution_count": 8,
   "metadata": {},
   "outputs": [
    {
     "data": {
      "text/plain": [
       "['arithmetic',\n",
       " 'ascii_word_recognition',\n",
       " 'auto_categorization',\n",
       " 'auto_debugging',\n",
       " 'bridging_anaphora_resolution_barqa',\n",
       " 'checkmate_in_one',\n",
       " 'chess_state_tracking',\n",
       " 'chinese_remainder_theorem',\n",
       " 'codenames',\n",
       " 'color']"
      ]
     },
     "execution_count": 8,
     "metadata": {},
     "output_type": "execute_result"
    }
   ],
   "source": [
    "task_types[\"mixed\"][:10]"
   ]
  },
  {
   "cell_type": "markdown",
   "metadata": {},
   "source": [
    "### Validate disjoint sets"
   ]
  },
  {
   "cell_type": "code",
   "execution_count": 9,
   "metadata": {},
   "outputs": [],
   "source": [
    "generative_non_mpc = set(task_types[\"generative\"]) - set(task_types[\"multiple_choice\"])\n",
    "generative_non_scoring = set(task_types[\"generative\"]) - set(task_types[\"scoring\"])\n",
    "generative_only = set(task_types[\"generative\"]) - set(task_types[\"mixed\"])\n",
    "scoring_non_generative = set(task_types[\"scoring\"]) - set(task_types[\"generative\"])\n",
    "scoring_non_mpc = set(task_types[\"scoring\"]) - set(task_types[\"multiple_choice\"])\n",
    "scoring_only = set(task_types[\"scoring\"]) - set(task_types[\"mixed\"])\n",
    "mpc_only = set(task_types[\"multiple_choice\"]) - set(task_types[\"mixed\"])\n",
    "all_tasks = set(task_types[\"multiple_choice\"]) | set(task_types[\"generative\"]) | set(task_types[\"scoring\"])"
   ]
  },
  {
   "cell_type": "markdown",
   "metadata": {},
   "source": [
    "All generative tasks are mixed tasks."
   ]
  },
  {
   "cell_type": "code",
   "execution_count": 10,
   "metadata": {},
   "outputs": [
    {
     "data": {
      "text/plain": [
       "0"
      ]
     },
     "execution_count": 10,
     "metadata": {},
     "output_type": "execute_result"
    }
   ],
   "source": [
    "len(generative_only)"
   ]
  },
  {
   "cell_type": "markdown",
   "metadata": {},
   "source": [
    "... and there is only one task that is generative, but not a scoring task."
   ]
  },
  {
   "cell_type": "code",
   "execution_count": 11,
   "metadata": {},
   "outputs": [
    {
     "name": "stdout",
     "output_type": "stream",
     "text": [
      "1 {'arithmetic'}\n"
     ]
    }
   ],
   "source": [
    "print(len(generative_non_scoring), generative_non_scoring)"
   ]
  },
  {
   "cell_type": "markdown",
   "metadata": {},
   "source": [
    "While there are multiple 'scoring' tasks that are not generative."
   ]
  },
  {
   "cell_type": "code",
   "execution_count": 12,
   "metadata": {},
   "outputs": [
    {
     "name": "stdout",
     "output_type": "stream",
     "text": [
      "0 []\n",
      "0 []\n",
      "43 ['ascii_word_recognition', 'auto_categorization', 'auto_debugging', 'bridging_anaphora_resolution_barqa', 'chess_state_tracking', 'chinese_remainder_theorem', 'codenames', 'conlang_translation', 'cryptonite', 'disfl_qa', 'few_shot_nlg', 'gem', 'gender_inclusive_sentences_german', 'hindi_question_answering', 'international_phonetic_alphabet_transliterate', 'language_games', 'linguistic_mappings', 'linguistics_puzzles', 'list_functions', 'matrixshapes', 'modified_arithmetic', 'mult_data_wrangling', 'natural_instructions', 'object_counting', 'operators', 'paragraph_segmentation', 'parsinlu_reading_comprehension', 'physics_questions', 'polish_sequence_labeling', 'qa_wikidata', 'repeat_copy_logic', 'rephrase', 'scientific_press_release', 'semantic_parsing_in_context_sparc', 'semantic_parsing_spider', 'simp_turing_concept', 'simple_text_editing', 'sufficient_information', 'tense', 'topical_chat', 'unnatural_in_context_learning', 'word_sorting', 'word_unscrambling']\n"
     ]
    }
   ],
   "source": [
    "print(len(scoring_non_generative), sorted(list(scoring_non_generative)))\n",
    "print(len(scoring_only), sorted(list(scoring_only)))\n",
    "print(len(scoring_non_mpc), sorted(list(scoring_non_mpc)))"
   ]
  },
  {
   "cell_type": "code",
   "execution_count": 24,
   "metadata": {},
   "outputs": [
    {
     "name": "stdout",
     "output_type": "stream",
     "text": [
      "43\n"
     ]
    }
   ],
   "source": [
    "print(len(generative_non_mpc.intersection(scoring_non_mpc)))"
   ]
  },
  {
   "cell_type": "code",
   "execution_count": 22,
   "metadata": {},
   "outputs": [
    {
     "name": "stdout",
     "output_type": "stream",
     "text": [
      "150\n"
     ]
    },
    {
     "data": {
      "text/plain": [
       "{'abstract_narrative_understanding',\n",
       " 'anachronisms',\n",
       " 'analogical_similarity',\n",
       " 'analytic_entailment',\n",
       " 'ascii_word_recognition',\n",
       " 'authorship_verification',\n",
       " 'auto_categorization',\n",
       " 'auto_debugging',\n",
       " 'bbq_lite_json',\n",
       " 'bridging_anaphora_resolution_barqa',\n",
       " 'causal_judgment',\n",
       " 'cause_and_effect',\n",
       " 'chess_state_tracking',\n",
       " 'chinese_remainder_theorem',\n",
       " 'cifar10_classification',\n",
       " 'code_line_description',\n",
       " 'codenames',\n",
       " 'common_morpheme',\n",
       " 'conceptual_combinations',\n",
       " 'conlang_translation',\n",
       " 'crash_blossom',\n",
       " 'crass_ai',\n",
       " 'cryobiology_spanish',\n",
       " 'cryptonite',\n",
       " 'cs_algorithms',\n",
       " 'dark_humor_detection',\n",
       " 'date_understanding',\n",
       " 'disambiguation_qa',\n",
       " 'discourse_marker_prediction',\n",
       " 'disfl_qa',\n",
       " 'dyck_languages',\n",
       " 'elementary_math_qa',\n",
       " 'emojis_emotion_prediction',\n",
       " 'empirical_judgments',\n",
       " 'english_proverbs',\n",
       " 'english_russian_proverbs',\n",
       " 'entailed_polarity',\n",
       " 'entailed_polarity_hindi',\n",
       " 'epistemic_reasoning',\n",
       " 'evaluating_information_essentiality',\n",
       " 'fact_checker',\n",
       " 'fantasy_reasoning',\n",
       " 'few_shot_nlg',\n",
       " 'figure_of_speech_detection',\n",
       " 'formal_fallacies_syllogisms_negation',\n",
       " 'gem',\n",
       " 'gender_inclusive_sentences_german',\n",
       " 'general_knowledge',\n",
       " 'goal_step_wikihow',\n",
       " 'gre_reading_comprehension',\n",
       " 'hhh_alignment',\n",
       " 'hindi_question_answering',\n",
       " 'hindu_knowledge',\n",
       " 'hinglish_toxicity',\n",
       " 'human_organs_senses',\n",
       " 'hyperbaton',\n",
       " 'identify_math_theorems',\n",
       " 'identify_odd_metaphor',\n",
       " 'implicatures',\n",
       " 'implicit_relations',\n",
       " 'intent_recognition',\n",
       " 'international_phonetic_alphabet_nli',\n",
       " 'international_phonetic_alphabet_transliterate',\n",
       " 'intersect_geometry',\n",
       " 'irony_identification',\n",
       " 'kannada',\n",
       " 'key_value_maps',\n",
       " 'known_unknowns',\n",
       " 'language_games',\n",
       " 'language_identification',\n",
       " 'linguistic_mappings',\n",
       " 'linguistics_puzzles',\n",
       " 'list_functions',\n",
       " 'logic_grid_puzzle',\n",
       " 'logical_args',\n",
       " 'logical_deduction',\n",
       " 'logical_fallacy_detection',\n",
       " 'logical_sequence',\n",
       " 'mathematical_induction',\n",
       " 'matrixshapes',\n",
       " 'metaphor_boolean',\n",
       " 'metaphor_understanding',\n",
       " 'misconceptions',\n",
       " 'misconceptions_russian',\n",
       " 'mnist_ascii',\n",
       " 'modified_arithmetic',\n",
       " 'moral_permissibility',\n",
       " 'movie_dialog_same_or_different',\n",
       " 'movie_recommendation',\n",
       " 'mult_data_wrangling',\n",
       " 'multiemo',\n",
       " 'natural_instructions',\n",
       " 'navigate',\n",
       " 'nonsense_words_grammar',\n",
       " 'novel_concepts',\n",
       " 'object_counting',\n",
       " 'odd_one_out',\n",
       " 'operators',\n",
       " 'paragraph_segmentation',\n",
       " 'parsinlu_qa',\n",
       " 'parsinlu_reading_comprehension',\n",
       " 'persian_idioms',\n",
       " 'phrase_relatedness',\n",
       " 'physical_intuition',\n",
       " 'physics',\n",
       " 'physics_questions',\n",
       " 'play_dialog_same_or_different',\n",
       " 'polish_sequence_labeling',\n",
       " 'presuppositions_as_nli',\n",
       " 'qa_wikidata',\n",
       " 'question_selection',\n",
       " 'real_or_fake_text',\n",
       " 'reasoning_about_colored_objects',\n",
       " 'repeat_copy_logic',\n",
       " 'rephrase',\n",
       " 'riddle_sense',\n",
       " 'ruin_names',\n",
       " 'salient_translation_error_detection',\n",
       " 'scientific_press_release',\n",
       " 'semantic_parsing_in_context_sparc',\n",
       " 'semantic_parsing_spider',\n",
       " 'sentence_ambiguity',\n",
       " 'simp_turing_concept',\n",
       " 'simple_ethical_questions',\n",
       " 'simple_text_editing',\n",
       " 'snarks',\n",
       " 'social_iqa',\n",
       " 'social_support',\n",
       " 'sports_understanding',\n",
       " 'strange_stories',\n",
       " 'sufficient_information',\n",
       " 'suicide_risk',\n",
       " 'swahili_english_proverbs',\n",
       " 'swedish_to_german_proverbs',\n",
       " 'symbol_interpretation',\n",
       " 'temporal_sequences',\n",
       " 'tense',\n",
       " 'timedial',\n",
       " 'topical_chat',\n",
       " 'tracking_shuffled_objects',\n",
       " 'understanding_fables',\n",
       " 'undo_permutation',\n",
       " 'unit_interpretation',\n",
       " 'unnatural_in_context_learning',\n",
       " 'vitaminc_fact_verification',\n",
       " 'what_is_the_tao',\n",
       " 'which_wiki_edit',\n",
       " 'winowhy',\n",
       " 'word_sorting',\n",
       " 'word_unscrambling'}"
      ]
     },
     "execution_count": 22,
     "metadata": {},
     "output_type": "execute_result"
    }
   ],
   "source": [
    "print(len(generative_non_mpc.intersection(scoring_non_mpc) | mpc_only))\n",
    "generative_non_mpc.intersection(scoring_non_mpc) | mpc_only"
   ]
  },
  {
   "cell_type": "code",
   "execution_count": 14,
   "metadata": {},
   "outputs": [
    {
     "name": "stdout",
     "output_type": "stream",
     "text": [
      "43 ['ascii_word_recognition', 'auto_categorization', 'auto_debugging', 'bridging_anaphora_resolution_barqa', 'chess_state_tracking', 'chinese_remainder_theorem', 'codenames', 'conlang_translation', 'cryptonite', 'disfl_qa', 'few_shot_nlg', 'gem', 'gender_inclusive_sentences_german', 'hindi_question_answering', 'international_phonetic_alphabet_transliterate', 'language_games', 'linguistic_mappings', 'linguistics_puzzles', 'list_functions', 'matrixshapes', 'modified_arithmetic', 'mult_data_wrangling', 'natural_instructions', 'object_counting', 'operators', 'paragraph_segmentation', 'parsinlu_reading_comprehension', 'physics_questions', 'polish_sequence_labeling', 'qa_wikidata', 'repeat_copy_logic', 'rephrase', 'scientific_press_release', 'semantic_parsing_in_context_sparc', 'semantic_parsing_spider', 'simp_turing_concept', 'simple_text_editing', 'sufficient_information', 'tense', 'topical_chat', 'unnatural_in_context_learning', 'word_sorting', 'word_unscrambling']\n"
     ]
    }
   ],
   "source": [
    "print(len(generative_non_mpc), sorted(list(generative_non_mpc)))"
   ]
  },
  {
   "cell_type": "code",
   "execution_count": 15,
   "metadata": {},
   "outputs": [],
   "source": [
    "# ascii_word_recognition: single word output, big discrete set\n",
    "# auto_categorization: single word output, big discrete set\n",
    "# auto_debugging: single word output, big discrete set\n",
    "# bridging_anaphora: multiple word output, small set (from context)\n",
    "# chess_state_tracking: multiple word output, small discrete set (64 options) (but arbitrary length)\n",
    "# chinese_remainder_theorem: single word output, big discrete set\n",
    "# codenames: single word output, big discrete set\n",
    "# All QA or math?"
   ]
  },
  {
   "cell_type": "markdown",
   "metadata": {},
   "source": [
    "# Metrics Used"
   ]
  },
  {
   "cell_type": "code",
   "execution_count": 16,
   "metadata": {},
   "outputs": [
    {
     "name": "stdout",
     "output_type": "stream",
     "text": [
      "{'exact_str_match': 28, 'normalized_aggregate_score': 11, 'bleu': 9, 'rougeLsum': 5, 'bleurt': 1, 'sequence_f1': 1, 'log_likelihood': 1}\n",
      "{'exact_str_match': 28, 'normalized_aggregate_score': 11, 'bleu': 9, 'rougeLsum': 5, 'bleurt': 1, 'sequence_f1': 1, 'log_likelihood': 1}\n",
      "{'multiple_choice_grade': 106, 'macro_f1': 1}\n",
      "{'exact_str_match': 28, 'normalized_aggregate_score': 11, 'bleu': 9, 'rougeLsum': 5, 'bleurt': 1, 'sequence_f1': 1, 'log_likelihood': 1}\n"
     ]
    }
   ],
   "source": [
    "def get_preferred_metrics(task_list):\n",
    "    counts = {}\n",
    "    for task in tasks:\n",
    "        run = task[list(task.keys())[0]] # Wtf is this?\n",
    "        if run.task.task_name not in task_list:\n",
    "            continue\n",
    "        pref_metrics = [score.preferred_score for score in run.scores]\n",
    "        pref_metrics_unique = set(pref_metrics)\n",
    "        for metric in pref_metrics_unique:\n",
    "            counts[metric] = counts.get(metric, 0) + 1\n",
    "    return dict(sorted(counts.items(), key=lambda item: item[1], reverse=True)) # Sort by count\n",
    "print(get_preferred_metrics(generative_non_mpc))\n",
    "print(get_preferred_metrics(scoring_non_mpc))\n",
    "print(get_preferred_metrics(mpc_only))\n",
    "print(get_preferred_metrics(generative_non_mpc.intersection(scoring_non_mpc)))"
   ]
  },
  {
   "cell_type": "markdown",
   "metadata": {},
   "source": [
    "# Performance Analysis"
   ]
  },
  {
   "cell_type": "code",
   "execution_count": 17,
   "metadata": {},
   "outputs": [],
   "source": [
    "import matplotlib.pyplot as plt\n",
    "\n",
    "def plot_cumulative_performance(task_list, metrics: list, tresholds: list = []):\n",
    "    scores = {}\n",
    "    for task in tasks:\n",
    "        run = task[list(task.keys())[0]]\n",
    "\n",
    "        # Filter out irrelevant tasks\n",
    "        if run.task.task_name not in task_list:\n",
    "            continue\n",
    "\n",
    "        # Filter out tasks that don't have the metrics we're interested in\n",
    "        pref_metrics = [score.preferred_score for score in run.scores]\n",
    "        if len(list(filter(lambda m: m in metrics, pref_metrics))) == 0:\n",
    "            continue\n",
    "        \n",
    "        score_data = [sd for sd in run.scores if sd.subtask_description == run.task.task_name] # filter out subtasks to remove duplication and weird aggregate math\n",
    "        avg_score = sum([score.score_dict[score.preferred_score] for score in score_data]) / len(score_data)\n",
    "        scores[run.task.task_name] = avg_score\n",
    "\n",
    "    # Reverse cumulative plot of performance, with x-axis being the score, and y-axis the number of tasks that have that score or better\n",
    "    plt.hist(list(scores.values()), bins=list(range(0, 100, 1)), cumulative=-1, density=True)\n",
    "    plt.xlim(0, 100)\n",
    "\n",
    "    plt.xlabel(\"Score\")\n",
    "    plt.ylabel(\"# Tasks\")\n",
    "\n",
    "    # Format y-labels to display the number of tasks\n",
    "    plt.gca().yaxis.set_major_formatter(plt.FuncFormatter(lambda x, _: f\"({int(len(scores) * x)}) {x:0.2f}\")) # type: ignore\n",
    "\n",
    "    # Count the number of tasks that have a score above the tresholds\n",
    "    for treshold in tresholds:\n",
    "        count = len(list(filter(lambda x: x > treshold, scores.values())))\n",
    "        plt.axvline(treshold, color='r', linestyle='--', label=f\"{count} tasks above {treshold}\")\n",
    "        plt.legend()\n",
    "\n",
    "    return scores"
   ]
  },
  {
   "cell_type": "code",
   "execution_count": 18,
   "metadata": {},
   "outputs": [
    {
     "data": {
      "text/plain": [
       "{'ascii_word_recognition': 0.390625,\n",
       " 'auto_debugging': 0.0,\n",
       " 'bridging_anaphora_resolution_barqa': 0.6172839506172839,\n",
       " 'chess_state_tracking': 16.176470588235293,\n",
       " 'chinese_remainder_theorem': 0.0,\n",
       " 'cryptonite': 3.22265625,\n",
       " 'disfl_qa': 6.15234375,\n",
       " 'gender_inclusive_sentences_german': 0.0,\n",
       " 'language_games': 6.555272729530516,\n",
       " 'linguistic_mappings': 67.28860294117646,\n",
       " 'linguistics_puzzles': 0.0,\n",
       " 'list_functions': 24.393358876117496,\n",
       " 'matrixshapes': 15.13671875,\n",
       " 'modified_arithmetic': 15.490196078431373,\n",
       " 'mult_data_wrangling': 77.64227642276423,\n",
       " 'object_counting': 20.7,\n",
       " 'operators': 25.238095238095237,\n",
       " 'paragraph_segmentation': 0.0,\n",
       " 'parsinlu_reading_comprehension': 0.0,\n",
       " 'physics_questions': 2.0,\n",
       " 'repeat_copy_logic': 12.5,\n",
       " 'simp_turing_concept': 41.935483870967744,\n",
       " 'simple_text_editing': 0.0,\n",
       " 'sufficient_information': 0.0,\n",
       " 'tense': 1.7482517482517483,\n",
       " 'unnatural_in_context_learning': 56.73828125,\n",
       " 'word_sorting': 24.4140625,\n",
       " 'word_unscrambling': 12.98828125}"
      ]
     },
     "execution_count": 18,
     "metadata": {},
     "output_type": "execute_result"
    },
    {
     "data": {
      "image/png": "[encoded data removed]",
      "text/plain": [
       "<Figure size 432x288 with 1 Axes>"
      ]
     },
     "metadata": {
      "needs_background": "light"
     },
     "output_type": "display_data"
    }
   ],
   "source": [
    "plot_cumulative_performance(scoring_non_mpc, [\"exact_str_match\"], tresholds=[10, 20, 30])\n",
    "# For 3-shot, number of tasks above thresholds doubles vs 0-shot"
   ]
  },
  {
   "cell_type": "code",
   "execution_count": 19,
   "metadata": {},
   "outputs": [
    {
     "data": {
      "text/plain": [
       "{'auto_categorization': 14.216956280606615,\n",
       " 'codenames': 12.978699448840196,\n",
       " 'hindi_question_answering': 0.0,\n",
       " 'international_phonetic_alphabet_transliterate': 22.403632704745196,\n",
       " 'language_games': 6.555272729530516,\n",
       " 'scientific_press_release': 1.9897055080173454,\n",
       " 'semantic_parsing_in_context_sparc': 0.11207919432261226,\n",
       " 'semantic_parsing_spider': 0.06012584476528364,\n",
       " 'topical_chat': 1.3626124507120564e-05}"
      ]
     },
     "execution_count": 19,
     "metadata": {},
     "output_type": "execute_result"
    },
    {
     "data": {
      "image/png": "[encoded data removed]",
      "text/plain": [
       "<Figure size 432x288 with 1 Axes>"
      ]
     },
     "metadata": {
      "needs_background": "light"
     },
     "output_type": "display_data"
    }
   ],
   "source": [
    "plot_cumulative_performance(scoring_non_mpc, [\"bleu\"])"
   ]
  },
  {
   "cell_type": "code",
   "execution_count": 20,
   "metadata": {},
   "outputs": [
    {
     "data": {
      "text/plain": [
       "{'chess_state_tracking': 16.176470588235293,\n",
       " 'conlang_translation': 43.00198068934124,\n",
       " 'gem': 26.51542225708153,\n",
       " 'language_games': 6.555272729530516,\n",
       " 'linguistic_mappings': 67.28860294117646,\n",
       " 'list_functions': 24.393358876117496,\n",
       " 'modified_arithmetic': 15.490196078431373,\n",
       " 'mult_data_wrangling': 77.64227642276423,\n",
       " 'natural_instructions': 26.067618643026247,\n",
       " 'simp_turing_concept': 41.935483870967744,\n",
       " 'unnatural_in_context_learning': 56.73828125}"
      ]
     },
     "execution_count": 20,
     "metadata": {},
     "output_type": "execute_result"
    },
    {
     "data": {
      "image/png": "[encoded data removed]",
      "text/plain": [
       "<Figure size 432x288 with 1 Axes>"
      ]
     },
     "metadata": {
      "needs_background": "light"
     },
     "output_type": "display_data"
    }
   ],
   "source": [
    "plot_cumulative_performance(scoring_non_mpc, [\"normalized_aggregate_score\"])"
   ]
  },
  {
   "cell_type": "code",
   "execution_count": 21,
   "metadata": {},
   "outputs": [
    {
     "data": {
      "text/plain": [
       "{'abstract_narrative_understanding': 34.89736070381232,\n",
       " 'anachronisms': 52.60869565217391,\n",
       " 'analogical_similarity': 17.956656346749224,\n",
       " 'analytic_entailment': 50.0,\n",
       " 'authorship_verification': 50.34090909090909,\n",
       " 'bbq_lite_json': 70.53571428571429,\n",
       " 'causal_judgment': 52.63157894736842,\n",
       " 'cause_and_effect': 71.89542483660131,\n",
       " 'cifar10_classification': 10.05859375,\n",
       " 'code_line_description': 28.333333333333332,\n",
       " 'color': 9.47265625,\n",
       " 'common_morpheme': 42.0,\n",
       " 'conceptual_combinations': 37.53968253968254,\n",
       " 'crash_blossom': 44.73684210526316,\n",
       " 'crass_ai': 22.727272727272727,\n",
       " 'cryobiology_spanish': 60.273972602739725,\n",
       " 'cs_algorithms': 37.59765625,\n",
       " 'dark_humor_detection': 55.00000000000001,\n",
       " 'date_understanding': 55.82655826558266,\n",
       " 'disambiguation_qa': 36.434108527131784,\n",
       " 'discourse_marker_prediction': 10.968494749124854,\n",
       " 'dyck_languages': 16.900000000000002,\n",
       " 'elementary_math_qa': 21.470588235294116,\n",
       " 'emoji_movie': 35.0,\n",
       " 'emojis_emotion_prediction': 43.99236641221375,\n",
       " 'empirical_judgments': 45.45454545454545,\n",
       " 'english_proverbs': 38.23529411764706,\n",
       " 'english_russian_proverbs': 23.75,\n",
       " 'entailed_polarity': 83.78378378378379,\n",
       " 'entailed_polarity_hindi': 50.0,\n",
       " 'epistemic_reasoning': 39.16015625,\n",
       " 'evaluating_information_essentiality': 22.058823529411764,\n",
       " 'fact_checker': 74.56321506753129,\n",
       " 'fantasy_reasoning': 65.67164179104478,\n",
       " 'figure_of_speech_detection': 38.983050847457626,\n",
       " 'formal_fallacies_syllogisms_negation': 50.68359375,\n",
       " 'general_knowledge': 71.42857142857143,\n",
       " 'geometric_shapes': 11.977715877437326,\n",
       " 'goal_step_wikihow': 43.988269794721404,\n",
       " 'gre_reading_comprehension': 29.03225806451613,\n",
       " 'hhh_alignment': 45.90225766624562,\n",
       " 'hindu_knowledge': 60.57142857142858,\n",
       " 'hinglish_toxicity': 59.5,\n",
       " 'human_organs_senses': 66.66666666666666,\n",
       " 'hyperbaton': 53.125,\n",
       " 'identify_math_theorems': 30.18867924528302,\n",
       " 'identify_odd_metaphor': 19.148936170212767,\n",
       " 'implicatures': 68.4959349593496,\n",
       " 'implicit_relations': 31.76470588235294,\n",
       " 'intent_recognition': 86.14718614718615,\n",
       " 'international_phonetic_alphabet_nli': 39.682539682539684,\n",
       " 'intersect_geometry': 14.901960784313726,\n",
       " 'irony_identification': 64.64646464646465,\n",
       " 'kanji_ascii': -1.7640458776595738,\n",
       " 'kannada': 20.88607594936709,\n",
       " 'key_value_maps': 42.72079772079772,\n",
       " 'known_unknowns': 47.82608695652174,\n",
       " 'language_identification': 11.5234375,\n",
       " 'logic_grid_puzzle': 31.2,\n",
       " 'logical_args': 50.0,\n",
       " 'logical_deduction': 31.488432714239167,\n",
       " 'logical_fallacy_detection': 52.34375,\n",
       " 'logical_sequence': 28.205128205128204,\n",
       " 'mathematical_induction': 55.072463768115945,\n",
       " 'metaphor_boolean': 55.88235294117647,\n",
       " 'metaphor_understanding': 51.28205128205128,\n",
       " 'minute_mysteries_qa': -2.3123578468536903,\n",
       " 'misconceptions': 61.64383561643836,\n",
       " 'misconceptions_russian': 30.612244897959183,\n",
       " 'mnist_ascii': 11.1328125,\n",
       " 'moral_permissibility': 48.24561403508772,\n",
       " 'movie_dialog_same_or_different': 50.09765625,\n",
       " 'movie_recommendation': 29.2,\n",
       " 'multiemo': 54.848484848484844,\n",
       " 'navigate': 49.8,\n",
       " 'nonsense_words_grammar': 56.00000000000001,\n",
       " 'novel_concepts': 43.75,\n",
       " 'odd_one_out': 22.093023255813954,\n",
       " 'parsinlu_qa': 22.55859375,\n",
       " 'persian_idioms': 21.21212121212121,\n",
       " 'phrase_relatedness': 42.0,\n",
       " 'physical_intuition': 49.382716049382715,\n",
       " 'physics': 54.14847161572053,\n",
       " 'play_dialog_same_or_different': 53.41796875,\n",
       " 'presuppositions_as_nli': 21.904761904761905,\n",
       " 'question_selection': 41.11328125,\n",
       " 'real_or_fake_text': 22.209188660801555,\n",
       " 'reasoning_about_colored_objects': 39.6484375,\n",
       " 'riddle_sense': 55.10204081632652,\n",
       " 'ruin_names': 29.910714285714285,\n",
       " 'salient_translation_error_detection': 21.743486973947896,\n",
       " 'sentence_ambiguity': 66.66666666666666,\n",
       " 'similarities_abstraction': 76.31578947368422,\n",
       " 'simple_ethical_questions': 64.34782608695652,\n",
       " 'snarks': 41.988950276243095,\n",
       " 'social_iqa': 45.01953125,\n",
       " 'sports_understanding': 59.93914807302231,\n",
       " 'strange_stories': 63.74161858724465,\n",
       " 'strategyqa': 60.83984375,\n",
       " 'suicide_risk': 35.0,\n",
       " 'swahili_english_proverbs': 35.947712418300654,\n",
       " 'swedish_to_german_proverbs': 36.666666666666664,\n",
       " 'symbol_interpretation': 17.67676767676768,\n",
       " 'temporal_sequences': 34.599999999999994,\n",
       " 'timedial': 39.6484375,\n",
       " 'tracking_shuffled_objects': 22.678396871945257,\n",
       " 'understanding_fables': 24.867724867724867,\n",
       " 'undo_permutation': 60.33333333333333,\n",
       " 'unit_conversion': 51.5869140625,\n",
       " 'unit_interpretation': 28.000000000000004,\n",
       " 'vitaminc_fact_verification': 13.4765625,\n",
       " 'what_is_the_tao': 47.22222222222222,\n",
       " 'which_wiki_edit': 26.444833625218916,\n",
       " 'winowhy': 58.203125}"
      ]
     },
     "execution_count": 21,
     "metadata": {},
     "output_type": "execute_result"
    },
    {
     "data": {
      "image/png": "[encoded data removed]",
      "text/plain": [
       "<Figure size 432x288 with 1 Axes>"
      ]
     },
     "metadata": {
      "needs_background": "light"
     },
     "output_type": "display_data"
    }
   ],
   "source": [
    "plot_cumulative_performance(set(task_types[\"multiple_choice\"]), [\"multiple_choice_grade\"], tresholds=[30, 50, 60])\n"
   ]
  }
 ],
 "metadata": {
  "kernelspec": {
   "display_name": "Python 3",
   "language": "python",
   "name": "python3"
  },
  "language_info": {
   "codemirror_mode": {
    "name": "ipython",
    "version": 3
   },
   "file_extension": ".py",
   "mimetype": "text/x-python",
   "name": "python",
   "nbconvert_exporter": "python",
   "pygments_lexer": "ipython3",
   "version": "3.10.13"
  }
 },
 "nbformat": 4,
 "nbformat_minor": 2
}
