{
 "cells": [
  {
   "cell_type": "code",
   "execution_count": 1,
   "metadata": {},
   "outputs": [],
   "source": [
    "import os\n",
    "os.environ['PROTOCOL_BUFFERS_PYTHON_IMPLEMENTATION' ] = 'python'"
   ]
  },
  {
   "cell_type": "code",
   "execution_count": 2,
   "metadata": {},
   "outputs": [],
   "source": [
    "from lass.log_handling import LogLoaderArgs, LogLoader\n",
    "\n",
    "\n",
    "args = LogLoaderArgs(\n",
    "    logdir=\"../artifacts/logs\",\n",
    "    tasks=\"paper-full\",\n",
    "    model_families=[\"BIG-G T=0\"],\n",
    "    model_sizes=[\"128b\"],\n",
    "    # model_sizes=[\"2m\"],\n",
    "    shots=[0],\n",
    "    # query_types=[\"multiple_choice\"],\n",
    ")\n",
    "loader = LogLoader(args)"
   ]
  },
  {
   "cell_type": "code",
   "execution_count": 3,
   "metadata": {},
   "outputs": [],
   "source": [
    "tasks = list(loader.load_per_task())"
   ]
  },
  {
   "cell_type": "code",
   "execution_count": 4,
   "metadata": {},
   "outputs": [],
   "source": [
    "import bigbench.api.results as bb"
   ]
  },
  {
   "cell_type": "code",
   "execution_count": 5,
   "metadata": {},
   "outputs": [],
   "source": [
    "def query_class_to_type(query):\n",
    "    if query.__class__ == bb.MultipleChoiceQuery:\n",
    "        return \"multiple_choice\"\n",
    "    elif query.__class__ == bb.GenerativeQuery:\n",
    "        return \"generative\"\n",
    "    elif query.__class__ == bb.ScoringQuery:\n",
    "        return \"scoring\"\n",
    "    else:\n",
    "        raise ValueError(f\"Unknown query class: {query.__class__}\")"
   ]
  },
  {
   "cell_type": "markdown",
   "metadata": {},
   "source": [
    "### Count the number of tasks with queries of specific question types\n",
    "The options are multiple choice, generative, and scoring."
   ]
  },
  {
   "cell_type": "code",
   "execution_count": 6,
   "metadata": {},
   "outputs": [
    {
     "data": {
      "text/plain": [
       "{'multiple_choice': 118, 'generative': 54, 'mixed': 54, 'scoring': 68}"
      ]
     },
     "execution_count": 6,
     "metadata": {},
     "output_type": "execute_result"
    }
   ],
   "source": [
    "from collections import defaultdict\n",
    "\n",
    "task_types = defaultdict(list)\n",
    "for task in tasks:\n",
    "    run = task[list(task.keys())[0]]\n",
    "    types = [query_class_to_type(query) for query in (run.queries or [])]\n",
    "    for type_ in set(types):\n",
    "        task_types[type_].append(run.task.task_name)\n",
    "\n",
    "    if len(set(types)) > 1:\n",
    "        task_types[\"mixed\"].append(run.task.task_name)\n",
    "\n",
    "{key: len(value) for key, value in task_types.items()}\n",
    "\n",
    "# For 3-shot it's {'multiple_choice': 118, 'generative': 54, 'mixed': 54, 'scoring': 53}\n",
    "# For 0-shot it's {'multiple_choice': 118, 'generative': 54, 'mixed': 54, 'scoring': 68}"
   ]
  },
  {
   "cell_type": "markdown",
   "metadata": {},
   "source": [
    "### Example Tasks"
   ]
  },
  {
   "cell_type": "code",
   "execution_count": 7,
   "metadata": {},
   "outputs": [
    {
     "data": {
      "text/plain": [
       "['abstract_narrative_understanding',\n",
       " 'anachronisms',\n",
       " 'analogical_similarity',\n",
       " 'analytic_entailment',\n",
       " 'arithmetic',\n",
       " 'authorship_verification',\n",
       " 'bbq_lite_json',\n",
       " 'causal_judgment',\n",
       " 'cause_and_effect',\n",
       " 'checkmate_in_one']"
      ]
     },
     "execution_count": 7,
     "metadata": {},
     "output_type": "execute_result"
    }
   ],
   "source": [
    "task_types[\"multiple_choice\"][:10]"
   ]
  },
  {
   "cell_type": "code",
   "execution_count": 8,
   "metadata": {},
   "outputs": [
    {
     "data": {
      "text/plain": [
       "['arithmetic',\n",
       " 'ascii_word_recognition',\n",
       " 'auto_categorization',\n",
       " 'auto_debugging',\n",
       " 'bridging_anaphora_resolution_barqa',\n",
       " 'checkmate_in_one',\n",
       " 'chess_state_tracking',\n",
       " 'chinese_remainder_theorem',\n",
       " 'codenames',\n",
       " 'color']"
      ]
     },
     "execution_count": 8,
     "metadata": {},
     "output_type": "execute_result"
    }
   ],
   "source": [
    "task_types[\"generative\"][:10]"
   ]
  },
  {
   "cell_type": "code",
   "execution_count": 9,
   "metadata": {},
   "outputs": [
    {
     "data": {
      "text/plain": [
       "['ascii_word_recognition',\n",
       " 'auto_categorization',\n",
       " 'auto_debugging',\n",
       " 'bbq_lite',\n",
       " 'bias_from_probabilities',\n",
       " 'boolean_expressions',\n",
       " 'bridging_anaphora_resolution_barqa',\n",
       " 'checkmate_in_one',\n",
       " 'chess_state_tracking',\n",
       " 'chinese_remainder_theorem']"
      ]
     },
     "execution_count": 9,
     "metadata": {},
     "output_type": "execute_result"
    }
   ],
   "source": [
    "task_types[\"scoring\"][:10]"
   ]
  },
  {
   "cell_type": "code",
   "execution_count": 10,
   "metadata": {},
   "outputs": [
    {
     "data": {
      "text/plain": [
       "['arithmetic',\n",
       " 'ascii_word_recognition',\n",
       " 'auto_categorization',\n",
       " 'auto_debugging',\n",
       " 'bridging_anaphora_resolution_barqa',\n",
       " 'checkmate_in_one',\n",
       " 'chess_state_tracking',\n",
       " 'chinese_remainder_theorem',\n",
       " 'codenames',\n",
       " 'color']"
      ]
     },
     "execution_count": 10,
     "metadata": {},
     "output_type": "execute_result"
    }
   ],
   "source": [
    "task_types[\"mixed\"][:10]"
   ]
  },
  {
   "cell_type": "markdown",
   "metadata": {},
   "source": [
    "### Validate disjoint sets"
   ]
  },
  {
   "cell_type": "code",
   "execution_count": 11,
   "metadata": {},
   "outputs": [],
   "source": [
    "generative_non_mpc = set(task_types[\"generative\"]) - set(task_types[\"multiple_choice\"])\n",
    "generative_non_scoring = set(task_types[\"generative\"]) - set(task_types[\"scoring\"])\n",
    "generative_only = set(task_types[\"generative\"]) - set(task_types[\"mixed\"])\n",
    "scoring_non_generative = set(task_types[\"scoring\"]) - set(task_types[\"generative\"])\n",
    "scoring_non_mpc = set(task_types[\"scoring\"]) - set(task_types[\"multiple_choice\"])\n",
    "scoring_only = set(task_types[\"scoring\"]) - set(task_types[\"mixed\"])\n",
    "mpc_only = set(task_types[\"multiple_choice\"]) - set(task_types[\"mixed\"])\n",
    "all_tasks = set(task_types[\"multiple_choice\"]) | set(task_types[\"generative\"]) | set(task_types[\"scoring\"])"
   ]
  },
  {
   "cell_type": "markdown",
   "metadata": {},
   "source": [
    "All generative tasks are mixed tasks."
   ]
  },
  {
   "cell_type": "code",
   "execution_count": 12,
   "metadata": {},
   "outputs": [
    {
     "data": {
      "text/plain": [
       "0"
      ]
     },
     "execution_count": 12,
     "metadata": {},
     "output_type": "execute_result"
    }
   ],
   "source": [
    "len(generative_only)"
   ]
  },
  {
   "cell_type": "markdown",
   "metadata": {},
   "source": [
    "... and there is only one task that is generative, but not a scoring task."
   ]
  },
  {
   "cell_type": "code",
   "execution_count": 13,
   "metadata": {},
   "outputs": [
    {
     "name": "stdout",
     "output_type": "stream",
     "text": [
      "1 {'arithmetic'}\n"
     ]
    }
   ],
   "source": [
    "print(len(generative_non_scoring), generative_non_scoring)"
   ]
  },
  {
   "cell_type": "markdown",
   "metadata": {},
   "source": [
    "While there are multiple 'scoring' tasks that are not generative."
   ]
  },
  {
   "cell_type": "code",
   "execution_count": 14,
   "metadata": {},
   "outputs": [
    {
     "name": "stdout",
     "output_type": "stream",
     "text": [
      "15 ['bbq_lite', 'bias_from_probabilities', 'boolean_expressions', 'com2sense', 'diverse_social_bias', 'dynamic_counting', 'factuality_of_summary', 'forecasting_subquestions', 'gender_sensitivity_chinese', 'gender_sensitivity_english', 'protein_interacting_sites', 'subject_verb_agreement', 'talkdown', 'unqover', 'web_of_lies']\n",
      "15 ['bbq_lite', 'bias_from_probabilities', 'boolean_expressions', 'com2sense', 'diverse_social_bias', 'dynamic_counting', 'factuality_of_summary', 'forecasting_subquestions', 'gender_sensitivity_chinese', 'gender_sensitivity_english', 'protein_interacting_sites', 'subject_verb_agreement', 'talkdown', 'unqover', 'web_of_lies']\n",
      "58 ['ascii_word_recognition', 'auto_categorization', 'auto_debugging', 'bbq_lite', 'bias_from_probabilities', 'boolean_expressions', 'bridging_anaphora_resolution_barqa', 'chess_state_tracking', 'chinese_remainder_theorem', 'codenames', 'com2sense', 'conlang_translation', 'cryptonite', 'disfl_qa', 'diverse_social_bias', 'dynamic_counting', 'factuality_of_summary', 'few_shot_nlg', 'forecasting_subquestions', 'gem', 'gender_inclusive_sentences_german', 'gender_sensitivity_chinese', 'gender_sensitivity_english', 'hindi_question_answering', 'international_phonetic_alphabet_transliterate', 'language_games', 'linguistic_mappings', 'linguistics_puzzles', 'list_functions', 'matrixshapes', 'modified_arithmetic', 'mult_data_wrangling', 'natural_instructions', 'object_counting', 'operators', 'paragraph_segmentation', 'parsinlu_reading_comprehension', 'physics_questions', 'polish_sequence_labeling', 'protein_interacting_sites', 'qa_wikidata', 'repeat_copy_logic', 'rephrase', 'scientific_press_release', 'semantic_parsing_in_context_sparc', 'semantic_parsing_spider', 'simp_turing_concept', 'simple_text_editing', 'subject_verb_agreement', 'sufficient_information', 'talkdown', 'tense', 'topical_chat', 'unnatural_in_context_learning', 'unqover', 'web_of_lies', 'word_sorting', 'word_unscrambling']\n"
     ]
    }
   ],
   "source": [
    "print(len(scoring_non_generative), sorted(list(scoring_non_generative)))\n",
    "print(len(scoring_only), sorted(list(scoring_only)))\n",
    "print(len(scoring_non_mpc), sorted(list(scoring_non_mpc)))"
   ]
  },
  {
   "cell_type": "markdown",
   "metadata": {},
   "source": [
    "..."
   ]
  },
  {
   "cell_type": "code",
   "execution_count": 15,
   "metadata": {},
   "outputs": [
    {
     "name": "stdout",
     "output_type": "stream",
     "text": [
      "43 ['ascii_word_recognition', 'auto_categorization', 'auto_debugging', 'bridging_anaphora_resolution_barqa', 'chess_state_tracking', 'chinese_remainder_theorem', 'codenames', 'conlang_translation', 'cryptonite', 'disfl_qa', 'few_shot_nlg', 'gem', 'gender_inclusive_sentences_german', 'hindi_question_answering', 'international_phonetic_alphabet_transliterate', 'language_games', 'linguistic_mappings', 'linguistics_puzzles', 'list_functions', 'matrixshapes', 'modified_arithmetic', 'mult_data_wrangling', 'natural_instructions', 'object_counting', 'operators', 'paragraph_segmentation', 'parsinlu_reading_comprehension', 'physics_questions', 'polish_sequence_labeling', 'qa_wikidata', 'repeat_copy_logic', 'rephrase', 'scientific_press_release', 'semantic_parsing_in_context_sparc', 'semantic_parsing_spider', 'simp_turing_concept', 'simple_text_editing', 'sufficient_information', 'tense', 'topical_chat', 'unnatural_in_context_learning', 'word_sorting', 'word_unscrambling']\n"
     ]
    }
   ],
   "source": [
    "print(len(generative_non_mpc), sorted(list(generative_non_mpc)))"
   ]
  },
  {
   "cell_type": "code",
   "execution_count": 16,
   "metadata": {},
   "outputs": [],
   "source": [
    "# ascii_word_recognition: single word output, big discrete set\n",
    "# auto_categorization: single word output, big discrete set\n",
    "# auto_debugging: single word output, big discrete set\n",
    "# bridging_anaphora: multiple word output, small set (from context)\n",
    "# chess_state_tracking: multiple word output, small discrete set (64 options) (but arbitrary length)\n",
    "# chinese_remainder_theorem: single word output, big discrete set\n",
    "# codenames: single word output, big discrete set\n",
    "# All QA or math?"
   ]
  },
  {
   "cell_type": "markdown",
   "metadata": {},
   "source": [
    "# Metrics Used"
   ]
  },
  {
   "cell_type": "code",
   "execution_count": 29,
   "metadata": {},
   "outputs": [
    {
     "name": "stdout",
     "output_type": "stream",
     "text": [
      "{'exact_str_match': 28, 'normalized_aggregate_score': 11, 'bleu': 9, 'rougeLsum': 5, 'bleurt': 1, 'sequence_f1': 1, 'log_likelihood': 1}\n",
      "{'exact_str_match': 28, 'normalized_aggregate_score': 19, 'bleu': 9, 'rougeLsum': 5, 'multiple_choice_grade': 4, 'gender_bias_score': 2, 'mean_accuracy': 2, 'gender_stereotype_score': 2, 'accuracy': 1, 'difference_score': 1, 'combined_bias': 1, 'pair-wise-accuracy': 1, 'overall gender bias': 1, 'avg_acc': 1, 'bleurt': 1, 'average_log_probability': 1, 'gender_minority_bias_score': 1, 'gender_minority_stereotype_score': 1, 'sequence_f1': 1, 'log_likelihood': 1, 'full': 1, 'macro_f1': 1, 'fairness': 1}\n",
      "{'multiple_choice_grade': 106, 'macro_f1': 1}\n"
     ]
    }
   ],
   "source": [
    "def get_preferred_metrics(task_list):\n",
    "    counts = {}\n",
    "    for task in tasks:\n",
    "        run = task[list(task.keys())[0]] # Wtf is this?\n",
    "        if run.task.task_name not in task_list:\n",
    "            continue\n",
    "        pref_metrics = [score.preferred_score for score in run.scores]\n",
    "        pref_metrics_unique = set(pref_metrics)\n",
    "        for metric in pref_metrics_unique:\n",
    "            counts[metric] = counts.get(metric, 0) + 1\n",
    "    return dict(sorted(counts.items(), key=lambda item: item[1], reverse=True)) # Sort by count\n",
    "print(get_preferred_metrics(generative_non_mpc))\n",
    "print(get_preferred_metrics(scoring_non_mpc))\n",
    "print(get_preferred_metrics(mpc_only))"
   ]
  },
  {
   "cell_type": "markdown",
   "metadata": {},
   "source": [
    "# Performance Analysis"
   ]
  },
  {
   "cell_type": "code",
   "execution_count": 56,
   "metadata": {},
   "outputs": [],
   "source": [
    "import matplotlib.pyplot as plt\n",
    "import numpy as np\n",
    "\n",
    "def plot_cumulative_performance(task_list, metrics: list):\n",
    "    scores = {}\n",
    "    for task in tasks:\n",
    "        run = task[list(task.keys())[0]]\n",
    "\n",
    "        # Filter out irrelevant tasks\n",
    "        if run.task.task_name not in task_list:\n",
    "            continue\n",
    "\n",
    "        \n",
    "        # Filter out tasks that don't have the metrics we're interested in\n",
    "        pref_metrics = [score.preferred_score for score in run.scores]\n",
    "        if len(list(filter(lambda m: m in metrics, pref_metrics))) == 0:\n",
    "            continue\n",
    "\n",
    "        avg_score = sum([score.score_dict[score.preferred_score] for score in run.scores]) / len(run.scores)\n",
    "        scores[run.task.task_name] = avg_score\n",
    "\n",
    "    # Reverse cumulative plot of performance, with x-axis being the score, and y-axis the number of tasks that have that score or better\n",
    "    plt.hist(list(scores.values()), bins=list(range(0, 100, 1)), cumulative=-1, density=True)\n",
    "    plt.xlim(0, 100)\n",
    "\n",
    "    plt.xlabel(\"Score\")\n",
    "    plt.ylabel(\"# Tasks\")\n",
    "\n",
    "    # Format y-labels to display the number of tasks\n",
    "    plt.gca().yaxis.set_major_formatter(plt.FuncFormatter(lambda x, _: f\"({int(len(scores) * x)}) {x:0.2f}\")) # type: ignore\n",
    "\n",
    "    return scores"
   ]
  },
  {
   "cell_type": "code",
   "execution_count": 58,
   "metadata": {},
   "outputs": [
    {
     "data": {
      "text/plain": [
       "{'ascii_word_recognition': 0.68359375,\n",
       " 'auto_debugging': 0.0,\n",
       " 'bridging_anaphora_resolution_barqa': 4.359567901234568,\n",
       " 'chess_state_tracking': 33.3578431372549,\n",
       " 'chinese_remainder_theorem': 0.0,\n",
       " 'cryptonite': 2.392578125,\n",
       " 'disfl_qa': 4.638671875,\n",
       " 'gender_inclusive_sentences_german': 0.125,\n",
       " 'language_games': 5.320297109751446,\n",
       " 'linguistic_mappings': 55.30484068627451,\n",
       " 'linguistics_puzzles': 0.0,\n",
       " 'list_functions': 14.431673052362752,\n",
       " 'matrixshapes': 11.5966796875,\n",
       " 'modified_arithmetic': 16.61764705882353,\n",
       " 'mult_data_wrangling': 57.44410569105691,\n",
       " 'object_counting': 15.225000000000001,\n",
       " 'operators': 26.42857142857143,\n",
       " 'paragraph_segmentation': 0.1953125,\n",
       " 'parsinlu_reading_comprehension': 0.3861003861003861,\n",
       " 'physics_questions': 2.0,\n",
       " 'repeat_copy_logic': 7.8125,\n",
       " 'simp_turing_concept': 41.00684261974584,\n",
       " 'simple_text_editing': 0.0,\n",
       " 'sufficient_information': 0.0,\n",
       " 'tense': 1.486013986013986,\n",
       " 'unnatural_in_context_learning': 40.0634765625,\n",
       " 'word_sorting': 22.607421875,\n",
       " 'word_unscrambling': 10.0830078125}"
      ]
     },
     "execution_count": 58,
     "metadata": {},
     "output_type": "execute_result"
    },
    {
     "data": {
      "image/png": "[encoded data removed]",
      "text/plain": [
       "<Figure size 432x288 with 1 Axes>"
      ]
     },
     "metadata": {
      "needs_background": "light"
     },
     "output_type": "display_data"
    }
   ],
   "source": [
    "plot_cumulative_performance(scoring_non_mpc, [\"exact_str_match\"])"
   ]
  },
  {
   "cell_type": "code",
   "execution_count": 59,
   "metadata": {},
   "outputs": [
    {
     "data": {
      "text/plain": [
       "{'auto_categorization': 7.887318132355819,\n",
       " 'codenames': 12.217234934787413,\n",
       " 'hindi_question_answering': 0.030753416396654548,\n",
       " 'international_phonetic_alphabet_transliterate': 22.736446217619118,\n",
       " 'language_games': 5.320297109751446,\n",
       " 'scientific_press_release': 1.4452303780248452,\n",
       " 'semantic_parsing_in_context_sparc': 0.840750565351459,\n",
       " 'semantic_parsing_spider': 0.650200245600175,\n",
       " 'topical_chat': 0.7545351826286626}"
      ]
     },
     "execution_count": 59,
     "metadata": {},
     "output_type": "execute_result"
    },
    {
     "data": {
      "image/png": "[encoded data removed]",
      "text/plain": [
       "<Figure size 432x288 with 1 Axes>"
      ]
     },
     "metadata": {
      "needs_background": "light"
     },
     "output_type": "display_data"
    }
   ],
   "source": [
    "plot_cumulative_performance(scoring_non_mpc, [\"bleu\"])"
   ]
  },
  {
   "cell_type": "code",
   "execution_count": 60,
   "metadata": {},
   "outputs": [
    {
     "data": {
      "text/plain": [
       "{'bbq_lite': 0.7721740667944329,\n",
       " 'bias_from_probabilities': 24.304171832937314,\n",
       " 'chess_state_tracking': 33.3578431372549,\n",
       " 'conlang_translation': 41.52266469049388,\n",
       " 'diverse_social_bias': 39.45966217779271,\n",
       " 'factuality_of_summary': 25.527522522522524,\n",
       " 'gem': 27.32122824408064,\n",
       " 'gender_sensitivity_chinese': 18.89200395356232,\n",
       " 'gender_sensitivity_english': 10.45062951479481,\n",
       " 'language_games': 5.320297109751446,\n",
       " 'linguistic_mappings': 55.30484068627451,\n",
       " 'list_functions': 14.431673052362752,\n",
       " 'modified_arithmetic': 16.61764705882353,\n",
       " 'mult_data_wrangling': 57.44410569105691,\n",
       " 'natural_instructions': 26.579334571116178,\n",
       " 'simp_turing_concept': 41.00684261974584,\n",
       " 'subject_verb_agreement': 30.005108261201766,\n",
       " 'unnatural_in_context_learning': 40.0634765625,\n",
       " 'unqover': 15.992785987277959}"
      ]
     },
     "execution_count": 60,
     "metadata": {},
     "output_type": "execute_result"
    },
    {
     "data": {
      "image/png": "[encoded data removed]",
      "text/plain": [
       "<Figure size 432x288 with 1 Axes>"
      ]
     },
     "metadata": {
      "needs_background": "light"
     },
     "output_type": "display_data"
    }
   ],
   "source": [
    "plot_cumulative_performance(scoring_non_mpc, [\"normalized_aggregate_score\"])"
   ]
  },
  {
   "cell_type": "code",
   "execution_count": 61,
   "metadata": {},
   "outputs": [
    {
     "data": {
      "text/plain": [
       "{'abstract_narrative_understanding': 34.164222873900286,\n",
       " 'anachronisms': 51.52173913043478,\n",
       " 'analogical_similarity': 18.188854489164086,\n",
       " 'analytic_entailment': 46.07142857142857,\n",
       " 'authorship_verification': 50.3409090909091,\n",
       " 'bbq_lite_json': 56.37400793650795,\n",
       " 'causal_judgment': 51.8421052631579,\n",
       " 'cause_and_effect': 69.28104575163398,\n",
       " 'cifar10_classification': 10.107421875,\n",
       " 'code_line_description': 30.0,\n",
       " 'color': 9.033203125,\n",
       " 'common_morpheme': 39.0,\n",
       " 'conceptual_combinations': 37.38756613756614,\n",
       " 'crash_blossom': 42.10526315789473,\n",
       " 'crass_ai': 22.727272727272727,\n",
       " 'cryobiology_spanish': 59.76027397260273,\n",
       " 'cs_algorithms': 33.5302734375,\n",
       " 'dark_humor_detection': 54.375,\n",
       " 'date_understanding': 55.96205962059621,\n",
       " 'disambiguation_qa': 35.56201550387597,\n",
       " 'discourse_marker_prediction': 11.843640606767796,\n",
       " 'dyck_languages': 18.475,\n",
       " 'elementary_math_qa': 21.1764705882353,\n",
       " 'emoji_movie': 36.0,\n",
       " 'emojis_emotion_prediction': 45.21946564885497,\n",
       " 'empirical_judgments': 43.18181818181819,\n",
       " 'english_proverbs': 38.23529411764706,\n",
       " 'english_russian_proverbs': 25.9375,\n",
       " 'entailed_polarity': 86.82432432432434,\n",
       " 'entailed_polarity_hindi': 55.79710144927536,\n",
       " 'epistemic_reasoning': 38.232421875,\n",
       " 'evaluating_information_essentiality': 21.691176470588236,\n",
       " 'fact_checker': 73.11587019674252,\n",
       " 'fantasy_reasoning': 64.17910447761194,\n",
       " 'figure_of_speech_detection': 33.47457627118644,\n",
       " 'formal_fallacies_syllogisms_negation': 50.390625,\n",
       " 'general_knowledge': 66.42857142857143,\n",
       " 'geometric_shapes': 12.256267409470752,\n",
       " 'goal_step_wikihow': 42.44868035190616,\n",
       " 'gre_reading_comprehension': 26.612903225806452,\n",
       " 'hhh_alignment': 45.36321319541448,\n",
       " 'hindu_knowledge': 52.857142857142854,\n",
       " 'hinglish_toxicity': 57.5,\n",
       " 'human_organs_senses': 61.30952380952381,\n",
       " 'hyperbaton': 51.953125,\n",
       " 'identify_math_theorems': 30.18867924528302,\n",
       " 'identify_odd_metaphor': 22.872340425531917,\n",
       " 'implicatures': 62.65243902439025,\n",
       " 'implicit_relations': 28.529411764705884,\n",
       " 'intent_recognition': 77.7056277056277,\n",
       " 'international_phonetic_alphabet_nli': 37.698412698412696,\n",
       " 'intersect_geometry': 14.117647058823529,\n",
       " 'irony_identification': 60.85858585858587,\n",
       " 'kanji_ascii': 5.871149157801419,\n",
       " 'kannada': 23.496835443037973,\n",
       " 'key_value_maps': 46.341168091168086,\n",
       " 'known_unknowns': 51.08695652173913,\n",
       " 'language_identification': 11.5966796875,\n",
       " 'logic_grid_puzzle': 30.650000000000002,\n",
       " 'logical_args': 50.78125,\n",
       " 'logical_deduction': 29.102313457152164,\n",
       " 'logical_fallacy_detection': 51.806640625,\n",
       " 'logical_sequence': 33.333333333333336,\n",
       " 'mathematical_induction': 53.98550724637681,\n",
       " 'metaphor_boolean': 49.3014705882353,\n",
       " 'metaphor_understanding': 45.726495726495735,\n",
       " 'minute_mysteries_qa': 6.469541120860041,\n",
       " 'misconceptions': 54.90867579908676,\n",
       " 'misconceptions_russian': 36.224489795918366,\n",
       " 'mnist_ascii': 11.1328125,\n",
       " 'moral_permissibility': 50.219298245614034,\n",
       " 'movie_dialog_same_or_different': 49.70703125,\n",
       " 'movie_recommendation': 31.2,\n",
       " 'multiemo': 53.510101010100904,\n",
       " 'navigate': 49.925,\n",
       " 'nonsense_words_grammar': 53.5,\n",
       " 'novel_concepts': 39.0625,\n",
       " 'odd_one_out': 25.290697674418603,\n",
       " 'parsinlu_qa': 23.7060546875,\n",
       " 'persian_idioms': 27.65151515151515,\n",
       " 'phrase_relatedness': 38.5,\n",
       " 'physical_intuition': 48.456790123456784,\n",
       " 'physics': 49.0174672489083,\n",
       " 'play_dialog_same_or_different': 55.9814453125,\n",
       " 'presuppositions_as_nli': 26.836734693877553,\n",
       " 'question_selection': 40.6494140625,\n",
       " 'real_or_fake_text': 23.23558162267839,\n",
       " 'reasoning_about_colored_objects': 40.185546875,\n",
       " 'riddle_sense': 48.469387755102034,\n",
       " 'ruin_names': 32.53348214285714,\n",
       " 'salient_translation_error_detection': 21.993987975951907,\n",
       " 'sentence_ambiguity': 65.41666666666666,\n",
       " 'similarities_abstraction': 70.0657894736842,\n",
       " 'simple_ethical_questions': 51.95652173913044,\n",
       " 'snarks': 44.47513812154696,\n",
       " 'social_iqa': 42.5537109375,\n",
       " 'sports_understanding': 56.54158215010142,\n",
       " 'strange_stories': 57.0686496179635,\n",
       " 'strategyqa': 60.888671875,\n",
       " 'suicide_risk': 25.625,\n",
       " 'swahili_english_proverbs': 36.928104575163395,\n",
       " 'swedish_to_german_proverbs': 37.63888888888889,\n",
       " 'symbol_interpretation': 18.030303030303028,\n",
       " 'temporal_sequences': 31.875,\n",
       " 'timedial': 40.0390625,\n",
       " 'tracking_shuffled_objects': 21.578690127077223,\n",
       " 'understanding_fables': 24.470899470899468,\n",
       " 'undo_permutation': 59.083333333333336,\n",
       " 'unit_conversion': 49.542236328125,\n",
       " 'unit_interpretation': 23.0,\n",
       " 'vitaminc_fact_verification': 12.4267578125,\n",
       " 'what_is_the_tao': 47.22222222222223,\n",
       " 'which_wiki_edit': 26.663747810858144,\n",
       " 'winowhy': 54.0283203125}"
      ]
     },
     "execution_count": 61,
     "metadata": {},
     "output_type": "execute_result"
    },
    {
     "data": {
      "image/png": "[encoded data removed]",
      "text/plain": [
       "<Figure size 432x288 with 1 Axes>"
      ]
     },
     "metadata": {
      "needs_background": "light"
     },
     "output_type": "display_data"
    }
   ],
   "source": [
    "plot_cumulative_performance(set(task_types[\"multiple_choice\"]), [\"multiple_choice_grade\"])\n"
   ]
  }
 ],
 "metadata": {
  "kernelspec": {
   "display_name": "Python 3",
   "language": "python",
   "name": "python3"
  },
  "language_info": {
   "codemirror_mode": {
    "name": "ipython",
    "version": 3
   },
   "file_extension": ".py",
   "mimetype": "text/x-python",
   "name": "python",
   "nbconvert_exporter": "python",
   "pygments_lexer": "ipython3",
   "version": "3.10.4"
  }
 },
 "nbformat": 4,
 "nbformat_minor": 2
}
