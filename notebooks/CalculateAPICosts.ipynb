{
 "cells": [
  {
   "cell_type": "markdown",
   "metadata": {},
   "source": [
    "Calculates the cost of running the BIG-bench evaluation suite against public LM model API's.\n",
    "\n",
    "It uses the same selection of queries used in the original paper."
   ]
  },
  {
   "cell_type": "code",
   "execution_count": 31,
   "metadata": {},
   "outputs": [],
   "source": [
    "import lass.datasets\n",
    "import lass.pipeline\n",
    "from lass.log_handling import LogLoader, PaperTasks\n",
    "\n",
    "from datasets.arrow_dataset import Dataset\n",
    "from transformers.models.auto.tokenization_auto import AutoTokenizer"
   ]
  },
  {
   "cell_type": "code",
   "execution_count": 2,
   "metadata": {},
   "outputs": [],
   "source": [
    "loader = LogLoader(\n",
    "    logdir=\"../artifacts/logs\",\n",
    "    tasks=\"paper-full\",\n",
    "    model_families=[\"BIG-G T=0\"],\n",
    "    model_sizes=[\"128b\"],\n",
    "    include_unknown_shots=True,\n",
    "    shots=None,  # all\n",
    "    query_types=None,  # all\n",
    ")\n",
    "data = lass.datasets.to_dataframe(loader)\n"
   ]
  },
  {
   "cell_type": "code",
   "execution_count": 16,
   "metadata": {},
   "outputs": [
    {
     "data": {
      "application/vnd.jupyter.widget-view+json": {
       "model_id": "eb95a8e604a342249e92e8382f1bf641",
       "version_major": 2,
       "version_minor": 0
      },
      "text/plain": [
       "  0%|          | 0/522 [00:00<?, ?ba/s]"
      ]
     },
     "metadata": {},
     "output_type": "display_data"
    },
    {
     "name": "stderr",
     "output_type": "stream",
     "text": [
      "/home/wout/pp/lass/.env/lib/python3.10/site-packages/transformers/tokenization_utils_base.py:707: VisibleDeprecationWarning: Creating an ndarray from ragged nested sequences (which is a list-or-tuple of lists-or-tuples-or ndarrays with different lengths or shapes) is deprecated. If you meant to do this, you must specify 'dtype=object' when creating the ndarray.\n",
      "  tensor = as_tensor(value)\n"
     ]
    }
   ],
   "source": [
    "tokenizer = AutoTokenizer.from_pretrained(\"gpt2\")\n",
    "def token_length(examples):\n",
    "    batch = tokenizer(\n",
    "        examples[\"text\"],\n",
    "        padding=False,\n",
    "        truncation=True,\n",
    "        max_length=1024,\n",
    "        return_tensors=\"np\"\n",
    "    )\n",
    "    lengths = [len(seq) for seq in batch[\"input_ids\"]]\n",
    "    return {\"n_tokens\": lengths}\n",
    "\n",
    "hfdata = lass.pipeline.huggingfaceify(data)\n",
    "hfddataset = Dataset.from_pandas(hfdata, preserve_index=False)\n",
    "lengths = hfddataset.map(token_length, batched=True)\n",
    "data['n_tokens'] = lengths['n_tokens']"
   ]
  },
  {
   "cell_type": "code",
   "execution_count": 23,
   "metadata": {},
   "outputs": [
    {
     "data": {
      "text/plain": [
       "<AxesSubplot:>"
      ]
     },
     "execution_count": 23,
     "metadata": {},
     "output_type": "execute_result"
    },
    {
     "data": {
      "image/png": "[encoded data removed]",
      "text/plain": [
       "<Figure size 432x288 with 1 Axes>"
      ]
     },
     "metadata": {
      "needs_background": "light"
     },
     "output_type": "display_data"
    }
   ],
   "source": [
    "data.n_tokens.hist(bins=100)"
   ]
  },
  {
   "cell_type": "code",
   "execution_count": 33,
   "metadata": {},
   "outputs": [
    {
     "name": "stdout",
     "output_type": "stream",
     "text": [
      "Total number of tokens: 213,186,682\n",
      "Total price for Ada ($0.0004 / 1000 tokens): 85.27\n",
      "Total price for Babbage ($0.0005 / 1000 tokens): 106.59\n",
      "Total price for Curie ($0.002 / 1000 tokens): 426.37\n",
      "Total price for Davinci ($0.02 / 1000 tokens): 4263.73\n",
      "Price for all models: 4881.98\n",
      "-----------\n",
      "Total number of tokens: 29,601,537\n",
      "Total price for Ada ($0.0004 / 1000 tokens): 11.84\n",
      "Total price for Babbage ($0.0005 / 1000 tokens): 14.80\n",
      "Total price for Curie ($0.002 / 1000 tokens): 59.20\n",
      "Total price for Davinci ($0.02 / 1000 tokens): 592.03\n",
      "Price for all models: 677.88\n"
     ]
    }
   ],
   "source": [
    "def calc(data):\n",
    "    n_input_tokens = data.n_tokens.sum()\n",
    "    n_output_tokens = len(data) * 64 # This is bigbench configured max output length\n",
    "    n_tokens_total = n_input_tokens + n_output_tokens\n",
    "\n",
    "    print(f\"Total number of tokens: {n_tokens_total:,}\")\n",
    "    def calc_price(price_per_thousand_tokens, model_name):\n",
    "        price_total = price_per_thousand_tokens * n_tokens_total / 1000\n",
    "        print(f\"Total price for {model_name} (${price_per_thousand_tokens} / 1000 tokens): {price_total:.2f}\")\n",
    "        return price_total\n",
    "\n",
    "    prices = [\n",
    "        calc_price(0.0004, \"Ada\"),\n",
    "        calc_price(0.0005, \"Babbage\"),\n",
    "        calc_price(0.0020, \"Curie\"),\n",
    "        calc_price(0.0200, \"Davinci\"),\n",
    "    ]\n",
    "\n",
    "    print(f\"Price for all models: {sum(prices):.2f}\")\n",
    "\n",
    "calc(data)\n",
    "print(\"-----------\")\n",
    "calc(data[data.task.isin(PaperTasks.lite())])"
   ]
  }
 ],
 "metadata": {
  "kernelspec": {
   "display_name": "Python 3.10.4 (conda)",
   "language": "python",
   "name": "python3"
  },
  "language_info": {
   "codemirror_mode": {
    "name": "ipython",
    "version": 3
   },
   "file_extension": ".py",
   "mimetype": "text/x-python",
   "name": "python",
   "nbconvert_exporter": "python",
   "pygments_lexer": "ipython3",
   "version": "3.10.4"
  },
  "orig_nbformat": 4,
  "vscode": {
   "interpreter": {
    "hash": "eed4bfcf3d3cfcdb00482c10052e8eba5705b015008b357326d56e176b5397df"
   }
  }
 },
 "nbformat": 4,
 "nbformat_minor": 2
}
